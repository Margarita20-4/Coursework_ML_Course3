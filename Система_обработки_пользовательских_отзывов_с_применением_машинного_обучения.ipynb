{
  "nbformat": 4,
  "nbformat_minor": 0,
  "metadata": {
    "colab": {
      "provenance": [],
      "gpuType": "T4"
    },
    "kernelspec": {
      "name": "python3",
      "display_name": "Python 3"
    },
    "language_info": {
      "name": "python"
    },
    "accelerator": "GPU",
    "gpuClass": "standard"
  },
  "cells": [
    {
      "cell_type": "markdown",
      "source": [
        "# Предварительная подготовка"
      ],
      "metadata": {
        "id": "TSkw7ATwBwCp"
      }
    },
    {
      "cell_type": "markdown",
      "source": [
        "## Подключение Google Drive"
      ],
      "metadata": {
        "id": "iW7JsIXaB0xr"
      }
    },
    {
      "cell_type": "code",
      "source": [
        "from google.colab import drive\n",
        "drive.mount(\"/content/drive\")"
      ],
      "metadata": {
        "colab": {
          "base_uri": "https://localhost:8080/"
        },
        "id": "qYghNCfDBd7j",
        "outputId": "c346d6f9-2cd6-445b-9656-0d79648ccbab"
      },
      "execution_count": 1,
      "outputs": [
        {
          "output_type": "stream",
          "name": "stdout",
          "text": [
            "Drive already mounted at /content/drive; to attempt to forcibly remount, call drive.mount(\"/content/drive\", force_remount=True).\n"
          ]
        }
      ]
    },
    {
      "cell_type": "markdown",
      "source": [
        "## Импорт библиотек"
      ],
      "metadata": {
        "id": "jsTZ4cUhHqfl"
      }
    },
    {
      "cell_type": "code",
      "source": [
        "!pip install pymorphy2"
      ],
      "metadata": {
        "colab": {
          "base_uri": "https://localhost:8080/"
        },
        "id": "HNKL1WqSkN3d",
        "outputId": "37a1fb8a-9356-4076-fffd-d458352cfd23"
      },
      "execution_count": 2,
      "outputs": [
        {
          "output_type": "stream",
          "name": "stdout",
          "text": [
            "Looking in indexes: https://pypi.org/simple, https://us-python.pkg.dev/colab-wheels/public/simple/\n",
            "Requirement already satisfied: pymorphy2 in /usr/local/lib/python3.10/dist-packages (0.9.1)\n",
            "Requirement already satisfied: pymorphy2-dicts-ru<3.0,>=2.4 in /usr/local/lib/python3.10/dist-packages (from pymorphy2) (2.4.417127.4579844)\n",
            "Requirement already satisfied: dawg-python>=0.7.1 in /usr/local/lib/python3.10/dist-packages (from pymorphy2) (0.7.2)\n",
            "Requirement already satisfied: docopt>=0.6 in /usr/local/lib/python3.10/dist-packages (from pymorphy2) (0.6.2)\n"
          ]
        }
      ]
    },
    {
      "cell_type": "code",
      "source": [
        "import pandas as pd\n",
        "\n",
        "from sklearn.preprocessing import LabelEncoder\n",
        "from sklearn.model_selection import train_test_split\n",
        "\n",
        "import nltk\n",
        "from nltk.corpus import wordnet, stopwords\n",
        "from nltk.tokenize import word_tokenize\n",
        "\n",
        "from pymorphy2 import MorphAnalyzer\n",
        "\n",
        "from matplotlib import pyplot as plt\n",
        "\n",
        "from collections import defaultdict\n",
        "from math import ceil\n",
        "import time\n",
        "\n",
        "import torch\n",
        "import torch.cuda\n",
        "from torch import nn\n",
        "from torch import optim\n",
        "from torch.utils.data import DataLoader, Dataset\n",
        "\n",
        "from sklearn.metrics import f1_score"
      ],
      "metadata": {
        "id": "KJv2DEUQHtVu"
      },
      "execution_count": 3,
      "outputs": []
    },
    {
      "cell_type": "code",
      "source": [
        "nltk.download('averaged_perceptron_tagger')\n",
        "nltk.download('punkt')\n",
        "nltk.download('stopwords')"
      ],
      "metadata": {
        "colab": {
          "base_uri": "https://localhost:8080/"
        },
        "id": "mqF29L0fYFnt",
        "outputId": "81d958e9-9782-4637-cd89-afb82b10babd"
      },
      "execution_count": 4,
      "outputs": [
        {
          "output_type": "stream",
          "name": "stderr",
          "text": [
            "[nltk_data] Downloading package averaged_perceptron_tagger to\n",
            "[nltk_data]     /root/nltk_data...\n",
            "[nltk_data]   Package averaged_perceptron_tagger is already up-to-\n",
            "[nltk_data]       date!\n",
            "[nltk_data] Downloading package punkt to /root/nltk_data...\n",
            "[nltk_data]   Package punkt is already up-to-date!\n",
            "[nltk_data] Downloading package stopwords to /root/nltk_data...\n",
            "[nltk_data]   Package stopwords is already up-to-date!\n"
          ]
        },
        {
          "output_type": "execute_result",
          "data": {
            "text/plain": [
              "True"
            ]
          },
          "metadata": {},
          "execution_count": 4
        }
      ]
    },
    {
      "cell_type": "markdown",
      "source": [
        "## Параметры и константы"
      ],
      "metadata": {
        "id": "-iAtP0IKGiSS"
      }
    },
    {
      "cell_type": "markdown",
      "source": [
        "Для избежания влияния фактора случайности seed задается вручную"
      ],
      "metadata": {
        "id": "30rHZV--uQ7z"
      }
    },
    {
      "cell_type": "code",
      "source": [
        "torch.manual_seed(0)"
      ],
      "metadata": {
        "colab": {
          "base_uri": "https://localhost:8080/"
        },
        "id": "0pUy4CrWub78",
        "outputId": "32c30f4b-17e2-493f-834f-998fe6472f2b"
      },
      "execution_count": 5,
      "outputs": [
        {
          "output_type": "execute_result",
          "data": {
            "text/plain": [
              "<torch._C.Generator at 0x7f4972b62b50>"
            ]
          },
          "metadata": {},
          "execution_count": 5
        }
      ]
    },
    {
      "cell_type": "code",
      "source": [
        "DATA_PATH = \"/content/drive/MyDrive/datasets/ready2020.csv\"\n",
        "DEVICE = \"cuda:0\" if torch.cuda.is_available() else \"cpu\"\n",
        "NUM_BATCHES = 20\n",
        "EPOCHS = 50"
      ],
      "metadata": {
        "id": "BJI34OiDGfSx"
      },
      "execution_count": 80,
      "outputs": []
    },
    {
      "cell_type": "markdown",
      "source": [
        "## Определение задачи и метрик"
      ],
      "metadata": {
        "id": "8wnsYOdXP_wC"
      }
    },
    {
      "cell_type": "markdown",
      "source": [
        "Задачей текущей работы является определение тональности текстов пользовательских отзывов или, другими словами, задачей является бинарная (что будет рассмотрено далее) классификация текстов.\n",
        "\n",
        "В качестве метрик эффективности логично будут использоваться:\n",
        "\n",
        "1.   Accuracy.\n",
        "\n",
        "2.   Различные варианты f1.\n",
        "\n",
        "3.   Время, затраченное на обучение модели.\n"
      ],
      "metadata": {
        "id": "WRf32uEgOppU"
      }
    },
    {
      "cell_type": "markdown",
      "source": [
        "# Загрузка и описание набора данных"
      ],
      "metadata": {
        "id": "fIHgRXC5HLKC"
      }
    },
    {
      "cell_type": "code",
      "source": [
        "df = pd.read_csv(DATA_PATH, sep=\";\", index_col=0)\n",
        "df"
      ],
      "metadata": {
        "colab": {
          "base_uri": "https://localhost:8080/",
          "height": 424
        },
        "id": "KgoqeY8dHxRV",
        "outputId": "8ca51f7d-ec9c-4fde-b417-c316b5b7e976"
      },
      "execution_count": null,
      "outputs": [
        {
          "output_type": "execute_result",
          "data": {
            "text/plain": [
              "                    date                name  stars  \\\n",
              "1          29 марта 2020              ЯНатка    2.0   \n",
              "2          21 марта 2020             Анна М.    5.0   \n",
              "3        28 декабря 2020                Фима    5.0   \n",
              "4           28 июня 2020          Игорь Юдин    5.0   \n",
              "5         28 ноября 2020            Ольга -.    1.0   \n",
              "...                  ...                 ...    ...   \n",
              "103909      9 марта 2020       Иван Кузнецов    1.0   \n",
              "103910  27 сентября 2020            Мария З.    4.0   \n",
              "103911   12 октября 2020          Валерия Л.    5.0   \n",
              "103912   26 августа 2020        эрик моралес    5.0   \n",
              "103913      5 марта 2020  Евгений Жаворонков    4.0   \n",
              "\n",
              "                                                     text          X  \\\n",
              "1       Были на экскурсии. Я очень люблю производствен...  37.599740   \n",
              "2       Часто ходим в это кафе. Красивый интерьер, оче...  37.599740   \n",
              "3       Вкусное мороженое. С кофе и яблочным пирогом с...  37.599740   \n",
              "4       Хорошее мороженное, разнообразие выбора и вкус...  37.599740   \n",
              "5       Ставлю одну звезду лишь за вкусное мороженое. ...  37.599740   \n",
              "...                                                   ...        ...   \n",
              "103909  Зашли покурить кальян, попить чаю. Заказали ка...  37.593007   \n",
              "103910  Мне понравилось. Быстро подошла официантка, бы...  37.593007   \n",
              "103911  Очень вкусно, турецкая атмосфера🇹🇷Все понравил...  37.593007   \n",
              "103912  Госпади, как же тут вкусно готовят из простых ...  37.593007   \n",
              "103913  Классное каффе, мясные блюда на 5+! Алкоголь т...  37.593007   \n",
              "\n",
              "                Y              status  \n",
              "1       55.815575    Открыто до 20:00  \n",
              "2       55.815575    Открыто до 20:00  \n",
              "3       55.815575    Открыто до 20:00  \n",
              "4       55.815575    Открыто до 20:00  \n",
              "5       55.815575    Открыто до 20:00  \n",
              "...           ...                 ...  \n",
              "103909  55.750032  Больше не работает  \n",
              "103910  55.750032  Больше не работает  \n",
              "103911  55.750032  Больше не работает  \n",
              "103912  55.750032  Больше не работает  \n",
              "103913  55.750032  Больше не работает  \n",
              "\n",
              "[103913 rows x 7 columns]"
            ],
            "text/html": [
              "\n",
              "  <div id=\"df-4e34891e-08ef-408c-b28b-ad1bbf8d8223\">\n",
              "    <div class=\"colab-df-container\">\n",
              "      <div>\n",
              "<style scoped>\n",
              "    .dataframe tbody tr th:only-of-type {\n",
              "        vertical-align: middle;\n",
              "    }\n",
              "\n",
              "    .dataframe tbody tr th {\n",
              "        vertical-align: top;\n",
              "    }\n",
              "\n",
              "    .dataframe thead th {\n",
              "        text-align: right;\n",
              "    }\n",
              "</style>\n",
              "<table border=\"1\" class=\"dataframe\">\n",
              "  <thead>\n",
              "    <tr style=\"text-align: right;\">\n",
              "      <th></th>\n",
              "      <th>date</th>\n",
              "      <th>name</th>\n",
              "      <th>stars</th>\n",
              "      <th>text</th>\n",
              "      <th>X</th>\n",
              "      <th>Y</th>\n",
              "      <th>status</th>\n",
              "    </tr>\n",
              "  </thead>\n",
              "  <tbody>\n",
              "    <tr>\n",
              "      <th>1</th>\n",
              "      <td>29 марта 2020</td>\n",
              "      <td>ЯНатка</td>\n",
              "      <td>2.0</td>\n",
              "      <td>Были на экскурсии. Я очень люблю производствен...</td>\n",
              "      <td>37.599740</td>\n",
              "      <td>55.815575</td>\n",
              "      <td>Открыто до 20:00</td>\n",
              "    </tr>\n",
              "    <tr>\n",
              "      <th>2</th>\n",
              "      <td>21 марта 2020</td>\n",
              "      <td>Анна М.</td>\n",
              "      <td>5.0</td>\n",
              "      <td>Часто ходим в это кафе. Красивый интерьер, оче...</td>\n",
              "      <td>37.599740</td>\n",
              "      <td>55.815575</td>\n",
              "      <td>Открыто до 20:00</td>\n",
              "    </tr>\n",
              "    <tr>\n",
              "      <th>3</th>\n",
              "      <td>28 декабря 2020</td>\n",
              "      <td>Фима</td>\n",
              "      <td>5.0</td>\n",
              "      <td>Вкусное мороженое. С кофе и яблочным пирогом с...</td>\n",
              "      <td>37.599740</td>\n",
              "      <td>55.815575</td>\n",
              "      <td>Открыто до 20:00</td>\n",
              "    </tr>\n",
              "    <tr>\n",
              "      <th>4</th>\n",
              "      <td>28 июня 2020</td>\n",
              "      <td>Игорь Юдин</td>\n",
              "      <td>5.0</td>\n",
              "      <td>Хорошее мороженное, разнообразие выбора и вкус...</td>\n",
              "      <td>37.599740</td>\n",
              "      <td>55.815575</td>\n",
              "      <td>Открыто до 20:00</td>\n",
              "    </tr>\n",
              "    <tr>\n",
              "      <th>5</th>\n",
              "      <td>28 ноября 2020</td>\n",
              "      <td>Ольга -.</td>\n",
              "      <td>1.0</td>\n",
              "      <td>Ставлю одну звезду лишь за вкусное мороженое. ...</td>\n",
              "      <td>37.599740</td>\n",
              "      <td>55.815575</td>\n",
              "      <td>Открыто до 20:00</td>\n",
              "    </tr>\n",
              "    <tr>\n",
              "      <th>...</th>\n",
              "      <td>...</td>\n",
              "      <td>...</td>\n",
              "      <td>...</td>\n",
              "      <td>...</td>\n",
              "      <td>...</td>\n",
              "      <td>...</td>\n",
              "      <td>...</td>\n",
              "    </tr>\n",
              "    <tr>\n",
              "      <th>103909</th>\n",
              "      <td>9 марта 2020</td>\n",
              "      <td>Иван Кузнецов</td>\n",
              "      <td>1.0</td>\n",
              "      <td>Зашли покурить кальян, попить чаю. Заказали ка...</td>\n",
              "      <td>37.593007</td>\n",
              "      <td>55.750032</td>\n",
              "      <td>Больше не работает</td>\n",
              "    </tr>\n",
              "    <tr>\n",
              "      <th>103910</th>\n",
              "      <td>27 сентября 2020</td>\n",
              "      <td>Мария З.</td>\n",
              "      <td>4.0</td>\n",
              "      <td>Мне понравилось. Быстро подошла официантка, бы...</td>\n",
              "      <td>37.593007</td>\n",
              "      <td>55.750032</td>\n",
              "      <td>Больше не работает</td>\n",
              "    </tr>\n",
              "    <tr>\n",
              "      <th>103911</th>\n",
              "      <td>12 октября 2020</td>\n",
              "      <td>Валерия Л.</td>\n",
              "      <td>5.0</td>\n",
              "      <td>Очень вкусно, турецкая атмосфера🇹🇷Все понравил...</td>\n",
              "      <td>37.593007</td>\n",
              "      <td>55.750032</td>\n",
              "      <td>Больше не работает</td>\n",
              "    </tr>\n",
              "    <tr>\n",
              "      <th>103912</th>\n",
              "      <td>26 августа 2020</td>\n",
              "      <td>эрик моралес</td>\n",
              "      <td>5.0</td>\n",
              "      <td>Госпади, как же тут вкусно готовят из простых ...</td>\n",
              "      <td>37.593007</td>\n",
              "      <td>55.750032</td>\n",
              "      <td>Больше не работает</td>\n",
              "    </tr>\n",
              "    <tr>\n",
              "      <th>103913</th>\n",
              "      <td>5 марта 2020</td>\n",
              "      <td>Евгений Жаворонков</td>\n",
              "      <td>4.0</td>\n",
              "      <td>Классное каффе, мясные блюда на 5+! Алкоголь т...</td>\n",
              "      <td>37.593007</td>\n",
              "      <td>55.750032</td>\n",
              "      <td>Больше не работает</td>\n",
              "    </tr>\n",
              "  </tbody>\n",
              "</table>\n",
              "<p>103913 rows × 7 columns</p>\n",
              "</div>\n",
              "      <button class=\"colab-df-convert\" onclick=\"convertToInteractive('df-4e34891e-08ef-408c-b28b-ad1bbf8d8223')\"\n",
              "              title=\"Convert this dataframe to an interactive table.\"\n",
              "              style=\"display:none;\">\n",
              "        \n",
              "  <svg xmlns=\"http://www.w3.org/2000/svg\" height=\"24px\"viewBox=\"0 0 24 24\"\n",
              "       width=\"24px\">\n",
              "    <path d=\"M0 0h24v24H0V0z\" fill=\"none\"/>\n",
              "    <path d=\"M18.56 5.44l.94 2.06.94-2.06 2.06-.94-2.06-.94-.94-2.06-.94 2.06-2.06.94zm-11 1L8.5 8.5l.94-2.06 2.06-.94-2.06-.94L8.5 2.5l-.94 2.06-2.06.94zm10 10l.94 2.06.94-2.06 2.06-.94-2.06-.94-.94-2.06-.94 2.06-2.06.94z\"/><path d=\"M17.41 7.96l-1.37-1.37c-.4-.4-.92-.59-1.43-.59-.52 0-1.04.2-1.43.59L10.3 9.45l-7.72 7.72c-.78.78-.78 2.05 0 2.83L4 21.41c.39.39.9.59 1.41.59.51 0 1.02-.2 1.41-.59l7.78-7.78 2.81-2.81c.8-.78.8-2.07 0-2.86zM5.41 20L4 18.59l7.72-7.72 1.47 1.35L5.41 20z\"/>\n",
              "  </svg>\n",
              "      </button>\n",
              "      \n",
              "  <style>\n",
              "    .colab-df-container {\n",
              "      display:flex;\n",
              "      flex-wrap:wrap;\n",
              "      gap: 12px;\n",
              "    }\n",
              "\n",
              "    .colab-df-convert {\n",
              "      background-color: #E8F0FE;\n",
              "      border: none;\n",
              "      border-radius: 50%;\n",
              "      cursor: pointer;\n",
              "      display: none;\n",
              "      fill: #1967D2;\n",
              "      height: 32px;\n",
              "      padding: 0 0 0 0;\n",
              "      width: 32px;\n",
              "    }\n",
              "\n",
              "    .colab-df-convert:hover {\n",
              "      background-color: #E2EBFA;\n",
              "      box-shadow: 0px 1px 2px rgba(60, 64, 67, 0.3), 0px 1px 3px 1px rgba(60, 64, 67, 0.15);\n",
              "      fill: #174EA6;\n",
              "    }\n",
              "\n",
              "    [theme=dark] .colab-df-convert {\n",
              "      background-color: #3B4455;\n",
              "      fill: #D2E3FC;\n",
              "    }\n",
              "\n",
              "    [theme=dark] .colab-df-convert:hover {\n",
              "      background-color: #434B5C;\n",
              "      box-shadow: 0px 1px 3px 1px rgba(0, 0, 0, 0.15);\n",
              "      filter: drop-shadow(0px 1px 2px rgba(0, 0, 0, 0.3));\n",
              "      fill: #FFFFFF;\n",
              "    }\n",
              "  </style>\n",
              "\n",
              "      <script>\n",
              "        const buttonEl =\n",
              "          document.querySelector('#df-4e34891e-08ef-408c-b28b-ad1bbf8d8223 button.colab-df-convert');\n",
              "        buttonEl.style.display =\n",
              "          google.colab.kernel.accessAllowed ? 'block' : 'none';\n",
              "\n",
              "        async function convertToInteractive(key) {\n",
              "          const element = document.querySelector('#df-4e34891e-08ef-408c-b28b-ad1bbf8d8223');\n",
              "          const dataTable =\n",
              "            await google.colab.kernel.invokeFunction('convertToInteractive',\n",
              "                                                     [key], {});\n",
              "          if (!dataTable) return;\n",
              "\n",
              "          const docLinkHtml = 'Like what you see? Visit the ' +\n",
              "            '<a target=\"_blank\" href=https://colab.research.google.com/notebooks/data_table.ipynb>data table notebook</a>'\n",
              "            + ' to learn more about interactive tables.';\n",
              "          element.innerHTML = '';\n",
              "          dataTable['output_type'] = 'display_data';\n",
              "          await google.colab.output.renderOutput(dataTable, element);\n",
              "          const docLink = document.createElement('div');\n",
              "          docLink.innerHTML = docLinkHtml;\n",
              "          element.appendChild(docLink);\n",
              "        }\n",
              "      </script>\n",
              "    </div>\n",
              "  </div>\n",
              "  "
            ]
          },
          "metadata": {},
          "execution_count": 8
        }
      ]
    },
    {
      "cell_type": "markdown",
      "source": [
        "Набор данных представляет из себя пользовательские отзывы для кафе. Состоит из следующих полей:\n",
        "\n",
        "*   date:\n",
        "Дата, когда был оставлен отзыв\n",
        "\n",
        "*   name:\n",
        "Имя пользователя, оставившего отзыв\n",
        "\n",
        "*   start:\n",
        "Качественная оценка: сколько \"звезд\" поставил пользователь кафе\n",
        "\n",
        "*   text:\n",
        "Текст отзыва\n",
        "\n",
        "*   X, Y:\n",
        "Координаты кафе\n",
        "\n",
        "*   status:\n",
        "Статус кафе\n",
        "\n"
      ],
      "metadata": {
        "id": "vrBuAy90JEOR"
      }
    },
    {
      "cell_type": "code",
      "source": [
        "df.dtypes"
      ],
      "metadata": {
        "colab": {
          "base_uri": "https://localhost:8080/"
        },
        "id": "fBQOQC1cK7Hz",
        "outputId": "dc036c67-281d-4763-f215-a92b218b33fb"
      },
      "execution_count": null,
      "outputs": [
        {
          "output_type": "execute_result",
          "data": {
            "text/plain": [
              "date       object\n",
              "name       object\n",
              "stars     float64\n",
              "text       object\n",
              "X         float64\n",
              "Y         float64\n",
              "status     object\n",
              "dtype: object"
            ]
          },
          "metadata": {},
          "execution_count": 9
        }
      ]
    },
    {
      "cell_type": "code",
      "source": [
        "df.nunique()"
      ],
      "metadata": {
        "colab": {
          "base_uri": "https://localhost:8080/"
        },
        "id": "sXl66FAdLWDB",
        "outputId": "987c5c39-7862-4e35-eedb-06e52bf0f6c7"
      },
      "execution_count": null,
      "outputs": [
        {
          "output_type": "execute_result",
          "data": {
            "text/plain": [
              "date        366\n",
              "name      55392\n",
              "stars         5\n",
              "text      96466\n",
              "X         12703\n",
              "Y         12604\n",
              "status      105\n",
              "dtype: int64"
            ]
          },
          "metadata": {},
          "execution_count": 10
        }
      ]
    },
    {
      "cell_type": "code",
      "source": [
        "df.info()"
      ],
      "metadata": {
        "colab": {
          "base_uri": "https://localhost:8080/"
        },
        "id": "4NDHDgyIOCEL",
        "outputId": "e8cdb957-82b7-43d5-c2df-1983c7395f93"
      },
      "execution_count": null,
      "outputs": [
        {
          "output_type": "stream",
          "name": "stdout",
          "text": [
            "<class 'pandas.core.frame.DataFrame'>\n",
            "Int64Index: 103913 entries, 1 to 103913\n",
            "Data columns (total 7 columns):\n",
            " #   Column  Non-Null Count   Dtype  \n",
            "---  ------  --------------   -----  \n",
            " 0   date    103913 non-null  object \n",
            " 1   name    103913 non-null  object \n",
            " 2   stars   103873 non-null  float64\n",
            " 3   text    103913 non-null  object \n",
            " 4   X       103860 non-null  float64\n",
            " 5   Y       103898 non-null  float64\n",
            " 6   status  103913 non-null  object \n",
            "dtypes: float64(3), object(4)\n",
            "memory usage: 6.3+ MB\n"
          ]
        }
      ]
    },
    {
      "cell_type": "code",
      "source": [
        "df.isna().sum()"
      ],
      "metadata": {
        "colab": {
          "base_uri": "https://localhost:8080/"
        },
        "id": "o2o4uIEiOIHL",
        "outputId": "0a0bb444-410e-44c2-fe90-2251da6d5501"
      },
      "execution_count": null,
      "outputs": [
        {
          "output_type": "execute_result",
          "data": {
            "text/plain": [
              "date       0\n",
              "name       0\n",
              "stars     40\n",
              "text       0\n",
              "X         53\n",
              "Y         15\n",
              "status     0\n",
              "dtype: int64"
            ]
          },
          "metadata": {},
          "execution_count": 12
        }
      ]
    },
    {
      "cell_type": "code",
      "source": [
        "df.describe()"
      ],
      "metadata": {
        "colab": {
          "base_uri": "https://localhost:8080/",
          "height": 300
        },
        "id": "GeZs6RWnL0yV",
        "outputId": "4d24f811-cc7a-4371-b4f3-28a19f06bb17"
      },
      "execution_count": null,
      "outputs": [
        {
          "output_type": "execute_result",
          "data": {
            "text/plain": [
              "               stars              X              Y\n",
              "count  103873.000000  103860.000000  103898.000000\n",
              "mean        4.072435      37.601472      55.740384\n",
              "std         1.444806       0.107218       0.076060\n",
              "min         1.000000      37.111775      55.276421\n",
              "25%         3.000000      37.538448      55.697861\n",
              "50%         5.000000      37.605595      55.751934\n",
              "75%         5.000000      37.658939      55.784803\n",
              "max         5.000000      37.946415      55.948805"
            ],
            "text/html": [
              "\n",
              "  <div id=\"df-3b9c4090-bbc3-4077-8145-a97699757bcb\">\n",
              "    <div class=\"colab-df-container\">\n",
              "      <div>\n",
              "<style scoped>\n",
              "    .dataframe tbody tr th:only-of-type {\n",
              "        vertical-align: middle;\n",
              "    }\n",
              "\n",
              "    .dataframe tbody tr th {\n",
              "        vertical-align: top;\n",
              "    }\n",
              "\n",
              "    .dataframe thead th {\n",
              "        text-align: right;\n",
              "    }\n",
              "</style>\n",
              "<table border=\"1\" class=\"dataframe\">\n",
              "  <thead>\n",
              "    <tr style=\"text-align: right;\">\n",
              "      <th></th>\n",
              "      <th>stars</th>\n",
              "      <th>X</th>\n",
              "      <th>Y</th>\n",
              "    </tr>\n",
              "  </thead>\n",
              "  <tbody>\n",
              "    <tr>\n",
              "      <th>count</th>\n",
              "      <td>103873.000000</td>\n",
              "      <td>103860.000000</td>\n",
              "      <td>103898.000000</td>\n",
              "    </tr>\n",
              "    <tr>\n",
              "      <th>mean</th>\n",
              "      <td>4.072435</td>\n",
              "      <td>37.601472</td>\n",
              "      <td>55.740384</td>\n",
              "    </tr>\n",
              "    <tr>\n",
              "      <th>std</th>\n",
              "      <td>1.444806</td>\n",
              "      <td>0.107218</td>\n",
              "      <td>0.076060</td>\n",
              "    </tr>\n",
              "    <tr>\n",
              "      <th>min</th>\n",
              "      <td>1.000000</td>\n",
              "      <td>37.111775</td>\n",
              "      <td>55.276421</td>\n",
              "    </tr>\n",
              "    <tr>\n",
              "      <th>25%</th>\n",
              "      <td>3.000000</td>\n",
              "      <td>37.538448</td>\n",
              "      <td>55.697861</td>\n",
              "    </tr>\n",
              "    <tr>\n",
              "      <th>50%</th>\n",
              "      <td>5.000000</td>\n",
              "      <td>37.605595</td>\n",
              "      <td>55.751934</td>\n",
              "    </tr>\n",
              "    <tr>\n",
              "      <th>75%</th>\n",
              "      <td>5.000000</td>\n",
              "      <td>37.658939</td>\n",
              "      <td>55.784803</td>\n",
              "    </tr>\n",
              "    <tr>\n",
              "      <th>max</th>\n",
              "      <td>5.000000</td>\n",
              "      <td>37.946415</td>\n",
              "      <td>55.948805</td>\n",
              "    </tr>\n",
              "  </tbody>\n",
              "</table>\n",
              "</div>\n",
              "      <button class=\"colab-df-convert\" onclick=\"convertToInteractive('df-3b9c4090-bbc3-4077-8145-a97699757bcb')\"\n",
              "              title=\"Convert this dataframe to an interactive table.\"\n",
              "              style=\"display:none;\">\n",
              "        \n",
              "  <svg xmlns=\"http://www.w3.org/2000/svg\" height=\"24px\"viewBox=\"0 0 24 24\"\n",
              "       width=\"24px\">\n",
              "    <path d=\"M0 0h24v24H0V0z\" fill=\"none\"/>\n",
              "    <path d=\"M18.56 5.44l.94 2.06.94-2.06 2.06-.94-2.06-.94-.94-2.06-.94 2.06-2.06.94zm-11 1L8.5 8.5l.94-2.06 2.06-.94-2.06-.94L8.5 2.5l-.94 2.06-2.06.94zm10 10l.94 2.06.94-2.06 2.06-.94-2.06-.94-.94-2.06-.94 2.06-2.06.94z\"/><path d=\"M17.41 7.96l-1.37-1.37c-.4-.4-.92-.59-1.43-.59-.52 0-1.04.2-1.43.59L10.3 9.45l-7.72 7.72c-.78.78-.78 2.05 0 2.83L4 21.41c.39.39.9.59 1.41.59.51 0 1.02-.2 1.41-.59l7.78-7.78 2.81-2.81c.8-.78.8-2.07 0-2.86zM5.41 20L4 18.59l7.72-7.72 1.47 1.35L5.41 20z\"/>\n",
              "  </svg>\n",
              "      </button>\n",
              "      \n",
              "  <style>\n",
              "    .colab-df-container {\n",
              "      display:flex;\n",
              "      flex-wrap:wrap;\n",
              "      gap: 12px;\n",
              "    }\n",
              "\n",
              "    .colab-df-convert {\n",
              "      background-color: #E8F0FE;\n",
              "      border: none;\n",
              "      border-radius: 50%;\n",
              "      cursor: pointer;\n",
              "      display: none;\n",
              "      fill: #1967D2;\n",
              "      height: 32px;\n",
              "      padding: 0 0 0 0;\n",
              "      width: 32px;\n",
              "    }\n",
              "\n",
              "    .colab-df-convert:hover {\n",
              "      background-color: #E2EBFA;\n",
              "      box-shadow: 0px 1px 2px rgba(60, 64, 67, 0.3), 0px 1px 3px 1px rgba(60, 64, 67, 0.15);\n",
              "      fill: #174EA6;\n",
              "    }\n",
              "\n",
              "    [theme=dark] .colab-df-convert {\n",
              "      background-color: #3B4455;\n",
              "      fill: #D2E3FC;\n",
              "    }\n",
              "\n",
              "    [theme=dark] .colab-df-convert:hover {\n",
              "      background-color: #434B5C;\n",
              "      box-shadow: 0px 1px 3px 1px rgba(0, 0, 0, 0.15);\n",
              "      filter: drop-shadow(0px 1px 2px rgba(0, 0, 0, 0.3));\n",
              "      fill: #FFFFFF;\n",
              "    }\n",
              "  </style>\n",
              "\n",
              "      <script>\n",
              "        const buttonEl =\n",
              "          document.querySelector('#df-3b9c4090-bbc3-4077-8145-a97699757bcb button.colab-df-convert');\n",
              "        buttonEl.style.display =\n",
              "          google.colab.kernel.accessAllowed ? 'block' : 'none';\n",
              "\n",
              "        async function convertToInteractive(key) {\n",
              "          const element = document.querySelector('#df-3b9c4090-bbc3-4077-8145-a97699757bcb');\n",
              "          const dataTable =\n",
              "            await google.colab.kernel.invokeFunction('convertToInteractive',\n",
              "                                                     [key], {});\n",
              "          if (!dataTable) return;\n",
              "\n",
              "          const docLinkHtml = 'Like what you see? Visit the ' +\n",
              "            '<a target=\"_blank\" href=https://colab.research.google.com/notebooks/data_table.ipynb>data table notebook</a>'\n",
              "            + ' to learn more about interactive tables.';\n",
              "          element.innerHTML = '';\n",
              "          dataTable['output_type'] = 'display_data';\n",
              "          await google.colab.output.renderOutput(dataTable, element);\n",
              "          const docLink = document.createElement('div');\n",
              "          docLink.innerHTML = docLinkHtml;\n",
              "          element.appendChild(docLink);\n",
              "        }\n",
              "      </script>\n",
              "    </div>\n",
              "  </div>\n",
              "  "
            ]
          },
          "metadata": {},
          "execution_count": 13
        }
      ]
    },
    {
      "cell_type": "code",
      "source": [
        "pd.unique(df.stars)"
      ],
      "metadata": {
        "colab": {
          "base_uri": "https://localhost:8080/"
        },
        "id": "hg2L5PCVN9E8",
        "outputId": "5cd85f1a-feaf-4539-d713-210319876af4"
      },
      "execution_count": null,
      "outputs": [
        {
          "output_type": "execute_result",
          "data": {
            "text/plain": [
              "array([ 2.,  5.,  1.,  3.,  4., nan])"
            ]
          },
          "metadata": {},
          "execution_count": 14
        }
      ]
    },
    {
      "cell_type": "code",
      "source": [
        "df.stars.hist(grid=False)"
      ],
      "metadata": {
        "colab": {
          "base_uri": "https://localhost:8080/",
          "height": 447
        },
        "id": "1yds7XpsMIDp",
        "outputId": "c11d29b9-b7e0-45ec-ce1a-2494be4487d2"
      },
      "execution_count": null,
      "outputs": [
        {
          "output_type": "execute_result",
          "data": {
            "text/plain": [
              "<Axes: >"
            ]
          },
          "metadata": {},
          "execution_count": 15
        },
        {
          "output_type": "display_data",
          "data": {
            "text/plain": [
              "<Figure size 640x480 with 1 Axes>"
            ],
            "image/png": "[encoded data removed]"
          },
          "metadata": {}
        }
      ]
    },
    {
      "cell_type": "markdown",
      "source": [
        "Из результатов выше можно сделать следующие выводы:\n",
        "\n",
        "*   Шкала оценки варьируется от 1 звезды до 5. \n",
        "\n",
        "*   Оценки не сбалансированы. Пользователи чаще всего оставляют сугубо положительные отзывы.\n",
        "\n",
        "*   В данных присутствуют пропущенные значения."
      ],
      "metadata": {
        "id": "LVGM51USLp7p"
      }
    },
    {
      "cell_type": "markdown",
      "source": [
        "# Предварительная обработка данных"
      ],
      "metadata": {
        "id": "wUGMrWArQlXZ"
      }
    },
    {
      "cell_type": "markdown",
      "source": [
        "В первую очередь необходимо выделить входные и выходные данные в наборе для сети.\n",
        "\n",
        "Из всех полей необходимую смысловую нагрузку имеет только поле text.\n",
        "\n",
        "Целевым полем же является поле stars, так как именно оно определяет тональность текста."
      ],
      "metadata": {
        "id": "7CUoeH1QQyOV"
      }
    },
    {
      "cell_type": "code",
      "source": [
        "df = df.drop([\"date\", \"name\", \"X\", \"Y\", \"status\"], axis=1)\n",
        "df"
      ],
      "metadata": {
        "colab": {
          "base_uri": "https://localhost:8080/",
          "height": 424
        },
        "id": "oA_cGBPVOesO",
        "outputId": "d7086082-bdfe-4e32-93b5-5e027738f438"
      },
      "execution_count": null,
      "outputs": [
        {
          "output_type": "execute_result",
          "data": {
            "text/plain": [
              "        stars                                               text\n",
              "1         2.0  Были на экскурсии. Я очень люблю производствен...\n",
              "2         5.0  Часто ходим в это кафе. Красивый интерьер, оче...\n",
              "3         5.0  Вкусное мороженое. С кофе и яблочным пирогом с...\n",
              "4         5.0  Хорошее мороженное, разнообразие выбора и вкус...\n",
              "5         1.0  Ставлю одну звезду лишь за вкусное мороженое. ...\n",
              "...       ...                                                ...\n",
              "103909    1.0  Зашли покурить кальян, попить чаю. Заказали ка...\n",
              "103910    4.0  Мне понравилось. Быстро подошла официантка, бы...\n",
              "103911    5.0  Очень вкусно, турецкая атмосфера🇹🇷Все понравил...\n",
              "103912    5.0  Госпади, как же тут вкусно готовят из простых ...\n",
              "103913    4.0  Классное каффе, мясные блюда на 5+! Алкоголь т...\n",
              "\n",
              "[103913 rows x 2 columns]"
            ],
            "text/html": [
              "\n",
              "  <div id=\"df-f9690f2a-af3a-4060-8fb1-d52498657719\">\n",
              "    <div class=\"colab-df-container\">\n",
              "      <div>\n",
              "<style scoped>\n",
              "    .dataframe tbody tr th:only-of-type {\n",
              "        vertical-align: middle;\n",
              "    }\n",
              "\n",
              "    .dataframe tbody tr th {\n",
              "        vertical-align: top;\n",
              "    }\n",
              "\n",
              "    .dataframe thead th {\n",
              "        text-align: right;\n",
              "    }\n",
              "</style>\n",
              "<table border=\"1\" class=\"dataframe\">\n",
              "  <thead>\n",
              "    <tr style=\"text-align: right;\">\n",
              "      <th></th>\n",
              "      <th>stars</th>\n",
              "      <th>text</th>\n",
              "    </tr>\n",
              "  </thead>\n",
              "  <tbody>\n",
              "    <tr>\n",
              "      <th>1</th>\n",
              "      <td>2.0</td>\n",
              "      <td>Были на экскурсии. Я очень люблю производствен...</td>\n",
              "    </tr>\n",
              "    <tr>\n",
              "      <th>2</th>\n",
              "      <td>5.0</td>\n",
              "      <td>Часто ходим в это кафе. Красивый интерьер, оче...</td>\n",
              "    </tr>\n",
              "    <tr>\n",
              "      <th>3</th>\n",
              "      <td>5.0</td>\n",
              "      <td>Вкусное мороженое. С кофе и яблочным пирогом с...</td>\n",
              "    </tr>\n",
              "    <tr>\n",
              "      <th>4</th>\n",
              "      <td>5.0</td>\n",
              "      <td>Хорошее мороженное, разнообразие выбора и вкус...</td>\n",
              "    </tr>\n",
              "    <tr>\n",
              "      <th>5</th>\n",
              "      <td>1.0</td>\n",
              "      <td>Ставлю одну звезду лишь за вкусное мороженое. ...</td>\n",
              "    </tr>\n",
              "    <tr>\n",
              "      <th>...</th>\n",
              "      <td>...</td>\n",
              "      <td>...</td>\n",
              "    </tr>\n",
              "    <tr>\n",
              "      <th>103909</th>\n",
              "      <td>1.0</td>\n",
              "      <td>Зашли покурить кальян, попить чаю. Заказали ка...</td>\n",
              "    </tr>\n",
              "    <tr>\n",
              "      <th>103910</th>\n",
              "      <td>4.0</td>\n",
              "      <td>Мне понравилось. Быстро подошла официантка, бы...</td>\n",
              "    </tr>\n",
              "    <tr>\n",
              "      <th>103911</th>\n",
              "      <td>5.0</td>\n",
              "      <td>Очень вкусно, турецкая атмосфера🇹🇷Все понравил...</td>\n",
              "    </tr>\n",
              "    <tr>\n",
              "      <th>103912</th>\n",
              "      <td>5.0</td>\n",
              "      <td>Госпади, как же тут вкусно готовят из простых ...</td>\n",
              "    </tr>\n",
              "    <tr>\n",
              "      <th>103913</th>\n",
              "      <td>4.0</td>\n",
              "      <td>Классное каффе, мясные блюда на 5+! Алкоголь т...</td>\n",
              "    </tr>\n",
              "  </tbody>\n",
              "</table>\n",
              "<p>103913 rows × 2 columns</p>\n",
              "</div>\n",
              "      <button class=\"colab-df-convert\" onclick=\"convertToInteractive('df-f9690f2a-af3a-4060-8fb1-d52498657719')\"\n",
              "              title=\"Convert this dataframe to an interactive table.\"\n",
              "              style=\"display:none;\">\n",
              "        \n",
              "  <svg xmlns=\"http://www.w3.org/2000/svg\" height=\"24px\"viewBox=\"0 0 24 24\"\n",
              "       width=\"24px\">\n",
              "    <path d=\"M0 0h24v24H0V0z\" fill=\"none\"/>\n",
              "    <path d=\"M18.56 5.44l.94 2.06.94-2.06 2.06-.94-2.06-.94-.94-2.06-.94 2.06-2.06.94zm-11 1L8.5 8.5l.94-2.06 2.06-.94-2.06-.94L8.5 2.5l-.94 2.06-2.06.94zm10 10l.94 2.06.94-2.06 2.06-.94-2.06-.94-.94-2.06-.94 2.06-2.06.94z\"/><path d=\"M17.41 7.96l-1.37-1.37c-.4-.4-.92-.59-1.43-.59-.52 0-1.04.2-1.43.59L10.3 9.45l-7.72 7.72c-.78.78-.78 2.05 0 2.83L4 21.41c.39.39.9.59 1.41.59.51 0 1.02-.2 1.41-.59l7.78-7.78 2.81-2.81c.8-.78.8-2.07 0-2.86zM5.41 20L4 18.59l7.72-7.72 1.47 1.35L5.41 20z\"/>\n",
              "  </svg>\n",
              "      </button>\n",
              "      \n",
              "  <style>\n",
              "    .colab-df-container {\n",
              "      display:flex;\n",
              "      flex-wrap:wrap;\n",
              "      gap: 12px;\n",
              "    }\n",
              "\n",
              "    .colab-df-convert {\n",
              "      background-color: #E8F0FE;\n",
              "      border: none;\n",
              "      border-radius: 50%;\n",
              "      cursor: pointer;\n",
              "      display: none;\n",
              "      fill: #1967D2;\n",
              "      height: 32px;\n",
              "      padding: 0 0 0 0;\n",
              "      width: 32px;\n",
              "    }\n",
              "\n",
              "    .colab-df-convert:hover {\n",
              "      background-color: #E2EBFA;\n",
              "      box-shadow: 0px 1px 2px rgba(60, 64, 67, 0.3), 0px 1px 3px 1px rgba(60, 64, 67, 0.15);\n",
              "      fill: #174EA6;\n",
              "    }\n",
              "\n",
              "    [theme=dark] .colab-df-convert {\n",
              "      background-color: #3B4455;\n",
              "      fill: #D2E3FC;\n",
              "    }\n",
              "\n",
              "    [theme=dark] .colab-df-convert:hover {\n",
              "      background-color: #434B5C;\n",
              "      box-shadow: 0px 1px 3px 1px rgba(0, 0, 0, 0.15);\n",
              "      filter: drop-shadow(0px 1px 2px rgba(0, 0, 0, 0.3));\n",
              "      fill: #FFFFFF;\n",
              "    }\n",
              "  </style>\n",
              "\n",
              "      <script>\n",
              "        const buttonEl =\n",
              "          document.querySelector('#df-f9690f2a-af3a-4060-8fb1-d52498657719 button.colab-df-convert');\n",
              "        buttonEl.style.display =\n",
              "          google.colab.kernel.accessAllowed ? 'block' : 'none';\n",
              "\n",
              "        async function convertToInteractive(key) {\n",
              "          const element = document.querySelector('#df-f9690f2a-af3a-4060-8fb1-d52498657719');\n",
              "          const dataTable =\n",
              "            await google.colab.kernel.invokeFunction('convertToInteractive',\n",
              "                                                     [key], {});\n",
              "          if (!dataTable) return;\n",
              "\n",
              "          const docLinkHtml = 'Like what you see? Visit the ' +\n",
              "            '<a target=\"_blank\" href=https://colab.research.google.com/notebooks/data_table.ipynb>data table notebook</a>'\n",
              "            + ' to learn more about interactive tables.';\n",
              "          element.innerHTML = '';\n",
              "          dataTable['output_type'] = 'display_data';\n",
              "          await google.colab.output.renderOutput(dataTable, element);\n",
              "          const docLink = document.createElement('div');\n",
              "          docLink.innerHTML = docLinkHtml;\n",
              "          element.appendChild(docLink);\n",
              "        }\n",
              "      </script>\n",
              "    </div>\n",
              "  </div>\n",
              "  "
            ]
          },
          "metadata": {},
          "execution_count": 16
        }
      ]
    },
    {
      "cell_type": "code",
      "source": [
        "df = df.rename(columns={\"text\": \"data\", \"stars\": \"target\"})\n",
        "df"
      ],
      "metadata": {
        "colab": {
          "base_uri": "https://localhost:8080/",
          "height": 424
        },
        "id": "PsuvIc1YSNa2",
        "outputId": "fff23bf1-31a5-4808-be07-2191ebb1fefe"
      },
      "execution_count": null,
      "outputs": [
        {
          "output_type": "execute_result",
          "data": {
            "text/plain": [
              "        target                                               data\n",
              "1          2.0  Были на экскурсии. Я очень люблю производствен...\n",
              "2          5.0  Часто ходим в это кафе. Красивый интерьер, оче...\n",
              "3          5.0  Вкусное мороженое. С кофе и яблочным пирогом с...\n",
              "4          5.0  Хорошее мороженное, разнообразие выбора и вкус...\n",
              "5          1.0  Ставлю одну звезду лишь за вкусное мороженое. ...\n",
              "...        ...                                                ...\n",
              "103909     1.0  Зашли покурить кальян, попить чаю. Заказали ка...\n",
              "103910     4.0  Мне понравилось. Быстро подошла официантка, бы...\n",
              "103911     5.0  Очень вкусно, турецкая атмосфера🇹🇷Все понравил...\n",
              "103912     5.0  Госпади, как же тут вкусно готовят из простых ...\n",
              "103913     4.0  Классное каффе, мясные блюда на 5+! Алкоголь т...\n",
              "\n",
              "[103913 rows x 2 columns]"
            ],
            "text/html": [
              "\n",
              "  <div id=\"df-cdfad8bc-b954-44f6-b5cf-01ebdecb3fab\">\n",
              "    <div class=\"colab-df-container\">\n",
              "      <div>\n",
              "<style scoped>\n",
              "    .dataframe tbody tr th:only-of-type {\n",
              "        vertical-align: middle;\n",
              "    }\n",
              "\n",
              "    .dataframe tbody tr th {\n",
              "        vertical-align: top;\n",
              "    }\n",
              "\n",
              "    .dataframe thead th {\n",
              "        text-align: right;\n",
              "    }\n",
              "</style>\n",
              "<table border=\"1\" class=\"dataframe\">\n",
              "  <thead>\n",
              "    <tr style=\"text-align: right;\">\n",
              "      <th></th>\n",
              "      <th>target</th>\n",
              "      <th>data</th>\n",
              "    </tr>\n",
              "  </thead>\n",
              "  <tbody>\n",
              "    <tr>\n",
              "      <th>1</th>\n",
              "      <td>2.0</td>\n",
              "      <td>Были на экскурсии. Я очень люблю производствен...</td>\n",
              "    </tr>\n",
              "    <tr>\n",
              "      <th>2</th>\n",
              "      <td>5.0</td>\n",
              "      <td>Часто ходим в это кафе. Красивый интерьер, оче...</td>\n",
              "    </tr>\n",
              "    <tr>\n",
              "      <th>3</th>\n",
              "      <td>5.0</td>\n",
              "      <td>Вкусное мороженое. С кофе и яблочным пирогом с...</td>\n",
              "    </tr>\n",
              "    <tr>\n",
              "      <th>4</th>\n",
              "      <td>5.0</td>\n",
              "      <td>Хорошее мороженное, разнообразие выбора и вкус...</td>\n",
              "    </tr>\n",
              "    <tr>\n",
              "      <th>5</th>\n",
              "      <td>1.0</td>\n",
              "      <td>Ставлю одну звезду лишь за вкусное мороженое. ...</td>\n",
              "    </tr>\n",
              "    <tr>\n",
              "      <th>...</th>\n",
              "      <td>...</td>\n",
              "      <td>...</td>\n",
              "    </tr>\n",
              "    <tr>\n",
              "      <th>103909</th>\n",
              "      <td>1.0</td>\n",
              "      <td>Зашли покурить кальян, попить чаю. Заказали ка...</td>\n",
              "    </tr>\n",
              "    <tr>\n",
              "      <th>103910</th>\n",
              "      <td>4.0</td>\n",
              "      <td>Мне понравилось. Быстро подошла официантка, бы...</td>\n",
              "    </tr>\n",
              "    <tr>\n",
              "      <th>103911</th>\n",
              "      <td>5.0</td>\n",
              "      <td>Очень вкусно, турецкая атмосфера🇹🇷Все понравил...</td>\n",
              "    </tr>\n",
              "    <tr>\n",
              "      <th>103912</th>\n",
              "      <td>5.0</td>\n",
              "      <td>Госпади, как же тут вкусно готовят из простых ...</td>\n",
              "    </tr>\n",
              "    <tr>\n",
              "      <th>103913</th>\n",
              "      <td>4.0</td>\n",
              "      <td>Классное каффе, мясные блюда на 5+! Алкоголь т...</td>\n",
              "    </tr>\n",
              "  </tbody>\n",
              "</table>\n",
              "<p>103913 rows × 2 columns</p>\n",
              "</div>\n",
              "      <button class=\"colab-df-convert\" onclick=\"convertToInteractive('df-cdfad8bc-b954-44f6-b5cf-01ebdecb3fab')\"\n",
              "              title=\"Convert this dataframe to an interactive table.\"\n",
              "              style=\"display:none;\">\n",
              "        \n",
              "  <svg xmlns=\"http://www.w3.org/2000/svg\" height=\"24px\"viewBox=\"0 0 24 24\"\n",
              "       width=\"24px\">\n",
              "    <path d=\"M0 0h24v24H0V0z\" fill=\"none\"/>\n",
              "    <path d=\"M18.56 5.44l.94 2.06.94-2.06 2.06-.94-2.06-.94-.94-2.06-.94 2.06-2.06.94zm-11 1L8.5 8.5l.94-2.06 2.06-.94-2.06-.94L8.5 2.5l-.94 2.06-2.06.94zm10 10l.94 2.06.94-2.06 2.06-.94-2.06-.94-.94-2.06-.94 2.06-2.06.94z\"/><path d=\"M17.41 7.96l-1.37-1.37c-.4-.4-.92-.59-1.43-.59-.52 0-1.04.2-1.43.59L10.3 9.45l-7.72 7.72c-.78.78-.78 2.05 0 2.83L4 21.41c.39.39.9.59 1.41.59.51 0 1.02-.2 1.41-.59l7.78-7.78 2.81-2.81c.8-.78.8-2.07 0-2.86zM5.41 20L4 18.59l7.72-7.72 1.47 1.35L5.41 20z\"/>\n",
              "  </svg>\n",
              "      </button>\n",
              "      \n",
              "  <style>\n",
              "    .colab-df-container {\n",
              "      display:flex;\n",
              "      flex-wrap:wrap;\n",
              "      gap: 12px;\n",
              "    }\n",
              "\n",
              "    .colab-df-convert {\n",
              "      background-color: #E8F0FE;\n",
              "      border: none;\n",
              "      border-radius: 50%;\n",
              "      cursor: pointer;\n",
              "      display: none;\n",
              "      fill: #1967D2;\n",
              "      height: 32px;\n",
              "      padding: 0 0 0 0;\n",
              "      width: 32px;\n",
              "    }\n",
              "\n",
              "    .colab-df-convert:hover {\n",
              "      background-color: #E2EBFA;\n",
              "      box-shadow: 0px 1px 2px rgba(60, 64, 67, 0.3), 0px 1px 3px 1px rgba(60, 64, 67, 0.15);\n",
              "      fill: #174EA6;\n",
              "    }\n",
              "\n",
              "    [theme=dark] .colab-df-convert {\n",
              "      background-color: #3B4455;\n",
              "      fill: #D2E3FC;\n",
              "    }\n",
              "\n",
              "    [theme=dark] .colab-df-convert:hover {\n",
              "      background-color: #434B5C;\n",
              "      box-shadow: 0px 1px 3px 1px rgba(0, 0, 0, 0.15);\n",
              "      filter: drop-shadow(0px 1px 2px rgba(0, 0, 0, 0.3));\n",
              "      fill: #FFFFFF;\n",
              "    }\n",
              "  </style>\n",
              "\n",
              "      <script>\n",
              "        const buttonEl =\n",
              "          document.querySelector('#df-cdfad8bc-b954-44f6-b5cf-01ebdecb3fab button.colab-df-convert');\n",
              "        buttonEl.style.display =\n",
              "          google.colab.kernel.accessAllowed ? 'block' : 'none';\n",
              "\n",
              "        async function convertToInteractive(key) {\n",
              "          const element = document.querySelector('#df-cdfad8bc-b954-44f6-b5cf-01ebdecb3fab');\n",
              "          const dataTable =\n",
              "            await google.colab.kernel.invokeFunction('convertToInteractive',\n",
              "                                                     [key], {});\n",
              "          if (!dataTable) return;\n",
              "\n",
              "          const docLinkHtml = 'Like what you see? Visit the ' +\n",
              "            '<a target=\"_blank\" href=https://colab.research.google.com/notebooks/data_table.ipynb>data table notebook</a>'\n",
              "            + ' to learn more about interactive tables.';\n",
              "          element.innerHTML = '';\n",
              "          dataTable['output_type'] = 'display_data';\n",
              "          await google.colab.output.renderOutput(dataTable, element);\n",
              "          const docLink = document.createElement('div');\n",
              "          docLink.innerHTML = docLinkHtml;\n",
              "          element.appendChild(docLink);\n",
              "        }\n",
              "      </script>\n",
              "    </div>\n",
              "  </div>\n",
              "  "
            ]
          },
          "metadata": {},
          "execution_count": 17
        }
      ]
    },
    {
      "cell_type": "markdown",
      "source": [
        "Так как пропущенных значений относительно мало, строки с ними можно убрать из набора данных."
      ],
      "metadata": {
        "id": "9gmq1iWXTPol"
      }
    },
    {
      "cell_type": "code",
      "source": [
        "df = df.dropna().reset_index(drop=True)\n",
        "df.isna().sum()"
      ],
      "metadata": {
        "colab": {
          "base_uri": "https://localhost:8080/"
        },
        "id": "9KMtiF11TV9E",
        "outputId": "5b38a34b-ae98-4604-e3be-3bdbcaa941e7"
      },
      "execution_count": null,
      "outputs": [
        {
          "output_type": "execute_result",
          "data": {
            "text/plain": [
              "target    0\n",
              "data      0\n",
              "dtype: int64"
            ]
          },
          "metadata": {},
          "execution_count": 18
        }
      ]
    },
    {
      "cell_type": "markdown",
      "source": [
        "Так как оценки пользователей не сбалансированы, нужно сделать перебалансировку данных.\n",
        "\n",
        "Для этого сначала группы отзывов были объеденены между собой следующим образом:\n",
        "\n",
        "*   Любой отзыв с оценкой меньше 5 считается плохим отзывом.\n",
        "\n",
        "*   Любой отзыв с оценкой равной 5 считается хорошим отзывом.\n",
        "\n",
        "Данный выбор группировки является валидным, так как наблюдается четкий дисбаланс между 5-звездочными оценками и другими, а также распространенной привычкой пользователей закрывать глаза на мелкие погрешности, что ведет к необъективным оценкам и ситуациям, когда объективное \"значение\" 4 звезд равно 3 и менее, тогда как 5 звезд могут покрывать весь диапазон \"хороших\" оценок - 4 и 5."
      ],
      "metadata": {
        "id": "9OQtXH4VS0ci"
      }
    },
    {
      "cell_type": "code",
      "source": [
        "df.target = df.target.replace({1: \"bad\", 2: \"bad\", 3: \"bad\", 4: \"bad\", 5: \"good\"})\n",
        "df"
      ],
      "metadata": {
        "colab": {
          "base_uri": "https://localhost:8080/",
          "height": 424
        },
        "id": "7D1bo1IwTb99",
        "outputId": "273dbea2-ba7a-40c2-ad2e-c226f919c56f"
      },
      "execution_count": null,
      "outputs": [
        {
          "output_type": "execute_result",
          "data": {
            "text/plain": [
              "       target                                               data\n",
              "0         bad  Были на экскурсии. Я очень люблю производствен...\n",
              "1        good  Часто ходим в это кафе. Красивый интерьер, оче...\n",
              "2        good  Вкусное мороженое. С кофе и яблочным пирогом с...\n",
              "3        good  Хорошее мороженное, разнообразие выбора и вкус...\n",
              "4         bad  Ставлю одну звезду лишь за вкусное мороженое. ...\n",
              "...       ...                                                ...\n",
              "103868    bad  Зашли покурить кальян, попить чаю. Заказали ка...\n",
              "103869    bad  Мне понравилось. Быстро подошла официантка, бы...\n",
              "103870   good  Очень вкусно, турецкая атмосфера🇹🇷Все понравил...\n",
              "103871   good  Госпади, как же тут вкусно готовят из простых ...\n",
              "103872    bad  Классное каффе, мясные блюда на 5+! Алкоголь т...\n",
              "\n",
              "[103873 rows x 2 columns]"
            ],
            "text/html": [
              "\n",
              "  <div id=\"df-2836ed62-8616-4afc-b19e-117367d3eccc\">\n",
              "    <div class=\"colab-df-container\">\n",
              "      <div>\n",
              "<style scoped>\n",
              "    .dataframe tbody tr th:only-of-type {\n",
              "        vertical-align: middle;\n",
              "    }\n",
              "\n",
              "    .dataframe tbody tr th {\n",
              "        vertical-align: top;\n",
              "    }\n",
              "\n",
              "    .dataframe thead th {\n",
              "        text-align: right;\n",
              "    }\n",
              "</style>\n",
              "<table border=\"1\" class=\"dataframe\">\n",
              "  <thead>\n",
              "    <tr style=\"text-align: right;\">\n",
              "      <th></th>\n",
              "      <th>target</th>\n",
              "      <th>data</th>\n",
              "    </tr>\n",
              "  </thead>\n",
              "  <tbody>\n",
              "    <tr>\n",
              "      <th>0</th>\n",
              "      <td>bad</td>\n",
              "      <td>Были на экскурсии. Я очень люблю производствен...</td>\n",
              "    </tr>\n",
              "    <tr>\n",
              "      <th>1</th>\n",
              "      <td>good</td>\n",
              "      <td>Часто ходим в это кафе. Красивый интерьер, оче...</td>\n",
              "    </tr>\n",
              "    <tr>\n",
              "      <th>2</th>\n",
              "      <td>good</td>\n",
              "      <td>Вкусное мороженое. С кофе и яблочным пирогом с...</td>\n",
              "    </tr>\n",
              "    <tr>\n",
              "      <th>3</th>\n",
              "      <td>good</td>\n",
              "      <td>Хорошее мороженное, разнообразие выбора и вкус...</td>\n",
              "    </tr>\n",
              "    <tr>\n",
              "      <th>4</th>\n",
              "      <td>bad</td>\n",
              "      <td>Ставлю одну звезду лишь за вкусное мороженое. ...</td>\n",
              "    </tr>\n",
              "    <tr>\n",
              "      <th>...</th>\n",
              "      <td>...</td>\n",
              "      <td>...</td>\n",
              "    </tr>\n",
              "    <tr>\n",
              "      <th>103868</th>\n",
              "      <td>bad</td>\n",
              "      <td>Зашли покурить кальян, попить чаю. Заказали ка...</td>\n",
              "    </tr>\n",
              "    <tr>\n",
              "      <th>103869</th>\n",
              "      <td>bad</td>\n",
              "      <td>Мне понравилось. Быстро подошла официантка, бы...</td>\n",
              "    </tr>\n",
              "    <tr>\n",
              "      <th>103870</th>\n",
              "      <td>good</td>\n",
              "      <td>Очень вкусно, турецкая атмосфера🇹🇷Все понравил...</td>\n",
              "    </tr>\n",
              "    <tr>\n",
              "      <th>103871</th>\n",
              "      <td>good</td>\n",
              "      <td>Госпади, как же тут вкусно готовят из простых ...</td>\n",
              "    </tr>\n",
              "    <tr>\n",
              "      <th>103872</th>\n",
              "      <td>bad</td>\n",
              "      <td>Классное каффе, мясные блюда на 5+! Алкоголь т...</td>\n",
              "    </tr>\n",
              "  </tbody>\n",
              "</table>\n",
              "<p>103873 rows × 2 columns</p>\n",
              "</div>\n",
              "      <button class=\"colab-df-convert\" onclick=\"convertToInteractive('df-2836ed62-8616-4afc-b19e-117367d3eccc')\"\n",
              "              title=\"Convert this dataframe to an interactive table.\"\n",
              "              style=\"display:none;\">\n",
              "        \n",
              "  <svg xmlns=\"http://www.w3.org/2000/svg\" height=\"24px\"viewBox=\"0 0 24 24\"\n",
              "       width=\"24px\">\n",
              "    <path d=\"M0 0h24v24H0V0z\" fill=\"none\"/>\n",
              "    <path d=\"M18.56 5.44l.94 2.06.94-2.06 2.06-.94-2.06-.94-.94-2.06-.94 2.06-2.06.94zm-11 1L8.5 8.5l.94-2.06 2.06-.94-2.06-.94L8.5 2.5l-.94 2.06-2.06.94zm10 10l.94 2.06.94-2.06 2.06-.94-2.06-.94-.94-2.06-.94 2.06-2.06.94z\"/><path d=\"M17.41 7.96l-1.37-1.37c-.4-.4-.92-.59-1.43-.59-.52 0-1.04.2-1.43.59L10.3 9.45l-7.72 7.72c-.78.78-.78 2.05 0 2.83L4 21.41c.39.39.9.59 1.41.59.51 0 1.02-.2 1.41-.59l7.78-7.78 2.81-2.81c.8-.78.8-2.07 0-2.86zM5.41 20L4 18.59l7.72-7.72 1.47 1.35L5.41 20z\"/>\n",
              "  </svg>\n",
              "      </button>\n",
              "      \n",
              "  <style>\n",
              "    .colab-df-container {\n",
              "      display:flex;\n",
              "      flex-wrap:wrap;\n",
              "      gap: 12px;\n",
              "    }\n",
              "\n",
              "    .colab-df-convert {\n",
              "      background-color: #E8F0FE;\n",
              "      border: none;\n",
              "      border-radius: 50%;\n",
              "      cursor: pointer;\n",
              "      display: none;\n",
              "      fill: #1967D2;\n",
              "      height: 32px;\n",
              "      padding: 0 0 0 0;\n",
              "      width: 32px;\n",
              "    }\n",
              "\n",
              "    .colab-df-convert:hover {\n",
              "      background-color: #E2EBFA;\n",
              "      box-shadow: 0px 1px 2px rgba(60, 64, 67, 0.3), 0px 1px 3px 1px rgba(60, 64, 67, 0.15);\n",
              "      fill: #174EA6;\n",
              "    }\n",
              "\n",
              "    [theme=dark] .colab-df-convert {\n",
              "      background-color: #3B4455;\n",
              "      fill: #D2E3FC;\n",
              "    }\n",
              "\n",
              "    [theme=dark] .colab-df-convert:hover {\n",
              "      background-color: #434B5C;\n",
              "      box-shadow: 0px 1px 3px 1px rgba(0, 0, 0, 0.15);\n",
              "      filter: drop-shadow(0px 1px 2px rgba(0, 0, 0, 0.3));\n",
              "      fill: #FFFFFF;\n",
              "    }\n",
              "  </style>\n",
              "\n",
              "      <script>\n",
              "        const buttonEl =\n",
              "          document.querySelector('#df-2836ed62-8616-4afc-b19e-117367d3eccc button.colab-df-convert');\n",
              "        buttonEl.style.display =\n",
              "          google.colab.kernel.accessAllowed ? 'block' : 'none';\n",
              "\n",
              "        async function convertToInteractive(key) {\n",
              "          const element = document.querySelector('#df-2836ed62-8616-4afc-b19e-117367d3eccc');\n",
              "          const dataTable =\n",
              "            await google.colab.kernel.invokeFunction('convertToInteractive',\n",
              "                                                     [key], {});\n",
              "          if (!dataTable) return;\n",
              "\n",
              "          const docLinkHtml = 'Like what you see? Visit the ' +\n",
              "            '<a target=\"_blank\" href=https://colab.research.google.com/notebooks/data_table.ipynb>data table notebook</a>'\n",
              "            + ' to learn more about interactive tables.';\n",
              "          element.innerHTML = '';\n",
              "          dataTable['output_type'] = 'display_data';\n",
              "          await google.colab.output.renderOutput(dataTable, element);\n",
              "          const docLink = document.createElement('div');\n",
              "          docLink.innerHTML = docLinkHtml;\n",
              "          element.appendChild(docLink);\n",
              "        }\n",
              "      </script>\n",
              "    </div>\n",
              "  </div>\n",
              "  "
            ]
          },
          "metadata": {},
          "execution_count": 19
        }
      ]
    },
    {
      "cell_type": "markdown",
      "source": [
        "Так как сети не могут работать с категориальными данными, необходимо закодировать целевое поле."
      ],
      "metadata": {
        "id": "8Rf5bRCxU0PN"
      }
    },
    {
      "cell_type": "code",
      "source": [
        "label_encoder = LabelEncoder()\n",
        "df.target = label_encoder.fit_transform(df.target)\n",
        "df"
      ],
      "metadata": {
        "colab": {
          "base_uri": "https://localhost:8080/",
          "height": 424
        },
        "id": "CB1bci2nUS10",
        "outputId": "9b2eb0aa-3099-453e-c916-89f3cdefd55f"
      },
      "execution_count": null,
      "outputs": [
        {
          "output_type": "execute_result",
          "data": {
            "text/plain": [
              "        target                                               data\n",
              "0            0  Были на экскурсии. Я очень люблю производствен...\n",
              "1            1  Часто ходим в это кафе. Красивый интерьер, оче...\n",
              "2            1  Вкусное мороженое. С кофе и яблочным пирогом с...\n",
              "3            1  Хорошее мороженное, разнообразие выбора и вкус...\n",
              "4            0  Ставлю одну звезду лишь за вкусное мороженое. ...\n",
              "...        ...                                                ...\n",
              "103868       0  Зашли покурить кальян, попить чаю. Заказали ка...\n",
              "103869       0  Мне понравилось. Быстро подошла официантка, бы...\n",
              "103870       1  Очень вкусно, турецкая атмосфера🇹🇷Все понравил...\n",
              "103871       1  Госпади, как же тут вкусно готовят из простых ...\n",
              "103872       0  Классное каффе, мясные блюда на 5+! Алкоголь т...\n",
              "\n",
              "[103873 rows x 2 columns]"
            ],
            "text/html": [
              "\n",
              "  <div id=\"df-b4f758a7-dda5-4915-9822-5f6c7db38fd6\">\n",
              "    <div class=\"colab-df-container\">\n",
              "      <div>\n",
              "<style scoped>\n",
              "    .dataframe tbody tr th:only-of-type {\n",
              "        vertical-align: middle;\n",
              "    }\n",
              "\n",
              "    .dataframe tbody tr th {\n",
              "        vertical-align: top;\n",
              "    }\n",
              "\n",
              "    .dataframe thead th {\n",
              "        text-align: right;\n",
              "    }\n",
              "</style>\n",
              "<table border=\"1\" class=\"dataframe\">\n",
              "  <thead>\n",
              "    <tr style=\"text-align: right;\">\n",
              "      <th></th>\n",
              "      <th>target</th>\n",
              "      <th>data</th>\n",
              "    </tr>\n",
              "  </thead>\n",
              "  <tbody>\n",
              "    <tr>\n",
              "      <th>0</th>\n",
              "      <td>0</td>\n",
              "      <td>Были на экскурсии. Я очень люблю производствен...</td>\n",
              "    </tr>\n",
              "    <tr>\n",
              "      <th>1</th>\n",
              "      <td>1</td>\n",
              "      <td>Часто ходим в это кафе. Красивый интерьер, оче...</td>\n",
              "    </tr>\n",
              "    <tr>\n",
              "      <th>2</th>\n",
              "      <td>1</td>\n",
              "      <td>Вкусное мороженое. С кофе и яблочным пирогом с...</td>\n",
              "    </tr>\n",
              "    <tr>\n",
              "      <th>3</th>\n",
              "      <td>1</td>\n",
              "      <td>Хорошее мороженное, разнообразие выбора и вкус...</td>\n",
              "    </tr>\n",
              "    <tr>\n",
              "      <th>4</th>\n",
              "      <td>0</td>\n",
              "      <td>Ставлю одну звезду лишь за вкусное мороженое. ...</td>\n",
              "    </tr>\n",
              "    <tr>\n",
              "      <th>...</th>\n",
              "      <td>...</td>\n",
              "      <td>...</td>\n",
              "    </tr>\n",
              "    <tr>\n",
              "      <th>103868</th>\n",
              "      <td>0</td>\n",
              "      <td>Зашли покурить кальян, попить чаю. Заказали ка...</td>\n",
              "    </tr>\n",
              "    <tr>\n",
              "      <th>103869</th>\n",
              "      <td>0</td>\n",
              "      <td>Мне понравилось. Быстро подошла официантка, бы...</td>\n",
              "    </tr>\n",
              "    <tr>\n",
              "      <th>103870</th>\n",
              "      <td>1</td>\n",
              "      <td>Очень вкусно, турецкая атмосфера🇹🇷Все понравил...</td>\n",
              "    </tr>\n",
              "    <tr>\n",
              "      <th>103871</th>\n",
              "      <td>1</td>\n",
              "      <td>Госпади, как же тут вкусно готовят из простых ...</td>\n",
              "    </tr>\n",
              "    <tr>\n",
              "      <th>103872</th>\n",
              "      <td>0</td>\n",
              "      <td>Классное каффе, мясные блюда на 5+! Алкоголь т...</td>\n",
              "    </tr>\n",
              "  </tbody>\n",
              "</table>\n",
              "<p>103873 rows × 2 columns</p>\n",
              "</div>\n",
              "      <button class=\"colab-df-convert\" onclick=\"convertToInteractive('df-b4f758a7-dda5-4915-9822-5f6c7db38fd6')\"\n",
              "              title=\"Convert this dataframe to an interactive table.\"\n",
              "              style=\"display:none;\">\n",
              "        \n",
              "  <svg xmlns=\"http://www.w3.org/2000/svg\" height=\"24px\"viewBox=\"0 0 24 24\"\n",
              "       width=\"24px\">\n",
              "    <path d=\"M0 0h24v24H0V0z\" fill=\"none\"/>\n",
              "    <path d=\"M18.56 5.44l.94 2.06.94-2.06 2.06-.94-2.06-.94-.94-2.06-.94 2.06-2.06.94zm-11 1L8.5 8.5l.94-2.06 2.06-.94-2.06-.94L8.5 2.5l-.94 2.06-2.06.94zm10 10l.94 2.06.94-2.06 2.06-.94-2.06-.94-.94-2.06-.94 2.06-2.06.94z\"/><path d=\"M17.41 7.96l-1.37-1.37c-.4-.4-.92-.59-1.43-.59-.52 0-1.04.2-1.43.59L10.3 9.45l-7.72 7.72c-.78.78-.78 2.05 0 2.83L4 21.41c.39.39.9.59 1.41.59.51 0 1.02-.2 1.41-.59l7.78-7.78 2.81-2.81c.8-.78.8-2.07 0-2.86zM5.41 20L4 18.59l7.72-7.72 1.47 1.35L5.41 20z\"/>\n",
              "  </svg>\n",
              "      </button>\n",
              "      \n",
              "  <style>\n",
              "    .colab-df-container {\n",
              "      display:flex;\n",
              "      flex-wrap:wrap;\n",
              "      gap: 12px;\n",
              "    }\n",
              "\n",
              "    .colab-df-convert {\n",
              "      background-color: #E8F0FE;\n",
              "      border: none;\n",
              "      border-radius: 50%;\n",
              "      cursor: pointer;\n",
              "      display: none;\n",
              "      fill: #1967D2;\n",
              "      height: 32px;\n",
              "      padding: 0 0 0 0;\n",
              "      width: 32px;\n",
              "    }\n",
              "\n",
              "    .colab-df-convert:hover {\n",
              "      background-color: #E2EBFA;\n",
              "      box-shadow: 0px 1px 2px rgba(60, 64, 67, 0.3), 0px 1px 3px 1px rgba(60, 64, 67, 0.15);\n",
              "      fill: #174EA6;\n",
              "    }\n",
              "\n",
              "    [theme=dark] .colab-df-convert {\n",
              "      background-color: #3B4455;\n",
              "      fill: #D2E3FC;\n",
              "    }\n",
              "\n",
              "    [theme=dark] .colab-df-convert:hover {\n",
              "      background-color: #434B5C;\n",
              "      box-shadow: 0px 1px 3px 1px rgba(0, 0, 0, 0.15);\n",
              "      filter: drop-shadow(0px 1px 2px rgba(0, 0, 0, 0.3));\n",
              "      fill: #FFFFFF;\n",
              "    }\n",
              "  </style>\n",
              "\n",
              "      <script>\n",
              "        const buttonEl =\n",
              "          document.querySelector('#df-b4f758a7-dda5-4915-9822-5f6c7db38fd6 button.colab-df-convert');\n",
              "        buttonEl.style.display =\n",
              "          google.colab.kernel.accessAllowed ? 'block' : 'none';\n",
              "\n",
              "        async function convertToInteractive(key) {\n",
              "          const element = document.querySelector('#df-b4f758a7-dda5-4915-9822-5f6c7db38fd6');\n",
              "          const dataTable =\n",
              "            await google.colab.kernel.invokeFunction('convertToInteractive',\n",
              "                                                     [key], {});\n",
              "          if (!dataTable) return;\n",
              "\n",
              "          const docLinkHtml = 'Like what you see? Visit the ' +\n",
              "            '<a target=\"_blank\" href=https://colab.research.google.com/notebooks/data_table.ipynb>data table notebook</a>'\n",
              "            + ' to learn more about interactive tables.';\n",
              "          element.innerHTML = '';\n",
              "          dataTable['output_type'] = 'display_data';\n",
              "          await google.colab.output.renderOutput(dataTable, element);\n",
              "          const docLink = document.createElement('div');\n",
              "          docLink.innerHTML = docLinkHtml;\n",
              "          element.appendChild(docLink);\n",
              "        }\n",
              "      </script>\n",
              "    </div>\n",
              "  </div>\n",
              "  "
            ]
          },
          "metadata": {},
          "execution_count": 20
        }
      ]
    },
    {
      "cell_type": "code",
      "source": [
        "df.target.hist(bins=2)"
      ],
      "metadata": {
        "id": "KZsGbJl6l7AT"
      },
      "execution_count": null,
      "outputs": []
    },
    {
      "cell_type": "markdown",
      "source": [
        "Так как дисбаланс до сих пор сохранился - хороших отзывов практически в два раза больше плохих - можно применить пересэмплирование."
      ],
      "metadata": {
        "id": "7pW_vMJ2l-MJ"
      }
    },
    {
      "cell_type": "code",
      "source": [
        "df = df.append(df[df.target == 0], ignore_index=True)"
      ],
      "metadata": {
        "colab": {
          "base_uri": "https://localhost:8080/"
        },
        "id": "WvC0S37dYkxK",
        "outputId": "6018b424-e553-4e5d-cd57-42642cccf708"
      },
      "execution_count": 25,
      "outputs": [
        {
          "output_type": "stream",
          "name": "stderr",
          "text": [
            "<ipython-input-25-e85610b831ad>:1: FutureWarning: The frame.append method is deprecated and will be removed from pandas in a future version. Use pandas.concat instead.\n",
            "  df = df.append(df[df.target == 0], ignore_index=True)\n"
          ]
        }
      ]
    },
    {
      "cell_type": "code",
      "source": [
        "df.target.hist(bins=2)"
      ],
      "metadata": {
        "colab": {
          "base_uri": "https://localhost:8080/",
          "height": 447
        },
        "id": "ctNZnATmYglZ",
        "outputId": "59756c24-8d59-454b-d0db-62817a40d8d1"
      },
      "execution_count": 26,
      "outputs": [
        {
          "output_type": "execute_result",
          "data": {
            "text/plain": [
              "<Axes: >"
            ]
          },
          "metadata": {},
          "execution_count": 26
        },
        {
          "output_type": "display_data",
          "data": {
            "text/plain": [
              "<Figure size 640x480 with 1 Axes>"
            ],
            "image/png": "[encoded data removed]"
          },
          "metadata": {}
        }
      ]
    },
    {
      "cell_type": "markdown",
      "source": [
        "Также необходимо провести предобработку текста, а именно:\n",
        "\n",
        "1.  Убрать все знаки пунктуации как не несущие смысловой нагрузки элементы\n",
        "\n",
        "2.  Привести все символы к нижнему регистру\n",
        "\n",
        "3.  Удалить стоп-слова как не несущие смысловой нагрузки элементы\n",
        "\n",
        "4.  Удалить несловарные слова, как имеющие ошибку в написании\n",
        "\n",
        "5.  Привести все оставшиеся слова к их лемме"
      ],
      "metadata": {
        "id": "ThF8Dhu8VCr4"
      }
    },
    {
      "cell_type": "code",
      "source": [
        "df.data = df.data.str.lower().replace(r\"[^а-я]\", \" \", regex=True)\n",
        "df"
      ],
      "metadata": {
        "colab": {
          "base_uri": "https://localhost:8080/",
          "height": 424
        },
        "id": "iKqSOobZVflu",
        "outputId": "a8ff1bda-1747-4bf6-ad72-ecd5e7f2aea1"
      },
      "execution_count": null,
      "outputs": [
        {
          "output_type": "execute_result",
          "data": {
            "text/plain": [
              "        target                                               data\n",
              "0            0  были на экскурсии  я очень люблю производствен...\n",
              "1            1  часто ходим в это кафе  красивый интерьер  оче...\n",
              "2            1  вкусное мороженое  с кофе и яблочным пирогом с...\n",
              "3            1  хорошее мороженное  разнообразие выбора и вкус...\n",
              "4            0  ставлю одну звезду лишь за вкусное мороженое  ...\n",
              "...        ...                                                ...\n",
              "141593       0  заказали кальян  хотели посидеть расслабиться ...\n",
              "141594       0  персонал не вежливый  сказали все есть из меню...\n",
              "141595       0  зашли покурить кальян  попить чаю  заказали ка...\n",
              "141596       0  мне понравилось  быстро подошла официантка  бы...\n",
              "141597       0  классное каффе  мясные блюда на     алкоголь т...\n",
              "\n",
              "[141598 rows x 2 columns]"
            ],
            "text/html": [
              "\n",
              "  <div id=\"df-c2afd531-4746-44b4-9f3d-59d5229106b7\">\n",
              "    <div class=\"colab-df-container\">\n",
              "      <div>\n",
              "<style scoped>\n",
              "    .dataframe tbody tr th:only-of-type {\n",
              "        vertical-align: middle;\n",
              "    }\n",
              "\n",
              "    .dataframe tbody tr th {\n",
              "        vertical-align: top;\n",
              "    }\n",
              "\n",
              "    .dataframe thead th {\n",
              "        text-align: right;\n",
              "    }\n",
              "</style>\n",
              "<table border=\"1\" class=\"dataframe\">\n",
              "  <thead>\n",
              "    <tr style=\"text-align: right;\">\n",
              "      <th></th>\n",
              "      <th>target</th>\n",
              "      <th>data</th>\n",
              "    </tr>\n",
              "  </thead>\n",
              "  <tbody>\n",
              "    <tr>\n",
              "      <th>0</th>\n",
              "      <td>0</td>\n",
              "      <td>были на экскурсии  я очень люблю производствен...</td>\n",
              "    </tr>\n",
              "    <tr>\n",
              "      <th>1</th>\n",
              "      <td>1</td>\n",
              "      <td>часто ходим в это кафе  красивый интерьер  оче...</td>\n",
              "    </tr>\n",
              "    <tr>\n",
              "      <th>2</th>\n",
              "      <td>1</td>\n",
              "      <td>вкусное мороженое  с кофе и яблочным пирогом с...</td>\n",
              "    </tr>\n",
              "    <tr>\n",
              "      <th>3</th>\n",
              "      <td>1</td>\n",
              "      <td>хорошее мороженное  разнообразие выбора и вкус...</td>\n",
              "    </tr>\n",
              "    <tr>\n",
              "      <th>4</th>\n",
              "      <td>0</td>\n",
              "      <td>ставлю одну звезду лишь за вкусное мороженое  ...</td>\n",
              "    </tr>\n",
              "    <tr>\n",
              "      <th>...</th>\n",
              "      <td>...</td>\n",
              "      <td>...</td>\n",
              "    </tr>\n",
              "    <tr>\n",
              "      <th>141593</th>\n",
              "      <td>0</td>\n",
              "      <td>заказали кальян  хотели посидеть расслабиться ...</td>\n",
              "    </tr>\n",
              "    <tr>\n",
              "      <th>141594</th>\n",
              "      <td>0</td>\n",
              "      <td>персонал не вежливый  сказали все есть из меню...</td>\n",
              "    </tr>\n",
              "    <tr>\n",
              "      <th>141595</th>\n",
              "      <td>0</td>\n",
              "      <td>зашли покурить кальян  попить чаю  заказали ка...</td>\n",
              "    </tr>\n",
              "    <tr>\n",
              "      <th>141596</th>\n",
              "      <td>0</td>\n",
              "      <td>мне понравилось  быстро подошла официантка  бы...</td>\n",
              "    </tr>\n",
              "    <tr>\n",
              "      <th>141597</th>\n",
              "      <td>0</td>\n",
              "      <td>классное каффе  мясные блюда на     алкоголь т...</td>\n",
              "    </tr>\n",
              "  </tbody>\n",
              "</table>\n",
              "<p>141598 rows × 2 columns</p>\n",
              "</div>\n",
              "      <button class=\"colab-df-convert\" onclick=\"convertToInteractive('df-c2afd531-4746-44b4-9f3d-59d5229106b7')\"\n",
              "              title=\"Convert this dataframe to an interactive table.\"\n",
              "              style=\"display:none;\">\n",
              "        \n",
              "  <svg xmlns=\"http://www.w3.org/2000/svg\" height=\"24px\"viewBox=\"0 0 24 24\"\n",
              "       width=\"24px\">\n",
              "    <path d=\"M0 0h24v24H0V0z\" fill=\"none\"/>\n",
              "    <path d=\"M18.56 5.44l.94 2.06.94-2.06 2.06-.94-2.06-.94-.94-2.06-.94 2.06-2.06.94zm-11 1L8.5 8.5l.94-2.06 2.06-.94-2.06-.94L8.5 2.5l-.94 2.06-2.06.94zm10 10l.94 2.06.94-2.06 2.06-.94-2.06-.94-.94-2.06-.94 2.06-2.06.94z\"/><path d=\"M17.41 7.96l-1.37-1.37c-.4-.4-.92-.59-1.43-.59-.52 0-1.04.2-1.43.59L10.3 9.45l-7.72 7.72c-.78.78-.78 2.05 0 2.83L4 21.41c.39.39.9.59 1.41.59.51 0 1.02-.2 1.41-.59l7.78-7.78 2.81-2.81c.8-.78.8-2.07 0-2.86zM5.41 20L4 18.59l7.72-7.72 1.47 1.35L5.41 20z\"/>\n",
              "  </svg>\n",
              "      </button>\n",
              "      \n",
              "  <style>\n",
              "    .colab-df-container {\n",
              "      display:flex;\n",
              "      flex-wrap:wrap;\n",
              "      gap: 12px;\n",
              "    }\n",
              "\n",
              "    .colab-df-convert {\n",
              "      background-color: #E8F0FE;\n",
              "      border: none;\n",
              "      border-radius: 50%;\n",
              "      cursor: pointer;\n",
              "      display: none;\n",
              "      fill: #1967D2;\n",
              "      height: 32px;\n",
              "      padding: 0 0 0 0;\n",
              "      width: 32px;\n",
              "    }\n",
              "\n",
              "    .colab-df-convert:hover {\n",
              "      background-color: #E2EBFA;\n",
              "      box-shadow: 0px 1px 2px rgba(60, 64, 67, 0.3), 0px 1px 3px 1px rgba(60, 64, 67, 0.15);\n",
              "      fill: #174EA6;\n",
              "    }\n",
              "\n",
              "    [theme=dark] .colab-df-convert {\n",
              "      background-color: #3B4455;\n",
              "      fill: #D2E3FC;\n",
              "    }\n",
              "\n",
              "    [theme=dark] .colab-df-convert:hover {\n",
              "      background-color: #434B5C;\n",
              "      box-shadow: 0px 1px 3px 1px rgba(0, 0, 0, 0.15);\n",
              "      filter: drop-shadow(0px 1px 2px rgba(0, 0, 0, 0.3));\n",
              "      fill: #FFFFFF;\n",
              "    }\n",
              "  </style>\n",
              "\n",
              "      <script>\n",
              "        const buttonEl =\n",
              "          document.querySelector('#df-c2afd531-4746-44b4-9f3d-59d5229106b7 button.colab-df-convert');\n",
              "        buttonEl.style.display =\n",
              "          google.colab.kernel.accessAllowed ? 'block' : 'none';\n",
              "\n",
              "        async function convertToInteractive(key) {\n",
              "          const element = document.querySelector('#df-c2afd531-4746-44b4-9f3d-59d5229106b7');\n",
              "          const dataTable =\n",
              "            await google.colab.kernel.invokeFunction('convertToInteractive',\n",
              "                                                     [key], {});\n",
              "          if (!dataTable) return;\n",
              "\n",
              "          const docLinkHtml = 'Like what you see? Visit the ' +\n",
              "            '<a target=\"_blank\" href=https://colab.research.google.com/notebooks/data_table.ipynb>data table notebook</a>'\n",
              "            + ' to learn more about interactive tables.';\n",
              "          element.innerHTML = '';\n",
              "          dataTable['output_type'] = 'display_data';\n",
              "          await google.colab.output.renderOutput(dataTable, element);\n",
              "          const docLink = document.createElement('div');\n",
              "          docLink.innerHTML = docLinkHtml;\n",
              "          element.appendChild(docLink);\n",
              "        }\n",
              "      </script>\n",
              "    </div>\n",
              "  </div>\n",
              "  "
            ]
          },
          "metadata": {},
          "execution_count": 25
        }
      ]
    },
    {
      "cell_type": "code",
      "source": [
        "def lemmatize(words):\n",
        "  lemmatized_words = []\n",
        "  for word in word_tokenize(words):\n",
        "    if word not in stop_words:\n",
        "      parse = morph_analyzer.parse(word)[0]\n",
        "      if parse.is_known and parse.normal_form not in stop_words:\n",
        "        lemmatized_words.append(parse.normal_form)\n",
        "  return \" \".join(lemmatized_words)\n",
        "\n",
        "stop_words = stopwords.words('russian')\n",
        "morph_analyzer = MorphAnalyzer()\n",
        "\n",
        "df.data  = df.data.apply(lemmatize)\n",
        "lem_df = df.copy(deep=True)\n",
        "df"
      ],
      "metadata": {
        "colab": {
          "base_uri": "https://localhost:8080/",
          "height": 424
        },
        "id": "rKtMHcT0Y4SN",
        "outputId": "a01c6e95-35b1-436d-d142-0fe6a8fe1ef6"
      },
      "execution_count": null,
      "outputs": [
        {
          "output_type": "execute_result",
          "data": {
            "text/plain": [
              "        target                                               data\n",
              "0            0  экскурсия очень любить производственный экскур...\n",
              "1            1  часто ходить это кафе красивый интерьер очень ...\n",
              "2            1  вкусный мороженое кофе яблочный пирог мятый об...\n",
              "3            1  хороший мороженный разнообразие выбор вкус веж...\n",
              "4            0  ставить звезда лишь вкусный мороженое отсутств...\n",
              "...        ...                                                ...\n",
              "141593       0  заказать кальян хотеть посидеть расслабиться и...\n",
              "141594       0  персонал вежливый сказать меню весь выпечка ко...\n",
              "141595       0  заслать покурить кальян попить чай заказать ка...\n",
              "141596       0  понравиться быстро подойти официантка быстро п...\n",
              "141597       0  классный мясной блюдо алкоголь дорога морс клю...\n",
              "\n",
              "[141598 rows x 2 columns]"
            ],
            "text/html": [
              "\n",
              "  <div id=\"df-ad798fb8-99d0-4857-b3f8-dcaf84d8061a\">\n",
              "    <div class=\"colab-df-container\">\n",
              "      <div>\n",
              "<style scoped>\n",
              "    .dataframe tbody tr th:only-of-type {\n",
              "        vertical-align: middle;\n",
              "    }\n",
              "\n",
              "    .dataframe tbody tr th {\n",
              "        vertical-align: top;\n",
              "    }\n",
              "\n",
              "    .dataframe thead th {\n",
              "        text-align: right;\n",
              "    }\n",
              "</style>\n",
              "<table border=\"1\" class=\"dataframe\">\n",
              "  <thead>\n",
              "    <tr style=\"text-align: right;\">\n",
              "      <th></th>\n",
              "      <th>target</th>\n",
              "      <th>data</th>\n",
              "    </tr>\n",
              "  </thead>\n",
              "  <tbody>\n",
              "    <tr>\n",
              "      <th>0</th>\n",
              "      <td>0</td>\n",
              "      <td>экскурсия очень любить производственный экскур...</td>\n",
              "    </tr>\n",
              "    <tr>\n",
              "      <th>1</th>\n",
              "      <td>1</td>\n",
              "      <td>часто ходить это кафе красивый интерьер очень ...</td>\n",
              "    </tr>\n",
              "    <tr>\n",
              "      <th>2</th>\n",
              "      <td>1</td>\n",
              "      <td>вкусный мороженое кофе яблочный пирог мятый об...</td>\n",
              "    </tr>\n",
              "    <tr>\n",
              "      <th>3</th>\n",
              "      <td>1</td>\n",
              "      <td>хороший мороженный разнообразие выбор вкус веж...</td>\n",
              "    </tr>\n",
              "    <tr>\n",
              "      <th>4</th>\n",
              "      <td>0</td>\n",
              "      <td>ставить звезда лишь вкусный мороженое отсутств...</td>\n",
              "    </tr>\n",
              "    <tr>\n",
              "      <th>...</th>\n",
              "      <td>...</td>\n",
              "      <td>...</td>\n",
              "    </tr>\n",
              "    <tr>\n",
              "      <th>141593</th>\n",
              "      <td>0</td>\n",
              "      <td>заказать кальян хотеть посидеть расслабиться и...</td>\n",
              "    </tr>\n",
              "    <tr>\n",
              "      <th>141594</th>\n",
              "      <td>0</td>\n",
              "      <td>персонал вежливый сказать меню весь выпечка ко...</td>\n",
              "    </tr>\n",
              "    <tr>\n",
              "      <th>141595</th>\n",
              "      <td>0</td>\n",
              "      <td>заслать покурить кальян попить чай заказать ка...</td>\n",
              "    </tr>\n",
              "    <tr>\n",
              "      <th>141596</th>\n",
              "      <td>0</td>\n",
              "      <td>понравиться быстро подойти официантка быстро п...</td>\n",
              "    </tr>\n",
              "    <tr>\n",
              "      <th>141597</th>\n",
              "      <td>0</td>\n",
              "      <td>классный мясной блюдо алкоголь дорога морс клю...</td>\n",
              "    </tr>\n",
              "  </tbody>\n",
              "</table>\n",
              "<p>141598 rows × 2 columns</p>\n",
              "</div>\n",
              "      <button class=\"colab-df-convert\" onclick=\"convertToInteractive('df-ad798fb8-99d0-4857-b3f8-dcaf84d8061a')\"\n",
              "              title=\"Convert this dataframe to an interactive table.\"\n",
              "              style=\"display:none;\">\n",
              "        \n",
              "  <svg xmlns=\"http://www.w3.org/2000/svg\" height=\"24px\"viewBox=\"0 0 24 24\"\n",
              "       width=\"24px\">\n",
              "    <path d=\"M0 0h24v24H0V0z\" fill=\"none\"/>\n",
              "    <path d=\"M18.56 5.44l.94 2.06.94-2.06 2.06-.94-2.06-.94-.94-2.06-.94 2.06-2.06.94zm-11 1L8.5 8.5l.94-2.06 2.06-.94-2.06-.94L8.5 2.5l-.94 2.06-2.06.94zm10 10l.94 2.06.94-2.06 2.06-.94-2.06-.94-.94-2.06-.94 2.06-2.06.94z\"/><path d=\"M17.41 7.96l-1.37-1.37c-.4-.4-.92-.59-1.43-.59-.52 0-1.04.2-1.43.59L10.3 9.45l-7.72 7.72c-.78.78-.78 2.05 0 2.83L4 21.41c.39.39.9.59 1.41.59.51 0 1.02-.2 1.41-.59l7.78-7.78 2.81-2.81c.8-.78.8-2.07 0-2.86zM5.41 20L4 18.59l7.72-7.72 1.47 1.35L5.41 20z\"/>\n",
              "  </svg>\n",
              "      </button>\n",
              "      \n",
              "  <style>\n",
              "    .colab-df-container {\n",
              "      display:flex;\n",
              "      flex-wrap:wrap;\n",
              "      gap: 12px;\n",
              "    }\n",
              "\n",
              "    .colab-df-convert {\n",
              "      background-color: #E8F0FE;\n",
              "      border: none;\n",
              "      border-radius: 50%;\n",
              "      cursor: pointer;\n",
              "      display: none;\n",
              "      fill: #1967D2;\n",
              "      height: 32px;\n",
              "      padding: 0 0 0 0;\n",
              "      width: 32px;\n",
              "    }\n",
              "\n",
              "    .colab-df-convert:hover {\n",
              "      background-color: #E2EBFA;\n",
              "      box-shadow: 0px 1px 2px rgba(60, 64, 67, 0.3), 0px 1px 3px 1px rgba(60, 64, 67, 0.15);\n",
              "      fill: #174EA6;\n",
              "    }\n",
              "\n",
              "    [theme=dark] .colab-df-convert {\n",
              "      background-color: #3B4455;\n",
              "      fill: #D2E3FC;\n",
              "    }\n",
              "\n",
              "    [theme=dark] .colab-df-convert:hover {\n",
              "      background-color: #434B5C;\n",
              "      box-shadow: 0px 1px 3px 1px rgba(0, 0, 0, 0.15);\n",
              "      filter: drop-shadow(0px 1px 2px rgba(0, 0, 0, 0.3));\n",
              "      fill: #FFFFFF;\n",
              "    }\n",
              "  </style>\n",
              "\n",
              "      <script>\n",
              "        const buttonEl =\n",
              "          document.querySelector('#df-ad798fb8-99d0-4857-b3f8-dcaf84d8061a button.colab-df-convert');\n",
              "        buttonEl.style.display =\n",
              "          google.colab.kernel.accessAllowed ? 'block' : 'none';\n",
              "\n",
              "        async function convertToInteractive(key) {\n",
              "          const element = document.querySelector('#df-ad798fb8-99d0-4857-b3f8-dcaf84d8061a');\n",
              "          const dataTable =\n",
              "            await google.colab.kernel.invokeFunction('convertToInteractive',\n",
              "                                                     [key], {});\n",
              "          if (!dataTable) return;\n",
              "\n",
              "          const docLinkHtml = 'Like what you see? Visit the ' +\n",
              "            '<a target=\"_blank\" href=https://colab.research.google.com/notebooks/data_table.ipynb>data table notebook</a>'\n",
              "            + ' to learn more about interactive tables.';\n",
              "          element.innerHTML = '';\n",
              "          dataTable['output_type'] = 'display_data';\n",
              "          await google.colab.output.renderOutput(dataTable, element);\n",
              "          const docLink = document.createElement('div');\n",
              "          docLink.innerHTML = docLinkHtml;\n",
              "          element.appendChild(docLink);\n",
              "        }\n",
              "      </script>\n",
              "    </div>\n",
              "  </div>\n",
              "  "
            ]
          },
          "metadata": {},
          "execution_count": 26
        }
      ]
    },
    {
      "cell_type": "markdown",
      "source": [
        "Для векторизации текста необходимо:\n",
        "\n",
        "1.  Составить словарь вида токен: число, где токен - это уникальное слово или специальный тег: \\<PAD> - тег для отступа, \\<UNK> - тег для неизвестного токена\n",
        "\n",
        "2.  Вычислить длину наибольшего отзыва по количеству слов\n",
        "\n",
        "3.  Преобразовать каждое слово в отзыве в число с помощью словаря и дополнить его тегом \\<PAD> до нужной длины"
      ],
      "metadata": {
        "id": "NDM4AZdmd0bl"
      }
    },
    {
      "cell_type": "code",
      "source": [
        "words = ['<PAD>', '<UNK>'] + list(set(word for review in df.data for word in word_tokenize(review)))\n",
        "word2vec = defaultdict(lambda: 1, {word: i for i, word in enumerate(words)})\n",
        "longest_review = df.data.str.split().apply(len).max()"
      ],
      "metadata": {
        "id": "L4RMQVYWdzZb"
      },
      "execution_count": 32,
      "outputs": []
    },
    {
      "cell_type": "code",
      "source": [
        "longest_review, len(words)"
      ],
      "metadata": {
        "colab": {
          "base_uri": "https://localhost:8080/"
        },
        "id": "A6fsA5W6UZIq",
        "outputId": "7f324273-3b1f-4fbf-a04a-f01bea09f208"
      },
      "execution_count": 33,
      "outputs": [
        {
          "output_type": "execute_result",
          "data": {
            "text/plain": [
              "(742, 26343)"
            ]
          },
          "metadata": {},
          "execution_count": 33
        }
      ]
    },
    {
      "cell_type": "code",
      "source": [
        "def vectorize(review):\n",
        "  vector = [0] * longest_review\n",
        "  for i, word in enumerate(word_tokenize(review)):\n",
        "    vector[i] = word2vec[word]\n",
        "  return torch.tensor(vector, dtype=torch.long)"
      ],
      "metadata": {
        "id": "V2u6OWPdvmem"
      },
      "execution_count": 34,
      "outputs": []
    },
    {
      "cell_type": "code",
      "source": [
        "df.data = pd.Series(list(map(vectorize, df.data.to_list())))\n",
        "df"
      ],
      "metadata": {
        "colab": {
          "base_uri": "https://localhost:8080/",
          "height": 423
        },
        "id": "WOWw2EgQkiOf",
        "outputId": "b253deb2-786c-4246-97ed-22749864febd"
      },
      "execution_count": 35,
      "outputs": [
        {
          "output_type": "execute_result",
          "data": {
            "text/plain": [
              "        target                                               data\n",
              "0            0  [tensor(21641), tensor(25455), tensor(3264), t...\n",
              "1            1  [tensor(21736), tensor(6336), tensor(11060), t...\n",
              "2            1  [tensor(29), tensor(12829), tensor(5615), tens...\n",
              "3            1  [tensor(20701), tensor(8950), tensor(25289), t...\n",
              "4            0  [tensor(8300), tensor(21869), tensor(6141), te...\n",
              "...        ...                                                ...\n",
              "141254       0  [tensor(14613), tensor(5632), tensor(18920), t...\n",
              "141255       0  [tensor(17273), tensor(16581), tensor(12740), ...\n",
              "141256       0  [tensor(10811), tensor(11832), tensor(5632), t...\n",
              "141257       0  [tensor(21123), tensor(12922), tensor(2985), t...\n",
              "141258       0  [tensor(17107), tensor(11344), tensor(24657), ...\n",
              "\n",
              "[141259 rows x 2 columns]"
            ],
            "text/html": [
              "\n",
              "  <div id=\"df-c5519dc2-152b-461f-aa50-d226b749599f\">\n",
              "    <div class=\"colab-df-container\">\n",
              "      <div>\n",
              "<style scoped>\n",
              "    .dataframe tbody tr th:only-of-type {\n",
              "        vertical-align: middle;\n",
              "    }\n",
              "\n",
              "    .dataframe tbody tr th {\n",
              "        vertical-align: top;\n",
              "    }\n",
              "\n",
              "    .dataframe thead th {\n",
              "        text-align: right;\n",
              "    }\n",
              "</style>\n",
              "<table border=\"1\" class=\"dataframe\">\n",
              "  <thead>\n",
              "    <tr style=\"text-align: right;\">\n",
              "      <th></th>\n",
              "      <th>target</th>\n",
              "      <th>data</th>\n",
              "    </tr>\n",
              "  </thead>\n",
              "  <tbody>\n",
              "    <tr>\n",
              "      <th>0</th>\n",
              "      <td>0</td>\n",
              "      <td>[tensor(21641), tensor(25455), tensor(3264), t...</td>\n",
              "    </tr>\n",
              "    <tr>\n",
              "      <th>1</th>\n",
              "      <td>1</td>\n",
              "      <td>[tensor(21736), tensor(6336), tensor(11060), t...</td>\n",
              "    </tr>\n",
              "    <tr>\n",
              "      <th>2</th>\n",
              "      <td>1</td>\n",
              "      <td>[tensor(29), tensor(12829), tensor(5615), tens...</td>\n",
              "    </tr>\n",
              "    <tr>\n",
              "      <th>3</th>\n",
              "      <td>1</td>\n",
              "      <td>[tensor(20701), tensor(8950), tensor(25289), t...</td>\n",
              "    </tr>\n",
              "    <tr>\n",
              "      <th>4</th>\n",
              "      <td>0</td>\n",
              "      <td>[tensor(8300), tensor(21869), tensor(6141), te...</td>\n",
              "    </tr>\n",
              "    <tr>\n",
              "      <th>...</th>\n",
              "      <td>...</td>\n",
              "      <td>...</td>\n",
              "    </tr>\n",
              "    <tr>\n",
              "      <th>141254</th>\n",
              "      <td>0</td>\n",
              "      <td>[tensor(14613), tensor(5632), tensor(18920), t...</td>\n",
              "    </tr>\n",
              "    <tr>\n",
              "      <th>141255</th>\n",
              "      <td>0</td>\n",
              "      <td>[tensor(17273), tensor(16581), tensor(12740), ...</td>\n",
              "    </tr>\n",
              "    <tr>\n",
              "      <th>141256</th>\n",
              "      <td>0</td>\n",
              "      <td>[tensor(10811), tensor(11832), tensor(5632), t...</td>\n",
              "    </tr>\n",
              "    <tr>\n",
              "      <th>141257</th>\n",
              "      <td>0</td>\n",
              "      <td>[tensor(21123), tensor(12922), tensor(2985), t...</td>\n",
              "    </tr>\n",
              "    <tr>\n",
              "      <th>141258</th>\n",
              "      <td>0</td>\n",
              "      <td>[tensor(17107), tensor(11344), tensor(24657), ...</td>\n",
              "    </tr>\n",
              "  </tbody>\n",
              "</table>\n",
              "<p>141259 rows × 2 columns</p>\n",
              "</div>\n",
              "      <button class=\"colab-df-convert\" onclick=\"convertToInteractive('df-c5519dc2-152b-461f-aa50-d226b749599f')\"\n",
              "              title=\"Convert this dataframe to an interactive table.\"\n",
              "              style=\"display:none;\">\n",
              "        \n",
              "  <svg xmlns=\"http://www.w3.org/2000/svg\" height=\"24px\"viewBox=\"0 0 24 24\"\n",
              "       width=\"24px\">\n",
              "    <path d=\"M0 0h24v24H0V0z\" fill=\"none\"/>\n",
              "    <path d=\"M18.56 5.44l.94 2.06.94-2.06 2.06-.94-2.06-.94-.94-2.06-.94 2.06-2.06.94zm-11 1L8.5 8.5l.94-2.06 2.06-.94-2.06-.94L8.5 2.5l-.94 2.06-2.06.94zm10 10l.94 2.06.94-2.06 2.06-.94-2.06-.94-.94-2.06-.94 2.06-2.06.94z\"/><path d=\"M17.41 7.96l-1.37-1.37c-.4-.4-.92-.59-1.43-.59-.52 0-1.04.2-1.43.59L10.3 9.45l-7.72 7.72c-.78.78-.78 2.05 0 2.83L4 21.41c.39.39.9.59 1.41.59.51 0 1.02-.2 1.41-.59l7.78-7.78 2.81-2.81c.8-.78.8-2.07 0-2.86zM5.41 20L4 18.59l7.72-7.72 1.47 1.35L5.41 20z\"/>\n",
              "  </svg>\n",
              "      </button>\n",
              "      \n",
              "  <style>\n",
              "    .colab-df-container {\n",
              "      display:flex;\n",
              "      flex-wrap:wrap;\n",
              "      gap: 12px;\n",
              "    }\n",
              "\n",
              "    .colab-df-convert {\n",
              "      background-color: #E8F0FE;\n",
              "      border: none;\n",
              "      border-radius: 50%;\n",
              "      cursor: pointer;\n",
              "      display: none;\n",
              "      fill: #1967D2;\n",
              "      height: 32px;\n",
              "      padding: 0 0 0 0;\n",
              "      width: 32px;\n",
              "    }\n",
              "\n",
              "    .colab-df-convert:hover {\n",
              "      background-color: #E2EBFA;\n",
              "      box-shadow: 0px 1px 2px rgba(60, 64, 67, 0.3), 0px 1px 3px 1px rgba(60, 64, 67, 0.15);\n",
              "      fill: #174EA6;\n",
              "    }\n",
              "\n",
              "    [theme=dark] .colab-df-convert {\n",
              "      background-color: #3B4455;\n",
              "      fill: #D2E3FC;\n",
              "    }\n",
              "\n",
              "    [theme=dark] .colab-df-convert:hover {\n",
              "      background-color: #434B5C;\n",
              "      box-shadow: 0px 1px 3px 1px rgba(0, 0, 0, 0.15);\n",
              "      filter: drop-shadow(0px 1px 2px rgba(0, 0, 0, 0.3));\n",
              "      fill: #FFFFFF;\n",
              "    }\n",
              "  </style>\n",
              "\n",
              "      <script>\n",
              "        const buttonEl =\n",
              "          document.querySelector('#df-c5519dc2-152b-461f-aa50-d226b749599f button.colab-df-convert');\n",
              "        buttonEl.style.display =\n",
              "          google.colab.kernel.accessAllowed ? 'block' : 'none';\n",
              "\n",
              "        async function convertToInteractive(key) {\n",
              "          const element = document.querySelector('#df-c5519dc2-152b-461f-aa50-d226b749599f');\n",
              "          const dataTable =\n",
              "            await google.colab.kernel.invokeFunction('convertToInteractive',\n",
              "                                                     [key], {});\n",
              "          if (!dataTable) return;\n",
              "\n",
              "          const docLinkHtml = 'Like what you see? Visit the ' +\n",
              "            '<a target=\"_blank\" href=https://colab.research.google.com/notebooks/data_table.ipynb>data table notebook</a>'\n",
              "            + ' to learn more about interactive tables.';\n",
              "          element.innerHTML = '';\n",
              "          dataTable['output_type'] = 'display_data';\n",
              "          await google.colab.output.renderOutput(dataTable, element);\n",
              "          const docLink = document.createElement('div');\n",
              "          docLink.innerHTML = docLinkHtml;\n",
              "          element.appendChild(docLink);\n",
              "        }\n",
              "      </script>\n",
              "    </div>\n",
              "  </div>\n",
              "  "
            ]
          },
          "metadata": {},
          "execution_count": 35
        }
      ]
    },
    {
      "cell_type": "code",
      "source": [
        "train, test = train_test_split(df, test_size=0.2)\n",
        "train.shape, test.shape"
      ],
      "metadata": {
        "colab": {
          "base_uri": "https://localhost:8080/"
        },
        "id": "2mMn1JVApg5y",
        "outputId": "0f3c2bfa-7e0f-430a-cf10-e43f06ae8700"
      },
      "execution_count": 36,
      "outputs": [
        {
          "output_type": "execute_result",
          "data": {
            "text/plain": [
              "((113007, 2), (28252, 2))"
            ]
          },
          "metadata": {},
          "execution_count": 36
        }
      ]
    },
    {
      "cell_type": "code",
      "source": [
        "class CustomDataset(Dataset):\n",
        "\n",
        "  def __init__(self, X, y):\n",
        "    self.X = X\n",
        "    self.y = y\n",
        "\n",
        "  def __len__(self):\n",
        "    return len(self.X)\n",
        "\n",
        "  def __getitem__(self, index):\n",
        "     return self.X[index], self.y[index]"
      ],
      "metadata": {
        "id": "xry8BWggzsBM"
      },
      "execution_count": 37,
      "outputs": []
    },
    {
      "cell_type": "code",
      "source": [
        "trainset = CustomDataset(train.data.to_list(), train.target.to_list())\n",
        "testset = CustomDataset(test.data.to_list(), test.target.to_list())"
      ],
      "metadata": {
        "id": "gheVN6t0zYKr"
      },
      "execution_count": 38,
      "outputs": []
    },
    {
      "cell_type": "code",
      "source": [
        "trainloader = DataLoader(trainset, batch_size=ceil(len(train)/NUM_BATCHES), shuffle=True, drop_last=True)\n",
        "testloader = DataLoader(testset, batch_size=trainloader.batch_size, drop_last=True)"
      ],
      "metadata": {
        "id": "VNF7YL2Iprpk"
      },
      "execution_count": 39,
      "outputs": []
    },
    {
      "cell_type": "markdown",
      "source": [
        "# Создание и обучение моделей"
      ],
      "metadata": {
        "id": "I0n7am6Sn0gf"
      }
    },
    {
      "cell_type": "markdown",
      "source": [
        "Существуют несколько подходов к классификации текстов, в данной работе будут рассмотрены следующие:\n",
        "\n",
        "1.  Многослойный перцептрон.\n",
        "\n",
        "2.  Сверточная сеть.\n",
        "\n",
        "3.  Реккурентная сеть с долгой краткосрочной паматью."
      ],
      "metadata": {
        "id": "o_0r7DvgsjDJ"
      }
    },
    {
      "cell_type": "markdown",
      "source": [
        "## MLP"
      ],
      "metadata": {
        "id": "HtWRDwZe0WNa"
      }
    },
    {
      "cell_type": "code",
      "source": [
        "class MLP(nn.Module):\n",
        "\n",
        "    def __init__(self, num_embeddings: int, embedding_dim: int, out_features: int):\n",
        "        super(MLP, self).__init__()\n",
        "        self.embedding = nn.Embedding(num_embeddings=num_embeddings, embedding_dim=embedding_dim)\n",
        "        self.model = nn.Sequential(\n",
        "            nn.Dropout(),\n",
        "            nn.AdaptiveAvgPool1d(8),\n",
        "            nn.Flatten(1),\n",
        "            nn.Linear(embedding_dim * 8, 512),\n",
        "            nn.ReLU(),\n",
        "            nn.Dropout(),\n",
        "            nn.Linear(512, out_features),\n",
        "            nn.Sigmoid()\n",
        "        )\n",
        "\n",
        "    def forward(self, inputs):\n",
        "        inputs = self.embedding(inputs)\n",
        "        inputs = inputs.reshape(inputs.size(0), inputs.size(2), inputs.size(1))\n",
        "        return self.model(inputs).squeeze().to(torch.float)\n"
      ],
      "metadata": {
        "id": "VG-Ljcib0XJe"
      },
      "execution_count": 81,
      "outputs": []
    },
    {
      "cell_type": "code",
      "source": [
        "torch.cuda.empty_cache()\n",
        "mlp = MLP(\n",
        "        num_embeddings=len(word2vec),\n",
        "        embedding_dim=64,\n",
        "        out_features=1\n",
        ").to(DEVICE)\n",
        "loss_func = nn.BCELoss()\n",
        "optimizer = optim.Adam(mlp.parameters(), lr=0.001)\n",
        "mlp"
      ],
      "metadata": {
        "colab": {
          "base_uri": "https://localhost:8080/"
        },
        "outputId": "22893a8d-5d6b-45aa-e140-cfbb95c0a8c0",
        "id": "O8f5mED90XJf"
      },
      "execution_count": 82,
      "outputs": [
        {
          "output_type": "execute_result",
          "data": {
            "text/plain": [
              "MLP(\n",
              "  (embedding): Embedding(26343, 64)\n",
              "  (model): Sequential(\n",
              "    (0): Dropout(p=0.5, inplace=False)\n",
              "    (1): AdaptiveAvgPool1d(output_size=8)\n",
              "    (2): Flatten(start_dim=1, end_dim=-1)\n",
              "    (3): Linear(in_features=512, out_features=512, bias=True)\n",
              "    (4): ReLU()\n",
              "    (5): Dropout(p=0.5, inplace=False)\n",
              "    (6): Linear(in_features=512, out_features=1, bias=True)\n",
              "    (7): Sigmoid()\n",
              "  )\n",
              ")"
            ]
          },
          "metadata": {},
          "execution_count": 82
        }
      ]
    },
    {
      "cell_type": "code",
      "source": [
        "mlp.train()\n",
        "mlp_losses = []\n",
        "mlp_time = []\n",
        "for epoch in range(EPOCHS):\n",
        "  start = time.time()\n",
        "  losses_sum = 0\n",
        "  for X, y in trainloader:\n",
        "    optimizer.zero_grad()\n",
        "    X, y = X.to(torch.long).to(DEVICE), y.to(torch.float).to(DEVICE)\n",
        "    pred = mlp(X)\n",
        "    loss_val = loss_func(pred, y)\n",
        "    loss_val.backward()\n",
        "    losses_sum += loss_val.cpu().item()\n",
        "    optimizer.step()\n",
        "  mlp_time.append(time.time() - start)\n",
        "  mlp_losses.append(losses_sum / NUM_BATCHES)\n",
        "  print(f\"{epoch = }; loss = {mlp_losses[-1]}; time = {mlp_time[-1]}\")"
      ],
      "metadata": {
        "colab": {
          "base_uri": "https://localhost:8080/"
        },
        "outputId": "ba17420f-fc0e-4a62-e3ca-6cf42094c536",
        "id": "cwt7hKlw0XJf"
      },
      "execution_count": 83,
      "outputs": [
        {
          "output_type": "stream",
          "name": "stdout",
          "text": [
            "epoch = 0; loss = 0.6538938760757447; time = 3.1529276371002197\n",
            "epoch = 1; loss = 0.6401555925607681; time = 3.0440471172332764\n",
            "epoch = 2; loss = 0.6239594519138336; time = 3.144496202468872\n",
            "epoch = 3; loss = 0.6039146840572357; time = 2.953632354736328\n",
            "epoch = 4; loss = 0.5738534271717072; time = 3.051687240600586\n",
            "epoch = 5; loss = 0.5357314676046372; time = 2.9960432052612305\n",
            "epoch = 6; loss = 0.5027344852685929; time = 2.9532158374786377\n",
            "epoch = 7; loss = 0.47802773863077164; time = 2.93326997756958\n",
            "epoch = 8; loss = 0.45726158767938613; time = 2.9153201580047607\n",
            "epoch = 9; loss = 0.4428979054093361; time = 3.0455374717712402\n",
            "epoch = 10; loss = 0.4286944195628166; time = 2.9402525424957275\n",
            "epoch = 11; loss = 0.417801171541214; time = 2.916053295135498\n",
            "epoch = 12; loss = 0.4085328206419945; time = 2.904872179031372\n",
            "epoch = 13; loss = 0.39969653338193895; time = 2.970712661743164\n",
            "epoch = 14; loss = 0.3886817008256912; time = 2.9993226528167725\n",
            "epoch = 15; loss = 0.383426833152771; time = 2.890211343765259\n",
            "epoch = 16; loss = 0.3790672466158867; time = 2.8915607929229736\n",
            "epoch = 17; loss = 0.37259152829647063; time = 2.909069061279297\n",
            "epoch = 18; loss = 0.3680259630084038; time = 3.057044744491577\n",
            "epoch = 19; loss = 0.36459997594356536; time = 2.905747652053833\n",
            "epoch = 20; loss = 0.3613296225667; time = 2.8952486515045166\n",
            "epoch = 21; loss = 0.3553960248827934; time = 2.917562961578369\n",
            "epoch = 22; loss = 0.3513739764690399; time = 3.2521233558654785\n",
            "epoch = 23; loss = 0.35062257945537567; time = 2.9604766368865967\n",
            "epoch = 24; loss = 0.3461348846554756; time = 2.901257038116455\n",
            "epoch = 25; loss = 0.34434369653463365; time = 2.9114105701446533\n",
            "epoch = 26; loss = 0.3414238214492798; time = 2.923048496246338\n",
            "epoch = 27; loss = 0.3382485002279282; time = 3.0950963497161865\n",
            "epoch = 28; loss = 0.33472348004579544; time = 2.9179744720458984\n",
            "epoch = 29; loss = 0.33526823222637175; time = 2.9296505451202393\n",
            "epoch = 30; loss = 0.3315374881029129; time = 2.926805257797241\n",
            "epoch = 31; loss = 0.32956075519323347; time = 3.0508806705474854\n",
            "epoch = 32; loss = 0.3285038471221924; time = 2.9684805870056152\n",
            "epoch = 33; loss = 0.3257425546646118; time = 2.933997392654419\n",
            "epoch = 34; loss = 0.3246912658214569; time = 2.920309543609619\n",
            "epoch = 35; loss = 0.3234791040420532; time = 2.917795181274414\n",
            "epoch = 36; loss = 0.3208603382110596; time = 3.048640251159668\n",
            "epoch = 37; loss = 0.31855604350566863; time = 2.9144206047058105\n",
            "epoch = 38; loss = 0.3192251116037369; time = 2.9326658248901367\n",
            "epoch = 39; loss = 0.3157366573810577; time = 2.920193910598755\n",
            "epoch = 40; loss = 0.3168298706412315; time = 2.9858267307281494\n",
            "epoch = 41; loss = 0.3142226949334145; time = 3.0213608741760254\n",
            "epoch = 42; loss = 0.3126517951488495; time = 2.9048683643341064\n",
            "epoch = 43; loss = 0.31152572184801103; time = 3.1353907585144043\n",
            "epoch = 44; loss = 0.3102081879973412; time = 3.0259344577789307\n",
            "epoch = 45; loss = 0.3091750830411911; time = 2.979048728942871\n",
            "epoch = 46; loss = 0.30829330533742905; time = 2.903219699859619\n",
            "epoch = 47; loss = 0.3055624797940254; time = 2.908538579940796\n",
            "epoch = 48; loss = 0.305203503370285; time = 2.917527914047241\n",
            "epoch = 49; loss = 0.30399847626686094; time = 3.0507233142852783\n"
          ]
        }
      ]
    },
    {
      "cell_type": "code",
      "source": [
        "mlp.eval()\n",
        "mlp_correct_pred = 0\n",
        "mlp_preds = []\n",
        "with torch.no_grad():\n",
        "  for X, y in testloader:\n",
        "    X, y = X.to(torch.long).to(DEVICE), y.to(torch.float).to(DEVICE)\n",
        "    pred = mlp(X).round()\n",
        "    mlp_preds.append(pred.cpu())\n",
        "    mlp_correct_pred += (pred == y).type(torch.float).sum().item()"
      ],
      "metadata": {
        "id": "35hcPNRR0XJf"
      },
      "execution_count": 84,
      "outputs": []
    },
    {
      "cell_type": "markdown",
      "source": [
        "## CNN"
      ],
      "metadata": {
        "id": "caeVM83qt64O"
      }
    },
    {
      "cell_type": "code",
      "source": [
        "class CNN(nn.Module):\n",
        "\n",
        "    def __init__(self, num_embeddings: int, embedding_dim: int, out_features: int):\n",
        "        super(CNN, self).__init__()\n",
        "        self.embedding = nn.Embedding(num_embeddings=num_embeddings, embedding_dim=embedding_dim)\n",
        "        self.model = nn.Sequential(\n",
        "            nn.Dropout(),\n",
        "            nn.Conv1d(in_channels=embedding_dim, out_channels=128, kernel_size=2),\n",
        "            nn.BatchNorm1d(num_features=128),\n",
        "            nn.ReLU(),\n",
        "            nn.MaxPool1d(kernel_size=2),\n",
        "            nn.AdaptiveAvgPool1d(8),\n",
        "            nn.Flatten(1),\n",
        "            nn.Linear(128 * 8, 512),\n",
        "            nn.ReLU(),\n",
        "            nn.Dropout(),\n",
        "            nn.Linear(512, out_features),\n",
        "            nn.Sigmoid()\n",
        "        )\n",
        "\n",
        "    def forward(self, inputs):\n",
        "        inputs = self.embedding(inputs)\n",
        "        inputs = inputs.reshape(inputs.size(0), inputs.size(2), inputs.size(1))\n",
        "        return self.model(inputs).squeeze().to(torch.float)\n"
      ],
      "metadata": {
        "id": "rKoJvt6PfmP6"
      },
      "execution_count": 85,
      "outputs": []
    },
    {
      "cell_type": "code",
      "source": [
        "torch.cuda.empty_cache()\n",
        "cnn = CNN(\n",
        "        num_embeddings=len(word2vec),\n",
        "        embedding_dim=64,\n",
        "        out_features=1\n",
        ").to(DEVICE)\n",
        "loss_func = nn.BCELoss()\n",
        "optimizer = optim.Adam(cnn.parameters(), lr=0.001)\n",
        "cnn"
      ],
      "metadata": {
        "colab": {
          "base_uri": "https://localhost:8080/"
        },
        "id": "Iuout2z2frgY",
        "outputId": "f3db502e-6325-4ea7-bfb6-6eb38dfe04be"
      },
      "execution_count": 87,
      "outputs": [
        {
          "output_type": "execute_result",
          "data": {
            "text/plain": [
              "CNN(\n",
              "  (embedding): Embedding(26343, 64)\n",
              "  (model): Sequential(\n",
              "    (0): Dropout(p=0.5, inplace=False)\n",
              "    (1): Conv1d(64, 128, kernel_size=(2,), stride=(1,))\n",
              "    (2): BatchNorm1d(128, eps=1e-05, momentum=0.1, affine=True, track_running_stats=True)\n",
              "    (3): ReLU()\n",
              "    (4): MaxPool1d(kernel_size=2, stride=2, padding=0, dilation=1, ceil_mode=False)\n",
              "    (5): AdaptiveAvgPool1d(output_size=8)\n",
              "    (6): Flatten(start_dim=1, end_dim=-1)\n",
              "    (7): Linear(in_features=1024, out_features=512, bias=True)\n",
              "    (8): ReLU()\n",
              "    (9): Dropout(p=0.5, inplace=False)\n",
              "    (10): Linear(in_features=512, out_features=1, bias=True)\n",
              "    (11): Sigmoid()\n",
              "  )\n",
              ")"
            ]
          },
          "metadata": {},
          "execution_count": 87
        }
      ]
    },
    {
      "cell_type": "code",
      "source": [
        "cnn.train()\n",
        "cnn_losses = []\n",
        "cnn_time = []\n",
        "for epoch in range(EPOCHS):\n",
        "  start = time.time()\n",
        "  losses_sum = 0\n",
        "  for X, y in trainloader:\n",
        "    optimizer.zero_grad()\n",
        "    X, y = X.to(torch.long).to(DEVICE), y.to(torch.float).to(DEVICE)\n",
        "    pred = cnn(X)\n",
        "    loss_val = loss_func(pred, y)\n",
        "    loss_val.backward()\n",
        "    losses_sum += loss_val.cpu().item()\n",
        "    optimizer.step()\n",
        "  cnn_time.append(time.time() - start)\n",
        "  cnn_losses.append(losses_sum / NUM_BATCHES)\n",
        "  print(f\"{epoch = }; loss = {cnn_losses[-1]}; time = {cnn_time[-1]}\")"
      ],
      "metadata": {
        "colab": {
          "base_uri": "https://localhost:8080/"
        },
        "id": "hQl5CJO3f9L5",
        "outputId": "a6c04cc7-06fa-4b09-ff69-6cb192ec7fdb"
      },
      "execution_count": 88,
      "outputs": [
        {
          "output_type": "stream",
          "name": "stdout",
          "text": [
            "epoch = 0; loss = 0.7407673746347427; time = 10.837454795837402\n",
            "epoch = 1; loss = 0.6587369561195373; time = 10.80471134185791\n",
            "epoch = 2; loss = 0.6567396998405457; time = 10.881208896636963\n",
            "epoch = 3; loss = 0.6562427967786789; time = 10.648769617080688\n",
            "epoch = 4; loss = 0.6559090048074723; time = 10.618218421936035\n",
            "epoch = 5; loss = 0.6550338923931122; time = 10.59866213798523\n",
            "epoch = 6; loss = 0.6525653928518296; time = 10.694139957427979\n",
            "epoch = 7; loss = 0.6445324629545212; time = 10.698091745376587\n",
            "epoch = 8; loss = 0.6305309206247329; time = 10.653876304626465\n",
            "epoch = 9; loss = 0.5991111308336258; time = 10.697305679321289\n",
            "epoch = 10; loss = 0.5307719975709915; time = 10.625916719436646\n",
            "epoch = 11; loss = 0.4698692440986633; time = 10.713754892349243\n",
            "epoch = 12; loss = 0.4364227667450905; time = 10.849587678909302\n",
            "epoch = 13; loss = 0.4133502423763275; time = 10.631300449371338\n",
            "epoch = 14; loss = 0.4019493222236633; time = 10.703544616699219\n",
            "epoch = 15; loss = 0.389000141620636; time = 10.640755414962769\n",
            "epoch = 16; loss = 0.38173899203538897; time = 10.62974214553833\n",
            "epoch = 17; loss = 0.37242821007967; time = 10.663138389587402\n",
            "epoch = 18; loss = 0.36785604655742643; time = 10.646751642227173\n",
            "epoch = 19; loss = 0.3627600625157356; time = 10.614978551864624\n",
            "epoch = 20; loss = 0.3588998094201088; time = 10.628887176513672\n",
            "epoch = 21; loss = 0.35592749118804934; time = 10.637931823730469\n",
            "epoch = 22; loss = 0.3520281299948692; time = 10.63891053199768\n",
            "epoch = 23; loss = 0.3479181170463562; time = 10.698593378067017\n",
            "epoch = 24; loss = 0.344130203127861; time = 10.616436243057251\n",
            "epoch = 25; loss = 0.3437308117747307; time = 10.616703510284424\n",
            "epoch = 26; loss = 0.3412170007824898; time = 10.626432418823242\n",
            "epoch = 27; loss = 0.336887514591217; time = 10.731136560440063\n",
            "epoch = 28; loss = 0.3347682937979698; time = 10.624865770339966\n",
            "epoch = 29; loss = 0.33313563764095305; time = 10.614227056503296\n",
            "epoch = 30; loss = 0.3306112751364708; time = 10.63768458366394\n",
            "epoch = 31; loss = 0.3278827428817749; time = 10.730153322219849\n",
            "epoch = 32; loss = 0.32561219930648805; time = 10.916156530380249\n",
            "epoch = 33; loss = 0.3257588431239128; time = 10.402780771255493\n",
            "epoch = 34; loss = 0.3240354791283607; time = 10.86991024017334\n",
            "epoch = 35; loss = 0.32183710783720015; time = 10.700008869171143\n",
            "epoch = 36; loss = 0.32187206894159315; time = 10.632509708404541\n",
            "epoch = 37; loss = 0.3172189548611641; time = 10.632237434387207\n",
            "epoch = 38; loss = 0.3182464599609375; time = 10.632073163986206\n",
            "epoch = 39; loss = 0.31432625353336335; time = 10.699311256408691\n",
            "epoch = 40; loss = 0.31482695788145065; time = 10.641396284103394\n",
            "epoch = 41; loss = 0.31372367292642594; time = 10.623645782470703\n",
            "epoch = 42; loss = 0.3116873726248741; time = 10.61725401878357\n",
            "epoch = 43; loss = 0.3094712719321251; time = 10.69225287437439\n",
            "epoch = 44; loss = 0.3083132266998291; time = 10.618361711502075\n",
            "epoch = 45; loss = 0.30696574300527574; time = 10.621872186660767\n",
            "epoch = 46; loss = 0.3055479869246483; time = 10.621328592300415\n",
            "epoch = 47; loss = 0.30631331354379654; time = 10.639687061309814\n",
            "epoch = 48; loss = 0.3049153506755829; time = 10.657055377960205\n",
            "epoch = 49; loss = 0.30411362648010254; time = 10.633256196975708\n"
          ]
        }
      ]
    },
    {
      "cell_type": "code",
      "source": [
        "cnn.eval()\n",
        "cnn_correct_pred = 0\n",
        "cnn_preds = []\n",
        "with torch.no_grad():\n",
        "  for X, y in testloader:\n",
        "    X, y = X.to(torch.long).to(DEVICE), y.to(torch.float).to(DEVICE)\n",
        "    pred = cnn(X).round()\n",
        "    cnn_preds.append(pred.cpu())\n",
        "    cnn_correct_pred += (pred == y).type(torch.float).sum().item()"
      ],
      "metadata": {
        "id": "3APnSyGmzU4g"
      },
      "execution_count": 89,
      "outputs": []
    },
    {
      "cell_type": "markdown",
      "source": [
        "## LSTM"
      ],
      "metadata": {
        "id": "VDijDAkk1YzF"
      }
    },
    {
      "cell_type": "code",
      "source": [
        "class LSTM(nn.Module):\n",
        "\n",
        "    def __init__(self, num_embeddings: int, embedding_dim: int, hidden_dim: int, vector_size: int, layers: int, out_features: int):\n",
        "        super(LSTM, self).__init__()\n",
        "        self.embedding = nn.Embedding(num_embeddings, hidden_dim)\n",
        "        self.lstm = nn.LSTM(hidden_dim, hidden_dim, layers, batch_first=True)\n",
        "        self.h = None\n",
        "        self.c = None\n",
        "        self.model = nn.Sequential(\n",
        "            nn.Flatten(1),\n",
        "            nn.Linear(hidden_dim * vector_size, 256),\n",
        "            nn.ReLU(),\n",
        "            nn.Dropout(),\n",
        "            nn.Linear(256, out_features),\n",
        "            nn.Sigmoid()\n",
        "        )\n",
        "\n",
        "\n",
        "    def forward(self, inputs):\n",
        "        if self.h is not None and self.c is not None:\n",
        "          hc = self.h, self.c\n",
        "        else:\n",
        "          hc = None\n",
        "        out = self.embedding(inputs)\n",
        "        out, (h, c) = self.lstm(out, (hc))\n",
        "        self.h = h.detach()\n",
        "        self.c = c.detach()\n",
        "        out = self.model(out)\n",
        "        return out.squeeze().to(torch.float)\n"
      ],
      "metadata": {
        "id": "GID7nPya2ORo"
      },
      "execution_count": 90,
      "outputs": []
    },
    {
      "cell_type": "code",
      "source": [
        "torch.cuda.empty_cache()\n",
        "lstm = LSTM(\n",
        "        num_embeddings=len(word2vec),\n",
        "        embedding_dim=64,\n",
        "        hidden_dim=8,\n",
        "        vector_size=longest_review,\n",
        "        layers=2,\n",
        "        out_features=1\n",
        ").to(DEVICE)\n",
        "loss_func = nn.BCELoss()\n",
        "optimizer = optim.Adam(lstm.parameters(), lr=0.001)\n",
        "lstm"
      ],
      "metadata": {
        "colab": {
          "base_uri": "https://localhost:8080/"
        },
        "outputId": "7b4885bb-31fd-4015-fdaa-32d75ab8bf1c",
        "id": "zRHDTCxJ2ORp"
      },
      "execution_count": 92,
      "outputs": [
        {
          "output_type": "execute_result",
          "data": {
            "text/plain": [
              "LSTM(\n",
              "  (embedding): Embedding(26343, 8)\n",
              "  (lstm): LSTM(8, 8, num_layers=2, batch_first=True)\n",
              "  (model): Sequential(\n",
              "    (0): Flatten(start_dim=1, end_dim=-1)\n",
              "    (1): Linear(in_features=5936, out_features=256, bias=True)\n",
              "    (2): ReLU()\n",
              "    (3): Dropout(p=0.5, inplace=False)\n",
              "    (4): Linear(in_features=256, out_features=1, bias=True)\n",
              "    (5): Sigmoid()\n",
              "  )\n",
              ")"
            ]
          },
          "metadata": {},
          "execution_count": 92
        }
      ]
    },
    {
      "cell_type": "code",
      "source": [
        "lstm.train()\n",
        "lstm_losses = []\n",
        "lstm_time = []\n",
        "for epoch in range(EPOCHS):\n",
        "  start = time.time()\n",
        "  losses_sum = 0\n",
        "  for X, y in trainloader:\n",
        "    optimizer.zero_grad()\n",
        "    X, y = X.to(torch.long).to(DEVICE), y.to(torch.float).to(DEVICE)\n",
        "    pred = lstm(X)\n",
        "    loss_val = loss_func(pred, y)\n",
        "    loss_val.backward()\n",
        "    losses_sum += loss_val.cpu().item()\n",
        "    optimizer.step()\n",
        "  lstm_time.append(time.time() - start)\n",
        "  lstm_losses.append(losses_sum / NUM_BATCHES)\n",
        "  print(f\"{epoch = }; loss = {lstm_losses[-1]}; time = {lstm_time[-1]}\")"
      ],
      "metadata": {
        "colab": {
          "base_uri": "https://localhost:8080/"
        },
        "outputId": "1ea62283-0a18-4219-c5e5-3a186db70fd4",
        "id": "LKBZhxe82ORq"
      },
      "execution_count": 93,
      "outputs": [
        {
          "output_type": "stream",
          "name": "stdout",
          "text": [
            "epoch = 0; loss = 0.6764530956745147; time = 4.648126125335693\n",
            "epoch = 1; loss = 0.6567416697740555; time = 4.473607778549194\n",
            "epoch = 2; loss = 0.6544009625911713; time = 4.499146223068237\n",
            "epoch = 3; loss = 0.6475336968898773; time = 4.562485218048096\n",
            "epoch = 4; loss = 0.6332640051841736; time = 4.564523935317993\n",
            "epoch = 5; loss = 0.6202746897935867; time = 4.620403289794922\n",
            "epoch = 6; loss = 0.5940916210412979; time = 4.715224266052246\n",
            "epoch = 7; loss = 0.5508635997772217; time = 4.61276650428772\n",
            "epoch = 8; loss = 0.5200431734323502; time = 4.588332891464233\n",
            "epoch = 9; loss = 0.49220157265663145; time = 4.618497610092163\n",
            "epoch = 10; loss = 0.4702621713280678; time = 4.557374477386475\n",
            "epoch = 11; loss = 0.45056323111057284; time = 4.542475461959839\n",
            "epoch = 12; loss = 0.4363604709506035; time = 4.550215482711792\n",
            "epoch = 13; loss = 0.42424529045820236; time = 4.515284061431885\n",
            "epoch = 14; loss = 0.4159305065870285; time = 4.554821014404297\n",
            "epoch = 15; loss = 0.4076408386230469; time = 5.160470962524414\n",
            "epoch = 16; loss = 0.3959275335073471; time = 4.50627875328064\n",
            "epoch = 17; loss = 0.3887159377336502; time = 4.6835925579071045\n",
            "epoch = 18; loss = 0.37949145436286924; time = 5.487371921539307\n",
            "epoch = 19; loss = 0.37547790706157685; time = 4.535832643508911\n",
            "epoch = 20; loss = 0.36710888892412186; time = 4.884749412536621\n",
            "epoch = 21; loss = 0.3641574442386627; time = 4.597423553466797\n",
            "epoch = 22; loss = 0.3586446851491928; time = 4.599552392959595\n",
            "epoch = 23; loss = 0.35202747732400896; time = 4.656789541244507\n",
            "epoch = 24; loss = 0.3476783350110054; time = 4.583451271057129\n",
            "epoch = 25; loss = 0.34311987906694413; time = 4.589369058609009\n",
            "epoch = 26; loss = 0.33919449150562286; time = 4.627326250076294\n",
            "epoch = 27; loss = 0.33602786213159563; time = 4.54883337020874\n",
            "epoch = 28; loss = 0.33455630093812944; time = 4.552116870880127\n",
            "epoch = 29; loss = 0.32835783064365387; time = 4.596006870269775\n",
            "epoch = 30; loss = 0.32455539256334304; time = 4.541694164276123\n",
            "epoch = 31; loss = 0.3223424836993217; time = 4.561036825180054\n",
            "epoch = 32; loss = 0.3194024905562401; time = 4.600943088531494\n",
            "epoch = 33; loss = 0.31745058596134185; time = 4.529876708984375\n",
            "epoch = 34; loss = 0.34627090990543363; time = 4.587378025054932\n",
            "epoch = 35; loss = 0.3298696532845497; time = 4.645984411239624\n",
            "epoch = 36; loss = 0.31455239951610564; time = 4.556756258010864\n",
            "epoch = 37; loss = 0.31028079986572266; time = 4.642350912094116\n",
            "epoch = 38; loss = 0.306887187063694; time = 4.650726079940796\n",
            "epoch = 39; loss = 0.30294026136398317; time = 4.574639320373535\n",
            "epoch = 40; loss = 0.3031104415655136; time = 4.599278688430786\n",
            "epoch = 41; loss = 0.2992231085896492; time = 4.627222776412964\n",
            "epoch = 42; loss = 0.2980658322572708; time = 4.8022620677948\n",
            "epoch = 43; loss = 0.29651499539613724; time = 4.678137540817261\n",
            "epoch = 44; loss = 0.29261982887983323; time = 4.578357934951782\n",
            "epoch = 45; loss = 0.29267759919166564; time = 4.5618414878845215\n",
            "epoch = 46; loss = 0.2902613624930382; time = 4.683533668518066\n",
            "epoch = 47; loss = 0.2865191623568535; time = 4.547852277755737\n",
            "epoch = 48; loss = 0.2861294120550156; time = 4.56176233291626\n",
            "epoch = 49; loss = 0.283546493947506; time = 4.637789487838745\n"
          ]
        }
      ]
    },
    {
      "cell_type": "code",
      "source": [
        "lstm.eval()\n",
        "lstm_correct_pred = 0\n",
        "lstm_preds = []\n",
        "with torch.no_grad():\n",
        "  for X, y in testloader:\n",
        "    X, y = X.to(torch.long).to(DEVICE), y.to(torch.float).to(DEVICE)\n",
        "    pred = lstm(X).round()\n",
        "    lstm_preds.append(pred.cpu())\n",
        "    lstm_correct_pred += (pred == y).type(torch.float).sum().item()"
      ],
      "metadata": {
        "id": "wCi6XvBP2ORq"
      },
      "execution_count": 94,
      "outputs": []
    },
    {
      "cell_type": "markdown",
      "source": [
        "# Сравнение эффективностей моделей"
      ],
      "metadata": {
        "id": "AVy2kbZKU06g"
      }
    },
    {
      "cell_type": "code",
      "source": [
        "labels = ['mlp', 'cnn', 'lstm']\n",
        "losses = [mlp_losses, cnn_losses, lstm_losses]\n",
        "preds = [torch.cat(mlp_preds), torch.cat(cnn_preds), torch.cat(lstm_preds)]\n",
        "correct_preds = [mlp_correct_pred, cnn_correct_pred, lstm_correct_pred]\n",
        "times = [mlp_time, cnn_time, lstm_time]\n",
        "colors = ['r', 'g', 'b']\n",
        "comparison_chart = pd.DataFrame([], columns=['Test accuracy', 'F1 Weighted', 'F1 Macro', 'F1 Micro', 'Average Time'], index=labels)\n",
        "for i in range(3):\n",
        "  plt.plot(range(len(losses[i])), losses[i], c=colors[i], label=labels[i])\n",
        "  comparison_chart.iloc[i, :] = [\n",
        "      correct_preds[i] / len(testset.y),\n",
        "      f1_score(testset.y[:preds[i].size()[0]], preds[i], average=\"weighted\"),\n",
        "      f1_score(testset.y[:preds[i].size()[0]], preds[i], average=\"macro\"),\n",
        "      f1_score(testset.y[:preds[i].size()[0]], preds[i], average=\"micro\"),\n",
        "      sum(times[i]) / len(times[i])\n",
        "  ]\n",
        "\n",
        "plt.legend()\n",
        "\n",
        "comparison_chart"
      ],
      "metadata": {
        "colab": {
          "base_uri": "https://localhost:8080/",
          "height": 556
        },
        "id": "YvnHLArSU-pk",
        "outputId": "94e0929d-9839-427c-fa5a-e3e34e6c63b0"
      },
      "execution_count": 97,
      "outputs": [
        {
          "output_type": "execute_result",
          "data": {
            "text/plain": [
              "     Test accuracy F1 Weighted  F1 Macro  F1 Micro Average Time\n",
              "mlp       0.691278    0.864185  0.863801  0.864006      2.97291\n",
              "cnn       0.679279    0.848845  0.848985  0.849009    10.670099\n",
              "lstm      0.688659    0.860888  0.860374  0.860733     4.628037"
            ],
            "text/html": [
              "\n",
              "  <div id=\"df-53b8dbd7-f006-49fb-99f4-841c507666d6\">\n",
              "    <div class=\"colab-df-container\">\n",
              "      <div>\n",
              "<style scoped>\n",
              "    .dataframe tbody tr th:only-of-type {\n",
              "        vertical-align: middle;\n",
              "    }\n",
              "\n",
              "    .dataframe tbody tr th {\n",
              "        vertical-align: top;\n",
              "    }\n",
              "\n",
              "    .dataframe thead th {\n",
              "        text-align: right;\n",
              "    }\n",
              "</style>\n",
              "<table border=\"1\" class=\"dataframe\">\n",
              "  <thead>\n",
              "    <tr style=\"text-align: right;\">\n",
              "      <th></th>\n",
              "      <th>Test accuracy</th>\n",
              "      <th>F1 Weighted</th>\n",
              "      <th>F1 Macro</th>\n",
              "      <th>F1 Micro</th>\n",
              "      <th>Average Time</th>\n",
              "    </tr>\n",
              "  </thead>\n",
              "  <tbody>\n",
              "    <tr>\n",
              "      <th>mlp</th>\n",
              "      <td>0.691278</td>\n",
              "      <td>0.864185</td>\n",
              "      <td>0.863801</td>\n",
              "      <td>0.864006</td>\n",
              "      <td>2.97291</td>\n",
              "    </tr>\n",
              "    <tr>\n",
              "      <th>cnn</th>\n",
              "      <td>0.679279</td>\n",
              "      <td>0.848845</td>\n",
              "      <td>0.848985</td>\n",
              "      <td>0.849009</td>\n",
              "      <td>10.670099</td>\n",
              "    </tr>\n",
              "    <tr>\n",
              "      <th>lstm</th>\n",
              "      <td>0.688659</td>\n",
              "      <td>0.860888</td>\n",
              "      <td>0.860374</td>\n",
              "      <td>0.860733</td>\n",
              "      <td>4.628037</td>\n",
              "    </tr>\n",
              "  </tbody>\n",
              "</table>\n",
              "</div>\n",
              "      <button class=\"colab-df-convert\" onclick=\"convertToInteractive('df-53b8dbd7-f006-49fb-99f4-841c507666d6')\"\n",
              "              title=\"Convert this dataframe to an interactive table.\"\n",
              "              style=\"display:none;\">\n",
              "        \n",
              "  <svg xmlns=\"http://www.w3.org/2000/svg\" height=\"24px\"viewBox=\"0 0 24 24\"\n",
              "       width=\"24px\">\n",
              "    <path d=\"M0 0h24v24H0V0z\" fill=\"none\"/>\n",
              "    <path d=\"M18.56 5.44l.94 2.06.94-2.06 2.06-.94-2.06-.94-.94-2.06-.94 2.06-2.06.94zm-11 1L8.5 8.5l.94-2.06 2.06-.94-2.06-.94L8.5 2.5l-.94 2.06-2.06.94zm10 10l.94 2.06.94-2.06 2.06-.94-2.06-.94-.94-2.06-.94 2.06-2.06.94z\"/><path d=\"M17.41 7.96l-1.37-1.37c-.4-.4-.92-.59-1.43-.59-.52 0-1.04.2-1.43.59L10.3 9.45l-7.72 7.72c-.78.78-.78 2.05 0 2.83L4 21.41c.39.39.9.59 1.41.59.51 0 1.02-.2 1.41-.59l7.78-7.78 2.81-2.81c.8-.78.8-2.07 0-2.86zM5.41 20L4 18.59l7.72-7.72 1.47 1.35L5.41 20z\"/>\n",
              "  </svg>\n",
              "      </button>\n",
              "      \n",
              "  <style>\n",
              "    .colab-df-container {\n",
              "      display:flex;\n",
              "      flex-wrap:wrap;\n",
              "      gap: 12px;\n",
              "    }\n",
              "\n",
              "    .colab-df-convert {\n",
              "      background-color: #E8F0FE;\n",
              "      border: none;\n",
              "      border-radius: 50%;\n",
              "      cursor: pointer;\n",
              "      display: none;\n",
              "      fill: #1967D2;\n",
              "      height: 32px;\n",
              "      padding: 0 0 0 0;\n",
              "      width: 32px;\n",
              "    }\n",
              "\n",
              "    .colab-df-convert:hover {\n",
              "      background-color: #E2EBFA;\n",
              "      box-shadow: 0px 1px 2px rgba(60, 64, 67, 0.3), 0px 1px 3px 1px rgba(60, 64, 67, 0.15);\n",
              "      fill: #174EA6;\n",
              "    }\n",
              "\n",
              "    [theme=dark] .colab-df-convert {\n",
              "      background-color: #3B4455;\n",
              "      fill: #D2E3FC;\n",
              "    }\n",
              "\n",
              "    [theme=dark] .colab-df-convert:hover {\n",
              "      background-color: #434B5C;\n",
              "      box-shadow: 0px 1px 3px 1px rgba(0, 0, 0, 0.15);\n",
              "      filter: drop-shadow(0px 1px 2px rgba(0, 0, 0, 0.3));\n",
              "      fill: #FFFFFF;\n",
              "    }\n",
              "  </style>\n",
              "\n",
              "      <script>\n",
              "        const buttonEl =\n",
              "          document.querySelector('#df-53b8dbd7-f006-49fb-99f4-841c507666d6 button.colab-df-convert');\n",
              "        buttonEl.style.display =\n",
              "          google.colab.kernel.accessAllowed ? 'block' : 'none';\n",
              "\n",
              "        async function convertToInteractive(key) {\n",
              "          const element = document.querySelector('#df-53b8dbd7-f006-49fb-99f4-841c507666d6');\n",
              "          const dataTable =\n",
              "            await google.colab.kernel.invokeFunction('convertToInteractive',\n",
              "                                                     [key], {});\n",
              "          if (!dataTable) return;\n",
              "\n",
              "          const docLinkHtml = 'Like what you see? Visit the ' +\n",
              "            '<a target=\"_blank\" href=https://colab.research.google.com/notebooks/data_table.ipynb>data table notebook</a>'\n",
              "            + ' to learn more about interactive tables.';\n",
              "          element.innerHTML = '';\n",
              "          dataTable['output_type'] = 'display_data';\n",
              "          await google.colab.output.renderOutput(dataTable, element);\n",
              "          const docLink = document.createElement('div');\n",
              "          docLink.innerHTML = docLinkHtml;\n",
              "          element.appendChild(docLink);\n",
              "        }\n",
              "      </script>\n",
              "    </div>\n",
              "  </div>\n",
              "  "
            ]
          },
          "metadata": {},
          "execution_count": 97
        },
        {
          "output_type": "display_data",
          "data": {
            "text/plain": [
              "<Figure size 640x480 with 1 Axes>"
            ],
            "image/png": "[encoded data removed]"
          },
          "metadata": {}
        }
      ]
    },
    {
      "cell_type": "markdown",
      "source": [
        "Исходя из данных, полученных выше, можно сделать вывод:\n",
        "\n",
        "*   Все три модели относительно равны судя по метрикам, вычисленным выше, за исключением сверточной нейронной сети, так как среднее время прохождения одной эпохи в 2.5 раза больше аналогичного у рекурретной сети с долгой краткосрочной памятью и в 5 раз больше, чем у многослойного перцептрона.\n",
        "\n",
        "*   Если предпологать, что эпох будет, то анализируя графики обучения сетей и прогнозируя их будущее поведение, можно сделать предположение, что рекурретный вариант сети достигнет значительно большей эффективности относительно других вариантов сетей.\n",
        "\n"
      ],
      "metadata": {
        "id": "o798Nf6Ib7Fk"
      }
    }
  ]
}