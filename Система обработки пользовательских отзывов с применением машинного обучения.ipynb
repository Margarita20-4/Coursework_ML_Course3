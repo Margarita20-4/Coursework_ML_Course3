{
  "cells": [
    {
      "cell_type": "markdown",
      "metadata": {
        "id": "TSkw7ATwBwCp"
      },
      "source": [
        "# Предварительная подготовка"
      ]
    },
    {
      "cell_type": "markdown",
      "metadata": {
        "id": "iW7JsIXaB0xr"
      },
      "source": [
        "## Подключение Google Drive"
      ]
    },
    {
      "cell_type": "code",
      "execution_count": 1,
      "metadata": {
        "colab": {
          "base_uri": "https://localhost:8080/"
        },
        "id": "qYghNCfDBd7j",
        "outputId": "a56076c2-4193-4c87-d857-3de95339c66d"
      },
      "outputs": [
        {
          "output_type": "stream",
          "name": "stdout",
          "text": [
            "Mounted at /content/drive\n"
          ]
        }
      ],
      "source": [
        "from google.colab import drive\n",
        "drive.mount(\"/content/drive\")"
      ]
    },
    {
      "cell_type": "markdown",
      "metadata": {
        "id": "jsTZ4cUhHqfl"
      },
      "source": [
        "## Импорт библиотек"
      ]
    },
    {
      "cell_type": "code",
      "execution_count": 2,
      "metadata": {
        "colab": {
          "base_uri": "https://localhost:8080/"
        },
        "id": "HNKL1WqSkN3d",
        "outputId": "861a662d-da04-434d-ab1d-1401a143bcd7"
      },
      "outputs": [
        {
          "output_type": "stream",
          "name": "stdout",
          "text": [
            "Looking in indexes: https://pypi.org/simple, https://us-python.pkg.dev/colab-wheels/public/simple/\n",
            "Collecting pymorphy2\n",
            "  Downloading pymorphy2-0.9.1-py3-none-any.whl (55 kB)\n",
            "\u001b[2K     \u001b[90m━━━━━━━━━━━━━━━━━━━━━━━━━━━━━━━━━━━━━━━━\u001b[0m \u001b[32m55.5/55.5 kB\u001b[0m \u001b[31m6.4 MB/s\u001b[0m eta \u001b[36m0:00:00\u001b[0m\n",
            "\u001b[?25hCollecting dawg-python>=0.7.1 (from pymorphy2)\n",
            "  Downloading DAWG_Python-0.7.2-py2.py3-none-any.whl (11 kB)\n",
            "Collecting pymorphy2-dicts-ru<3.0,>=2.4 (from pymorphy2)\n",
            "  Downloading pymorphy2_dicts_ru-2.4.417127.4579844-py2.py3-none-any.whl (8.2 MB)\n",
            "\u001b[2K     \u001b[90m━━━━━━━━━━━━━━━━━━━━━━━━━━━━━━━━━━━━━━━━\u001b[0m \u001b[32m8.2/8.2 MB\u001b[0m \u001b[31m109.2 MB/s\u001b[0m eta \u001b[36m0:00:00\u001b[0m\n",
            "\u001b[?25hCollecting docopt>=0.6 (from pymorphy2)\n",
            "  Downloading docopt-0.6.2.tar.gz (25 kB)\n",
            "  Preparing metadata (setup.py) ... \u001b[?25l\u001b[?25hdone\n",
            "Building wheels for collected packages: docopt\n",
            "  Building wheel for docopt (setup.py) ... \u001b[?25l\u001b[?25hdone\n",
            "  Created wheel for docopt: filename=docopt-0.6.2-py2.py3-none-any.whl size=13707 sha256=3fed306a4870082fa4a8c282efe01424a6e3b15320e0a5d25655fdc5a37ffc9d\n",
            "  Stored in directory: /root/.cache/pip/wheels/fc/ab/d4/5da2067ac95b36618c629a5f93f809425700506f72c9732fac\n",
            "Successfully built docopt\n",
            "Installing collected packages: pymorphy2-dicts-ru, docopt, dawg-python, pymorphy2\n",
            "Successfully installed dawg-python-0.7.2 docopt-0.6.2 pymorphy2-0.9.1 pymorphy2-dicts-ru-2.4.417127.4579844\n"
          ]
        }
      ],
      "source": [
        "!pip install pymorphy2"
      ]
    },
    {
      "cell_type": "code",
      "execution_count": 47,
      "metadata": {
        "id": "KJv2DEUQHtVu"
      },
      "outputs": [],
      "source": [
        "import pandas as pd\n",
        "\n",
        "from sklearn.preprocessing import LabelEncoder\n",
        "from sklearn.model_selection import train_test_split\n",
        "\n",
        "import nltk\n",
        "from nltk.corpus import wordnet, stopwords\n",
        "from nltk.tokenize import word_tokenize\n",
        "\n",
        "from pymorphy2 import MorphAnalyzer\n",
        "\n",
        "from matplotlib import pyplot as plt\n",
        "\n",
        "from collections import defaultdict\n",
        "from math import ceil\n",
        "import time\n",
        "\n",
        "import torch\n",
        "import torch.cuda\n",
        "from torch import nn\n",
        "from torch import optim\n",
        "from torch.utils.data import DataLoader, Dataset\n",
        "\n",
        "from sklearn.metrics import balanced_accuracy_score, cohen_kappa_score, classification_report"
      ]
    },
    {
      "cell_type": "code",
      "execution_count": 4,
      "metadata": {
        "colab": {
          "base_uri": "https://localhost:8080/"
        },
        "id": "mqF29L0fYFnt",
        "outputId": "75f4f53a-fee0-480c-8dc7-e77b587ca95f"
      },
      "outputs": [
        {
          "output_type": "stream",
          "name": "stderr",
          "text": [
            "[nltk_data] Downloading package averaged_perceptron_tagger to\n",
            "[nltk_data]     /root/nltk_data...\n",
            "[nltk_data]   Unzipping taggers/averaged_perceptron_tagger.zip.\n",
            "[nltk_data] Downloading package punkt to /root/nltk_data...\n",
            "[nltk_data]   Unzipping tokenizers/punkt.zip.\n",
            "[nltk_data] Downloading package stopwords to /root/nltk_data...\n",
            "[nltk_data]   Unzipping corpora/stopwords.zip.\n"
          ]
        },
        {
          "output_type": "execute_result",
          "data": {
            "text/plain": [
              "True"
            ]
          },
          "metadata": {},
          "execution_count": 4
        }
      ],
      "source": [
        "nltk.download('averaged_perceptron_tagger')\n",
        "nltk.download('punkt')\n",
        "nltk.download('stopwords')"
      ]
    },
    {
      "cell_type": "markdown",
      "metadata": {
        "id": "-iAtP0IKGiSS"
      },
      "source": [
        "## Параметры и константы"
      ]
    },
    {
      "cell_type": "markdown",
      "metadata": {
        "id": "30rHZV--uQ7z"
      },
      "source": [
        "Для избежания влияния фактора случайности seed задается вручную"
      ]
    },
    {
      "cell_type": "code",
      "execution_count": 5,
      "metadata": {
        "colab": {
          "base_uri": "https://localhost:8080/"
        },
        "id": "0pUy4CrWub78",
        "outputId": "0ac32e6b-81bd-4e8c-fc4a-3ae3c43781dc"
      },
      "outputs": [
        {
          "output_type": "execute_result",
          "data": {
            "text/plain": [
              "<torch._C.Generator at 0x7fc9ffda0cd0>"
            ]
          },
          "metadata": {},
          "execution_count": 5
        }
      ],
      "source": [
        "torch.manual_seed(0)"
      ]
    },
    {
      "cell_type": "code",
      "execution_count": 6,
      "metadata": {
        "id": "BJI34OiDGfSx"
      },
      "outputs": [],
      "source": [
        "DATA_PATH = \"/content/drive/MyDrive/datasets/ready2020.csv\"\n",
        "DEVICE = \"cuda:0\" if torch.cuda.is_available() else \"cpu\"\n",
        "NUM_BATCHES = 20\n",
        "EPOCHS = 50"
      ]
    },
    {
      "cell_type": "markdown",
      "metadata": {
        "id": "8wnsYOdXP_wC"
      },
      "source": [
        "## Определение задачи и метрик"
      ]
    },
    {
      "cell_type": "markdown",
      "metadata": {
        "id": "WRf32uEgOppU"
      },
      "source": [
        "Задачей текущей работы является определение тональности текстов пользовательских отзывов или, другими словами, задачей является бинарная (что будет рассмотрено далее) классификация текстов.\n",
        "\n",
        "В качестве метрик эффективности логично будут использоваться:\n",
        "\n",
        "1.   Accuracy.\n",
        "\n",
        "2.   Precision.\n",
        "\n",
        "3.   Recall.\n",
        "\n",
        "4.   F1.\n",
        "\n",
        "5.   Время, затраченное на обучение модели.\n"
      ]
    },
    {
      "cell_type": "markdown",
      "metadata": {
        "id": "fIHgRXC5HLKC"
      },
      "source": [
        "# Загрузка и описание набора данных"
      ]
    },
    {
      "cell_type": "code",
      "execution_count": 7,
      "metadata": {
        "colab": {
          "base_uri": "https://localhost:8080/",
          "height": 423
        },
        "id": "KgoqeY8dHxRV",
        "outputId": "0462d526-8ec3-468e-f0b5-51139fbaec33"
      },
      "outputs": [
        {
          "output_type": "execute_result",
          "data": {
            "text/plain": [
              "                    date                name  stars  \\\n",
              "1          29 марта 2020              ЯНатка    2.0   \n",
              "2          21 марта 2020             Анна М.    5.0   \n",
              "3        28 декабря 2020                Фима    5.0   \n",
              "4           28 июня 2020          Игорь Юдин    5.0   \n",
              "5         28 ноября 2020            Ольга -.    1.0   \n",
              "...                  ...                 ...    ...   \n",
              "103909      9 марта 2020       Иван Кузнецов    1.0   \n",
              "103910  27 сентября 2020            Мария З.    4.0   \n",
              "103911   12 октября 2020          Валерия Л.    5.0   \n",
              "103912   26 августа 2020        эрик моралес    5.0   \n",
              "103913      5 марта 2020  Евгений Жаворонков    4.0   \n",
              "\n",
              "                                                     text          X  \\\n",
              "1       Были на экскурсии. Я очень люблю производствен...  37.599740   \n",
              "2       Часто ходим в это кафе. Красивый интерьер, оче...  37.599740   \n",
              "3       Вкусное мороженое. С кофе и яблочным пирогом с...  37.599740   \n",
              "4       Хорошее мороженное, разнообразие выбора и вкус...  37.599740   \n",
              "5       Ставлю одну звезду лишь за вкусное мороженое. ...  37.599740   \n",
              "...                                                   ...        ...   \n",
              "103909  Зашли покурить кальян, попить чаю. Заказали ка...  37.593007   \n",
              "103910  Мне понравилось. Быстро подошла официантка, бы...  37.593007   \n",
              "103911  Очень вкусно, турецкая атмосфера🇹🇷Все понравил...  37.593007   \n",
              "103912  Госпади, как же тут вкусно готовят из простых ...  37.593007   \n",
              "103913  Классное каффе, мясные блюда на 5+! Алкоголь т...  37.593007   \n",
              "\n",
              "                Y              status  \n",
              "1       55.815575    Открыто до 20:00  \n",
              "2       55.815575    Открыто до 20:00  \n",
              "3       55.815575    Открыто до 20:00  \n",
              "4       55.815575    Открыто до 20:00  \n",
              "5       55.815575    Открыто до 20:00  \n",
              "...           ...                 ...  \n",
              "103909  55.750032  Больше не работает  \n",
              "103910  55.750032  Больше не работает  \n",
              "103911  55.750032  Больше не работает  \n",
              "103912  55.750032  Больше не работает  \n",
              "103913  55.750032  Больше не работает  \n",
              "\n",
              "[103913 rows x 7 columns]"
            ],
            "text/html": [
              "\n",
              "  <div id=\"df-a24b3edb-b366-42df-9978-446902426ae6\">\n",
              "    <div class=\"colab-df-container\">\n",
              "      <div>\n",
              "<style scoped>\n",
              "    .dataframe tbody tr th:only-of-type {\n",
              "        vertical-align: middle;\n",
              "    }\n",
              "\n",
              "    .dataframe tbody tr th {\n",
              "        vertical-align: top;\n",
              "    }\n",
              "\n",
              "    .dataframe thead th {\n",
              "        text-align: right;\n",
              "    }\n",
              "</style>\n",
              "<table border=\"1\" class=\"dataframe\">\n",
              "  <thead>\n",
              "    <tr style=\"text-align: right;\">\n",
              "      <th></th>\n",
              "      <th>date</th>\n",
              "      <th>name</th>\n",
              "      <th>stars</th>\n",
              "      <th>text</th>\n",
              "      <th>X</th>\n",
              "      <th>Y</th>\n",
              "      <th>status</th>\n",
              "    </tr>\n",
              "  </thead>\n",
              "  <tbody>\n",
              "    <tr>\n",
              "      <th>1</th>\n",
              "      <td>29 марта 2020</td>\n",
              "      <td>ЯНатка</td>\n",
              "      <td>2.0</td>\n",
              "      <td>Были на экскурсии. Я очень люблю производствен...</td>\n",
              "      <td>37.599740</td>\n",
              "      <td>55.815575</td>\n",
              "      <td>Открыто до 20:00</td>\n",
              "    </tr>\n",
              "    <tr>\n",
              "      <th>2</th>\n",
              "      <td>21 марта 2020</td>\n",
              "      <td>Анна М.</td>\n",
              "      <td>5.0</td>\n",
              "      <td>Часто ходим в это кафе. Красивый интерьер, оче...</td>\n",
              "      <td>37.599740</td>\n",
              "      <td>55.815575</td>\n",
              "      <td>Открыто до 20:00</td>\n",
              "    </tr>\n",
              "    <tr>\n",
              "      <th>3</th>\n",
              "      <td>28 декабря 2020</td>\n",
              "      <td>Фима</td>\n",
              "      <td>5.0</td>\n",
              "      <td>Вкусное мороженое. С кофе и яблочным пирогом с...</td>\n",
              "      <td>37.599740</td>\n",
              "      <td>55.815575</td>\n",
              "      <td>Открыто до 20:00</td>\n",
              "    </tr>\n",
              "    <tr>\n",
              "      <th>4</th>\n",
              "      <td>28 июня 2020</td>\n",
              "      <td>Игорь Юдин</td>\n",
              "      <td>5.0</td>\n",
              "      <td>Хорошее мороженное, разнообразие выбора и вкус...</td>\n",
              "      <td>37.599740</td>\n",
              "      <td>55.815575</td>\n",
              "      <td>Открыто до 20:00</td>\n",
              "    </tr>\n",
              "    <tr>\n",
              "      <th>5</th>\n",
              "      <td>28 ноября 2020</td>\n",
              "      <td>Ольга -.</td>\n",
              "      <td>1.0</td>\n",
              "      <td>Ставлю одну звезду лишь за вкусное мороженое. ...</td>\n",
              "      <td>37.599740</td>\n",
              "      <td>55.815575</td>\n",
              "      <td>Открыто до 20:00</td>\n",
              "    </tr>\n",
              "    <tr>\n",
              "      <th>...</th>\n",
              "      <td>...</td>\n",
              "      <td>...</td>\n",
              "      <td>...</td>\n",
              "      <td>...</td>\n",
              "      <td>...</td>\n",
              "      <td>...</td>\n",
              "      <td>...</td>\n",
              "    </tr>\n",
              "    <tr>\n",
              "      <th>103909</th>\n",
              "      <td>9 марта 2020</td>\n",
              "      <td>Иван Кузнецов</td>\n",
              "      <td>1.0</td>\n",
              "      <td>Зашли покурить кальян, попить чаю. Заказали ка...</td>\n",
              "      <td>37.593007</td>\n",
              "      <td>55.750032</td>\n",
              "      <td>Больше не работает</td>\n",
              "    </tr>\n",
              "    <tr>\n",
              "      <th>103910</th>\n",
              "      <td>27 сентября 2020</td>\n",
              "      <td>Мария З.</td>\n",
              "      <td>4.0</td>\n",
              "      <td>Мне понравилось. Быстро подошла официантка, бы...</td>\n",
              "      <td>37.593007</td>\n",
              "      <td>55.750032</td>\n",
              "      <td>Больше не работает</td>\n",
              "    </tr>\n",
              "    <tr>\n",
              "      <th>103911</th>\n",
              "      <td>12 октября 2020</td>\n",
              "      <td>Валерия Л.</td>\n",
              "      <td>5.0</td>\n",
              "      <td>Очень вкусно, турецкая атмосфера🇹🇷Все понравил...</td>\n",
              "      <td>37.593007</td>\n",
              "      <td>55.750032</td>\n",
              "      <td>Больше не работает</td>\n",
              "    </tr>\n",
              "    <tr>\n",
              "      <th>103912</th>\n",
              "      <td>26 августа 2020</td>\n",
              "      <td>эрик моралес</td>\n",
              "      <td>5.0</td>\n",
              "      <td>Госпади, как же тут вкусно готовят из простых ...</td>\n",
              "      <td>37.593007</td>\n",
              "      <td>55.750032</td>\n",
              "      <td>Больше не работает</td>\n",
              "    </tr>\n",
              "    <tr>\n",
              "      <th>103913</th>\n",
              "      <td>5 марта 2020</td>\n",
              "      <td>Евгений Жаворонков</td>\n",
              "      <td>4.0</td>\n",
              "      <td>Классное каффе, мясные блюда на 5+! Алкоголь т...</td>\n",
              "      <td>37.593007</td>\n",
              "      <td>55.750032</td>\n",
              "      <td>Больше не работает</td>\n",
              "    </tr>\n",
              "  </tbody>\n",
              "</table>\n",
              "<p>103913 rows × 7 columns</p>\n",
              "</div>\n",
              "      <button class=\"colab-df-convert\" onclick=\"convertToInteractive('df-a24b3edb-b366-42df-9978-446902426ae6')\"\n",
              "              title=\"Convert this dataframe to an interactive table.\"\n",
              "              style=\"display:none;\">\n",
              "        \n",
              "  <svg xmlns=\"http://www.w3.org/2000/svg\" height=\"24px\"viewBox=\"0 0 24 24\"\n",
              "       width=\"24px\">\n",
              "    <path d=\"M0 0h24v24H0V0z\" fill=\"none\"/>\n",
              "    <path d=\"M18.56 5.44l.94 2.06.94-2.06 2.06-.94-2.06-.94-.94-2.06-.94 2.06-2.06.94zm-11 1L8.5 8.5l.94-2.06 2.06-.94-2.06-.94L8.5 2.5l-.94 2.06-2.06.94zm10 10l.94 2.06.94-2.06 2.06-.94-2.06-.94-.94-2.06-.94 2.06-2.06.94z\"/><path d=\"M17.41 7.96l-1.37-1.37c-.4-.4-.92-.59-1.43-.59-.52 0-1.04.2-1.43.59L10.3 9.45l-7.72 7.72c-.78.78-.78 2.05 0 2.83L4 21.41c.39.39.9.59 1.41.59.51 0 1.02-.2 1.41-.59l7.78-7.78 2.81-2.81c.8-.78.8-2.07 0-2.86zM5.41 20L4 18.59l7.72-7.72 1.47 1.35L5.41 20z\"/>\n",
              "  </svg>\n",
              "      </button>\n",
              "      \n",
              "  <style>\n",
              "    .colab-df-container {\n",
              "      display:flex;\n",
              "      flex-wrap:wrap;\n",
              "      gap: 12px;\n",
              "    }\n",
              "\n",
              "    .colab-df-convert {\n",
              "      background-color: #E8F0FE;\n",
              "      border: none;\n",
              "      border-radius: 50%;\n",
              "      cursor: pointer;\n",
              "      display: none;\n",
              "      fill: #1967D2;\n",
              "      height: 32px;\n",
              "      padding: 0 0 0 0;\n",
              "      width: 32px;\n",
              "    }\n",
              "\n",
              "    .colab-df-convert:hover {\n",
              "      background-color: #E2EBFA;\n",
              "      box-shadow: 0px 1px 2px rgba(60, 64, 67, 0.3), 0px 1px 3px 1px rgba(60, 64, 67, 0.15);\n",
              "      fill: #174EA6;\n",
              "    }\n",
              "\n",
              "    [theme=dark] .colab-df-convert {\n",
              "      background-color: #3B4455;\n",
              "      fill: #D2E3FC;\n",
              "    }\n",
              "\n",
              "    [theme=dark] .colab-df-convert:hover {\n",
              "      background-color: #434B5C;\n",
              "      box-shadow: 0px 1px 3px 1px rgba(0, 0, 0, 0.15);\n",
              "      filter: drop-shadow(0px 1px 2px rgba(0, 0, 0, 0.3));\n",
              "      fill: #FFFFFF;\n",
              "    }\n",
              "  </style>\n",
              "\n",
              "      <script>\n",
              "        const buttonEl =\n",
              "          document.querySelector('#df-a24b3edb-b366-42df-9978-446902426ae6 button.colab-df-convert');\n",
              "        buttonEl.style.display =\n",
              "          google.colab.kernel.accessAllowed ? 'block' : 'none';\n",
              "\n",
              "        async function convertToInteractive(key) {\n",
              "          const element = document.querySelector('#df-a24b3edb-b366-42df-9978-446902426ae6');\n",
              "          const dataTable =\n",
              "            await google.colab.kernel.invokeFunction('convertToInteractive',\n",
              "                                                     [key], {});\n",
              "          if (!dataTable) return;\n",
              "\n",
              "          const docLinkHtml = 'Like what you see? Visit the ' +\n",
              "            '<a target=\"_blank\" href=https://colab.research.google.com/notebooks/data_table.ipynb>data table notebook</a>'\n",
              "            + ' to learn more about interactive tables.';\n",
              "          element.innerHTML = '';\n",
              "          dataTable['output_type'] = 'display_data';\n",
              "          await google.colab.output.renderOutput(dataTable, element);\n",
              "          const docLink = document.createElement('div');\n",
              "          docLink.innerHTML = docLinkHtml;\n",
              "          element.appendChild(docLink);\n",
              "        }\n",
              "      </script>\n",
              "    </div>\n",
              "  </div>\n",
              "  "
            ]
          },
          "metadata": {},
          "execution_count": 7
        }
      ],
      "source": [
        "df = pd.read_csv(DATA_PATH, sep=\";\", index_col=0)\n",
        "df"
      ]
    },
    {
      "cell_type": "markdown",
      "metadata": {
        "id": "vrBuAy90JEOR"
      },
      "source": [
        "Набор данных представляет из себя пользовательские отзывы для кафе. Состоит из следующих полей:\n",
        "\n",
        "*   date:\n",
        "Дата, когда был оставлен отзыв\n",
        "\n",
        "*   name:\n",
        "Имя пользователя, оставившего отзыв\n",
        "\n",
        "*   start:\n",
        "Качественная оценка: сколько \"звезд\" поставил пользователь кафе\n",
        "\n",
        "*   text:\n",
        "Текст отзыва\n",
        "\n",
        "*   X, Y:\n",
        "Координаты кафе\n",
        "\n",
        "*   status:\n",
        "Статус кафе\n",
        "\n"
      ]
    },
    {
      "cell_type": "code",
      "execution_count": 8,
      "metadata": {
        "colab": {
          "base_uri": "https://localhost:8080/"
        },
        "id": "fBQOQC1cK7Hz",
        "outputId": "fcee4f7e-6885-4dc1-b187-267e3687417f"
      },
      "outputs": [
        {
          "output_type": "execute_result",
          "data": {
            "text/plain": [
              "date       object\n",
              "name       object\n",
              "stars     float64\n",
              "text       object\n",
              "X         float64\n",
              "Y         float64\n",
              "status     object\n",
              "dtype: object"
            ]
          },
          "metadata": {},
          "execution_count": 8
        }
      ],
      "source": [
        "df.dtypes"
      ]
    },
    {
      "cell_type": "code",
      "execution_count": 9,
      "metadata": {
        "colab": {
          "base_uri": "https://localhost:8080/"
        },
        "id": "sXl66FAdLWDB",
        "outputId": "64c6c28a-3034-4134-c49e-b9c16a17065c"
      },
      "outputs": [
        {
          "output_type": "execute_result",
          "data": {
            "text/plain": [
              "date        366\n",
              "name      55392\n",
              "stars         5\n",
              "text      96466\n",
              "X         12703\n",
              "Y         12604\n",
              "status      105\n",
              "dtype: int64"
            ]
          },
          "metadata": {},
          "execution_count": 9
        }
      ],
      "source": [
        "df.nunique()"
      ]
    },
    {
      "cell_type": "code",
      "execution_count": 10,
      "metadata": {
        "colab": {
          "base_uri": "https://localhost:8080/"
        },
        "id": "4NDHDgyIOCEL",
        "outputId": "d32c7272-7479-45e5-ac00-421d41d356bc"
      },
      "outputs": [
        {
          "output_type": "stream",
          "name": "stdout",
          "text": [
            "<class 'pandas.core.frame.DataFrame'>\n",
            "Int64Index: 103913 entries, 1 to 103913\n",
            "Data columns (total 7 columns):\n",
            " #   Column  Non-Null Count   Dtype  \n",
            "---  ------  --------------   -----  \n",
            " 0   date    103913 non-null  object \n",
            " 1   name    103913 non-null  object \n",
            " 2   stars   103873 non-null  float64\n",
            " 3   text    103913 non-null  object \n",
            " 4   X       103860 non-null  float64\n",
            " 5   Y       103898 non-null  float64\n",
            " 6   status  103913 non-null  object \n",
            "dtypes: float64(3), object(4)\n",
            "memory usage: 6.3+ MB\n"
          ]
        }
      ],
      "source": [
        "df.info()"
      ]
    },
    {
      "cell_type": "code",
      "execution_count": 11,
      "metadata": {
        "colab": {
          "base_uri": "https://localhost:8080/"
        },
        "id": "o2o4uIEiOIHL",
        "outputId": "5b99a3dd-915d-4fe2-b60a-b76c647cab0a"
      },
      "outputs": [
        {
          "output_type": "execute_result",
          "data": {
            "text/plain": [
              "date       0\n",
              "name       0\n",
              "stars     40\n",
              "text       0\n",
              "X         53\n",
              "Y         15\n",
              "status     0\n",
              "dtype: int64"
            ]
          },
          "metadata": {},
          "execution_count": 11
        }
      ],
      "source": [
        "df.isna().sum()"
      ]
    },
    {
      "cell_type": "code",
      "execution_count": 12,
      "metadata": {
        "colab": {
          "base_uri": "https://localhost:8080/",
          "height": 300
        },
        "id": "GeZs6RWnL0yV",
        "outputId": "f140d871-39ab-4e2d-8eeb-25a0204d33fd"
      },
      "outputs": [
        {
          "output_type": "execute_result",
          "data": {
            "text/plain": [
              "               stars              X              Y\n",
              "count  103873.000000  103860.000000  103898.000000\n",
              "mean        4.072435      37.601472      55.740384\n",
              "std         1.444806       0.107218       0.076060\n",
              "min         1.000000      37.111775      55.276421\n",
              "25%         3.000000      37.538448      55.697861\n",
              "50%         5.000000      37.605595      55.751934\n",
              "75%         5.000000      37.658939      55.784803\n",
              "max         5.000000      37.946415      55.948805"
            ],
            "text/html": [
              "\n",
              "  <div id=\"df-1ebe879d-6f8b-4577-a3ae-c8b285e2ef41\">\n",
              "    <div class=\"colab-df-container\">\n",
              "      <div>\n",
              "<style scoped>\n",
              "    .dataframe tbody tr th:only-of-type {\n",
              "        vertical-align: middle;\n",
              "    }\n",
              "\n",
              "    .dataframe tbody tr th {\n",
              "        vertical-align: top;\n",
              "    }\n",
              "\n",
              "    .dataframe thead th {\n",
              "        text-align: right;\n",
              "    }\n",
              "</style>\n",
              "<table border=\"1\" class=\"dataframe\">\n",
              "  <thead>\n",
              "    <tr style=\"text-align: right;\">\n",
              "      <th></th>\n",
              "      <th>stars</th>\n",
              "      <th>X</th>\n",
              "      <th>Y</th>\n",
              "    </tr>\n",
              "  </thead>\n",
              "  <tbody>\n",
              "    <tr>\n",
              "      <th>count</th>\n",
              "      <td>103873.000000</td>\n",
              "      <td>103860.000000</td>\n",
              "      <td>103898.000000</td>\n",
              "    </tr>\n",
              "    <tr>\n",
              "      <th>mean</th>\n",
              "      <td>4.072435</td>\n",
              "      <td>37.601472</td>\n",
              "      <td>55.740384</td>\n",
              "    </tr>\n",
              "    <tr>\n",
              "      <th>std</th>\n",
              "      <td>1.444806</td>\n",
              "      <td>0.107218</td>\n",
              "      <td>0.076060</td>\n",
              "    </tr>\n",
              "    <tr>\n",
              "      <th>min</th>\n",
              "      <td>1.000000</td>\n",
              "      <td>37.111775</td>\n",
              "      <td>55.276421</td>\n",
              "    </tr>\n",
              "    <tr>\n",
              "      <th>25%</th>\n",
              "      <td>3.000000</td>\n",
              "      <td>37.538448</td>\n",
              "      <td>55.697861</td>\n",
              "    </tr>\n",
              "    <tr>\n",
              "      <th>50%</th>\n",
              "      <td>5.000000</td>\n",
              "      <td>37.605595</td>\n",
              "      <td>55.751934</td>\n",
              "    </tr>\n",
              "    <tr>\n",
              "      <th>75%</th>\n",
              "      <td>5.000000</td>\n",
              "      <td>37.658939</td>\n",
              "      <td>55.784803</td>\n",
              "    </tr>\n",
              "    <tr>\n",
              "      <th>max</th>\n",
              "      <td>5.000000</td>\n",
              "      <td>37.946415</td>\n",
              "      <td>55.948805</td>\n",
              "    </tr>\n",
              "  </tbody>\n",
              "</table>\n",
              "</div>\n",
              "      <button class=\"colab-df-convert\" onclick=\"convertToInteractive('df-1ebe879d-6f8b-4577-a3ae-c8b285e2ef41')\"\n",
              "              title=\"Convert this dataframe to an interactive table.\"\n",
              "              style=\"display:none;\">\n",
              "        \n",
              "  <svg xmlns=\"http://www.w3.org/2000/svg\" height=\"24px\"viewBox=\"0 0 24 24\"\n",
              "       width=\"24px\">\n",
              "    <path d=\"M0 0h24v24H0V0z\" fill=\"none\"/>\n",
              "    <path d=\"M18.56 5.44l.94 2.06.94-2.06 2.06-.94-2.06-.94-.94-2.06-.94 2.06-2.06.94zm-11 1L8.5 8.5l.94-2.06 2.06-.94-2.06-.94L8.5 2.5l-.94 2.06-2.06.94zm10 10l.94 2.06.94-2.06 2.06-.94-2.06-.94-.94-2.06-.94 2.06-2.06.94z\"/><path d=\"M17.41 7.96l-1.37-1.37c-.4-.4-.92-.59-1.43-.59-.52 0-1.04.2-1.43.59L10.3 9.45l-7.72 7.72c-.78.78-.78 2.05 0 2.83L4 21.41c.39.39.9.59 1.41.59.51 0 1.02-.2 1.41-.59l7.78-7.78 2.81-2.81c.8-.78.8-2.07 0-2.86zM5.41 20L4 18.59l7.72-7.72 1.47 1.35L5.41 20z\"/>\n",
              "  </svg>\n",
              "      </button>\n",
              "      \n",
              "  <style>\n",
              "    .colab-df-container {\n",
              "      display:flex;\n",
              "      flex-wrap:wrap;\n",
              "      gap: 12px;\n",
              "    }\n",
              "\n",
              "    .colab-df-convert {\n",
              "      background-color: #E8F0FE;\n",
              "      border: none;\n",
              "      border-radius: 50%;\n",
              "      cursor: pointer;\n",
              "      display: none;\n",
              "      fill: #1967D2;\n",
              "      height: 32px;\n",
              "      padding: 0 0 0 0;\n",
              "      width: 32px;\n",
              "    }\n",
              "\n",
              "    .colab-df-convert:hover {\n",
              "      background-color: #E2EBFA;\n",
              "      box-shadow: 0px 1px 2px rgba(60, 64, 67, 0.3), 0px 1px 3px 1px rgba(60, 64, 67, 0.15);\n",
              "      fill: #174EA6;\n",
              "    }\n",
              "\n",
              "    [theme=dark] .colab-df-convert {\n",
              "      background-color: #3B4455;\n",
              "      fill: #D2E3FC;\n",
              "    }\n",
              "\n",
              "    [theme=dark] .colab-df-convert:hover {\n",
              "      background-color: #434B5C;\n",
              "      box-shadow: 0px 1px 3px 1px rgba(0, 0, 0, 0.15);\n",
              "      filter: drop-shadow(0px 1px 2px rgba(0, 0, 0, 0.3));\n",
              "      fill: #FFFFFF;\n",
              "    }\n",
              "  </style>\n",
              "\n",
              "      <script>\n",
              "        const buttonEl =\n",
              "          document.querySelector('#df-1ebe879d-6f8b-4577-a3ae-c8b285e2ef41 button.colab-df-convert');\n",
              "        buttonEl.style.display =\n",
              "          google.colab.kernel.accessAllowed ? 'block' : 'none';\n",
              "\n",
              "        async function convertToInteractive(key) {\n",
              "          const element = document.querySelector('#df-1ebe879d-6f8b-4577-a3ae-c8b285e2ef41');\n",
              "          const dataTable =\n",
              "            await google.colab.kernel.invokeFunction('convertToInteractive',\n",
              "                                                     [key], {});\n",
              "          if (!dataTable) return;\n",
              "\n",
              "          const docLinkHtml = 'Like what you see? Visit the ' +\n",
              "            '<a target=\"_blank\" href=https://colab.research.google.com/notebooks/data_table.ipynb>data table notebook</a>'\n",
              "            + ' to learn more about interactive tables.';\n",
              "          element.innerHTML = '';\n",
              "          dataTable['output_type'] = 'display_data';\n",
              "          await google.colab.output.renderOutput(dataTable, element);\n",
              "          const docLink = document.createElement('div');\n",
              "          docLink.innerHTML = docLinkHtml;\n",
              "          element.appendChild(docLink);\n",
              "        }\n",
              "      </script>\n",
              "    </div>\n",
              "  </div>\n",
              "  "
            ]
          },
          "metadata": {},
          "execution_count": 12
        }
      ],
      "source": [
        "df.describe()"
      ]
    },
    {
      "cell_type": "code",
      "execution_count": 13,
      "metadata": {
        "colab": {
          "base_uri": "https://localhost:8080/"
        },
        "id": "hg2L5PCVN9E8",
        "outputId": "afb9a67e-9048-445e-8853-0810589c68b2"
      },
      "outputs": [
        {
          "output_type": "execute_result",
          "data": {
            "text/plain": [
              "array([ 2.,  5.,  1.,  3.,  4., nan])"
            ]
          },
          "metadata": {},
          "execution_count": 13
        }
      ],
      "source": [
        "pd.unique(df.stars)"
      ]
    },
    {
      "cell_type": "code",
      "execution_count": 14,
      "metadata": {
        "colab": {
          "base_uri": "https://localhost:8080/",
          "height": 447
        },
        "id": "1yds7XpsMIDp",
        "outputId": "2073667a-0016-4369-dcbe-345f66b9ad99"
      },
      "outputs": [
        {
          "output_type": "execute_result",
          "data": {
            "text/plain": [
              "<Axes: >"
            ]
          },
          "metadata": {},
          "execution_count": 14
        },
        {
          "output_type": "display_data",
          "data": {
            "text/plain": [
              "<Figure size 640x480 with 1 Axes>"
            ],
            "image/png": "[encoded data removed]"
          },
          "metadata": {}
        }
      ],
      "source": [
        "df.stars.hist(grid=False)"
      ]
    },
    {
      "cell_type": "markdown",
      "metadata": {
        "id": "LVGM51USLp7p"
      },
      "source": [
        "Из результатов выше можно сделать следующие выводы:\n",
        "\n",
        "*   Шкала оценки варьируется от 1 звезды до 5. \n",
        "\n",
        "*   Оценки не сбалансированы. Пользователи чаще всего оставляют сугубо положительные отзывы.\n",
        "\n",
        "*   В данных присутствуют пропущенные значения."
      ]
    },
    {
      "cell_type": "markdown",
      "metadata": {
        "id": "wUGMrWArQlXZ"
      },
      "source": [
        "# Предварительная обработка данных"
      ]
    },
    {
      "cell_type": "markdown",
      "metadata": {
        "id": "7CUoeH1QQyOV"
      },
      "source": [
        "В первую очередь необходимо выделить входные и выходные данные в наборе для сети.\n",
        "\n",
        "Из всех полей необходимую смысловую нагрузку имеет только поле text.\n",
        "\n",
        "Целевым полем же является поле stars, так как именно оно определяет тональность текста."
      ]
    },
    {
      "cell_type": "code",
      "execution_count": 15,
      "metadata": {
        "colab": {
          "base_uri": "https://localhost:8080/",
          "height": 423
        },
        "id": "oA_cGBPVOesO",
        "outputId": "c3d5f92d-bc56-4ebe-e2a0-4eccb7c951a6"
      },
      "outputs": [
        {
          "output_type": "execute_result",
          "data": {
            "text/plain": [
              "        stars                                               text\n",
              "1         2.0  Были на экскурсии. Я очень люблю производствен...\n",
              "2         5.0  Часто ходим в это кафе. Красивый интерьер, оче...\n",
              "3         5.0  Вкусное мороженое. С кофе и яблочным пирогом с...\n",
              "4         5.0  Хорошее мороженное, разнообразие выбора и вкус...\n",
              "5         1.0  Ставлю одну звезду лишь за вкусное мороженое. ...\n",
              "...       ...                                                ...\n",
              "103909    1.0  Зашли покурить кальян, попить чаю. Заказали ка...\n",
              "103910    4.0  Мне понравилось. Быстро подошла официантка, бы...\n",
              "103911    5.0  Очень вкусно, турецкая атмосфера🇹🇷Все понравил...\n",
              "103912    5.0  Госпади, как же тут вкусно готовят из простых ...\n",
              "103913    4.0  Классное каффе, мясные блюда на 5+! Алкоголь т...\n",
              "\n",
              "[103913 rows x 2 columns]"
            ],
            "text/html": [
              "\n",
              "  <div id=\"df-986d5fcf-495c-49a8-8417-f8673f410f1d\">\n",
              "    <div class=\"colab-df-container\">\n",
              "      <div>\n",
              "<style scoped>\n",
              "    .dataframe tbody tr th:only-of-type {\n",
              "        vertical-align: middle;\n",
              "    }\n",
              "\n",
              "    .dataframe tbody tr th {\n",
              "        vertical-align: top;\n",
              "    }\n",
              "\n",
              "    .dataframe thead th {\n",
              "        text-align: right;\n",
              "    }\n",
              "</style>\n",
              "<table border=\"1\" class=\"dataframe\">\n",
              "  <thead>\n",
              "    <tr style=\"text-align: right;\">\n",
              "      <th></th>\n",
              "      <th>stars</th>\n",
              "      <th>text</th>\n",
              "    </tr>\n",
              "  </thead>\n",
              "  <tbody>\n",
              "    <tr>\n",
              "      <th>1</th>\n",
              "      <td>2.0</td>\n",
              "      <td>Были на экскурсии. Я очень люблю производствен...</td>\n",
              "    </tr>\n",
              "    <tr>\n",
              "      <th>2</th>\n",
              "      <td>5.0</td>\n",
              "      <td>Часто ходим в это кафе. Красивый интерьер, оче...</td>\n",
              "    </tr>\n",
              "    <tr>\n",
              "      <th>3</th>\n",
              "      <td>5.0</td>\n",
              "      <td>Вкусное мороженое. С кофе и яблочным пирогом с...</td>\n",
              "    </tr>\n",
              "    <tr>\n",
              "      <th>4</th>\n",
              "      <td>5.0</td>\n",
              "      <td>Хорошее мороженное, разнообразие выбора и вкус...</td>\n",
              "    </tr>\n",
              "    <tr>\n",
              "      <th>5</th>\n",
              "      <td>1.0</td>\n",
              "      <td>Ставлю одну звезду лишь за вкусное мороженое. ...</td>\n",
              "    </tr>\n",
              "    <tr>\n",
              "      <th>...</th>\n",
              "      <td>...</td>\n",
              "      <td>...</td>\n",
              "    </tr>\n",
              "    <tr>\n",
              "      <th>103909</th>\n",
              "      <td>1.0</td>\n",
              "      <td>Зашли покурить кальян, попить чаю. Заказали ка...</td>\n",
              "    </tr>\n",
              "    <tr>\n",
              "      <th>103910</th>\n",
              "      <td>4.0</td>\n",
              "      <td>Мне понравилось. Быстро подошла официантка, бы...</td>\n",
              "    </tr>\n",
              "    <tr>\n",
              "      <th>103911</th>\n",
              "      <td>5.0</td>\n",
              "      <td>Очень вкусно, турецкая атмосфера🇹🇷Все понравил...</td>\n",
              "    </tr>\n",
              "    <tr>\n",
              "      <th>103912</th>\n",
              "      <td>5.0</td>\n",
              "      <td>Госпади, как же тут вкусно готовят из простых ...</td>\n",
              "    </tr>\n",
              "    <tr>\n",
              "      <th>103913</th>\n",
              "      <td>4.0</td>\n",
              "      <td>Классное каффе, мясные блюда на 5+! Алкоголь т...</td>\n",
              "    </tr>\n",
              "  </tbody>\n",
              "</table>\n",
              "<p>103913 rows × 2 columns</p>\n",
              "</div>\n",
              "      <button class=\"colab-df-convert\" onclick=\"convertToInteractive('df-986d5fcf-495c-49a8-8417-f8673f410f1d')\"\n",
              "              title=\"Convert this dataframe to an interactive table.\"\n",
              "              style=\"display:none;\">\n",
              "        \n",
              "  <svg xmlns=\"http://www.w3.org/2000/svg\" height=\"24px\"viewBox=\"0 0 24 24\"\n",
              "       width=\"24px\">\n",
              "    <path d=\"M0 0h24v24H0V0z\" fill=\"none\"/>\n",
              "    <path d=\"M18.56 5.44l.94 2.06.94-2.06 2.06-.94-2.06-.94-.94-2.06-.94 2.06-2.06.94zm-11 1L8.5 8.5l.94-2.06 2.06-.94-2.06-.94L8.5 2.5l-.94 2.06-2.06.94zm10 10l.94 2.06.94-2.06 2.06-.94-2.06-.94-.94-2.06-.94 2.06-2.06.94z\"/><path d=\"M17.41 7.96l-1.37-1.37c-.4-.4-.92-.59-1.43-.59-.52 0-1.04.2-1.43.59L10.3 9.45l-7.72 7.72c-.78.78-.78 2.05 0 2.83L4 21.41c.39.39.9.59 1.41.59.51 0 1.02-.2 1.41-.59l7.78-7.78 2.81-2.81c.8-.78.8-2.07 0-2.86zM5.41 20L4 18.59l7.72-7.72 1.47 1.35L5.41 20z\"/>\n",
              "  </svg>\n",
              "      </button>\n",
              "      \n",
              "  <style>\n",
              "    .colab-df-container {\n",
              "      display:flex;\n",
              "      flex-wrap:wrap;\n",
              "      gap: 12px;\n",
              "    }\n",
              "\n",
              "    .colab-df-convert {\n",
              "      background-color: #E8F0FE;\n",
              "      border: none;\n",
              "      border-radius: 50%;\n",
              "      cursor: pointer;\n",
              "      display: none;\n",
              "      fill: #1967D2;\n",
              "      height: 32px;\n",
              "      padding: 0 0 0 0;\n",
              "      width: 32px;\n",
              "    }\n",
              "\n",
              "    .colab-df-convert:hover {\n",
              "      background-color: #E2EBFA;\n",
              "      box-shadow: 0px 1px 2px rgba(60, 64, 67, 0.3), 0px 1px 3px 1px rgba(60, 64, 67, 0.15);\n",
              "      fill: #174EA6;\n",
              "    }\n",
              "\n",
              "    [theme=dark] .colab-df-convert {\n",
              "      background-color: #3B4455;\n",
              "      fill: #D2E3FC;\n",
              "    }\n",
              "\n",
              "    [theme=dark] .colab-df-convert:hover {\n",
              "      background-color: #434B5C;\n",
              "      box-shadow: 0px 1px 3px 1px rgba(0, 0, 0, 0.15);\n",
              "      filter: drop-shadow(0px 1px 2px rgba(0, 0, 0, 0.3));\n",
              "      fill: #FFFFFF;\n",
              "    }\n",
              "  </style>\n",
              "\n",
              "      <script>\n",
              "        const buttonEl =\n",
              "          document.querySelector('#df-986d5fcf-495c-49a8-8417-f8673f410f1d button.colab-df-convert');\n",
              "        buttonEl.style.display =\n",
              "          google.colab.kernel.accessAllowed ? 'block' : 'none';\n",
              "\n",
              "        async function convertToInteractive(key) {\n",
              "          const element = document.querySelector('#df-986d5fcf-495c-49a8-8417-f8673f410f1d');\n",
              "          const dataTable =\n",
              "            await google.colab.kernel.invokeFunction('convertToInteractive',\n",
              "                                                     [key], {});\n",
              "          if (!dataTable) return;\n",
              "\n",
              "          const docLinkHtml = 'Like what you see? Visit the ' +\n",
              "            '<a target=\"_blank\" href=https://colab.research.google.com/notebooks/data_table.ipynb>data table notebook</a>'\n",
              "            + ' to learn more about interactive tables.';\n",
              "          element.innerHTML = '';\n",
              "          dataTable['output_type'] = 'display_data';\n",
              "          await google.colab.output.renderOutput(dataTable, element);\n",
              "          const docLink = document.createElement('div');\n",
              "          docLink.innerHTML = docLinkHtml;\n",
              "          element.appendChild(docLink);\n",
              "        }\n",
              "      </script>\n",
              "    </div>\n",
              "  </div>\n",
              "  "
            ]
          },
          "metadata": {},
          "execution_count": 15
        }
      ],
      "source": [
        "df = df.drop([\"date\", \"name\", \"X\", \"Y\", \"status\"], axis=1)\n",
        "df"
      ]
    },
    {
      "cell_type": "code",
      "execution_count": 16,
      "metadata": {
        "colab": {
          "base_uri": "https://localhost:8080/",
          "height": 423
        },
        "id": "PsuvIc1YSNa2",
        "outputId": "8928926a-5495-49a9-d65d-59538387ce02"
      },
      "outputs": [
        {
          "output_type": "execute_result",
          "data": {
            "text/plain": [
              "        target                                               data\n",
              "1          2.0  Были на экскурсии. Я очень люблю производствен...\n",
              "2          5.0  Часто ходим в это кафе. Красивый интерьер, оче...\n",
              "3          5.0  Вкусное мороженое. С кофе и яблочным пирогом с...\n",
              "4          5.0  Хорошее мороженное, разнообразие выбора и вкус...\n",
              "5          1.0  Ставлю одну звезду лишь за вкусное мороженое. ...\n",
              "...        ...                                                ...\n",
              "103909     1.0  Зашли покурить кальян, попить чаю. Заказали ка...\n",
              "103910     4.0  Мне понравилось. Быстро подошла официантка, бы...\n",
              "103911     5.0  Очень вкусно, турецкая атмосфера🇹🇷Все понравил...\n",
              "103912     5.0  Госпади, как же тут вкусно готовят из простых ...\n",
              "103913     4.0  Классное каффе, мясные блюда на 5+! Алкоголь т...\n",
              "\n",
              "[103913 rows x 2 columns]"
            ],
            "text/html": [
              "\n",
              "  <div id=\"df-c5844684-08dd-46f4-bf39-67d21ddae863\">\n",
              "    <div class=\"colab-df-container\">\n",
              "      <div>\n",
              "<style scoped>\n",
              "    .dataframe tbody tr th:only-of-type {\n",
              "        vertical-align: middle;\n",
              "    }\n",
              "\n",
              "    .dataframe tbody tr th {\n",
              "        vertical-align: top;\n",
              "    }\n",
              "\n",
              "    .dataframe thead th {\n",
              "        text-align: right;\n",
              "    }\n",
              "</style>\n",
              "<table border=\"1\" class=\"dataframe\">\n",
              "  <thead>\n",
              "    <tr style=\"text-align: right;\">\n",
              "      <th></th>\n",
              "      <th>target</th>\n",
              "      <th>data</th>\n",
              "    </tr>\n",
              "  </thead>\n",
              "  <tbody>\n",
              "    <tr>\n",
              "      <th>1</th>\n",
              "      <td>2.0</td>\n",
              "      <td>Были на экскурсии. Я очень люблю производствен...</td>\n",
              "    </tr>\n",
              "    <tr>\n",
              "      <th>2</th>\n",
              "      <td>5.0</td>\n",
              "      <td>Часто ходим в это кафе. Красивый интерьер, оче...</td>\n",
              "    </tr>\n",
              "    <tr>\n",
              "      <th>3</th>\n",
              "      <td>5.0</td>\n",
              "      <td>Вкусное мороженое. С кофе и яблочным пирогом с...</td>\n",
              "    </tr>\n",
              "    <tr>\n",
              "      <th>4</th>\n",
              "      <td>5.0</td>\n",
              "      <td>Хорошее мороженное, разнообразие выбора и вкус...</td>\n",
              "    </tr>\n",
              "    <tr>\n",
              "      <th>5</th>\n",
              "      <td>1.0</td>\n",
              "      <td>Ставлю одну звезду лишь за вкусное мороженое. ...</td>\n",
              "    </tr>\n",
              "    <tr>\n",
              "      <th>...</th>\n",
              "      <td>...</td>\n",
              "      <td>...</td>\n",
              "    </tr>\n",
              "    <tr>\n",
              "      <th>103909</th>\n",
              "      <td>1.0</td>\n",
              "      <td>Зашли покурить кальян, попить чаю. Заказали ка...</td>\n",
              "    </tr>\n",
              "    <tr>\n",
              "      <th>103910</th>\n",
              "      <td>4.0</td>\n",
              "      <td>Мне понравилось. Быстро подошла официантка, бы...</td>\n",
              "    </tr>\n",
              "    <tr>\n",
              "      <th>103911</th>\n",
              "      <td>5.0</td>\n",
              "      <td>Очень вкусно, турецкая атмосфера🇹🇷Все понравил...</td>\n",
              "    </tr>\n",
              "    <tr>\n",
              "      <th>103912</th>\n",
              "      <td>5.0</td>\n",
              "      <td>Госпади, как же тут вкусно готовят из простых ...</td>\n",
              "    </tr>\n",
              "    <tr>\n",
              "      <th>103913</th>\n",
              "      <td>4.0</td>\n",
              "      <td>Классное каффе, мясные блюда на 5+! Алкоголь т...</td>\n",
              "    </tr>\n",
              "  </tbody>\n",
              "</table>\n",
              "<p>103913 rows × 2 columns</p>\n",
              "</div>\n",
              "      <button class=\"colab-df-convert\" onclick=\"convertToInteractive('df-c5844684-08dd-46f4-bf39-67d21ddae863')\"\n",
              "              title=\"Convert this dataframe to an interactive table.\"\n",
              "              style=\"display:none;\">\n",
              "        \n",
              "  <svg xmlns=\"http://www.w3.org/2000/svg\" height=\"24px\"viewBox=\"0 0 24 24\"\n",
              "       width=\"24px\">\n",
              "    <path d=\"M0 0h24v24H0V0z\" fill=\"none\"/>\n",
              "    <path d=\"M18.56 5.44l.94 2.06.94-2.06 2.06-.94-2.06-.94-.94-2.06-.94 2.06-2.06.94zm-11 1L8.5 8.5l.94-2.06 2.06-.94-2.06-.94L8.5 2.5l-.94 2.06-2.06.94zm10 10l.94 2.06.94-2.06 2.06-.94-2.06-.94-.94-2.06-.94 2.06-2.06.94z\"/><path d=\"M17.41 7.96l-1.37-1.37c-.4-.4-.92-.59-1.43-.59-.52 0-1.04.2-1.43.59L10.3 9.45l-7.72 7.72c-.78.78-.78 2.05 0 2.83L4 21.41c.39.39.9.59 1.41.59.51 0 1.02-.2 1.41-.59l7.78-7.78 2.81-2.81c.8-.78.8-2.07 0-2.86zM5.41 20L4 18.59l7.72-7.72 1.47 1.35L5.41 20z\"/>\n",
              "  </svg>\n",
              "      </button>\n",
              "      \n",
              "  <style>\n",
              "    .colab-df-container {\n",
              "      display:flex;\n",
              "      flex-wrap:wrap;\n",
              "      gap: 12px;\n",
              "    }\n",
              "\n",
              "    .colab-df-convert {\n",
              "      background-color: #E8F0FE;\n",
              "      border: none;\n",
              "      border-radius: 50%;\n",
              "      cursor: pointer;\n",
              "      display: none;\n",
              "      fill: #1967D2;\n",
              "      height: 32px;\n",
              "      padding: 0 0 0 0;\n",
              "      width: 32px;\n",
              "    }\n",
              "\n",
              "    .colab-df-convert:hover {\n",
              "      background-color: #E2EBFA;\n",
              "      box-shadow: 0px 1px 2px rgba(60, 64, 67, 0.3), 0px 1px 3px 1px rgba(60, 64, 67, 0.15);\n",
              "      fill: #174EA6;\n",
              "    }\n",
              "\n",
              "    [theme=dark] .colab-df-convert {\n",
              "      background-color: #3B4455;\n",
              "      fill: #D2E3FC;\n",
              "    }\n",
              "\n",
              "    [theme=dark] .colab-df-convert:hover {\n",
              "      background-color: #434B5C;\n",
              "      box-shadow: 0px 1px 3px 1px rgba(0, 0, 0, 0.15);\n",
              "      filter: drop-shadow(0px 1px 2px rgba(0, 0, 0, 0.3));\n",
              "      fill: #FFFFFF;\n",
              "    }\n",
              "  </style>\n",
              "\n",
              "      <script>\n",
              "        const buttonEl =\n",
              "          document.querySelector('#df-c5844684-08dd-46f4-bf39-67d21ddae863 button.colab-df-convert');\n",
              "        buttonEl.style.display =\n",
              "          google.colab.kernel.accessAllowed ? 'block' : 'none';\n",
              "\n",
              "        async function convertToInteractive(key) {\n",
              "          const element = document.querySelector('#df-c5844684-08dd-46f4-bf39-67d21ddae863');\n",
              "          const dataTable =\n",
              "            await google.colab.kernel.invokeFunction('convertToInteractive',\n",
              "                                                     [key], {});\n",
              "          if (!dataTable) return;\n",
              "\n",
              "          const docLinkHtml = 'Like what you see? Visit the ' +\n",
              "            '<a target=\"_blank\" href=https://colab.research.google.com/notebooks/data_table.ipynb>data table notebook</a>'\n",
              "            + ' to learn more about interactive tables.';\n",
              "          element.innerHTML = '';\n",
              "          dataTable['output_type'] = 'display_data';\n",
              "          await google.colab.output.renderOutput(dataTable, element);\n",
              "          const docLink = document.createElement('div');\n",
              "          docLink.innerHTML = docLinkHtml;\n",
              "          element.appendChild(docLink);\n",
              "        }\n",
              "      </script>\n",
              "    </div>\n",
              "  </div>\n",
              "  "
            ]
          },
          "metadata": {},
          "execution_count": 16
        }
      ],
      "source": [
        "df = df.rename(columns={\"text\": \"data\", \"stars\": \"target\"})\n",
        "df"
      ]
    },
    {
      "cell_type": "markdown",
      "metadata": {
        "id": "9gmq1iWXTPol"
      },
      "source": [
        "Так как пропущенных значений относительно мало, строки с ними можно убрать из набора данных."
      ]
    },
    {
      "cell_type": "code",
      "execution_count": 17,
      "metadata": {
        "colab": {
          "base_uri": "https://localhost:8080/"
        },
        "id": "9KMtiF11TV9E",
        "outputId": "28ba8ed0-b283-4637-8dea-615ee71d8ff3"
      },
      "outputs": [
        {
          "output_type": "execute_result",
          "data": {
            "text/plain": [
              "target    0\n",
              "data      0\n",
              "dtype: int64"
            ]
          },
          "metadata": {},
          "execution_count": 17
        }
      ],
      "source": [
        "df = df.dropna().reset_index(drop=True)\n",
        "df.isna().sum()"
      ]
    },
    {
      "cell_type": "markdown",
      "metadata": {
        "id": "9OQtXH4VS0ci"
      },
      "source": [
        "Так как оценки пользователей не сбалансированы, нужно сделать перебалансировку данных.\n",
        "\n",
        "Для этого сначала группы отзывов были объеденены между собой следующим образом:\n",
        "\n",
        "*   Любой отзыв с оценкой меньше 5 считается плохим отзывом.\n",
        "\n",
        "*   Любой отзыв с оценкой равной 5 считается хорошим отзывом.\n",
        "\n",
        "Данный выбор группировки является валидным, так как наблюдается четкий дисбаланс между 5-звездочными оценками и другими, а также распространенной привычкой пользователей закрывать глаза на мелкие погрешности, что ведет к необъективным оценкам и ситуациям, когда объективное \"значение\" 4 звезд равно 3 и менее, тогда как 5 звезд могут покрывать весь диапазон \"хороших\" оценок - 4 и 5."
      ]
    },
    {
      "cell_type": "code",
      "execution_count": 18,
      "metadata": {
        "colab": {
          "base_uri": "https://localhost:8080/",
          "height": 423
        },
        "id": "7D1bo1IwTb99",
        "outputId": "e94a9730-a8be-4d4d-a70f-dbe31fe7ced4"
      },
      "outputs": [
        {
          "output_type": "execute_result",
          "data": {
            "text/plain": [
              "       target                                               data\n",
              "0         bad  Были на экскурсии. Я очень люблю производствен...\n",
              "1        good  Часто ходим в это кафе. Красивый интерьер, оче...\n",
              "2        good  Вкусное мороженое. С кофе и яблочным пирогом с...\n",
              "3        good  Хорошее мороженное, разнообразие выбора и вкус...\n",
              "4         bad  Ставлю одну звезду лишь за вкусное мороженое. ...\n",
              "...       ...                                                ...\n",
              "103868    bad  Зашли покурить кальян, попить чаю. Заказали ка...\n",
              "103869    bad  Мне понравилось. Быстро подошла официантка, бы...\n",
              "103870   good  Очень вкусно, турецкая атмосфера🇹🇷Все понравил...\n",
              "103871   good  Госпади, как же тут вкусно готовят из простых ...\n",
              "103872    bad  Классное каффе, мясные блюда на 5+! Алкоголь т...\n",
              "\n",
              "[103873 rows x 2 columns]"
            ],
            "text/html": [
              "\n",
              "  <div id=\"df-94271d89-9629-4fe6-9e7c-0975ae164d1a\">\n",
              "    <div class=\"colab-df-container\">\n",
              "      <div>\n",
              "<style scoped>\n",
              "    .dataframe tbody tr th:only-of-type {\n",
              "        vertical-align: middle;\n",
              "    }\n",
              "\n",
              "    .dataframe tbody tr th {\n",
              "        vertical-align: top;\n",
              "    }\n",
              "\n",
              "    .dataframe thead th {\n",
              "        text-align: right;\n",
              "    }\n",
              "</style>\n",
              "<table border=\"1\" class=\"dataframe\">\n",
              "  <thead>\n",
              "    <tr style=\"text-align: right;\">\n",
              "      <th></th>\n",
              "      <th>target</th>\n",
              "      <th>data</th>\n",
              "    </tr>\n",
              "  </thead>\n",
              "  <tbody>\n",
              "    <tr>\n",
              "      <th>0</th>\n",
              "      <td>bad</td>\n",
              "      <td>Были на экскурсии. Я очень люблю производствен...</td>\n",
              "    </tr>\n",
              "    <tr>\n",
              "      <th>1</th>\n",
              "      <td>good</td>\n",
              "      <td>Часто ходим в это кафе. Красивый интерьер, оче...</td>\n",
              "    </tr>\n",
              "    <tr>\n",
              "      <th>2</th>\n",
              "      <td>good</td>\n",
              "      <td>Вкусное мороженое. С кофе и яблочным пирогом с...</td>\n",
              "    </tr>\n",
              "    <tr>\n",
              "      <th>3</th>\n",
              "      <td>good</td>\n",
              "      <td>Хорошее мороженное, разнообразие выбора и вкус...</td>\n",
              "    </tr>\n",
              "    <tr>\n",
              "      <th>4</th>\n",
              "      <td>bad</td>\n",
              "      <td>Ставлю одну звезду лишь за вкусное мороженое. ...</td>\n",
              "    </tr>\n",
              "    <tr>\n",
              "      <th>...</th>\n",
              "      <td>...</td>\n",
              "      <td>...</td>\n",
              "    </tr>\n",
              "    <tr>\n",
              "      <th>103868</th>\n",
              "      <td>bad</td>\n",
              "      <td>Зашли покурить кальян, попить чаю. Заказали ка...</td>\n",
              "    </tr>\n",
              "    <tr>\n",
              "      <th>103869</th>\n",
              "      <td>bad</td>\n",
              "      <td>Мне понравилось. Быстро подошла официантка, бы...</td>\n",
              "    </tr>\n",
              "    <tr>\n",
              "      <th>103870</th>\n",
              "      <td>good</td>\n",
              "      <td>Очень вкусно, турецкая атмосфера🇹🇷Все понравил...</td>\n",
              "    </tr>\n",
              "    <tr>\n",
              "      <th>103871</th>\n",
              "      <td>good</td>\n",
              "      <td>Госпади, как же тут вкусно готовят из простых ...</td>\n",
              "    </tr>\n",
              "    <tr>\n",
              "      <th>103872</th>\n",
              "      <td>bad</td>\n",
              "      <td>Классное каффе, мясные блюда на 5+! Алкоголь т...</td>\n",
              "    </tr>\n",
              "  </tbody>\n",
              "</table>\n",
              "<p>103873 rows × 2 columns</p>\n",
              "</div>\n",
              "      <button class=\"colab-df-convert\" onclick=\"convertToInteractive('df-94271d89-9629-4fe6-9e7c-0975ae164d1a')\"\n",
              "              title=\"Convert this dataframe to an interactive table.\"\n",
              "              style=\"display:none;\">\n",
              "        \n",
              "  <svg xmlns=\"http://www.w3.org/2000/svg\" height=\"24px\"viewBox=\"0 0 24 24\"\n",
              "       width=\"24px\">\n",
              "    <path d=\"M0 0h24v24H0V0z\" fill=\"none\"/>\n",
              "    <path d=\"M18.56 5.44l.94 2.06.94-2.06 2.06-.94-2.06-.94-.94-2.06-.94 2.06-2.06.94zm-11 1L8.5 8.5l.94-2.06 2.06-.94-2.06-.94L8.5 2.5l-.94 2.06-2.06.94zm10 10l.94 2.06.94-2.06 2.06-.94-2.06-.94-.94-2.06-.94 2.06-2.06.94z\"/><path d=\"M17.41 7.96l-1.37-1.37c-.4-.4-.92-.59-1.43-.59-.52 0-1.04.2-1.43.59L10.3 9.45l-7.72 7.72c-.78.78-.78 2.05 0 2.83L4 21.41c.39.39.9.59 1.41.59.51 0 1.02-.2 1.41-.59l7.78-7.78 2.81-2.81c.8-.78.8-2.07 0-2.86zM5.41 20L4 18.59l7.72-7.72 1.47 1.35L5.41 20z\"/>\n",
              "  </svg>\n",
              "      </button>\n",
              "      \n",
              "  <style>\n",
              "    .colab-df-container {\n",
              "      display:flex;\n",
              "      flex-wrap:wrap;\n",
              "      gap: 12px;\n",
              "    }\n",
              "\n",
              "    .colab-df-convert {\n",
              "      background-color: #E8F0FE;\n",
              "      border: none;\n",
              "      border-radius: 50%;\n",
              "      cursor: pointer;\n",
              "      display: none;\n",
              "      fill: #1967D2;\n",
              "      height: 32px;\n",
              "      padding: 0 0 0 0;\n",
              "      width: 32px;\n",
              "    }\n",
              "\n",
              "    .colab-df-convert:hover {\n",
              "      background-color: #E2EBFA;\n",
              "      box-shadow: 0px 1px 2px rgba(60, 64, 67, 0.3), 0px 1px 3px 1px rgba(60, 64, 67, 0.15);\n",
              "      fill: #174EA6;\n",
              "    }\n",
              "\n",
              "    [theme=dark] .colab-df-convert {\n",
              "      background-color: #3B4455;\n",
              "      fill: #D2E3FC;\n",
              "    }\n",
              "\n",
              "    [theme=dark] .colab-df-convert:hover {\n",
              "      background-color: #434B5C;\n",
              "      box-shadow: 0px 1px 3px 1px rgba(0, 0, 0, 0.15);\n",
              "      filter: drop-shadow(0px 1px 2px rgba(0, 0, 0, 0.3));\n",
              "      fill: #FFFFFF;\n",
              "    }\n",
              "  </style>\n",
              "\n",
              "      <script>\n",
              "        const buttonEl =\n",
              "          document.querySelector('#df-94271d89-9629-4fe6-9e7c-0975ae164d1a button.colab-df-convert');\n",
              "        buttonEl.style.display =\n",
              "          google.colab.kernel.accessAllowed ? 'block' : 'none';\n",
              "\n",
              "        async function convertToInteractive(key) {\n",
              "          const element = document.querySelector('#df-94271d89-9629-4fe6-9e7c-0975ae164d1a');\n",
              "          const dataTable =\n",
              "            await google.colab.kernel.invokeFunction('convertToInteractive',\n",
              "                                                     [key], {});\n",
              "          if (!dataTable) return;\n",
              "\n",
              "          const docLinkHtml = 'Like what you see? Visit the ' +\n",
              "            '<a target=\"_blank\" href=https://colab.research.google.com/notebooks/data_table.ipynb>data table notebook</a>'\n",
              "            + ' to learn more about interactive tables.';\n",
              "          element.innerHTML = '';\n",
              "          dataTable['output_type'] = 'display_data';\n",
              "          await google.colab.output.renderOutput(dataTable, element);\n",
              "          const docLink = document.createElement('div');\n",
              "          docLink.innerHTML = docLinkHtml;\n",
              "          element.appendChild(docLink);\n",
              "        }\n",
              "      </script>\n",
              "    </div>\n",
              "  </div>\n",
              "  "
            ]
          },
          "metadata": {},
          "execution_count": 18
        }
      ],
      "source": [
        "df.target = df.target.replace({1: \"bad\", 2: \"bad\", 3: \"bad\", 4: \"bad\", 5: \"good\"})\n",
        "df"
      ]
    },
    {
      "cell_type": "markdown",
      "metadata": {
        "id": "8Rf5bRCxU0PN"
      },
      "source": [
        "Так как сети не могут работать с категориальными данными, необходимо закодировать целевое поле."
      ]
    },
    {
      "cell_type": "code",
      "execution_count": 19,
      "metadata": {
        "colab": {
          "base_uri": "https://localhost:8080/",
          "height": 423
        },
        "id": "CB1bci2nUS10",
        "outputId": "502c8977-6910-4517-c5e8-50dd78dd5097"
      },
      "outputs": [
        {
          "output_type": "execute_result",
          "data": {
            "text/plain": [
              "        target                                               data\n",
              "0            0  Были на экскурсии. Я очень люблю производствен...\n",
              "1            1  Часто ходим в это кафе. Красивый интерьер, оче...\n",
              "2            1  Вкусное мороженое. С кофе и яблочным пирогом с...\n",
              "3            1  Хорошее мороженное, разнообразие выбора и вкус...\n",
              "4            0  Ставлю одну звезду лишь за вкусное мороженое. ...\n",
              "...        ...                                                ...\n",
              "103868       0  Зашли покурить кальян, попить чаю. Заказали ка...\n",
              "103869       0  Мне понравилось. Быстро подошла официантка, бы...\n",
              "103870       1  Очень вкусно, турецкая атмосфера🇹🇷Все понравил...\n",
              "103871       1  Госпади, как же тут вкусно готовят из простых ...\n",
              "103872       0  Классное каффе, мясные блюда на 5+! Алкоголь т...\n",
              "\n",
              "[103873 rows x 2 columns]"
            ],
            "text/html": [
              "\n",
              "  <div id=\"df-6b4b0357-3767-41dd-8081-937278f63312\">\n",
              "    <div class=\"colab-df-container\">\n",
              "      <div>\n",
              "<style scoped>\n",
              "    .dataframe tbody tr th:only-of-type {\n",
              "        vertical-align: middle;\n",
              "    }\n",
              "\n",
              "    .dataframe tbody tr th {\n",
              "        vertical-align: top;\n",
              "    }\n",
              "\n",
              "    .dataframe thead th {\n",
              "        text-align: right;\n",
              "    }\n",
              "</style>\n",
              "<table border=\"1\" class=\"dataframe\">\n",
              "  <thead>\n",
              "    <tr style=\"text-align: right;\">\n",
              "      <th></th>\n",
              "      <th>target</th>\n",
              "      <th>data</th>\n",
              "    </tr>\n",
              "  </thead>\n",
              "  <tbody>\n",
              "    <tr>\n",
              "      <th>0</th>\n",
              "      <td>0</td>\n",
              "      <td>Были на экскурсии. Я очень люблю производствен...</td>\n",
              "    </tr>\n",
              "    <tr>\n",
              "      <th>1</th>\n",
              "      <td>1</td>\n",
              "      <td>Часто ходим в это кафе. Красивый интерьер, оче...</td>\n",
              "    </tr>\n",
              "    <tr>\n",
              "      <th>2</th>\n",
              "      <td>1</td>\n",
              "      <td>Вкусное мороженое. С кофе и яблочным пирогом с...</td>\n",
              "    </tr>\n",
              "    <tr>\n",
              "      <th>3</th>\n",
              "      <td>1</td>\n",
              "      <td>Хорошее мороженное, разнообразие выбора и вкус...</td>\n",
              "    </tr>\n",
              "    <tr>\n",
              "      <th>4</th>\n",
              "      <td>0</td>\n",
              "      <td>Ставлю одну звезду лишь за вкусное мороженое. ...</td>\n",
              "    </tr>\n",
              "    <tr>\n",
              "      <th>...</th>\n",
              "      <td>...</td>\n",
              "      <td>...</td>\n",
              "    </tr>\n",
              "    <tr>\n",
              "      <th>103868</th>\n",
              "      <td>0</td>\n",
              "      <td>Зашли покурить кальян, попить чаю. Заказали ка...</td>\n",
              "    </tr>\n",
              "    <tr>\n",
              "      <th>103869</th>\n",
              "      <td>0</td>\n",
              "      <td>Мне понравилось. Быстро подошла официантка, бы...</td>\n",
              "    </tr>\n",
              "    <tr>\n",
              "      <th>103870</th>\n",
              "      <td>1</td>\n",
              "      <td>Очень вкусно, турецкая атмосфера🇹🇷Все понравил...</td>\n",
              "    </tr>\n",
              "    <tr>\n",
              "      <th>103871</th>\n",
              "      <td>1</td>\n",
              "      <td>Госпади, как же тут вкусно готовят из простых ...</td>\n",
              "    </tr>\n",
              "    <tr>\n",
              "      <th>103872</th>\n",
              "      <td>0</td>\n",
              "      <td>Классное каффе, мясные блюда на 5+! Алкоголь т...</td>\n",
              "    </tr>\n",
              "  </tbody>\n",
              "</table>\n",
              "<p>103873 rows × 2 columns</p>\n",
              "</div>\n",
              "      <button class=\"colab-df-convert\" onclick=\"convertToInteractive('df-6b4b0357-3767-41dd-8081-937278f63312')\"\n",
              "              title=\"Convert this dataframe to an interactive table.\"\n",
              "              style=\"display:none;\">\n",
              "        \n",
              "  <svg xmlns=\"http://www.w3.org/2000/svg\" height=\"24px\"viewBox=\"0 0 24 24\"\n",
              "       width=\"24px\">\n",
              "    <path d=\"M0 0h24v24H0V0z\" fill=\"none\"/>\n",
              "    <path d=\"M18.56 5.44l.94 2.06.94-2.06 2.06-.94-2.06-.94-.94-2.06-.94 2.06-2.06.94zm-11 1L8.5 8.5l.94-2.06 2.06-.94-2.06-.94L8.5 2.5l-.94 2.06-2.06.94zm10 10l.94 2.06.94-2.06 2.06-.94-2.06-.94-.94-2.06-.94 2.06-2.06.94z\"/><path d=\"M17.41 7.96l-1.37-1.37c-.4-.4-.92-.59-1.43-.59-.52 0-1.04.2-1.43.59L10.3 9.45l-7.72 7.72c-.78.78-.78 2.05 0 2.83L4 21.41c.39.39.9.59 1.41.59.51 0 1.02-.2 1.41-.59l7.78-7.78 2.81-2.81c.8-.78.8-2.07 0-2.86zM5.41 20L4 18.59l7.72-7.72 1.47 1.35L5.41 20z\"/>\n",
              "  </svg>\n",
              "      </button>\n",
              "      \n",
              "  <style>\n",
              "    .colab-df-container {\n",
              "      display:flex;\n",
              "      flex-wrap:wrap;\n",
              "      gap: 12px;\n",
              "    }\n",
              "\n",
              "    .colab-df-convert {\n",
              "      background-color: #E8F0FE;\n",
              "      border: none;\n",
              "      border-radius: 50%;\n",
              "      cursor: pointer;\n",
              "      display: none;\n",
              "      fill: #1967D2;\n",
              "      height: 32px;\n",
              "      padding: 0 0 0 0;\n",
              "      width: 32px;\n",
              "    }\n",
              "\n",
              "    .colab-df-convert:hover {\n",
              "      background-color: #E2EBFA;\n",
              "      box-shadow: 0px 1px 2px rgba(60, 64, 67, 0.3), 0px 1px 3px 1px rgba(60, 64, 67, 0.15);\n",
              "      fill: #174EA6;\n",
              "    }\n",
              "\n",
              "    [theme=dark] .colab-df-convert {\n",
              "      background-color: #3B4455;\n",
              "      fill: #D2E3FC;\n",
              "    }\n",
              "\n",
              "    [theme=dark] .colab-df-convert:hover {\n",
              "      background-color: #434B5C;\n",
              "      box-shadow: 0px 1px 3px 1px rgba(0, 0, 0, 0.15);\n",
              "      filter: drop-shadow(0px 1px 2px rgba(0, 0, 0, 0.3));\n",
              "      fill: #FFFFFF;\n",
              "    }\n",
              "  </style>\n",
              "\n",
              "      <script>\n",
              "        const buttonEl =\n",
              "          document.querySelector('#df-6b4b0357-3767-41dd-8081-937278f63312 button.colab-df-convert');\n",
              "        buttonEl.style.display =\n",
              "          google.colab.kernel.accessAllowed ? 'block' : 'none';\n",
              "\n",
              "        async function convertToInteractive(key) {\n",
              "          const element = document.querySelector('#df-6b4b0357-3767-41dd-8081-937278f63312');\n",
              "          const dataTable =\n",
              "            await google.colab.kernel.invokeFunction('convertToInteractive',\n",
              "                                                     [key], {});\n",
              "          if (!dataTable) return;\n",
              "\n",
              "          const docLinkHtml = 'Like what you see? Visit the ' +\n",
              "            '<a target=\"_blank\" href=https://colab.research.google.com/notebooks/data_table.ipynb>data table notebook</a>'\n",
              "            + ' to learn more about interactive tables.';\n",
              "          element.innerHTML = '';\n",
              "          dataTable['output_type'] = 'display_data';\n",
              "          await google.colab.output.renderOutput(dataTable, element);\n",
              "          const docLink = document.createElement('div');\n",
              "          docLink.innerHTML = docLinkHtml;\n",
              "          element.appendChild(docLink);\n",
              "        }\n",
              "      </script>\n",
              "    </div>\n",
              "  </div>\n",
              "  "
            ]
          },
          "metadata": {},
          "execution_count": 19
        }
      ],
      "source": [
        "label_encoder = LabelEncoder()\n",
        "df.target = label_encoder.fit_transform(df.target)\n",
        "df"
      ]
    },
    {
      "cell_type": "code",
      "execution_count": 20,
      "metadata": {
        "colab": {
          "base_uri": "https://localhost:8080/",
          "height": 447
        },
        "id": "KZsGbJl6l7AT",
        "outputId": "9aa804f6-3ca1-412b-f0ed-c1b634ef5684"
      },
      "outputs": [
        {
          "output_type": "execute_result",
          "data": {
            "text/plain": [
              "<Axes: >"
            ]
          },
          "metadata": {},
          "execution_count": 20
        },
        {
          "output_type": "display_data",
          "data": {
            "text/plain": [
              "<Figure size 640x480 with 1 Axes>"
            ],
            "image/png": "[encoded data removed]"
          },
          "metadata": {}
        }
      ],
      "source": [
        "df.target.hist(bins=2)"
      ]
    },
    {
      "cell_type": "markdown",
      "metadata": {
        "id": "7pW_vMJ2l-MJ"
      },
      "source": [
        "Так как дисбаланс до сих пор сохранился - хороших отзывов практически в два раза больше плохих - можно применить пересэмплирование."
      ]
    },
    {
      "cell_type": "code",
      "execution_count": 21,
      "metadata": {
        "colab": {
          "base_uri": "https://localhost:8080/"
        },
        "id": "WvC0S37dYkxK",
        "outputId": "a20cdf51-adf3-4cd3-8803-ff0d380fc101"
      },
      "outputs": [
        {
          "output_type": "stream",
          "name": "stderr",
          "text": [
            "<ipython-input-21-e85610b831ad>:1: FutureWarning: The frame.append method is deprecated and will be removed from pandas in a future version. Use pandas.concat instead.\n",
            "  df = df.append(df[df.target == 0], ignore_index=True)\n"
          ]
        }
      ],
      "source": [
        "df = df.append(df[df.target == 0], ignore_index=True)"
      ]
    },
    {
      "cell_type": "code",
      "execution_count": 22,
      "metadata": {
        "colab": {
          "base_uri": "https://localhost:8080/",
          "height": 447
        },
        "id": "ctNZnATmYglZ",
        "outputId": "66a12f0c-fcb6-48c0-bdde-cf098a0573c6"
      },
      "outputs": [
        {
          "output_type": "execute_result",
          "data": {
            "text/plain": [
              "<Axes: >"
            ]
          },
          "metadata": {},
          "execution_count": 22
        },
        {
          "output_type": "display_data",
          "data": {
            "text/plain": [
              "<Figure size 640x480 with 1 Axes>"
            ],
            "image/png": "[encoded data removed]"
          },
          "metadata": {}
        }
      ],
      "source": [
        "df.target.hist(bins=2)"
      ]
    },
    {
      "cell_type": "markdown",
      "metadata": {
        "id": "ThF8Dhu8VCr4"
      },
      "source": [
        "Также необходимо провести предобработку текста, а именно:\n",
        "\n",
        "1.  Убрать все знаки пунктуации как не несущие смысловой нагрузки элементы\n",
        "\n",
        "2.  Привести все символы к нижнему регистру\n",
        "\n",
        "3.  Удалить стоп-слова как не несущие смысловой нагрузки элементы\n",
        "\n",
        "4.  Удалить несловарные слова, как имеющие ошибку в написании\n",
        "\n",
        "5.  Привести все оставшиеся слова к их лемме"
      ]
    },
    {
      "cell_type": "code",
      "execution_count": 23,
      "metadata": {
        "colab": {
          "base_uri": "https://localhost:8080/",
          "height": 423
        },
        "id": "iKqSOobZVflu",
        "outputId": "667eee96-1dd2-4516-d5e4-ac00c3e5543a"
      },
      "outputs": [
        {
          "output_type": "execute_result",
          "data": {
            "text/plain": [
              "        target                                               data\n",
              "0            0  были на экскурсии  я очень люблю производствен...\n",
              "1            1  часто ходим в это кафе  красивый интерьер  оче...\n",
              "2            1  вкусное мороженое  с кофе и яблочным пирогом с...\n",
              "3            1  хорошее мороженное  разнообразие выбора и вкус...\n",
              "4            0  ставлю одну звезду лишь за вкусное мороженое  ...\n",
              "...        ...                                                ...\n",
              "141593       0  заказали кальян  хотели посидеть расслабиться ...\n",
              "141594       0  персонал не вежливый  сказали все есть из меню...\n",
              "141595       0  зашли покурить кальян  попить чаю  заказали ка...\n",
              "141596       0  мне понравилось  быстро подошла официантка  бы...\n",
              "141597       0  классное каффе  мясные блюда на     алкоголь т...\n",
              "\n",
              "[141598 rows x 2 columns]"
            ],
            "text/html": [
              "\n",
              "  <div id=\"df-0c5f6c85-c93b-499e-b476-1eab379fc521\">\n",
              "    <div class=\"colab-df-container\">\n",
              "      <div>\n",
              "<style scoped>\n",
              "    .dataframe tbody tr th:only-of-type {\n",
              "        vertical-align: middle;\n",
              "    }\n",
              "\n",
              "    .dataframe tbody tr th {\n",
              "        vertical-align: top;\n",
              "    }\n",
              "\n",
              "    .dataframe thead th {\n",
              "        text-align: right;\n",
              "    }\n",
              "</style>\n",
              "<table border=\"1\" class=\"dataframe\">\n",
              "  <thead>\n",
              "    <tr style=\"text-align: right;\">\n",
              "      <th></th>\n",
              "      <th>target</th>\n",
              "      <th>data</th>\n",
              "    </tr>\n",
              "  </thead>\n",
              "  <tbody>\n",
              "    <tr>\n",
              "      <th>0</th>\n",
              "      <td>0</td>\n",
              "      <td>были на экскурсии  я очень люблю производствен...</td>\n",
              "    </tr>\n",
              "    <tr>\n",
              "      <th>1</th>\n",
              "      <td>1</td>\n",
              "      <td>часто ходим в это кафе  красивый интерьер  оче...</td>\n",
              "    </tr>\n",
              "    <tr>\n",
              "      <th>2</th>\n",
              "      <td>1</td>\n",
              "      <td>вкусное мороженое  с кофе и яблочным пирогом с...</td>\n",
              "    </tr>\n",
              "    <tr>\n",
              "      <th>3</th>\n",
              "      <td>1</td>\n",
              "      <td>хорошее мороженное  разнообразие выбора и вкус...</td>\n",
              "    </tr>\n",
              "    <tr>\n",
              "      <th>4</th>\n",
              "      <td>0</td>\n",
              "      <td>ставлю одну звезду лишь за вкусное мороженое  ...</td>\n",
              "    </tr>\n",
              "    <tr>\n",
              "      <th>...</th>\n",
              "      <td>...</td>\n",
              "      <td>...</td>\n",
              "    </tr>\n",
              "    <tr>\n",
              "      <th>141593</th>\n",
              "      <td>0</td>\n",
              "      <td>заказали кальян  хотели посидеть расслабиться ...</td>\n",
              "    </tr>\n",
              "    <tr>\n",
              "      <th>141594</th>\n",
              "      <td>0</td>\n",
              "      <td>персонал не вежливый  сказали все есть из меню...</td>\n",
              "    </tr>\n",
              "    <tr>\n",
              "      <th>141595</th>\n",
              "      <td>0</td>\n",
              "      <td>зашли покурить кальян  попить чаю  заказали ка...</td>\n",
              "    </tr>\n",
              "    <tr>\n",
              "      <th>141596</th>\n",
              "      <td>0</td>\n",
              "      <td>мне понравилось  быстро подошла официантка  бы...</td>\n",
              "    </tr>\n",
              "    <tr>\n",
              "      <th>141597</th>\n",
              "      <td>0</td>\n",
              "      <td>классное каффе  мясные блюда на     алкоголь т...</td>\n",
              "    </tr>\n",
              "  </tbody>\n",
              "</table>\n",
              "<p>141598 rows × 2 columns</p>\n",
              "</div>\n",
              "      <button class=\"colab-df-convert\" onclick=\"convertToInteractive('df-0c5f6c85-c93b-499e-b476-1eab379fc521')\"\n",
              "              title=\"Convert this dataframe to an interactive table.\"\n",
              "              style=\"display:none;\">\n",
              "        \n",
              "  <svg xmlns=\"http://www.w3.org/2000/svg\" height=\"24px\"viewBox=\"0 0 24 24\"\n",
              "       width=\"24px\">\n",
              "    <path d=\"M0 0h24v24H0V0z\" fill=\"none\"/>\n",
              "    <path d=\"M18.56 5.44l.94 2.06.94-2.06 2.06-.94-2.06-.94-.94-2.06-.94 2.06-2.06.94zm-11 1L8.5 8.5l.94-2.06 2.06-.94-2.06-.94L8.5 2.5l-.94 2.06-2.06.94zm10 10l.94 2.06.94-2.06 2.06-.94-2.06-.94-.94-2.06-.94 2.06-2.06.94z\"/><path d=\"M17.41 7.96l-1.37-1.37c-.4-.4-.92-.59-1.43-.59-.52 0-1.04.2-1.43.59L10.3 9.45l-7.72 7.72c-.78.78-.78 2.05 0 2.83L4 21.41c.39.39.9.59 1.41.59.51 0 1.02-.2 1.41-.59l7.78-7.78 2.81-2.81c.8-.78.8-2.07 0-2.86zM5.41 20L4 18.59l7.72-7.72 1.47 1.35L5.41 20z\"/>\n",
              "  </svg>\n",
              "      </button>\n",
              "      \n",
              "  <style>\n",
              "    .colab-df-container {\n",
              "      display:flex;\n",
              "      flex-wrap:wrap;\n",
              "      gap: 12px;\n",
              "    }\n",
              "\n",
              "    .colab-df-convert {\n",
              "      background-color: #E8F0FE;\n",
              "      border: none;\n",
              "      border-radius: 50%;\n",
              "      cursor: pointer;\n",
              "      display: none;\n",
              "      fill: #1967D2;\n",
              "      height: 32px;\n",
              "      padding: 0 0 0 0;\n",
              "      width: 32px;\n",
              "    }\n",
              "\n",
              "    .colab-df-convert:hover {\n",
              "      background-color: #E2EBFA;\n",
              "      box-shadow: 0px 1px 2px rgba(60, 64, 67, 0.3), 0px 1px 3px 1px rgba(60, 64, 67, 0.15);\n",
              "      fill: #174EA6;\n",
              "    }\n",
              "\n",
              "    [theme=dark] .colab-df-convert {\n",
              "      background-color: #3B4455;\n",
              "      fill: #D2E3FC;\n",
              "    }\n",
              "\n",
              "    [theme=dark] .colab-df-convert:hover {\n",
              "      background-color: #434B5C;\n",
              "      box-shadow: 0px 1px 3px 1px rgba(0, 0, 0, 0.15);\n",
              "      filter: drop-shadow(0px 1px 2px rgba(0, 0, 0, 0.3));\n",
              "      fill: #FFFFFF;\n",
              "    }\n",
              "  </style>\n",
              "\n",
              "      <script>\n",
              "        const buttonEl =\n",
              "          document.querySelector('#df-0c5f6c85-c93b-499e-b476-1eab379fc521 button.colab-df-convert');\n",
              "        buttonEl.style.display =\n",
              "          google.colab.kernel.accessAllowed ? 'block' : 'none';\n",
              "\n",
              "        async function convertToInteractive(key) {\n",
              "          const element = document.querySelector('#df-0c5f6c85-c93b-499e-b476-1eab379fc521');\n",
              "          const dataTable =\n",
              "            await google.colab.kernel.invokeFunction('convertToInteractive',\n",
              "                                                     [key], {});\n",
              "          if (!dataTable) return;\n",
              "\n",
              "          const docLinkHtml = 'Like what you see? Visit the ' +\n",
              "            '<a target=\"_blank\" href=https://colab.research.google.com/notebooks/data_table.ipynb>data table notebook</a>'\n",
              "            + ' to learn more about interactive tables.';\n",
              "          element.innerHTML = '';\n",
              "          dataTable['output_type'] = 'display_data';\n",
              "          await google.colab.output.renderOutput(dataTable, element);\n",
              "          const docLink = document.createElement('div');\n",
              "          docLink.innerHTML = docLinkHtml;\n",
              "          element.appendChild(docLink);\n",
              "        }\n",
              "      </script>\n",
              "    </div>\n",
              "  </div>\n",
              "  "
            ]
          },
          "metadata": {},
          "execution_count": 23
        }
      ],
      "source": [
        "df.data = df.data.str.lower().replace(r\"[^а-я]\", \" \", regex=True)\n",
        "df"
      ]
    },
    {
      "cell_type": "code",
      "execution_count": 24,
      "metadata": {
        "id": "rKtMHcT0Y4SN",
        "colab": {
          "base_uri": "https://localhost:8080/",
          "height": 423
        },
        "outputId": "62b0558f-a2a1-4444-df76-bc34f87120fd"
      },
      "outputs": [
        {
          "output_type": "execute_result",
          "data": {
            "text/plain": [
              "        target                                               data\n",
              "0            0  экскурсия очень любить производственный экскур...\n",
              "1            1  часто ходить это кафе красивый интерьер очень ...\n",
              "2            1  вкусный мороженое кофе яблочный пирог мятый об...\n",
              "3            1  хороший мороженный разнообразие выбор вкус веж...\n",
              "4            0  ставить звезда лишь вкусный мороженое отсутств...\n",
              "...        ...                                                ...\n",
              "141593       0  заказать кальян хотеть посидеть расслабиться и...\n",
              "141594       0  персонал вежливый сказать меню весь выпечка ко...\n",
              "141595       0  заслать покурить кальян попить чай заказать ка...\n",
              "141596       0  понравиться быстро подойти официантка быстро п...\n",
              "141597       0  классный мясной блюдо алкоголь дорога морс клю...\n",
              "\n",
              "[141598 rows x 2 columns]"
            ],
            "text/html": [
              "\n",
              "  <div id=\"df-645027fa-61f0-4a08-8169-df0548003789\">\n",
              "    <div class=\"colab-df-container\">\n",
              "      <div>\n",
              "<style scoped>\n",
              "    .dataframe tbody tr th:only-of-type {\n",
              "        vertical-align: middle;\n",
              "    }\n",
              "\n",
              "    .dataframe tbody tr th {\n",
              "        vertical-align: top;\n",
              "    }\n",
              "\n",
              "    .dataframe thead th {\n",
              "        text-align: right;\n",
              "    }\n",
              "</style>\n",
              "<table border=\"1\" class=\"dataframe\">\n",
              "  <thead>\n",
              "    <tr style=\"text-align: right;\">\n",
              "      <th></th>\n",
              "      <th>target</th>\n",
              "      <th>data</th>\n",
              "    </tr>\n",
              "  </thead>\n",
              "  <tbody>\n",
              "    <tr>\n",
              "      <th>0</th>\n",
              "      <td>0</td>\n",
              "      <td>экскурсия очень любить производственный экскур...</td>\n",
              "    </tr>\n",
              "    <tr>\n",
              "      <th>1</th>\n",
              "      <td>1</td>\n",
              "      <td>часто ходить это кафе красивый интерьер очень ...</td>\n",
              "    </tr>\n",
              "    <tr>\n",
              "      <th>2</th>\n",
              "      <td>1</td>\n",
              "      <td>вкусный мороженое кофе яблочный пирог мятый об...</td>\n",
              "    </tr>\n",
              "    <tr>\n",
              "      <th>3</th>\n",
              "      <td>1</td>\n",
              "      <td>хороший мороженный разнообразие выбор вкус веж...</td>\n",
              "    </tr>\n",
              "    <tr>\n",
              "      <th>4</th>\n",
              "      <td>0</td>\n",
              "      <td>ставить звезда лишь вкусный мороженое отсутств...</td>\n",
              "    </tr>\n",
              "    <tr>\n",
              "      <th>...</th>\n",
              "      <td>...</td>\n",
              "      <td>...</td>\n",
              "    </tr>\n",
              "    <tr>\n",
              "      <th>141593</th>\n",
              "      <td>0</td>\n",
              "      <td>заказать кальян хотеть посидеть расслабиться и...</td>\n",
              "    </tr>\n",
              "    <tr>\n",
              "      <th>141594</th>\n",
              "      <td>0</td>\n",
              "      <td>персонал вежливый сказать меню весь выпечка ко...</td>\n",
              "    </tr>\n",
              "    <tr>\n",
              "      <th>141595</th>\n",
              "      <td>0</td>\n",
              "      <td>заслать покурить кальян попить чай заказать ка...</td>\n",
              "    </tr>\n",
              "    <tr>\n",
              "      <th>141596</th>\n",
              "      <td>0</td>\n",
              "      <td>понравиться быстро подойти официантка быстро п...</td>\n",
              "    </tr>\n",
              "    <tr>\n",
              "      <th>141597</th>\n",
              "      <td>0</td>\n",
              "      <td>классный мясной блюдо алкоголь дорога морс клю...</td>\n",
              "    </tr>\n",
              "  </tbody>\n",
              "</table>\n",
              "<p>141598 rows × 2 columns</p>\n",
              "</div>\n",
              "      <button class=\"colab-df-convert\" onclick=\"convertToInteractive('df-645027fa-61f0-4a08-8169-df0548003789')\"\n",
              "              title=\"Convert this dataframe to an interactive table.\"\n",
              "              style=\"display:none;\">\n",
              "        \n",
              "  <svg xmlns=\"http://www.w3.org/2000/svg\" height=\"24px\"viewBox=\"0 0 24 24\"\n",
              "       width=\"24px\">\n",
              "    <path d=\"M0 0h24v24H0V0z\" fill=\"none\"/>\n",
              "    <path d=\"M18.56 5.44l.94 2.06.94-2.06 2.06-.94-2.06-.94-.94-2.06-.94 2.06-2.06.94zm-11 1L8.5 8.5l.94-2.06 2.06-.94-2.06-.94L8.5 2.5l-.94 2.06-2.06.94zm10 10l.94 2.06.94-2.06 2.06-.94-2.06-.94-.94-2.06-.94 2.06-2.06.94z\"/><path d=\"M17.41 7.96l-1.37-1.37c-.4-.4-.92-.59-1.43-.59-.52 0-1.04.2-1.43.59L10.3 9.45l-7.72 7.72c-.78.78-.78 2.05 0 2.83L4 21.41c.39.39.9.59 1.41.59.51 0 1.02-.2 1.41-.59l7.78-7.78 2.81-2.81c.8-.78.8-2.07 0-2.86zM5.41 20L4 18.59l7.72-7.72 1.47 1.35L5.41 20z\"/>\n",
              "  </svg>\n",
              "      </button>\n",
              "      \n",
              "  <style>\n",
              "    .colab-df-container {\n",
              "      display:flex;\n",
              "      flex-wrap:wrap;\n",
              "      gap: 12px;\n",
              "    }\n",
              "\n",
              "    .colab-df-convert {\n",
              "      background-color: #E8F0FE;\n",
              "      border: none;\n",
              "      border-radius: 50%;\n",
              "      cursor: pointer;\n",
              "      display: none;\n",
              "      fill: #1967D2;\n",
              "      height: 32px;\n",
              "      padding: 0 0 0 0;\n",
              "      width: 32px;\n",
              "    }\n",
              "\n",
              "    .colab-df-convert:hover {\n",
              "      background-color: #E2EBFA;\n",
              "      box-shadow: 0px 1px 2px rgba(60, 64, 67, 0.3), 0px 1px 3px 1px rgba(60, 64, 67, 0.15);\n",
              "      fill: #174EA6;\n",
              "    }\n",
              "\n",
              "    [theme=dark] .colab-df-convert {\n",
              "      background-color: #3B4455;\n",
              "      fill: #D2E3FC;\n",
              "    }\n",
              "\n",
              "    [theme=dark] .colab-df-convert:hover {\n",
              "      background-color: #434B5C;\n",
              "      box-shadow: 0px 1px 3px 1px rgba(0, 0, 0, 0.15);\n",
              "      filter: drop-shadow(0px 1px 2px rgba(0, 0, 0, 0.3));\n",
              "      fill: #FFFFFF;\n",
              "    }\n",
              "  </style>\n",
              "\n",
              "      <script>\n",
              "        const buttonEl =\n",
              "          document.querySelector('#df-645027fa-61f0-4a08-8169-df0548003789 button.colab-df-convert');\n",
              "        buttonEl.style.display =\n",
              "          google.colab.kernel.accessAllowed ? 'block' : 'none';\n",
              "\n",
              "        async function convertToInteractive(key) {\n",
              "          const element = document.querySelector('#df-645027fa-61f0-4a08-8169-df0548003789');\n",
              "          const dataTable =\n",
              "            await google.colab.kernel.invokeFunction('convertToInteractive',\n",
              "                                                     [key], {});\n",
              "          if (!dataTable) return;\n",
              "\n",
              "          const docLinkHtml = 'Like what you see? Visit the ' +\n",
              "            '<a target=\"_blank\" href=https://colab.research.google.com/notebooks/data_table.ipynb>data table notebook</a>'\n",
              "            + ' to learn more about interactive tables.';\n",
              "          element.innerHTML = '';\n",
              "          dataTable['output_type'] = 'display_data';\n",
              "          await google.colab.output.renderOutput(dataTable, element);\n",
              "          const docLink = document.createElement('div');\n",
              "          docLink.innerHTML = docLinkHtml;\n",
              "          element.appendChild(docLink);\n",
              "        }\n",
              "      </script>\n",
              "    </div>\n",
              "  </div>\n",
              "  "
            ]
          },
          "metadata": {},
          "execution_count": 24
        }
      ],
      "source": [
        "def lemmatize(words):\n",
        "  lemmatized_words = []\n",
        "  for word in word_tokenize(words):\n",
        "    if word not in stop_words:\n",
        "      parse = morph_analyzer.parse(word)[0]\n",
        "      if parse.is_known and parse.normal_form not in stop_words:\n",
        "        lemmatized_words.append(parse.normal_form)\n",
        "  return \" \".join(lemmatized_words)\n",
        "\n",
        "stop_words = stopwords.words('russian')\n",
        "morph_analyzer = MorphAnalyzer()\n",
        "\n",
        "df.data  = df.data.apply(lemmatize)\n",
        "lem_df = df.copy(deep=True)\n",
        "df"
      ]
    },
    {
      "cell_type": "markdown",
      "metadata": {
        "id": "NDM4AZdmd0bl"
      },
      "source": [
        "Для векторизации текста необходимо:\n",
        "\n",
        "1.  Составить словарь вида токен: число, где токен - это уникальное слово или специальный тег: \\<PAD> - тег для отступа, \\<UNK> - тег для неизвестного токена\n",
        "\n",
        "2.  Вычислить длину наибольшего отзыва по количеству слов\n",
        "\n",
        "3.  Преобразовать каждое слово в отзыве в число с помощью словаря и дополнить его тегом \\<PAD> до нужной длины"
      ]
    },
    {
      "cell_type": "code",
      "execution_count": 25,
      "metadata": {
        "id": "L4RMQVYWdzZb"
      },
      "outputs": [],
      "source": [
        "words = ['<PAD>', '<UNK>'] + list(set(word for review in df.data for word in word_tokenize(review)))\n",
        "word2vec = defaultdict(lambda: 1, {word: i for i, word in enumerate(words)})\n",
        "longest_review = df.data.str.split().apply(len).max()"
      ]
    },
    {
      "cell_type": "code",
      "execution_count": 26,
      "metadata": {
        "id": "A6fsA5W6UZIq",
        "colab": {
          "base_uri": "https://localhost:8080/"
        },
        "outputId": "6dd85b00-1e8b-4d2e-8d0c-a5113a915016"
      },
      "outputs": [
        {
          "output_type": "execute_result",
          "data": {
            "text/plain": [
              "(742, 26343)"
            ]
          },
          "metadata": {},
          "execution_count": 26
        }
      ],
      "source": [
        "longest_review, len(words)"
      ]
    },
    {
      "cell_type": "code",
      "execution_count": 27,
      "metadata": {
        "id": "V2u6OWPdvmem"
      },
      "outputs": [],
      "source": [
        "def vectorize(review):\n",
        "  vector = [0] * longest_review\n",
        "  for i, word in enumerate(word_tokenize(review)):\n",
        "    vector[i] = word2vec[word]\n",
        "  return torch.tensor(vector, dtype=torch.long)"
      ]
    },
    {
      "cell_type": "code",
      "execution_count": 28,
      "metadata": {
        "colab": {
          "base_uri": "https://localhost:8080/",
          "height": 423
        },
        "id": "WOWw2EgQkiOf",
        "outputId": "a36c5b76-0e31-4f53-a299-1f8beb1ed441"
      },
      "outputs": [
        {
          "output_type": "execute_result",
          "data": {
            "text/plain": [
              "        target                                               data\n",
              "0            0  [tensor(22606), tensor(18935), tensor(7958), t...\n",
              "1            1  [tensor(22327), tensor(22829), tensor(9765), t...\n",
              "2            1  [tensor(25479), tensor(10119), tensor(24449), ...\n",
              "3            1  [tensor(17029), tensor(15208), tensor(5043), t...\n",
              "4            0  [tensor(1973), tensor(21707), tensor(13052), t...\n",
              "...        ...                                                ...\n",
              "141593       0  [tensor(4939), tensor(8411), tensor(10766), te...\n",
              "141594       0  [tensor(21393), tensor(20610), tensor(1985), t...\n",
              "141595       0  [tensor(5237), tensor(11413), tensor(8411), te...\n",
              "141596       0  [tensor(19439), tensor(12556), tensor(24525), ...\n",
              "141597       0  [tensor(7410), tensor(9260), tensor(15453), te...\n",
              "\n",
              "[141598 rows x 2 columns]"
            ],
            "text/html": [
              "\n",
              "  <div id=\"df-b65c68fa-457b-4f58-9bbc-96f83aeb7bc5\">\n",
              "    <div class=\"colab-df-container\">\n",
              "      <div>\n",
              "<style scoped>\n",
              "    .dataframe tbody tr th:only-of-type {\n",
              "        vertical-align: middle;\n",
              "    }\n",
              "\n",
              "    .dataframe tbody tr th {\n",
              "        vertical-align: top;\n",
              "    }\n",
              "\n",
              "    .dataframe thead th {\n",
              "        text-align: right;\n",
              "    }\n",
              "</style>\n",
              "<table border=\"1\" class=\"dataframe\">\n",
              "  <thead>\n",
              "    <tr style=\"text-align: right;\">\n",
              "      <th></th>\n",
              "      <th>target</th>\n",
              "      <th>data</th>\n",
              "    </tr>\n",
              "  </thead>\n",
              "  <tbody>\n",
              "    <tr>\n",
              "      <th>0</th>\n",
              "      <td>0</td>\n",
              "      <td>[tensor(22606), tensor(18935), tensor(7958), t...</td>\n",
              "    </tr>\n",
              "    <tr>\n",
              "      <th>1</th>\n",
              "      <td>1</td>\n",
              "      <td>[tensor(22327), tensor(22829), tensor(9765), t...</td>\n",
              "    </tr>\n",
              "    <tr>\n",
              "      <th>2</th>\n",
              "      <td>1</td>\n",
              "      <td>[tensor(25479), tensor(10119), tensor(24449), ...</td>\n",
              "    </tr>\n",
              "    <tr>\n",
              "      <th>3</th>\n",
              "      <td>1</td>\n",
              "      <td>[tensor(17029), tensor(15208), tensor(5043), t...</td>\n",
              "    </tr>\n",
              "    <tr>\n",
              "      <th>4</th>\n",
              "      <td>0</td>\n",
              "      <td>[tensor(1973), tensor(21707), tensor(13052), t...</td>\n",
              "    </tr>\n",
              "    <tr>\n",
              "      <th>...</th>\n",
              "      <td>...</td>\n",
              "      <td>...</td>\n",
              "    </tr>\n",
              "    <tr>\n",
              "      <th>141593</th>\n",
              "      <td>0</td>\n",
              "      <td>[tensor(4939), tensor(8411), tensor(10766), te...</td>\n",
              "    </tr>\n",
              "    <tr>\n",
              "      <th>141594</th>\n",
              "      <td>0</td>\n",
              "      <td>[tensor(21393), tensor(20610), tensor(1985), t...</td>\n",
              "    </tr>\n",
              "    <tr>\n",
              "      <th>141595</th>\n",
              "      <td>0</td>\n",
              "      <td>[tensor(5237), tensor(11413), tensor(8411), te...</td>\n",
              "    </tr>\n",
              "    <tr>\n",
              "      <th>141596</th>\n",
              "      <td>0</td>\n",
              "      <td>[tensor(19439), tensor(12556), tensor(24525), ...</td>\n",
              "    </tr>\n",
              "    <tr>\n",
              "      <th>141597</th>\n",
              "      <td>0</td>\n",
              "      <td>[tensor(7410), tensor(9260), tensor(15453), te...</td>\n",
              "    </tr>\n",
              "  </tbody>\n",
              "</table>\n",
              "<p>141598 rows × 2 columns</p>\n",
              "</div>\n",
              "      <button class=\"colab-df-convert\" onclick=\"convertToInteractive('df-b65c68fa-457b-4f58-9bbc-96f83aeb7bc5')\"\n",
              "              title=\"Convert this dataframe to an interactive table.\"\n",
              "              style=\"display:none;\">\n",
              "        \n",
              "  <svg xmlns=\"http://www.w3.org/2000/svg\" height=\"24px\"viewBox=\"0 0 24 24\"\n",
              "       width=\"24px\">\n",
              "    <path d=\"M0 0h24v24H0V0z\" fill=\"none\"/>\n",
              "    <path d=\"M18.56 5.44l.94 2.06.94-2.06 2.06-.94-2.06-.94-.94-2.06-.94 2.06-2.06.94zm-11 1L8.5 8.5l.94-2.06 2.06-.94-2.06-.94L8.5 2.5l-.94 2.06-2.06.94zm10 10l.94 2.06.94-2.06 2.06-.94-2.06-.94-.94-2.06-.94 2.06-2.06.94z\"/><path d=\"M17.41 7.96l-1.37-1.37c-.4-.4-.92-.59-1.43-.59-.52 0-1.04.2-1.43.59L10.3 9.45l-7.72 7.72c-.78.78-.78 2.05 0 2.83L4 21.41c.39.39.9.59 1.41.59.51 0 1.02-.2 1.41-.59l7.78-7.78 2.81-2.81c.8-.78.8-2.07 0-2.86zM5.41 20L4 18.59l7.72-7.72 1.47 1.35L5.41 20z\"/>\n",
              "  </svg>\n",
              "      </button>\n",
              "      \n",
              "  <style>\n",
              "    .colab-df-container {\n",
              "      display:flex;\n",
              "      flex-wrap:wrap;\n",
              "      gap: 12px;\n",
              "    }\n",
              "\n",
              "    .colab-df-convert {\n",
              "      background-color: #E8F0FE;\n",
              "      border: none;\n",
              "      border-radius: 50%;\n",
              "      cursor: pointer;\n",
              "      display: none;\n",
              "      fill: #1967D2;\n",
              "      height: 32px;\n",
              "      padding: 0 0 0 0;\n",
              "      width: 32px;\n",
              "    }\n",
              "\n",
              "    .colab-df-convert:hover {\n",
              "      background-color: #E2EBFA;\n",
              "      box-shadow: 0px 1px 2px rgba(60, 64, 67, 0.3), 0px 1px 3px 1px rgba(60, 64, 67, 0.15);\n",
              "      fill: #174EA6;\n",
              "    }\n",
              "\n",
              "    [theme=dark] .colab-df-convert {\n",
              "      background-color: #3B4455;\n",
              "      fill: #D2E3FC;\n",
              "    }\n",
              "\n",
              "    [theme=dark] .colab-df-convert:hover {\n",
              "      background-color: #434B5C;\n",
              "      box-shadow: 0px 1px 3px 1px rgba(0, 0, 0, 0.15);\n",
              "      filter: drop-shadow(0px 1px 2px rgba(0, 0, 0, 0.3));\n",
              "      fill: #FFFFFF;\n",
              "    }\n",
              "  </style>\n",
              "\n",
              "      <script>\n",
              "        const buttonEl =\n",
              "          document.querySelector('#df-b65c68fa-457b-4f58-9bbc-96f83aeb7bc5 button.colab-df-convert');\n",
              "        buttonEl.style.display =\n",
              "          google.colab.kernel.accessAllowed ? 'block' : 'none';\n",
              "\n",
              "        async function convertToInteractive(key) {\n",
              "          const element = document.querySelector('#df-b65c68fa-457b-4f58-9bbc-96f83aeb7bc5');\n",
              "          const dataTable =\n",
              "            await google.colab.kernel.invokeFunction('convertToInteractive',\n",
              "                                                     [key], {});\n",
              "          if (!dataTable) return;\n",
              "\n",
              "          const docLinkHtml = 'Like what you see? Visit the ' +\n",
              "            '<a target=\"_blank\" href=https://colab.research.google.com/notebooks/data_table.ipynb>data table notebook</a>'\n",
              "            + ' to learn more about interactive tables.';\n",
              "          element.innerHTML = '';\n",
              "          dataTable['output_type'] = 'display_data';\n",
              "          await google.colab.output.renderOutput(dataTable, element);\n",
              "          const docLink = document.createElement('div');\n",
              "          docLink.innerHTML = docLinkHtml;\n",
              "          element.appendChild(docLink);\n",
              "        }\n",
              "      </script>\n",
              "    </div>\n",
              "  </div>\n",
              "  "
            ]
          },
          "metadata": {},
          "execution_count": 28
        }
      ],
      "source": [
        "df.data = pd.Series(list(map(vectorize, df.data.to_list())))\n",
        "df"
      ]
    },
    {
      "cell_type": "code",
      "execution_count": 29,
      "metadata": {
        "colab": {
          "base_uri": "https://localhost:8080/"
        },
        "id": "2mMn1JVApg5y",
        "outputId": "a893f61c-9244-4ec0-a978-a334556755ee"
      },
      "outputs": [
        {
          "output_type": "execute_result",
          "data": {
            "text/plain": [
              "((113278, 2), (28320, 2))"
            ]
          },
          "metadata": {},
          "execution_count": 29
        }
      ],
      "source": [
        "train, test = train_test_split(df, test_size=0.2)\n",
        "train.shape, test.shape"
      ]
    },
    {
      "cell_type": "code",
      "execution_count": 30,
      "metadata": {
        "id": "xry8BWggzsBM"
      },
      "outputs": [],
      "source": [
        "class CustomDataset(Dataset):\n",
        "\n",
        "  def __init__(self, X, y):\n",
        "    self.X = X\n",
        "    self.y = y\n",
        "\n",
        "  def __len__(self):\n",
        "    return len(self.X)\n",
        "\n",
        "  def __getitem__(self, index):\n",
        "     return self.X[index], self.y[index]"
      ]
    },
    {
      "cell_type": "code",
      "execution_count": 31,
      "metadata": {
        "id": "gheVN6t0zYKr"
      },
      "outputs": [],
      "source": [
        "trainset = CustomDataset(train.data.to_list(), train.target.to_list())\n",
        "testset = CustomDataset(test.data.to_list(), test.target.to_list())"
      ]
    },
    {
      "cell_type": "code",
      "execution_count": 32,
      "metadata": {
        "id": "VNF7YL2Iprpk"
      },
      "outputs": [],
      "source": [
        "trainloader = DataLoader(trainset, batch_size=ceil(len(train)/NUM_BATCHES), shuffle=True, drop_last=True)\n",
        "testloader = DataLoader(testset, batch_size=trainloader.batch_size, drop_last=True)"
      ]
    },
    {
      "cell_type": "markdown",
      "metadata": {
        "id": "I0n7am6Sn0gf"
      },
      "source": [
        "# Создание и обучение моделей"
      ]
    },
    {
      "cell_type": "markdown",
      "metadata": {
        "id": "o_0r7DvgsjDJ"
      },
      "source": [
        "Существуют несколько подходов к классификации текстов, в данной работе будут рассмотрены следующие:\n",
        "\n",
        "1.  Многослойный перцептрон.\n",
        "\n",
        "2.  Сверточная сеть.\n",
        "\n",
        "3.  Реккурентная сеть с долгой краткосрочной паматью."
      ]
    },
    {
      "cell_type": "markdown",
      "metadata": {
        "id": "HtWRDwZe0WNa"
      },
      "source": [
        "## MLP"
      ]
    },
    {
      "cell_type": "code",
      "execution_count": 33,
      "metadata": {
        "id": "VG-Ljcib0XJe"
      },
      "outputs": [],
      "source": [
        "class MLP(nn.Module):\n",
        "\n",
        "    def __init__(self, num_embeddings: int, embedding_dim: int, out_features: int):\n",
        "        super(MLP, self).__init__()\n",
        "        self.embedding = nn.Embedding(num_embeddings=num_embeddings, embedding_dim=embedding_dim)\n",
        "        self.model = nn.Sequential(\n",
        "            nn.Dropout(),\n",
        "            nn.AdaptiveAvgPool1d(8),\n",
        "            nn.Flatten(1),\n",
        "            nn.Linear(embedding_dim * 8, 512),\n",
        "            nn.ReLU(),\n",
        "            nn.Dropout(),\n",
        "            nn.Linear(512, out_features),\n",
        "            nn.Sigmoid()\n",
        "        )\n",
        "\n",
        "    def forward(self, inputs):\n",
        "        inputs = self.embedding(inputs)\n",
        "        inputs = inputs.reshape(inputs.size(0), inputs.size(2), inputs.size(1))\n",
        "        return self.model(inputs).squeeze().to(torch.float)\n"
      ]
    },
    {
      "cell_type": "code",
      "execution_count": 34,
      "metadata": {
        "colab": {
          "base_uri": "https://localhost:8080/"
        },
        "id": "O8f5mED90XJf",
        "outputId": "e0dc29c2-32a2-4c32-85de-9c7b416aac75"
      },
      "outputs": [
        {
          "output_type": "execute_result",
          "data": {
            "text/plain": [
              "MLP(\n",
              "  (embedding): Embedding(26343, 64)\n",
              "  (model): Sequential(\n",
              "    (0): Dropout(p=0.5, inplace=False)\n",
              "    (1): AdaptiveAvgPool1d(output_size=8)\n",
              "    (2): Flatten(start_dim=1, end_dim=-1)\n",
              "    (3): Linear(in_features=512, out_features=512, bias=True)\n",
              "    (4): ReLU()\n",
              "    (5): Dropout(p=0.5, inplace=False)\n",
              "    (6): Linear(in_features=512, out_features=1, bias=True)\n",
              "    (7): Sigmoid()\n",
              "  )\n",
              ")"
            ]
          },
          "metadata": {},
          "execution_count": 34
        }
      ],
      "source": [
        "torch.cuda.empty_cache()\n",
        "mlp = MLP(\n",
        "        num_embeddings=len(word2vec),\n",
        "        embedding_dim=64,\n",
        "        out_features=1\n",
        ").to(DEVICE)\n",
        "loss_func = nn.BCELoss()\n",
        "optimizer = optim.Adam(mlp.parameters(), lr=0.0015)\n",
        "mlp"
      ]
    },
    {
      "cell_type": "code",
      "execution_count": 35,
      "metadata": {
        "colab": {
          "base_uri": "https://localhost:8080/"
        },
        "id": "cwt7hKlw0XJf",
        "outputId": "e1cad67d-8c7f-4f86-a55d-9bb0f03cae0f"
      },
      "outputs": [
        {
          "output_type": "stream",
          "name": "stdout",
          "text": [
            "epoch = 0; loss = 0.6546429812908172; time = 5.733416557312012\n",
            "epoch = 1; loss = 0.6376655906438827; time = 3.073922872543335\n",
            "epoch = 2; loss = 0.6116909921169281; time = 3.303413152694702\n",
            "epoch = 3; loss = 0.5702950954437256; time = 3.0229461193084717\n",
            "epoch = 4; loss = 0.5144495576620102; time = 3.016265630722046\n",
            "epoch = 5; loss = 0.47174899727106095; time = 3.032255172729492\n",
            "epoch = 6; loss = 0.44472273886203767; time = 3.299437999725342\n",
            "epoch = 7; loss = 0.42271832227706907; time = 3.1383330821990967\n",
            "epoch = 8; loss = 0.4078138113021851; time = 3.0173442363739014\n",
            "epoch = 9; loss = 0.39330525100231173; time = 3.040438175201416\n",
            "epoch = 10; loss = 0.3826185703277588; time = 3.4505372047424316\n",
            "epoch = 11; loss = 0.37448688596487045; time = 3.1813907623291016\n",
            "epoch = 12; loss = 0.36845154464244845; time = 3.0415852069854736\n",
            "epoch = 13; loss = 0.3609362617135048; time = 3.0480127334594727\n",
            "epoch = 14; loss = 0.3562648564577103; time = 3.104235887527466\n",
            "epoch = 15; loss = 0.34993830174207685; time = 3.3146891593933105\n",
            "epoch = 16; loss = 0.34650426506996157; time = 3.0514540672302246\n",
            "epoch = 17; loss = 0.3444401651620865; time = 3.0631637573242188\n",
            "epoch = 18; loss = 0.3384919032454491; time = 3.20466685295105\n",
            "epoch = 19; loss = 0.33544807732105253; time = 3.5147316455841064\n",
            "epoch = 20; loss = 0.3332459107041359; time = 3.233194589614868\n",
            "epoch = 21; loss = 0.33021552562713624; time = 3.051091432571411\n",
            "epoch = 22; loss = 0.32611793279647827; time = 3.0524415969848633\n",
            "epoch = 23; loss = 0.32608981877565385; time = 3.1431212425231934\n",
            "epoch = 24; loss = 0.32253160774707795; time = 3.5411064624786377\n",
            "epoch = 25; loss = 0.3211649045348167; time = 3.0622494220733643\n",
            "epoch = 26; loss = 0.31790912598371507; time = 3.075432300567627\n",
            "epoch = 27; loss = 0.31580768525600433; time = 3.0668632984161377\n",
            "epoch = 28; loss = 0.31442068219184877; time = 3.3662397861480713\n",
            "epoch = 29; loss = 0.31124002635478976; time = 3.108531951904297\n",
            "epoch = 30; loss = 0.31012733578681945; time = 3.080644130706787\n",
            "epoch = 31; loss = 0.3078617095947266; time = 3.0730202198028564\n",
            "epoch = 32; loss = 0.30719980895519255; time = 3.273151397705078\n",
            "epoch = 33; loss = 0.30481908172369004; time = 3.160982131958008\n",
            "epoch = 34; loss = 0.30498862117528913; time = 3.0844473838806152\n",
            "epoch = 35; loss = 0.30204149931669233; time = 3.068136692047119\n",
            "epoch = 36; loss = 0.3010846346616745; time = 3.1624374389648438\n",
            "epoch = 37; loss = 0.3003678575158119; time = 3.2672340869903564\n",
            "epoch = 38; loss = 0.29797781109809873; time = 3.064141035079956\n",
            "epoch = 39; loss = 0.29659922420978546; time = 3.2908780574798584\n",
            "epoch = 40; loss = 0.2958707183599472; time = 3.1845240592956543\n",
            "epoch = 41; loss = 0.29554358422756194; time = 3.3281052112579346\n",
            "epoch = 42; loss = 0.2937885522842407; time = 3.0804972648620605\n",
            "epoch = 43; loss = 0.29194162487983705; time = 3.103041887283325\n",
            "epoch = 44; loss = 0.2911910593509674; time = 3.0930018424987793\n",
            "epoch = 45; loss = 0.28990315794944765; time = 3.336463212966919\n",
            "epoch = 46; loss = 0.28996783643960955; time = 3.124730348587036\n",
            "epoch = 47; loss = 0.2885213315486908; time = 3.0950472354888916\n",
            "epoch = 48; loss = 0.2879323437809944; time = 3.1002695560455322\n",
            "epoch = 49; loss = 0.2856442049145699; time = 3.259427070617676\n"
          ]
        }
      ],
      "source": [
        "mlp.train()\n",
        "mlp_losses = []\n",
        "mlp_time = []\n",
        "for epoch in range(EPOCHS):\n",
        "  start = time.time()\n",
        "  losses_sum = 0\n",
        "  for X, y in trainloader:\n",
        "    optimizer.zero_grad()\n",
        "    X, y = X.to(torch.long).to(DEVICE), y.to(torch.float).to(DEVICE)\n",
        "    pred = mlp(X)\n",
        "    loss_val = loss_func(pred, y)\n",
        "    loss_val.backward()\n",
        "    losses_sum += loss_val.cpu().item()\n",
        "    optimizer.step()\n",
        "  mlp_time.append(time.time() - start)\n",
        "  mlp_losses.append(losses_sum / NUM_BATCHES)\n",
        "  print(f\"{epoch = }; loss = {mlp_losses[-1]}; time = {mlp_time[-1]}\")"
      ]
    },
    {
      "cell_type": "code",
      "execution_count": 36,
      "metadata": {
        "id": "35hcPNRR0XJf"
      },
      "outputs": [],
      "source": [
        "mlp.eval()\n",
        "mlp_correct_pred = 0\n",
        "mlp_preds = []\n",
        "with torch.no_grad():\n",
        "  for X, y in testloader:\n",
        "    X, y = X.to(torch.long).to(DEVICE), y.to(torch.float).to(DEVICE)\n",
        "    pred = mlp(X).round()\n",
        "    mlp_preds.append(pred.cpu())\n",
        "    mlp_correct_pred += (pred == y).type(torch.float).sum().item()"
      ]
    },
    {
      "cell_type": "markdown",
      "metadata": {
        "id": "caeVM83qt64O"
      },
      "source": [
        "## CNN"
      ]
    },
    {
      "cell_type": "code",
      "execution_count": 37,
      "metadata": {
        "id": "rKoJvt6PfmP6"
      },
      "outputs": [],
      "source": [
        "class CNN(nn.Module):\n",
        "\n",
        "    def __init__(self, num_embeddings: int, embedding_dim: int, out_features: int):\n",
        "        super(CNN, self).__init__()\n",
        "        self.embedding = nn.Embedding(num_embeddings=num_embeddings, embedding_dim=embedding_dim)\n",
        "        self.model = nn.Sequential(\n",
        "            nn.Dropout(),\n",
        "            nn.Conv1d(in_channels=embedding_dim, out_channels=128, kernel_size=2),\n",
        "            nn.BatchNorm1d(num_features=128),\n",
        "            nn.ReLU(),\n",
        "            nn.MaxPool1d(kernel_size=2),\n",
        "            nn.AdaptiveAvgPool1d(8),\n",
        "            nn.Flatten(1),\n",
        "            nn.Linear(128 * 8, 512),\n",
        "            nn.ReLU(),\n",
        "            nn.Dropout(),\n",
        "            nn.Linear(512, out_features),\n",
        "            nn.Sigmoid()\n",
        "        )\n",
        "\n",
        "    def forward(self, inputs):\n",
        "        inputs = self.embedding(inputs)\n",
        "        inputs = inputs.reshape(inputs.size(0), inputs.size(2), inputs.size(1))\n",
        "        return self.model(inputs).squeeze().to(torch.float)\n"
      ]
    },
    {
      "cell_type": "code",
      "execution_count": 38,
      "metadata": {
        "colab": {
          "base_uri": "https://localhost:8080/"
        },
        "id": "Iuout2z2frgY",
        "outputId": "f9b0bf24-627b-4d73-d140-f7fcab943d15"
      },
      "outputs": [
        {
          "output_type": "execute_result",
          "data": {
            "text/plain": [
              "CNN(\n",
              "  (embedding): Embedding(26343, 64)\n",
              "  (model): Sequential(\n",
              "    (0): Dropout(p=0.5, inplace=False)\n",
              "    (1): Conv1d(64, 128, kernel_size=(2,), stride=(1,))\n",
              "    (2): BatchNorm1d(128, eps=1e-05, momentum=0.1, affine=True, track_running_stats=True)\n",
              "    (3): ReLU()\n",
              "    (4): MaxPool1d(kernel_size=2, stride=2, padding=0, dilation=1, ceil_mode=False)\n",
              "    (5): AdaptiveAvgPool1d(output_size=8)\n",
              "    (6): Flatten(start_dim=1, end_dim=-1)\n",
              "    (7): Linear(in_features=1024, out_features=512, bias=True)\n",
              "    (8): ReLU()\n",
              "    (9): Dropout(p=0.5, inplace=False)\n",
              "    (10): Linear(in_features=512, out_features=1, bias=True)\n",
              "    (11): Sigmoid()\n",
              "  )\n",
              ")"
            ]
          },
          "metadata": {},
          "execution_count": 38
        }
      ],
      "source": [
        "torch.cuda.empty_cache()\n",
        "cnn = CNN(\n",
        "        num_embeddings=len(word2vec),\n",
        "        embedding_dim=64,\n",
        "        out_features=1\n",
        ").to(DEVICE)\n",
        "loss_func = nn.BCELoss()\n",
        "optimizer = optim.Adam(cnn.parameters(), lr=0.0015)\n",
        "cnn"
      ]
    },
    {
      "cell_type": "code",
      "execution_count": 39,
      "metadata": {
        "colab": {
          "base_uri": "https://localhost:8080/"
        },
        "id": "hQl5CJO3f9L5",
        "outputId": "cde1cc72-3896-4965-95db-608395ae843e"
      },
      "outputs": [
        {
          "output_type": "stream",
          "name": "stdout",
          "text": [
            "epoch = 0; loss = 0.7466755986213685; time = 15.512970924377441\n",
            "epoch = 1; loss = 0.6573276281356811; time = 10.893354654312134\n",
            "epoch = 2; loss = 0.6572335243225098; time = 10.80963921546936\n",
            "epoch = 3; loss = 0.6568463653326034; time = 10.813987255096436\n",
            "epoch = 4; loss = 0.656738105416298; time = 10.89394474029541\n",
            "epoch = 5; loss = 0.6567801862955094; time = 10.81177806854248\n",
            "epoch = 6; loss = 0.6567058086395263; time = 10.796883821487427\n",
            "epoch = 7; loss = 0.656692487001419; time = 10.83105206489563\n",
            "epoch = 8; loss = 0.6566302418708801; time = 10.949282169342041\n",
            "epoch = 9; loss = 0.6564744621515274; time = 10.875086545944214\n",
            "epoch = 10; loss = 0.6564827978610992; time = 11.019275188446045\n",
            "epoch = 11; loss = 0.6564769178628922; time = 10.844869613647461\n",
            "epoch = 12; loss = 0.6562146782875061; time = 10.888309717178345\n",
            "epoch = 13; loss = 0.6559582263231277; time = 10.834753274917603\n",
            "epoch = 14; loss = 0.6549448370933533; time = 11.080991744995117\n",
            "epoch = 15; loss = 0.649103793501854; time = 10.922029972076416\n",
            "epoch = 16; loss = 0.6194244980812073; time = 10.839189767837524\n",
            "epoch = 17; loss = 0.5028351530432701; time = 10.829851150512695\n",
            "epoch = 18; loss = 0.42586860805749893; time = 10.854013681411743\n",
            "epoch = 19; loss = 0.39722385853528974; time = 10.917078495025635\n",
            "epoch = 20; loss = 0.382479190826416; time = 10.882257461547852\n",
            "epoch = 21; loss = 0.37171670794487; time = 10.830934047698975\n",
            "epoch = 22; loss = 0.3683874994516373; time = 10.826501846313477\n",
            "epoch = 23; loss = 0.36122792959213257; time = 10.939338207244873\n",
            "epoch = 24; loss = 0.35660105347633364; time = 10.852422952651978\n",
            "epoch = 25; loss = 0.3541755720973015; time = 10.844133138656616\n",
            "epoch = 26; loss = 0.34941834062337873; time = 10.817378759384155\n",
            "epoch = 27; loss = 0.34646175503730775; time = 10.931847333908081\n",
            "epoch = 28; loss = 0.3446935430169106; time = 11.081895589828491\n",
            "epoch = 29; loss = 0.34087028056383134; time = 10.879471063613892\n",
            "epoch = 30; loss = 0.3397808402776718; time = 11.004338026046753\n",
            "epoch = 31; loss = 0.33448584377765656; time = 10.839941263198853\n",
            "epoch = 32; loss = 0.3348074570298195; time = 10.849185705184937\n",
            "epoch = 33; loss = 0.33426800519227984; time = 10.859884023666382\n",
            "epoch = 34; loss = 0.33308742940425873; time = 10.916083335876465\n",
            "epoch = 35; loss = 0.3318787649273872; time = 10.856987714767456\n",
            "epoch = 36; loss = 0.33014471381902694; time = 10.85028338432312\n",
            "epoch = 37; loss = 0.3282263293862343; time = 10.84260892868042\n",
            "epoch = 38; loss = 0.3257095828652382; time = 10.967055797576904\n",
            "epoch = 39; loss = 0.32261200398206713; time = 10.841034650802612\n",
            "epoch = 40; loss = 0.3226833149790764; time = 10.859668254852295\n",
            "epoch = 41; loss = 0.31977647095918654; time = 10.829527139663696\n",
            "epoch = 42; loss = 0.32163155227899554; time = 10.947359323501587\n",
            "epoch = 43; loss = 0.3194368287920952; time = 10.886430740356445\n",
            "epoch = 44; loss = 0.3209220215678215; time = 11.054850339889526\n",
            "epoch = 45; loss = 0.31628683358430865; time = 10.897882223129272\n",
            "epoch = 46; loss = 0.31593616902828214; time = 10.818583965301514\n",
            "epoch = 47; loss = 0.31606166809797287; time = 10.833315372467041\n",
            "epoch = 48; loss = 0.31319026201963424; time = 10.876816749572754\n",
            "epoch = 49; loss = 0.3100574895739555; time = 10.952499151229858\n"
          ]
        }
      ],
      "source": [
        "cnn.train()\n",
        "cnn_losses = []\n",
        "cnn_time = []\n",
        "for epoch in range(EPOCHS):\n",
        "  start = time.time()\n",
        "  losses_sum = 0\n",
        "  for X, y in trainloader:\n",
        "    optimizer.zero_grad()\n",
        "    X, y = X.to(torch.long).to(DEVICE), y.to(torch.float).to(DEVICE)\n",
        "    pred = cnn(X)\n",
        "    loss_val = loss_func(pred, y)\n",
        "    loss_val.backward()\n",
        "    losses_sum += loss_val.cpu().item()\n",
        "    optimizer.step()\n",
        "  cnn_time.append(time.time() - start)\n",
        "  cnn_losses.append(losses_sum / NUM_BATCHES)\n",
        "  print(f\"{epoch = }; loss = {cnn_losses[-1]}; time = {cnn_time[-1]}\")"
      ]
    },
    {
      "cell_type": "code",
      "execution_count": 40,
      "metadata": {
        "id": "3APnSyGmzU4g"
      },
      "outputs": [],
      "source": [
        "cnn.eval()\n",
        "cnn_correct_pred = 0\n",
        "cnn_preds = []\n",
        "with torch.no_grad():\n",
        "  for X, y in testloader:\n",
        "    X, y = X.to(torch.long).to(DEVICE), y.to(torch.float).to(DEVICE)\n",
        "    pred = cnn(X).round()\n",
        "    cnn_preds.append(pred.cpu())\n",
        "    cnn_correct_pred += (pred == y).type(torch.float).sum().item()"
      ]
    },
    {
      "cell_type": "markdown",
      "metadata": {
        "id": "VDijDAkk1YzF"
      },
      "source": [
        "## LSTM"
      ]
    },
    {
      "cell_type": "code",
      "execution_count": 41,
      "metadata": {
        "id": "GID7nPya2ORo"
      },
      "outputs": [],
      "source": [
        "class LSTM(nn.Module):\n",
        "\n",
        "    def __init__(self, num_embeddings: int, embedding_dim: int, hidden_dim: int, vector_size: int, layers: int, out_features: int):\n",
        "        super(LSTM, self).__init__()\n",
        "        self.embedding = nn.Embedding(num_embeddings, hidden_dim)\n",
        "        self.lstm = nn.LSTM(hidden_dim, hidden_dim, layers, batch_first=True)\n",
        "        self.h = None\n",
        "        self.c = None\n",
        "        self.model = nn.Sequential(\n",
        "            nn.Flatten(1),\n",
        "            nn.Linear(hidden_dim * vector_size, 256),\n",
        "            nn.ReLU(),\n",
        "            nn.Dropout(),\n",
        "            nn.Linear(256, out_features),\n",
        "            nn.Sigmoid()\n",
        "        )\n",
        "\n",
        "\n",
        "    def forward(self, inputs):\n",
        "        if self.h is not None and self.c is not None:\n",
        "          hc = self.h, self.c\n",
        "        else:\n",
        "          hc = None\n",
        "        out = self.embedding(inputs)\n",
        "        out, (h, c) = self.lstm(out, (hc))\n",
        "        self.h = h.detach()\n",
        "        self.c = c.detach()\n",
        "        out = self.model(out)\n",
        "        return out.squeeze().to(torch.float)\n"
      ]
    },
    {
      "cell_type": "code",
      "execution_count": 42,
      "metadata": {
        "colab": {
          "base_uri": "https://localhost:8080/"
        },
        "id": "zRHDTCxJ2ORp",
        "outputId": "33da389b-9aa9-4e95-aea3-4957083f3047"
      },
      "outputs": [
        {
          "output_type": "execute_result",
          "data": {
            "text/plain": [
              "LSTM(\n",
              "  (embedding): Embedding(26343, 8)\n",
              "  (lstm): LSTM(8, 8, num_layers=2, batch_first=True)\n",
              "  (model): Sequential(\n",
              "    (0): Flatten(start_dim=1, end_dim=-1)\n",
              "    (1): Linear(in_features=5936, out_features=256, bias=True)\n",
              "    (2): ReLU()\n",
              "    (3): Dropout(p=0.5, inplace=False)\n",
              "    (4): Linear(in_features=256, out_features=1, bias=True)\n",
              "    (5): Sigmoid()\n",
              "  )\n",
              ")"
            ]
          },
          "metadata": {},
          "execution_count": 42
        }
      ],
      "source": [
        "torch.cuda.empty_cache()\n",
        "lstm = LSTM(\n",
        "        num_embeddings=len(word2vec),\n",
        "        embedding_dim=64,\n",
        "        hidden_dim=8,\n",
        "        vector_size=longest_review,\n",
        "        layers=2,\n",
        "        out_features=1\n",
        ").to(DEVICE)\n",
        "loss_func = nn.BCELoss()\n",
        "optimizer = optim.Adam(lstm.parameters(), lr=0.0015)\n",
        "lstm"
      ]
    },
    {
      "cell_type": "code",
      "execution_count": 43,
      "metadata": {
        "id": "LKBZhxe82ORq",
        "colab": {
          "base_uri": "https://localhost:8080/"
        },
        "outputId": "6ba907c1-a22f-4bc1-ff03-dc314eddc1de"
      },
      "outputs": [
        {
          "output_type": "stream",
          "name": "stdout",
          "text": [
            "epoch = 0; loss = 0.7246993362903595; time = 5.762162923812866\n",
            "epoch = 1; loss = 0.6570133596658707; time = 4.909477472305298\n",
            "epoch = 2; loss = 0.655879682302475; time = 4.681903839111328\n",
            "epoch = 3; loss = 0.6529113292694092; time = 5.03232741355896\n",
            "epoch = 4; loss = 0.6446059674024582; time = 4.805310487747192\n",
            "epoch = 5; loss = 0.6358262121677398; time = 4.674296617507935\n",
            "epoch = 6; loss = 0.6272922247648239; time = 4.866993188858032\n",
            "epoch = 7; loss = 0.6076403677463531; time = 4.755643844604492\n",
            "epoch = 8; loss = 0.5601221799850464; time = 4.713821887969971\n",
            "epoch = 9; loss = 0.5207110673189164; time = 4.926917791366577\n",
            "epoch = 10; loss = 0.4866581246256828; time = 4.739572763442993\n",
            "epoch = 11; loss = 0.4575347602367401; time = 4.744812965393066\n",
            "epoch = 12; loss = 0.4329586237668991; time = 4.955005168914795\n",
            "epoch = 13; loss = 0.41849476397037505; time = 4.7424328327178955\n",
            "epoch = 14; loss = 0.40577698349952696; time = 4.745717763900757\n",
            "epoch = 15; loss = 0.3965264156460762; time = 4.955268859863281\n",
            "epoch = 16; loss = 0.38571799397468565; time = 4.742830991744995\n",
            "epoch = 17; loss = 0.3744528815150261; time = 4.810518741607666\n",
            "epoch = 18; loss = 0.36634400188922883; time = 5.1095311641693115\n",
            "epoch = 19; loss = 0.35677235573530197; time = 4.728031873703003\n",
            "epoch = 20; loss = 0.3544783353805542; time = 4.920323610305786\n",
            "epoch = 21; loss = 0.34767540991306306; time = 4.761868953704834\n",
            "epoch = 22; loss = 0.34007346332073213; time = 4.722930908203125\n",
            "epoch = 23; loss = 0.33410742729902265; time = 4.965951204299927\n",
            "epoch = 24; loss = 0.33002603650093076; time = 4.687072277069092\n",
            "epoch = 25; loss = 0.3252541169524193; time = 4.6860597133636475\n",
            "epoch = 26; loss = 0.3192219346761703; time = 4.934633731842041\n",
            "epoch = 27; loss = 0.3164053797721863; time = 4.711386442184448\n",
            "epoch = 28; loss = 0.31290031522512435; time = 4.72517466545105\n",
            "epoch = 29; loss = 0.3128242388367653; time = 4.926645517349243\n",
            "epoch = 30; loss = 0.3070073202252388; time = 4.700429201126099\n",
            "epoch = 31; loss = 0.30668202191591265; time = 4.7655861377716064\n",
            "epoch = 32; loss = 0.30133838951587677; time = 5.122053146362305\n",
            "epoch = 33; loss = 0.2984191536903381; time = 4.695056200027466\n",
            "epoch = 34; loss = 0.2943989187479019; time = 4.860768556594849\n",
            "epoch = 35; loss = 0.29149905443191526; time = 4.775451898574829\n",
            "epoch = 36; loss = 0.29083948135375975; time = 4.7065110206604\n",
            "epoch = 37; loss = 0.2869267284870148; time = 4.8902459144592285\n",
            "epoch = 38; loss = 0.28579023778438567; time = 4.741124629974365\n",
            "epoch = 39; loss = 0.2849890634417534; time = 4.708395481109619\n",
            "epoch = 40; loss = 0.28300132751464846; time = 4.948659658432007\n",
            "epoch = 41; loss = 0.27982999980449674; time = 4.710039377212524\n",
            "epoch = 42; loss = 0.2776684731245041; time = 4.72070574760437\n",
            "epoch = 43; loss = 0.27441135942935946; time = 4.944874286651611\n",
            "epoch = 44; loss = 0.27190223783254625; time = 4.821531534194946\n",
            "epoch = 45; loss = 0.270807746052742; time = 4.939689874649048\n",
            "epoch = 46; loss = 0.26826178282499313; time = 4.904746770858765\n",
            "epoch = 47; loss = 0.2674898460507393; time = 4.719197511672974\n",
            "epoch = 48; loss = 0.2665786474943161; time = 5.121685266494751\n",
            "epoch = 49; loss = 0.2626694396138191; time = 4.783494234085083\n"
          ]
        }
      ],
      "source": [
        "lstm.train()\n",
        "lstm_losses = []\n",
        "lstm_time = []\n",
        "for epoch in range(EPOCHS):\n",
        "  start = time.time()\n",
        "  losses_sum = 0\n",
        "  for X, y in trainloader:\n",
        "    optimizer.zero_grad()\n",
        "    X, y = X.to(torch.long).to(DEVICE), y.to(torch.float).to(DEVICE)\n",
        "    pred = lstm(X)\n",
        "    loss_val = loss_func(pred, y)\n",
        "    loss_val.backward()\n",
        "    losses_sum += loss_val.cpu().item()\n",
        "    optimizer.step()\n",
        "  lstm_time.append(time.time() - start)\n",
        "  lstm_losses.append(losses_sum / NUM_BATCHES)\n",
        "  print(f\"{epoch = }; loss = {lstm_losses[-1]}; time = {lstm_time[-1]}\")"
      ]
    },
    {
      "cell_type": "code",
      "execution_count": 44,
      "metadata": {
        "id": "wCi6XvBP2ORq"
      },
      "outputs": [],
      "source": [
        "lstm.eval()\n",
        "lstm_correct_pred = 0\n",
        "lstm_preds = []\n",
        "with torch.no_grad():\n",
        "  for X, y in testloader:\n",
        "    X, y = X.to(torch.long).to(DEVICE), y.to(torch.float).to(DEVICE)\n",
        "    pred = lstm(X).round()\n",
        "    lstm_preds.append(pred.cpu())\n",
        "    lstm_correct_pred += (pred == y).type(torch.float).sum().item()"
      ]
    },
    {
      "cell_type": "markdown",
      "metadata": {
        "id": "AVy2kbZKU06g"
      },
      "source": [
        "# Сравнение эффективностей моделей"
      ]
    },
    {
      "cell_type": "code",
      "execution_count": 58,
      "metadata": {
        "id": "YvnHLArSU-pk",
        "colab": {
          "base_uri": "https://localhost:8080/",
          "height": 598
        },
        "outputId": "fd8b6763-59d6-4ad3-f021-084524195438"
      },
      "outputs": [
        {
          "output_type": "execute_result",
          "data": {
            "text/plain": [
              "     Balanced accuracy Cohen Kappa Coefficient Average time\n",
              "mlp           0.871483                0.740983     3.211654\n",
              "cnn           0.859139                0.710792    10.977777\n",
              "lstm          0.865763                0.731247     4.840497"
            ],
            "text/html": [
              "\n",
              "  <div id=\"df-0b5b9109-f941-422f-987c-dbb0bfe0b777\">\n",
              "    <div class=\"colab-df-container\">\n",
              "      <div>\n",
              "<style scoped>\n",
              "    .dataframe tbody tr th:only-of-type {\n",
              "        vertical-align: middle;\n",
              "    }\n",
              "\n",
              "    .dataframe tbody tr th {\n",
              "        vertical-align: top;\n",
              "    }\n",
              "\n",
              "    .dataframe thead th {\n",
              "        text-align: right;\n",
              "    }\n",
              "</style>\n",
              "<table border=\"1\" class=\"dataframe\">\n",
              "  <thead>\n",
              "    <tr style=\"text-align: right;\">\n",
              "      <th></th>\n",
              "      <th>Balanced accuracy</th>\n",
              "      <th>Cohen Kappa Coefficient</th>\n",
              "      <th>Average time</th>\n",
              "    </tr>\n",
              "  </thead>\n",
              "  <tbody>\n",
              "    <tr>\n",
              "      <th>mlp</th>\n",
              "      <td>0.871483</td>\n",
              "      <td>0.740983</td>\n",
              "      <td>3.211654</td>\n",
              "    </tr>\n",
              "    <tr>\n",
              "      <th>cnn</th>\n",
              "      <td>0.859139</td>\n",
              "      <td>0.710792</td>\n",
              "      <td>10.977777</td>\n",
              "    </tr>\n",
              "    <tr>\n",
              "      <th>lstm</th>\n",
              "      <td>0.865763</td>\n",
              "      <td>0.731247</td>\n",
              "      <td>4.840497</td>\n",
              "    </tr>\n",
              "  </tbody>\n",
              "</table>\n",
              "</div>\n",
              "      <button class=\"colab-df-convert\" onclick=\"convertToInteractive('df-0b5b9109-f941-422f-987c-dbb0bfe0b777')\"\n",
              "              title=\"Convert this dataframe to an interactive table.\"\n",
              "              style=\"display:none;\">\n",
              "        \n",
              "  <svg xmlns=\"http://www.w3.org/2000/svg\" height=\"24px\"viewBox=\"0 0 24 24\"\n",
              "       width=\"24px\">\n",
              "    <path d=\"M0 0h24v24H0V0z\" fill=\"none\"/>\n",
              "    <path d=\"M18.56 5.44l.94 2.06.94-2.06 2.06-.94-2.06-.94-.94-2.06-.94 2.06-2.06.94zm-11 1L8.5 8.5l.94-2.06 2.06-.94-2.06-.94L8.5 2.5l-.94 2.06-2.06.94zm10 10l.94 2.06.94-2.06 2.06-.94-2.06-.94-.94-2.06-.94 2.06-2.06.94z\"/><path d=\"M17.41 7.96l-1.37-1.37c-.4-.4-.92-.59-1.43-.59-.52 0-1.04.2-1.43.59L10.3 9.45l-7.72 7.72c-.78.78-.78 2.05 0 2.83L4 21.41c.39.39.9.59 1.41.59.51 0 1.02-.2 1.41-.59l7.78-7.78 2.81-2.81c.8-.78.8-2.07 0-2.86zM5.41 20L4 18.59l7.72-7.72 1.47 1.35L5.41 20z\"/>\n",
              "  </svg>\n",
              "      </button>\n",
              "      \n",
              "  <style>\n",
              "    .colab-df-container {\n",
              "      display:flex;\n",
              "      flex-wrap:wrap;\n",
              "      gap: 12px;\n",
              "    }\n",
              "\n",
              "    .colab-df-convert {\n",
              "      background-color: #E8F0FE;\n",
              "      border: none;\n",
              "      border-radius: 50%;\n",
              "      cursor: pointer;\n",
              "      display: none;\n",
              "      fill: #1967D2;\n",
              "      height: 32px;\n",
              "      padding: 0 0 0 0;\n",
              "      width: 32px;\n",
              "    }\n",
              "\n",
              "    .colab-df-convert:hover {\n",
              "      background-color: #E2EBFA;\n",
              "      box-shadow: 0px 1px 2px rgba(60, 64, 67, 0.3), 0px 1px 3px 1px rgba(60, 64, 67, 0.15);\n",
              "      fill: #174EA6;\n",
              "    }\n",
              "\n",
              "    [theme=dark] .colab-df-convert {\n",
              "      background-color: #3B4455;\n",
              "      fill: #D2E3FC;\n",
              "    }\n",
              "\n",
              "    [theme=dark] .colab-df-convert:hover {\n",
              "      background-color: #434B5C;\n",
              "      box-shadow: 0px 1px 3px 1px rgba(0, 0, 0, 0.15);\n",
              "      filter: drop-shadow(0px 1px 2px rgba(0, 0, 0, 0.3));\n",
              "      fill: #FFFFFF;\n",
              "    }\n",
              "  </style>\n",
              "\n",
              "      <script>\n",
              "        const buttonEl =\n",
              "          document.querySelector('#df-0b5b9109-f941-422f-987c-dbb0bfe0b777 button.colab-df-convert');\n",
              "        buttonEl.style.display =\n",
              "          google.colab.kernel.accessAllowed ? 'block' : 'none';\n",
              "\n",
              "        async function convertToInteractive(key) {\n",
              "          const element = document.querySelector('#df-0b5b9109-f941-422f-987c-dbb0bfe0b777');\n",
              "          const dataTable =\n",
              "            await google.colab.kernel.invokeFunction('convertToInteractive',\n",
              "                                                     [key], {});\n",
              "          if (!dataTable) return;\n",
              "\n",
              "          const docLinkHtml = 'Like what you see? Visit the ' +\n",
              "            '<a target=\"_blank\" href=https://colab.research.google.com/notebooks/data_table.ipynb>data table notebook</a>'\n",
              "            + ' to learn more about interactive tables.';\n",
              "          element.innerHTML = '';\n",
              "          dataTable['output_type'] = 'display_data';\n",
              "          await google.colab.output.renderOutput(dataTable, element);\n",
              "          const docLink = document.createElement('div');\n",
              "          docLink.innerHTML = docLinkHtml;\n",
              "          element.appendChild(docLink);\n",
              "        }\n",
              "      </script>\n",
              "    </div>\n",
              "  </div>\n",
              "  "
            ]
          },
          "metadata": {},
          "execution_count": 58
        },
        {
          "output_type": "display_data",
          "data": {
            "text/plain": [
              "<Figure size 640x480 with 1 Axes>"
            ],
            "image/png": "[encoded data removed]"
          },
          "metadata": {}
        }
      ],
      "source": [
        "labels = ['mlp', 'cnn', 'lstm']\n",
        "losses = [mlp_losses, cnn_losses, lstm_losses]\n",
        "preds = [torch.cat(mlp_preds), torch.cat(cnn_preds), torch.cat(lstm_preds)]\n",
        "correct_preds = [mlp_correct_pred, cnn_correct_pred, lstm_correct_pred]\n",
        "times = [mlp_time, cnn_time, lstm_time]\n",
        "colors = ['r', 'g', 'b']\n",
        "comparison_chart = pd.DataFrame([], columns=['Balanced accuracy', 'Cohen Kappa Coefficient', 'Average time'], index=labels)\n",
        "for i in range(3):\n",
        "  plt.plot(range(len(losses[i])), losses[i], c=colors[i], label=labels[i])\n",
        "  comparison_chart.loc[labels[i], :] = [balanced_accuracy_score(testset.y[:preds[i].size()[0]], preds[i]), cohen_kappa_score(testset.y[:preds[i].size()[0]], preds[i]), sum(times[i]) / len(times[i])]\n",
        "\n",
        "plt.title(\"Кривые обучения\")\n",
        "plt.xlabel(\"Эпохи\")\n",
        "plt.ylabel(\"Значение функции ошибки\")\n",
        "plt.legend()\n",
        "\n",
        "comparison_chart"
      ]
    },
    {
      "cell_type": "markdown",
      "metadata": {
        "id": "o798Nf6Ib7Fk"
      },
      "source": [
        "Исходя из данных, полученных выше, можно сделать вывод:\n",
        "\n",
        "*   Все три модели относительно равны судя по метрикам, вычисленным выше, за исключением сверточной нейронной сети, так как среднее время прохождения одной эпохи в 2.5 раза больше аналогичного у рекурретной сети с долгой краткосрочной памятью и в 5 раз больше, чем у многослойного перцептрона.\n",
        "\n",
        "*   Если предпологать, что эпох будет, то анализируя графики обучения сетей и прогнозируя их будущее поведение, можно сделать предположение, что рекурретный вариант сети достигнет значительно большей эффективности относительно других вариантов сетей.\n",
        "\n"
      ]
    }
  ],
  "metadata": {
    "accelerator": "GPU",
    "colab": {
      "provenance": []
    },
    "gpuClass": "standard",
    "kernelspec": {
      "display_name": "Python 3",
      "name": "python3"
    },
    "language_info": {
      "name": "python"
    }
  },
  "nbformat": 4,
  "nbformat_minor": 0
}