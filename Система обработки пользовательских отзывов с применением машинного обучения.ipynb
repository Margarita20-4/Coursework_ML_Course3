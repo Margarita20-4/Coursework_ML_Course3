{
  "nbformat": 4,
  "nbformat_minor": 0,
  "metadata": {
    "colab": {
      "provenance": [],
      "gpuType": "T4"
    },
    "kernelspec": {
      "name": "python3",
      "display_name": "Python 3"
    },
    "language_info": {
      "name": "python"
    },
    "accelerator": "GPU",
    "gpuClass": "standard"
  },
  "cells": [
    {
      "cell_type": "markdown",
      "source": [
        "# Предварительная подготовка"
      ],
      "metadata": {
        "id": "TSkw7ATwBwCp"
      }
    },
    {
      "cell_type": "markdown",
      "source": [
        "## Подключение Google Drive"
      ],
      "metadata": {
        "id": "iW7JsIXaB0xr"
      }
    },
    {
      "cell_type": "code",
      "source": [
        "from google.colab import drive\n",
        "drive.mount(\"/content/drive\")"
      ],
      "metadata": {
        "colab": {
          "base_uri": "https://localhost:8080/"
        },
        "id": "qYghNCfDBd7j",
        "outputId": "fe045728-c09e-46aa-8a24-a3693d5126ec"
      },
      "execution_count": 1,
      "outputs": [
        {
          "output_type": "stream",
          "name": "stdout",
          "text": [
            "Mounted at /content/drive\n"
          ]
        }
      ]
    },
    {
      "cell_type": "markdown",
      "source": [
        "## Импорт библиотек"
      ],
      "metadata": {
        "id": "jsTZ4cUhHqfl"
      }
    },
    {
      "cell_type": "code",
      "source": [
        "!pip install pymorphy2"
      ],
      "metadata": {
        "colab": {
          "base_uri": "https://localhost:8080/"
        },
        "id": "HNKL1WqSkN3d",
        "outputId": "3b6f8c36-a7c8-4ced-c917-c86e5f8e2e19"
      },
      "execution_count": 2,
      "outputs": [
        {
          "output_type": "stream",
          "name": "stdout",
          "text": [
            "Looking in indexes: https://pypi.org/simple, https://us-python.pkg.dev/colab-wheels/public/simple/\n",
            "Collecting pymorphy2\n",
            "  Downloading pymorphy2-0.9.1-py3-none-any.whl (55 kB)\n",
            "\u001b[2K     \u001b[90m━━━━━━━━━━━━━━━━━━━━━━━━━━━━━━━━━━━━━━━━\u001b[0m \u001b[32m55.5/55.5 kB\u001b[0m \u001b[31m7.3 MB/s\u001b[0m eta \u001b[36m0:00:00\u001b[0m\n",
            "\u001b[?25hCollecting dawg-python>=0.7.1 (from pymorphy2)\n",
            "  Downloading DAWG_Python-0.7.2-py2.py3-none-any.whl (11 kB)\n",
            "Collecting pymorphy2-dicts-ru<3.0,>=2.4 (from pymorphy2)\n",
            "  Downloading pymorphy2_dicts_ru-2.4.417127.4579844-py2.py3-none-any.whl (8.2 MB)\n",
            "\u001b[2K     \u001b[90m━━━━━━━━━━━━━━━━━━━━━━━━━━━━━━━━━━━━━━━━\u001b[0m \u001b[32m8.2/8.2 MB\u001b[0m \u001b[31m18.2 MB/s\u001b[0m eta \u001b[36m0:00:00\u001b[0m\n",
            "\u001b[?25hCollecting docopt>=0.6 (from pymorphy2)\n",
            "  Downloading docopt-0.6.2.tar.gz (25 kB)\n",
            "  Preparing metadata (setup.py) ... \u001b[?25l\u001b[?25hdone\n",
            "Building wheels for collected packages: docopt\n",
            "  Building wheel for docopt (setup.py) ... \u001b[?25l\u001b[?25hdone\n",
            "  Created wheel for docopt: filename=docopt-0.6.2-py2.py3-none-any.whl size=13707 sha256=adbd8dc03ae5e4c08a9cd5a7dde65775c893751289d923d7855118d4653e64d0\n",
            "  Stored in directory: /root/.cache/pip/wheels/fc/ab/d4/5da2067ac95b36618c629a5f93f809425700506f72c9732fac\n",
            "Successfully built docopt\n",
            "Installing collected packages: pymorphy2-dicts-ru, docopt, dawg-python, pymorphy2\n",
            "Successfully installed dawg-python-0.7.2 docopt-0.6.2 pymorphy2-0.9.1 pymorphy2-dicts-ru-2.4.417127.4579844\n"
          ]
        }
      ]
    },
    {
      "cell_type": "code",
      "source": [
        "import pandas as pd\n",
        "\n",
        "from sklearn.preprocessing import LabelEncoder\n",
        "from sklearn.model_selection import train_test_split\n",
        "\n",
        "import nltk\n",
        "from nltk.corpus import wordnet, stopwords\n",
        "from nltk.tokenize import word_tokenize\n",
        "\n",
        "from pymorphy2 import MorphAnalyzer\n",
        "\n",
        "from matplotlib import pyplot as plt\n",
        "\n",
        "from collections import defaultdict\n",
        "from math import ceil\n",
        "import time\n",
        "\n",
        "import torch\n",
        "import torch.cuda\n",
        "from torch import nn\n",
        "from torch import optim\n",
        "from torch.utils.data import DataLoader, Dataset\n",
        "\n",
        "from sklearn.metrics import precision_score, recall_score, f1_score"
      ],
      "metadata": {
        "id": "KJv2DEUQHtVu"
      },
      "execution_count": 45,
      "outputs": []
    },
    {
      "cell_type": "code",
      "source": [
        "nltk.download('averaged_perceptron_tagger')\n",
        "nltk.download('punkt')\n",
        "nltk.download('stopwords')"
      ],
      "metadata": {
        "colab": {
          "base_uri": "https://localhost:8080/"
        },
        "id": "mqF29L0fYFnt",
        "outputId": "c8c7f31b-29c4-4d87-9f10-4f8a4fc5ad2c"
      },
      "execution_count": 4,
      "outputs": [
        {
          "output_type": "stream",
          "name": "stderr",
          "text": [
            "[nltk_data] Downloading package averaged_perceptron_tagger to\n",
            "[nltk_data]     /root/nltk_data...\n",
            "[nltk_data]   Unzipping taggers/averaged_perceptron_tagger.zip.\n",
            "[nltk_data] Downloading package punkt to /root/nltk_data...\n",
            "[nltk_data]   Unzipping tokenizers/punkt.zip.\n",
            "[nltk_data] Downloading package stopwords to /root/nltk_data...\n",
            "[nltk_data]   Unzipping corpora/stopwords.zip.\n"
          ]
        },
        {
          "output_type": "execute_result",
          "data": {
            "text/plain": [
              "True"
            ]
          },
          "metadata": {},
          "execution_count": 4
        }
      ]
    },
    {
      "cell_type": "markdown",
      "source": [
        "## Параметры и константы"
      ],
      "metadata": {
        "id": "-iAtP0IKGiSS"
      }
    },
    {
      "cell_type": "markdown",
      "source": [
        "Для избежания влияния фактора случайности seed задается вручную"
      ],
      "metadata": {
        "id": "30rHZV--uQ7z"
      }
    },
    {
      "cell_type": "code",
      "source": [
        "torch.manual_seed(0)"
      ],
      "metadata": {
        "colab": {
          "base_uri": "https://localhost:8080/"
        },
        "id": "0pUy4CrWub78",
        "outputId": "415a80e6-cf7b-4981-9715-b8971660256c"
      },
      "execution_count": 5,
      "outputs": [
        {
          "output_type": "execute_result",
          "data": {
            "text/plain": [
              "<torch._C.Generator at 0x7fe85a3fce70>"
            ]
          },
          "metadata": {},
          "execution_count": 5
        }
      ]
    },
    {
      "cell_type": "code",
      "source": [
        "DATA_PATH = \"/content/drive/MyDrive/datasets/ready2020.csv\"\n",
        "DEVICE = \"cuda:0\" if torch.cuda.is_available() else \"cpu\"\n",
        "NUM_BATCHES = 20\n",
        "EPOCHS = 50"
      ],
      "metadata": {
        "id": "BJI34OiDGfSx"
      },
      "execution_count": 6,
      "outputs": []
    },
    {
      "cell_type": "markdown",
      "source": [
        "## Определение задачи и метрик"
      ],
      "metadata": {
        "id": "8wnsYOdXP_wC"
      }
    },
    {
      "cell_type": "markdown",
      "source": [
        "Задачей текущей работы является определение тональности текстов пользовательских отзывов или, другими словами, задачей является бинарная (что будет рассмотрено далее) классификация текстов.\n",
        "\n",
        "В качестве метрик эффективности логично будут использоваться:\n",
        "\n",
        "1.   Accuracy.\n",
        "\n",
        "2.   Precision.\n",
        "\n",
        "3.   Recall.\n",
        "\n",
        "4.   F1.\n",
        "\n",
        "5.   Время, затраченное на обучение модели.\n"
      ],
      "metadata": {
        "id": "WRf32uEgOppU"
      }
    },
    {
      "cell_type": "markdown",
      "source": [
        "# Загрузка и описание набора данных"
      ],
      "metadata": {
        "id": "fIHgRXC5HLKC"
      }
    },
    {
      "cell_type": "code",
      "source": [
        "df = pd.read_csv(DATA_PATH, sep=\";\", index_col=0)\n",
        "df"
      ],
      "metadata": {
        "colab": {
          "base_uri": "https://localhost:8080/",
          "height": 641
        },
        "id": "KgoqeY8dHxRV",
        "outputId": "1309564c-81bd-49be-d88a-a2fcaab2fb15"
      },
      "execution_count": 7,
      "outputs": [
        {
          "output_type": "execute_result",
          "data": {
            "text/plain": [
              "                    date                name  stars  \\\n",
              "1          29 марта 2020              ЯНатка    2.0   \n",
              "2          21 марта 2020             Анна М.    5.0   \n",
              "3        28 декабря 2020                Фима    5.0   \n",
              "4           28 июня 2020          Игорь Юдин    5.0   \n",
              "5         28 ноября 2020            Ольга -.    1.0   \n",
              "...                  ...                 ...    ...   \n",
              "103909      9 марта 2020       Иван Кузнецов    1.0   \n",
              "103910  27 сентября 2020            Мария З.    4.0   \n",
              "103911   12 октября 2020          Валерия Л.    5.0   \n",
              "103912   26 августа 2020        эрик моралес    5.0   \n",
              "103913      5 марта 2020  Евгений Жаворонков    4.0   \n",
              "\n",
              "                                                     text          X  \\\n",
              "1       Были на экскурсии. Я очень люблю производствен...  37.599740   \n",
              "2       Часто ходим в это кафе. Красивый интерьер, оче...  37.599740   \n",
              "3       Вкусное мороженое. С кофе и яблочным пирогом с...  37.599740   \n",
              "4       Хорошее мороженное, разнообразие выбора и вкус...  37.599740   \n",
              "5       Ставлю одну звезду лишь за вкусное мороженое. ...  37.599740   \n",
              "...                                                   ...        ...   \n",
              "103909  Зашли покурить кальян, попить чаю. Заказали ка...  37.593007   \n",
              "103910  Мне понравилось. Быстро подошла официантка, бы...  37.593007   \n",
              "103911  Очень вкусно, турецкая атмосфера🇹🇷Все понравил...  37.593007   \n",
              "103912  Госпади, как же тут вкусно готовят из простых ...  37.593007   \n",
              "103913  Классное каффе, мясные блюда на 5+! Алкоголь т...  37.593007   \n",
              "\n",
              "                Y              status  \n",
              "1       55.815575    Открыто до 20:00  \n",
              "2       55.815575    Открыто до 20:00  \n",
              "3       55.815575    Открыто до 20:00  \n",
              "4       55.815575    Открыто до 20:00  \n",
              "5       55.815575    Открыто до 20:00  \n",
              "...           ...                 ...  \n",
              "103909  55.750032  Больше не работает  \n",
              "103910  55.750032  Больше не работает  \n",
              "103911  55.750032  Больше не работает  \n",
              "103912  55.750032  Больше не работает  \n",
              "103913  55.750032  Больше не работает  \n",
              "\n",
              "[103913 rows x 7 columns]"
            ],
            "text/html": [
              "\n",
              "  <div id=\"df-bab4174d-615b-435a-a129-40815c9988c6\">\n",
              "    <div class=\"colab-df-container\">\n",
              "      <div>\n",
              "<style scoped>\n",
              "    .dataframe tbody tr th:only-of-type {\n",
              "        vertical-align: middle;\n",
              "    }\n",
              "\n",
              "    .dataframe tbody tr th {\n",
              "        vertical-align: top;\n",
              "    }\n",
              "\n",
              "    .dataframe thead th {\n",
              "        text-align: right;\n",
              "    }\n",
              "</style>\n",
              "<table border=\"1\" class=\"dataframe\">\n",
              "  <thead>\n",
              "    <tr style=\"text-align: right;\">\n",
              "      <th></th>\n",
              "      <th>date</th>\n",
              "      <th>name</th>\n",
              "      <th>stars</th>\n",
              "      <th>text</th>\n",
              "      <th>X</th>\n",
              "      <th>Y</th>\n",
              "      <th>status</th>\n",
              "    </tr>\n",
              "  </thead>\n",
              "  <tbody>\n",
              "    <tr>\n",
              "      <th>1</th>\n",
              "      <td>29 марта 2020</td>\n",
              "      <td>ЯНатка</td>\n",
              "      <td>2.0</td>\n",
              "      <td>Были на экскурсии. Я очень люблю производствен...</td>\n",
              "      <td>37.599740</td>\n",
              "      <td>55.815575</td>\n",
              "      <td>Открыто до 20:00</td>\n",
              "    </tr>\n",
              "    <tr>\n",
              "      <th>2</th>\n",
              "      <td>21 марта 2020</td>\n",
              "      <td>Анна М.</td>\n",
              "      <td>5.0</td>\n",
              "      <td>Часто ходим в это кафе. Красивый интерьер, оче...</td>\n",
              "      <td>37.599740</td>\n",
              "      <td>55.815575</td>\n",
              "      <td>Открыто до 20:00</td>\n",
              "    </tr>\n",
              "    <tr>\n",
              "      <th>3</th>\n",
              "      <td>28 декабря 2020</td>\n",
              "      <td>Фима</td>\n",
              "      <td>5.0</td>\n",
              "      <td>Вкусное мороженое. С кофе и яблочным пирогом с...</td>\n",
              "      <td>37.599740</td>\n",
              "      <td>55.815575</td>\n",
              "      <td>Открыто до 20:00</td>\n",
              "    </tr>\n",
              "    <tr>\n",
              "      <th>4</th>\n",
              "      <td>28 июня 2020</td>\n",
              "      <td>Игорь Юдин</td>\n",
              "      <td>5.0</td>\n",
              "      <td>Хорошее мороженное, разнообразие выбора и вкус...</td>\n",
              "      <td>37.599740</td>\n",
              "      <td>55.815575</td>\n",
              "      <td>Открыто до 20:00</td>\n",
              "    </tr>\n",
              "    <tr>\n",
              "      <th>5</th>\n",
              "      <td>28 ноября 2020</td>\n",
              "      <td>Ольга -.</td>\n",
              "      <td>1.0</td>\n",
              "      <td>Ставлю одну звезду лишь за вкусное мороженое. ...</td>\n",
              "      <td>37.599740</td>\n",
              "      <td>55.815575</td>\n",
              "      <td>Открыто до 20:00</td>\n",
              "    </tr>\n",
              "    <tr>\n",
              "      <th>...</th>\n",
              "      <td>...</td>\n",
              "      <td>...</td>\n",
              "      <td>...</td>\n",
              "      <td>...</td>\n",
              "      <td>...</td>\n",
              "      <td>...</td>\n",
              "      <td>...</td>\n",
              "    </tr>\n",
              "    <tr>\n",
              "      <th>103909</th>\n",
              "      <td>9 марта 2020</td>\n",
              "      <td>Иван Кузнецов</td>\n",
              "      <td>1.0</td>\n",
              "      <td>Зашли покурить кальян, попить чаю. Заказали ка...</td>\n",
              "      <td>37.593007</td>\n",
              "      <td>55.750032</td>\n",
              "      <td>Больше не работает</td>\n",
              "    </tr>\n",
              "    <tr>\n",
              "      <th>103910</th>\n",
              "      <td>27 сентября 2020</td>\n",
              "      <td>Мария З.</td>\n",
              "      <td>4.0</td>\n",
              "      <td>Мне понравилось. Быстро подошла официантка, бы...</td>\n",
              "      <td>37.593007</td>\n",
              "      <td>55.750032</td>\n",
              "      <td>Больше не работает</td>\n",
              "    </tr>\n",
              "    <tr>\n",
              "      <th>103911</th>\n",
              "      <td>12 октября 2020</td>\n",
              "      <td>Валерия Л.</td>\n",
              "      <td>5.0</td>\n",
              "      <td>Очень вкусно, турецкая атмосфера🇹🇷Все понравил...</td>\n",
              "      <td>37.593007</td>\n",
              "      <td>55.750032</td>\n",
              "      <td>Больше не работает</td>\n",
              "    </tr>\n",
              "    <tr>\n",
              "      <th>103912</th>\n",
              "      <td>26 августа 2020</td>\n",
              "      <td>эрик моралес</td>\n",
              "      <td>5.0</td>\n",
              "      <td>Госпади, как же тут вкусно готовят из простых ...</td>\n",
              "      <td>37.593007</td>\n",
              "      <td>55.750032</td>\n",
              "      <td>Больше не работает</td>\n",
              "    </tr>\n",
              "    <tr>\n",
              "      <th>103913</th>\n",
              "      <td>5 марта 2020</td>\n",
              "      <td>Евгений Жаворонков</td>\n",
              "      <td>4.0</td>\n",
              "      <td>Классное каффе, мясные блюда на 5+! Алкоголь т...</td>\n",
              "      <td>37.593007</td>\n",
              "      <td>55.750032</td>\n",
              "      <td>Больше не работает</td>\n",
              "    </tr>\n",
              "  </tbody>\n",
              "</table>\n",
              "<p>103913 rows × 7 columns</p>\n",
              "</div>\n",
              "      <button class=\"colab-df-convert\" onclick=\"convertToInteractive('df-bab4174d-615b-435a-a129-40815c9988c6')\"\n",
              "              title=\"Convert this dataframe to an interactive table.\"\n",
              "              style=\"display:none;\">\n",
              "        \n",
              "  <svg xmlns=\"http://www.w3.org/2000/svg\" height=\"24px\"viewBox=\"0 0 24 24\"\n",
              "       width=\"24px\">\n",
              "    <path d=\"M0 0h24v24H0V0z\" fill=\"none\"/>\n",
              "    <path d=\"M18.56 5.44l.94 2.06.94-2.06 2.06-.94-2.06-.94-.94-2.06-.94 2.06-2.06.94zm-11 1L8.5 8.5l.94-2.06 2.06-.94-2.06-.94L8.5 2.5l-.94 2.06-2.06.94zm10 10l.94 2.06.94-2.06 2.06-.94-2.06-.94-.94-2.06-.94 2.06-2.06.94z\"/><path d=\"M17.41 7.96l-1.37-1.37c-.4-.4-.92-.59-1.43-.59-.52 0-1.04.2-1.43.59L10.3 9.45l-7.72 7.72c-.78.78-.78 2.05 0 2.83L4 21.41c.39.39.9.59 1.41.59.51 0 1.02-.2 1.41-.59l7.78-7.78 2.81-2.81c.8-.78.8-2.07 0-2.86zM5.41 20L4 18.59l7.72-7.72 1.47 1.35L5.41 20z\"/>\n",
              "  </svg>\n",
              "      </button>\n",
              "      \n",
              "  <style>\n",
              "    .colab-df-container {\n",
              "      display:flex;\n",
              "      flex-wrap:wrap;\n",
              "      gap: 12px;\n",
              "    }\n",
              "\n",
              "    .colab-df-convert {\n",
              "      background-color: #E8F0FE;\n",
              "      border: none;\n",
              "      border-radius: 50%;\n",
              "      cursor: pointer;\n",
              "      display: none;\n",
              "      fill: #1967D2;\n",
              "      height: 32px;\n",
              "      padding: 0 0 0 0;\n",
              "      width: 32px;\n",
              "    }\n",
              "\n",
              "    .colab-df-convert:hover {\n",
              "      background-color: #E2EBFA;\n",
              "      box-shadow: 0px 1px 2px rgba(60, 64, 67, 0.3), 0px 1px 3px 1px rgba(60, 64, 67, 0.15);\n",
              "      fill: #174EA6;\n",
              "    }\n",
              "\n",
              "    [theme=dark] .colab-df-convert {\n",
              "      background-color: #3B4455;\n",
              "      fill: #D2E3FC;\n",
              "    }\n",
              "\n",
              "    [theme=dark] .colab-df-convert:hover {\n",
              "      background-color: #434B5C;\n",
              "      box-shadow: 0px 1px 3px 1px rgba(0, 0, 0, 0.15);\n",
              "      filter: drop-shadow(0px 1px 2px rgba(0, 0, 0, 0.3));\n",
              "      fill: #FFFFFF;\n",
              "    }\n",
              "  </style>\n",
              "\n",
              "      <script>\n",
              "        const buttonEl =\n",
              "          document.querySelector('#df-bab4174d-615b-435a-a129-40815c9988c6 button.colab-df-convert');\n",
              "        buttonEl.style.display =\n",
              "          google.colab.kernel.accessAllowed ? 'block' : 'none';\n",
              "\n",
              "        async function convertToInteractive(key) {\n",
              "          const element = document.querySelector('#df-bab4174d-615b-435a-a129-40815c9988c6');\n",
              "          const dataTable =\n",
              "            await google.colab.kernel.invokeFunction('convertToInteractive',\n",
              "                                                     [key], {});\n",
              "          if (!dataTable) return;\n",
              "\n",
              "          const docLinkHtml = 'Like what you see? Visit the ' +\n",
              "            '<a target=\"_blank\" href=https://colab.research.google.com/notebooks/data_table.ipynb>data table notebook</a>'\n",
              "            + ' to learn more about interactive tables.';\n",
              "          element.innerHTML = '';\n",
              "          dataTable['output_type'] = 'display_data';\n",
              "          await google.colab.output.renderOutput(dataTable, element);\n",
              "          const docLink = document.createElement('div');\n",
              "          docLink.innerHTML = docLinkHtml;\n",
              "          element.appendChild(docLink);\n",
              "        }\n",
              "      </script>\n",
              "    </div>\n",
              "  </div>\n",
              "  "
            ]
          },
          "metadata": {},
          "execution_count": 7
        }
      ]
    },
    {
      "cell_type": "markdown",
      "source": [
        "Набор данных представляет из себя пользовательские отзывы для кафе. Состоит из следующих полей:\n",
        "\n",
        "*   date:\n",
        "Дата, когда был оставлен отзыв\n",
        "\n",
        "*   name:\n",
        "Имя пользователя, оставившего отзыв\n",
        "\n",
        "*   start:\n",
        "Качественная оценка: сколько \"звезд\" поставил пользователь кафе\n",
        "\n",
        "*   text:\n",
        "Текст отзыва\n",
        "\n",
        "*   X, Y:\n",
        "Координаты кафе\n",
        "\n",
        "*   status:\n",
        "Статус кафе\n",
        "\n"
      ],
      "metadata": {
        "id": "vrBuAy90JEOR"
      }
    },
    {
      "cell_type": "code",
      "source": [
        "df.dtypes"
      ],
      "metadata": {
        "colab": {
          "base_uri": "https://localhost:8080/"
        },
        "id": "fBQOQC1cK7Hz",
        "outputId": "4ace88af-7a21-468c-cb87-11281546696b"
      },
      "execution_count": 8,
      "outputs": [
        {
          "output_type": "execute_result",
          "data": {
            "text/plain": [
              "date       object\n",
              "name       object\n",
              "stars     float64\n",
              "text       object\n",
              "X         float64\n",
              "Y         float64\n",
              "status     object\n",
              "dtype: object"
            ]
          },
          "metadata": {},
          "execution_count": 8
        }
      ]
    },
    {
      "cell_type": "code",
      "source": [
        "df.nunique()"
      ],
      "metadata": {
        "colab": {
          "base_uri": "https://localhost:8080/"
        },
        "id": "sXl66FAdLWDB",
        "outputId": "2589e059-b753-4b3f-ee12-0fbc676c2102"
      },
      "execution_count": 9,
      "outputs": [
        {
          "output_type": "execute_result",
          "data": {
            "text/plain": [
              "date        366\n",
              "name      55392\n",
              "stars         5\n",
              "text      96466\n",
              "X         12703\n",
              "Y         12604\n",
              "status      105\n",
              "dtype: int64"
            ]
          },
          "metadata": {},
          "execution_count": 9
        }
      ]
    },
    {
      "cell_type": "code",
      "source": [
        "df.info()"
      ],
      "metadata": {
        "colab": {
          "base_uri": "https://localhost:8080/"
        },
        "id": "4NDHDgyIOCEL",
        "outputId": "0337a95f-b16f-49b0-f5bb-fed18dfa78af"
      },
      "execution_count": 10,
      "outputs": [
        {
          "output_type": "stream",
          "name": "stdout",
          "text": [
            "<class 'pandas.core.frame.DataFrame'>\n",
            "Int64Index: 103913 entries, 1 to 103913\n",
            "Data columns (total 7 columns):\n",
            " #   Column  Non-Null Count   Dtype  \n",
            "---  ------  --------------   -----  \n",
            " 0   date    103913 non-null  object \n",
            " 1   name    103913 non-null  object \n",
            " 2   stars   103873 non-null  float64\n",
            " 3   text    103913 non-null  object \n",
            " 4   X       103860 non-null  float64\n",
            " 5   Y       103898 non-null  float64\n",
            " 6   status  103913 non-null  object \n",
            "dtypes: float64(3), object(4)\n",
            "memory usage: 6.3+ MB\n"
          ]
        }
      ]
    },
    {
      "cell_type": "code",
      "source": [
        "df.isna().sum()"
      ],
      "metadata": {
        "colab": {
          "base_uri": "https://localhost:8080/"
        },
        "id": "o2o4uIEiOIHL",
        "outputId": "8218aade-8b93-4f97-80b5-47bc7c6c56fd"
      },
      "execution_count": 11,
      "outputs": [
        {
          "output_type": "execute_result",
          "data": {
            "text/plain": [
              "date       0\n",
              "name       0\n",
              "stars     40\n",
              "text       0\n",
              "X         53\n",
              "Y         15\n",
              "status     0\n",
              "dtype: int64"
            ]
          },
          "metadata": {},
          "execution_count": 11
        }
      ]
    },
    {
      "cell_type": "code",
      "source": [
        "df.describe()"
      ],
      "metadata": {
        "colab": {
          "base_uri": "https://localhost:8080/",
          "height": 300
        },
        "id": "GeZs6RWnL0yV",
        "outputId": "4a6ea52c-06e6-4dde-e3e6-a74dfb15b081"
      },
      "execution_count": 12,
      "outputs": [
        {
          "output_type": "execute_result",
          "data": {
            "text/plain": [
              "               stars              X              Y\n",
              "count  103873.000000  103860.000000  103898.000000\n",
              "mean        4.072435      37.601472      55.740384\n",
              "std         1.444806       0.107218       0.076060\n",
              "min         1.000000      37.111775      55.276421\n",
              "25%         3.000000      37.538448      55.697861\n",
              "50%         5.000000      37.605595      55.751934\n",
              "75%         5.000000      37.658939      55.784803\n",
              "max         5.000000      37.946415      55.948805"
            ],
            "text/html": [
              "\n",
              "  <div id=\"df-1fd6a3ba-ce18-40e0-9739-e116b5a5b8f0\">\n",
              "    <div class=\"colab-df-container\">\n",
              "      <div>\n",
              "<style scoped>\n",
              "    .dataframe tbody tr th:only-of-type {\n",
              "        vertical-align: middle;\n",
              "    }\n",
              "\n",
              "    .dataframe tbody tr th {\n",
              "        vertical-align: top;\n",
              "    }\n",
              "\n",
              "    .dataframe thead th {\n",
              "        text-align: right;\n",
              "    }\n",
              "</style>\n",
              "<table border=\"1\" class=\"dataframe\">\n",
              "  <thead>\n",
              "    <tr style=\"text-align: right;\">\n",
              "      <th></th>\n",
              "      <th>stars</th>\n",
              "      <th>X</th>\n",
              "      <th>Y</th>\n",
              "    </tr>\n",
              "  </thead>\n",
              "  <tbody>\n",
              "    <tr>\n",
              "      <th>count</th>\n",
              "      <td>103873.000000</td>\n",
              "      <td>103860.000000</td>\n",
              "      <td>103898.000000</td>\n",
              "    </tr>\n",
              "    <tr>\n",
              "      <th>mean</th>\n",
              "      <td>4.072435</td>\n",
              "      <td>37.601472</td>\n",
              "      <td>55.740384</td>\n",
              "    </tr>\n",
              "    <tr>\n",
              "      <th>std</th>\n",
              "      <td>1.444806</td>\n",
              "      <td>0.107218</td>\n",
              "      <td>0.076060</td>\n",
              "    </tr>\n",
              "    <tr>\n",
              "      <th>min</th>\n",
              "      <td>1.000000</td>\n",
              "      <td>37.111775</td>\n",
              "      <td>55.276421</td>\n",
              "    </tr>\n",
              "    <tr>\n",
              "      <th>25%</th>\n",
              "      <td>3.000000</td>\n",
              "      <td>37.538448</td>\n",
              "      <td>55.697861</td>\n",
              "    </tr>\n",
              "    <tr>\n",
              "      <th>50%</th>\n",
              "      <td>5.000000</td>\n",
              "      <td>37.605595</td>\n",
              "      <td>55.751934</td>\n",
              "    </tr>\n",
              "    <tr>\n",
              "      <th>75%</th>\n",
              "      <td>5.000000</td>\n",
              "      <td>37.658939</td>\n",
              "      <td>55.784803</td>\n",
              "    </tr>\n",
              "    <tr>\n",
              "      <th>max</th>\n",
              "      <td>5.000000</td>\n",
              "      <td>37.946415</td>\n",
              "      <td>55.948805</td>\n",
              "    </tr>\n",
              "  </tbody>\n",
              "</table>\n",
              "</div>\n",
              "      <button class=\"colab-df-convert\" onclick=\"convertToInteractive('df-1fd6a3ba-ce18-40e0-9739-e116b5a5b8f0')\"\n",
              "              title=\"Convert this dataframe to an interactive table.\"\n",
              "              style=\"display:none;\">\n",
              "        \n",
              "  <svg xmlns=\"http://www.w3.org/2000/svg\" height=\"24px\"viewBox=\"0 0 24 24\"\n",
              "       width=\"24px\">\n",
              "    <path d=\"M0 0h24v24H0V0z\" fill=\"none\"/>\n",
              "    <path d=\"M18.56 5.44l.94 2.06.94-2.06 2.06-.94-2.06-.94-.94-2.06-.94 2.06-2.06.94zm-11 1L8.5 8.5l.94-2.06 2.06-.94-2.06-.94L8.5 2.5l-.94 2.06-2.06.94zm10 10l.94 2.06.94-2.06 2.06-.94-2.06-.94-.94-2.06-.94 2.06-2.06.94z\"/><path d=\"M17.41 7.96l-1.37-1.37c-.4-.4-.92-.59-1.43-.59-.52 0-1.04.2-1.43.59L10.3 9.45l-7.72 7.72c-.78.78-.78 2.05 0 2.83L4 21.41c.39.39.9.59 1.41.59.51 0 1.02-.2 1.41-.59l7.78-7.78 2.81-2.81c.8-.78.8-2.07 0-2.86zM5.41 20L4 18.59l7.72-7.72 1.47 1.35L5.41 20z\"/>\n",
              "  </svg>\n",
              "      </button>\n",
              "      \n",
              "  <style>\n",
              "    .colab-df-container {\n",
              "      display:flex;\n",
              "      flex-wrap:wrap;\n",
              "      gap: 12px;\n",
              "    }\n",
              "\n",
              "    .colab-df-convert {\n",
              "      background-color: #E8F0FE;\n",
              "      border: none;\n",
              "      border-radius: 50%;\n",
              "      cursor: pointer;\n",
              "      display: none;\n",
              "      fill: #1967D2;\n",
              "      height: 32px;\n",
              "      padding: 0 0 0 0;\n",
              "      width: 32px;\n",
              "    }\n",
              "\n",
              "    .colab-df-convert:hover {\n",
              "      background-color: #E2EBFA;\n",
              "      box-shadow: 0px 1px 2px rgba(60, 64, 67, 0.3), 0px 1px 3px 1px rgba(60, 64, 67, 0.15);\n",
              "      fill: #174EA6;\n",
              "    }\n",
              "\n",
              "    [theme=dark] .colab-df-convert {\n",
              "      background-color: #3B4455;\n",
              "      fill: #D2E3FC;\n",
              "    }\n",
              "\n",
              "    [theme=dark] .colab-df-convert:hover {\n",
              "      background-color: #434B5C;\n",
              "      box-shadow: 0px 1px 3px 1px rgba(0, 0, 0, 0.15);\n",
              "      filter: drop-shadow(0px 1px 2px rgba(0, 0, 0, 0.3));\n",
              "      fill: #FFFFFF;\n",
              "    }\n",
              "  </style>\n",
              "\n",
              "      <script>\n",
              "        const buttonEl =\n",
              "          document.querySelector('#df-1fd6a3ba-ce18-40e0-9739-e116b5a5b8f0 button.colab-df-convert');\n",
              "        buttonEl.style.display =\n",
              "          google.colab.kernel.accessAllowed ? 'block' : 'none';\n",
              "\n",
              "        async function convertToInteractive(key) {\n",
              "          const element = document.querySelector('#df-1fd6a3ba-ce18-40e0-9739-e116b5a5b8f0');\n",
              "          const dataTable =\n",
              "            await google.colab.kernel.invokeFunction('convertToInteractive',\n",
              "                                                     [key], {});\n",
              "          if (!dataTable) return;\n",
              "\n",
              "          const docLinkHtml = 'Like what you see? Visit the ' +\n",
              "            '<a target=\"_blank\" href=https://colab.research.google.com/notebooks/data_table.ipynb>data table notebook</a>'\n",
              "            + ' to learn more about interactive tables.';\n",
              "          element.innerHTML = '';\n",
              "          dataTable['output_type'] = 'display_data';\n",
              "          await google.colab.output.renderOutput(dataTable, element);\n",
              "          const docLink = document.createElement('div');\n",
              "          docLink.innerHTML = docLinkHtml;\n",
              "          element.appendChild(docLink);\n",
              "        }\n",
              "      </script>\n",
              "    </div>\n",
              "  </div>\n",
              "  "
            ]
          },
          "metadata": {},
          "execution_count": 12
        }
      ]
    },
    {
      "cell_type": "code",
      "source": [
        "pd.unique(df.stars)"
      ],
      "metadata": {
        "colab": {
          "base_uri": "https://localhost:8080/"
        },
        "id": "hg2L5PCVN9E8",
        "outputId": "e84fc252-b1f2-4671-d886-880c034c3e11"
      },
      "execution_count": 13,
      "outputs": [
        {
          "output_type": "execute_result",
          "data": {
            "text/plain": [
              "array([ 2.,  5.,  1.,  3.,  4., nan])"
            ]
          },
          "metadata": {},
          "execution_count": 13
        }
      ]
    },
    {
      "cell_type": "code",
      "source": [
        "df.stars.hist(grid=False)"
      ],
      "metadata": {
        "colab": {
          "base_uri": "https://localhost:8080/",
          "height": 447
        },
        "id": "1yds7XpsMIDp",
        "outputId": "72a183e5-340b-4ca8-931f-808bc5134525"
      },
      "execution_count": 14,
      "outputs": [
        {
          "output_type": "execute_result",
          "data": {
            "text/plain": [
              "<Axes: >"
            ]
          },
          "metadata": {},
          "execution_count": 14
        },
        {
          "output_type": "display_data",
          "data": {
            "text/plain": [
              "<Figure size 640x480 with 1 Axes>"
            ],
            "image/png": "[encoded data removed]"
          },
          "metadata": {}
        }
      ]
    },
    {
      "cell_type": "markdown",
      "source": [
        "Из результатов выше можно сделать следующие выводы:\n",
        "\n",
        "*   Шкала оценки варьируется от 1 звезды до 5. \n",
        "\n",
        "*   Оценки не сбалансированы. Пользователи чаще всего оставляют сугубо положительные отзывы.\n",
        "\n",
        "*   В данных присутствуют пропущенные значения."
      ],
      "metadata": {
        "id": "LVGM51USLp7p"
      }
    },
    {
      "cell_type": "markdown",
      "source": [
        "# Предварительная обработка данных"
      ],
      "metadata": {
        "id": "wUGMrWArQlXZ"
      }
    },
    {
      "cell_type": "markdown",
      "source": [
        "В первую очередь необходимо выделить входные и выходные данные в наборе для сети.\n",
        "\n",
        "Из всех полей необходимую смысловую нагрузку имеет только поле text.\n",
        "\n",
        "Целевым полем же является поле stars, так как именно оно определяет тональность текста."
      ],
      "metadata": {
        "id": "7CUoeH1QQyOV"
      }
    },
    {
      "cell_type": "code",
      "source": [
        "df = df.drop([\"date\", \"name\", \"X\", \"Y\", \"status\"], axis=1)\n",
        "df"
      ],
      "metadata": {
        "colab": {
          "base_uri": "https://localhost:8080/",
          "height": 423
        },
        "id": "oA_cGBPVOesO",
        "outputId": "24f962b5-52a9-469d-d306-ea2c3e94c40f"
      },
      "execution_count": 15,
      "outputs": [
        {
          "output_type": "execute_result",
          "data": {
            "text/plain": [
              "        stars                                               text\n",
              "1         2.0  Были на экскурсии. Я очень люблю производствен...\n",
              "2         5.0  Часто ходим в это кафе. Красивый интерьер, оче...\n",
              "3         5.0  Вкусное мороженое. С кофе и яблочным пирогом с...\n",
              "4         5.0  Хорошее мороженное, разнообразие выбора и вкус...\n",
              "5         1.0  Ставлю одну звезду лишь за вкусное мороженое. ...\n",
              "...       ...                                                ...\n",
              "103909    1.0  Зашли покурить кальян, попить чаю. Заказали ка...\n",
              "103910    4.0  Мне понравилось. Быстро подошла официантка, бы...\n",
              "103911    5.0  Очень вкусно, турецкая атмосфера🇹🇷Все понравил...\n",
              "103912    5.0  Госпади, как же тут вкусно готовят из простых ...\n",
              "103913    4.0  Классное каффе, мясные блюда на 5+! Алкоголь т...\n",
              "\n",
              "[103913 rows x 2 columns]"
            ],
            "text/html": [
              "\n",
              "  <div id=\"df-27eb9ca8-3740-48c5-beac-fc73af0a9b5c\">\n",
              "    <div class=\"colab-df-container\">\n",
              "      <div>\n",
              "<style scoped>\n",
              "    .dataframe tbody tr th:only-of-type {\n",
              "        vertical-align: middle;\n",
              "    }\n",
              "\n",
              "    .dataframe tbody tr th {\n",
              "        vertical-align: top;\n",
              "    }\n",
              "\n",
              "    .dataframe thead th {\n",
              "        text-align: right;\n",
              "    }\n",
              "</style>\n",
              "<table border=\"1\" class=\"dataframe\">\n",
              "  <thead>\n",
              "    <tr style=\"text-align: right;\">\n",
              "      <th></th>\n",
              "      <th>stars</th>\n",
              "      <th>text</th>\n",
              "    </tr>\n",
              "  </thead>\n",
              "  <tbody>\n",
              "    <tr>\n",
              "      <th>1</th>\n",
              "      <td>2.0</td>\n",
              "      <td>Были на экскурсии. Я очень люблю производствен...</td>\n",
              "    </tr>\n",
              "    <tr>\n",
              "      <th>2</th>\n",
              "      <td>5.0</td>\n",
              "      <td>Часто ходим в это кафе. Красивый интерьер, оче...</td>\n",
              "    </tr>\n",
              "    <tr>\n",
              "      <th>3</th>\n",
              "      <td>5.0</td>\n",
              "      <td>Вкусное мороженое. С кофе и яблочным пирогом с...</td>\n",
              "    </tr>\n",
              "    <tr>\n",
              "      <th>4</th>\n",
              "      <td>5.0</td>\n",
              "      <td>Хорошее мороженное, разнообразие выбора и вкус...</td>\n",
              "    </tr>\n",
              "    <tr>\n",
              "      <th>5</th>\n",
              "      <td>1.0</td>\n",
              "      <td>Ставлю одну звезду лишь за вкусное мороженое. ...</td>\n",
              "    </tr>\n",
              "    <tr>\n",
              "      <th>...</th>\n",
              "      <td>...</td>\n",
              "      <td>...</td>\n",
              "    </tr>\n",
              "    <tr>\n",
              "      <th>103909</th>\n",
              "      <td>1.0</td>\n",
              "      <td>Зашли покурить кальян, попить чаю. Заказали ка...</td>\n",
              "    </tr>\n",
              "    <tr>\n",
              "      <th>103910</th>\n",
              "      <td>4.0</td>\n",
              "      <td>Мне понравилось. Быстро подошла официантка, бы...</td>\n",
              "    </tr>\n",
              "    <tr>\n",
              "      <th>103911</th>\n",
              "      <td>5.0</td>\n",
              "      <td>Очень вкусно, турецкая атмосфера🇹🇷Все понравил...</td>\n",
              "    </tr>\n",
              "    <tr>\n",
              "      <th>103912</th>\n",
              "      <td>5.0</td>\n",
              "      <td>Госпади, как же тут вкусно готовят из простых ...</td>\n",
              "    </tr>\n",
              "    <tr>\n",
              "      <th>103913</th>\n",
              "      <td>4.0</td>\n",
              "      <td>Классное каффе, мясные блюда на 5+! Алкоголь т...</td>\n",
              "    </tr>\n",
              "  </tbody>\n",
              "</table>\n",
              "<p>103913 rows × 2 columns</p>\n",
              "</div>\n",
              "      <button class=\"colab-df-convert\" onclick=\"convertToInteractive('df-27eb9ca8-3740-48c5-beac-fc73af0a9b5c')\"\n",
              "              title=\"Convert this dataframe to an interactive table.\"\n",
              "              style=\"display:none;\">\n",
              "        \n",
              "  <svg xmlns=\"http://www.w3.org/2000/svg\" height=\"24px\"viewBox=\"0 0 24 24\"\n",
              "       width=\"24px\">\n",
              "    <path d=\"M0 0h24v24H0V0z\" fill=\"none\"/>\n",
              "    <path d=\"M18.56 5.44l.94 2.06.94-2.06 2.06-.94-2.06-.94-.94-2.06-.94 2.06-2.06.94zm-11 1L8.5 8.5l.94-2.06 2.06-.94-2.06-.94L8.5 2.5l-.94 2.06-2.06.94zm10 10l.94 2.06.94-2.06 2.06-.94-2.06-.94-.94-2.06-.94 2.06-2.06.94z\"/><path d=\"M17.41 7.96l-1.37-1.37c-.4-.4-.92-.59-1.43-.59-.52 0-1.04.2-1.43.59L10.3 9.45l-7.72 7.72c-.78.78-.78 2.05 0 2.83L4 21.41c.39.39.9.59 1.41.59.51 0 1.02-.2 1.41-.59l7.78-7.78 2.81-2.81c.8-.78.8-2.07 0-2.86zM5.41 20L4 18.59l7.72-7.72 1.47 1.35L5.41 20z\"/>\n",
              "  </svg>\n",
              "      </button>\n",
              "      \n",
              "  <style>\n",
              "    .colab-df-container {\n",
              "      display:flex;\n",
              "      flex-wrap:wrap;\n",
              "      gap: 12px;\n",
              "    }\n",
              "\n",
              "    .colab-df-convert {\n",
              "      background-color: #E8F0FE;\n",
              "      border: none;\n",
              "      border-radius: 50%;\n",
              "      cursor: pointer;\n",
              "      display: none;\n",
              "      fill: #1967D2;\n",
              "      height: 32px;\n",
              "      padding: 0 0 0 0;\n",
              "      width: 32px;\n",
              "    }\n",
              "\n",
              "    .colab-df-convert:hover {\n",
              "      background-color: #E2EBFA;\n",
              "      box-shadow: 0px 1px 2px rgba(60, 64, 67, 0.3), 0px 1px 3px 1px rgba(60, 64, 67, 0.15);\n",
              "      fill: #174EA6;\n",
              "    }\n",
              "\n",
              "    [theme=dark] .colab-df-convert {\n",
              "      background-color: #3B4455;\n",
              "      fill: #D2E3FC;\n",
              "    }\n",
              "\n",
              "    [theme=dark] .colab-df-convert:hover {\n",
              "      background-color: #434B5C;\n",
              "      box-shadow: 0px 1px 3px 1px rgba(0, 0, 0, 0.15);\n",
              "      filter: drop-shadow(0px 1px 2px rgba(0, 0, 0, 0.3));\n",
              "      fill: #FFFFFF;\n",
              "    }\n",
              "  </style>\n",
              "\n",
              "      <script>\n",
              "        const buttonEl =\n",
              "          document.querySelector('#df-27eb9ca8-3740-48c5-beac-fc73af0a9b5c button.colab-df-convert');\n",
              "        buttonEl.style.display =\n",
              "          google.colab.kernel.accessAllowed ? 'block' : 'none';\n",
              "\n",
              "        async function convertToInteractive(key) {\n",
              "          const element = document.querySelector('#df-27eb9ca8-3740-48c5-beac-fc73af0a9b5c');\n",
              "          const dataTable =\n",
              "            await google.colab.kernel.invokeFunction('convertToInteractive',\n",
              "                                                     [key], {});\n",
              "          if (!dataTable) return;\n",
              "\n",
              "          const docLinkHtml = 'Like what you see? Visit the ' +\n",
              "            '<a target=\"_blank\" href=https://colab.research.google.com/notebooks/data_table.ipynb>data table notebook</a>'\n",
              "            + ' to learn more about interactive tables.';\n",
              "          element.innerHTML = '';\n",
              "          dataTable['output_type'] = 'display_data';\n",
              "          await google.colab.output.renderOutput(dataTable, element);\n",
              "          const docLink = document.createElement('div');\n",
              "          docLink.innerHTML = docLinkHtml;\n",
              "          element.appendChild(docLink);\n",
              "        }\n",
              "      </script>\n",
              "    </div>\n",
              "  </div>\n",
              "  "
            ]
          },
          "metadata": {},
          "execution_count": 15
        }
      ]
    },
    {
      "cell_type": "code",
      "source": [
        "df = df.rename(columns={\"text\": \"data\", \"stars\": \"target\"})\n",
        "df"
      ],
      "metadata": {
        "colab": {
          "base_uri": "https://localhost:8080/",
          "height": 423
        },
        "id": "PsuvIc1YSNa2",
        "outputId": "2b7c30ba-0944-4d85-8bed-89599c19186a"
      },
      "execution_count": 16,
      "outputs": [
        {
          "output_type": "execute_result",
          "data": {
            "text/plain": [
              "        target                                               data\n",
              "1          2.0  Были на экскурсии. Я очень люблю производствен...\n",
              "2          5.0  Часто ходим в это кафе. Красивый интерьер, оче...\n",
              "3          5.0  Вкусное мороженое. С кофе и яблочным пирогом с...\n",
              "4          5.0  Хорошее мороженное, разнообразие выбора и вкус...\n",
              "5          1.0  Ставлю одну звезду лишь за вкусное мороженое. ...\n",
              "...        ...                                                ...\n",
              "103909     1.0  Зашли покурить кальян, попить чаю. Заказали ка...\n",
              "103910     4.0  Мне понравилось. Быстро подошла официантка, бы...\n",
              "103911     5.0  Очень вкусно, турецкая атмосфера🇹🇷Все понравил...\n",
              "103912     5.0  Госпади, как же тут вкусно готовят из простых ...\n",
              "103913     4.0  Классное каффе, мясные блюда на 5+! Алкоголь т...\n",
              "\n",
              "[103913 rows x 2 columns]"
            ],
            "text/html": [
              "\n",
              "  <div id=\"df-b6e6a603-fecd-4642-8e9c-17d9dcba61ea\">\n",
              "    <div class=\"colab-df-container\">\n",
              "      <div>\n",
              "<style scoped>\n",
              "    .dataframe tbody tr th:only-of-type {\n",
              "        vertical-align: middle;\n",
              "    }\n",
              "\n",
              "    .dataframe tbody tr th {\n",
              "        vertical-align: top;\n",
              "    }\n",
              "\n",
              "    .dataframe thead th {\n",
              "        text-align: right;\n",
              "    }\n",
              "</style>\n",
              "<table border=\"1\" class=\"dataframe\">\n",
              "  <thead>\n",
              "    <tr style=\"text-align: right;\">\n",
              "      <th></th>\n",
              "      <th>target</th>\n",
              "      <th>data</th>\n",
              "    </tr>\n",
              "  </thead>\n",
              "  <tbody>\n",
              "    <tr>\n",
              "      <th>1</th>\n",
              "      <td>2.0</td>\n",
              "      <td>Были на экскурсии. Я очень люблю производствен...</td>\n",
              "    </tr>\n",
              "    <tr>\n",
              "      <th>2</th>\n",
              "      <td>5.0</td>\n",
              "      <td>Часто ходим в это кафе. Красивый интерьер, оче...</td>\n",
              "    </tr>\n",
              "    <tr>\n",
              "      <th>3</th>\n",
              "      <td>5.0</td>\n",
              "      <td>Вкусное мороженое. С кофе и яблочным пирогом с...</td>\n",
              "    </tr>\n",
              "    <tr>\n",
              "      <th>4</th>\n",
              "      <td>5.0</td>\n",
              "      <td>Хорошее мороженное, разнообразие выбора и вкус...</td>\n",
              "    </tr>\n",
              "    <tr>\n",
              "      <th>5</th>\n",
              "      <td>1.0</td>\n",
              "      <td>Ставлю одну звезду лишь за вкусное мороженое. ...</td>\n",
              "    </tr>\n",
              "    <tr>\n",
              "      <th>...</th>\n",
              "      <td>...</td>\n",
              "      <td>...</td>\n",
              "    </tr>\n",
              "    <tr>\n",
              "      <th>103909</th>\n",
              "      <td>1.0</td>\n",
              "      <td>Зашли покурить кальян, попить чаю. Заказали ка...</td>\n",
              "    </tr>\n",
              "    <tr>\n",
              "      <th>103910</th>\n",
              "      <td>4.0</td>\n",
              "      <td>Мне понравилось. Быстро подошла официантка, бы...</td>\n",
              "    </tr>\n",
              "    <tr>\n",
              "      <th>103911</th>\n",
              "      <td>5.0</td>\n",
              "      <td>Очень вкусно, турецкая атмосфера🇹🇷Все понравил...</td>\n",
              "    </tr>\n",
              "    <tr>\n",
              "      <th>103912</th>\n",
              "      <td>5.0</td>\n",
              "      <td>Госпади, как же тут вкусно готовят из простых ...</td>\n",
              "    </tr>\n",
              "    <tr>\n",
              "      <th>103913</th>\n",
              "      <td>4.0</td>\n",
              "      <td>Классное каффе, мясные блюда на 5+! Алкоголь т...</td>\n",
              "    </tr>\n",
              "  </tbody>\n",
              "</table>\n",
              "<p>103913 rows × 2 columns</p>\n",
              "</div>\n",
              "      <button class=\"colab-df-convert\" onclick=\"convertToInteractive('df-b6e6a603-fecd-4642-8e9c-17d9dcba61ea')\"\n",
              "              title=\"Convert this dataframe to an interactive table.\"\n",
              "              style=\"display:none;\">\n",
              "        \n",
              "  <svg xmlns=\"http://www.w3.org/2000/svg\" height=\"24px\"viewBox=\"0 0 24 24\"\n",
              "       width=\"24px\">\n",
              "    <path d=\"M0 0h24v24H0V0z\" fill=\"none\"/>\n",
              "    <path d=\"M18.56 5.44l.94 2.06.94-2.06 2.06-.94-2.06-.94-.94-2.06-.94 2.06-2.06.94zm-11 1L8.5 8.5l.94-2.06 2.06-.94-2.06-.94L8.5 2.5l-.94 2.06-2.06.94zm10 10l.94 2.06.94-2.06 2.06-.94-2.06-.94-.94-2.06-.94 2.06-2.06.94z\"/><path d=\"M17.41 7.96l-1.37-1.37c-.4-.4-.92-.59-1.43-.59-.52 0-1.04.2-1.43.59L10.3 9.45l-7.72 7.72c-.78.78-.78 2.05 0 2.83L4 21.41c.39.39.9.59 1.41.59.51 0 1.02-.2 1.41-.59l7.78-7.78 2.81-2.81c.8-.78.8-2.07 0-2.86zM5.41 20L4 18.59l7.72-7.72 1.47 1.35L5.41 20z\"/>\n",
              "  </svg>\n",
              "      </button>\n",
              "      \n",
              "  <style>\n",
              "    .colab-df-container {\n",
              "      display:flex;\n",
              "      flex-wrap:wrap;\n",
              "      gap: 12px;\n",
              "    }\n",
              "\n",
              "    .colab-df-convert {\n",
              "      background-color: #E8F0FE;\n",
              "      border: none;\n",
              "      border-radius: 50%;\n",
              "      cursor: pointer;\n",
              "      display: none;\n",
              "      fill: #1967D2;\n",
              "      height: 32px;\n",
              "      padding: 0 0 0 0;\n",
              "      width: 32px;\n",
              "    }\n",
              "\n",
              "    .colab-df-convert:hover {\n",
              "      background-color: #E2EBFA;\n",
              "      box-shadow: 0px 1px 2px rgba(60, 64, 67, 0.3), 0px 1px 3px 1px rgba(60, 64, 67, 0.15);\n",
              "      fill: #174EA6;\n",
              "    }\n",
              "\n",
              "    [theme=dark] .colab-df-convert {\n",
              "      background-color: #3B4455;\n",
              "      fill: #D2E3FC;\n",
              "    }\n",
              "\n",
              "    [theme=dark] .colab-df-convert:hover {\n",
              "      background-color: #434B5C;\n",
              "      box-shadow: 0px 1px 3px 1px rgba(0, 0, 0, 0.15);\n",
              "      filter: drop-shadow(0px 1px 2px rgba(0, 0, 0, 0.3));\n",
              "      fill: #FFFFFF;\n",
              "    }\n",
              "  </style>\n",
              "\n",
              "      <script>\n",
              "        const buttonEl =\n",
              "          document.querySelector('#df-b6e6a603-fecd-4642-8e9c-17d9dcba61ea button.colab-df-convert');\n",
              "        buttonEl.style.display =\n",
              "          google.colab.kernel.accessAllowed ? 'block' : 'none';\n",
              "\n",
              "        async function convertToInteractive(key) {\n",
              "          const element = document.querySelector('#df-b6e6a603-fecd-4642-8e9c-17d9dcba61ea');\n",
              "          const dataTable =\n",
              "            await google.colab.kernel.invokeFunction('convertToInteractive',\n",
              "                                                     [key], {});\n",
              "          if (!dataTable) return;\n",
              "\n",
              "          const docLinkHtml = 'Like what you see? Visit the ' +\n",
              "            '<a target=\"_blank\" href=https://colab.research.google.com/notebooks/data_table.ipynb>data table notebook</a>'\n",
              "            + ' to learn more about interactive tables.';\n",
              "          element.innerHTML = '';\n",
              "          dataTable['output_type'] = 'display_data';\n",
              "          await google.colab.output.renderOutput(dataTable, element);\n",
              "          const docLink = document.createElement('div');\n",
              "          docLink.innerHTML = docLinkHtml;\n",
              "          element.appendChild(docLink);\n",
              "        }\n",
              "      </script>\n",
              "    </div>\n",
              "  </div>\n",
              "  "
            ]
          },
          "metadata": {},
          "execution_count": 16
        }
      ]
    },
    {
      "cell_type": "markdown",
      "source": [
        "Так как пропущенных значений относительно мало, строки с ними можно убрать из набора данных."
      ],
      "metadata": {
        "id": "9gmq1iWXTPol"
      }
    },
    {
      "cell_type": "code",
      "source": [
        "df = df.dropna().reset_index(drop=True)\n",
        "df.isna().sum()"
      ],
      "metadata": {
        "colab": {
          "base_uri": "https://localhost:8080/"
        },
        "id": "9KMtiF11TV9E",
        "outputId": "3b1f421f-05f4-47b7-ff96-879b5c4ad518"
      },
      "execution_count": 17,
      "outputs": [
        {
          "output_type": "execute_result",
          "data": {
            "text/plain": [
              "target    0\n",
              "data      0\n",
              "dtype: int64"
            ]
          },
          "metadata": {},
          "execution_count": 17
        }
      ]
    },
    {
      "cell_type": "markdown",
      "source": [
        "Так как оценки пользователей не сбалансированы, нужно сделать перебалансировку данных.\n",
        "\n",
        "Для этого сначала группы отзывов были объеденены между собой следующим образом:\n",
        "\n",
        "*   Любой отзыв с оценкой меньше 5 считается плохим отзывом.\n",
        "\n",
        "*   Любой отзыв с оценкой равной 5 считается хорошим отзывом.\n",
        "\n",
        "Данный выбор группировки является валидным, так как наблюдается четкий дисбаланс между 5-звездочными оценками и другими, а также распространенной привычкой пользователей закрывать глаза на мелкие погрешности, что ведет к необъективным оценкам и ситуациям, когда объективное \"значение\" 4 звезд равно 3 и менее, тогда как 5 звезд могут покрывать весь диапазон \"хороших\" оценок - 4 и 5."
      ],
      "metadata": {
        "id": "9OQtXH4VS0ci"
      }
    },
    {
      "cell_type": "code",
      "source": [
        "df.target = df.target.replace({1: \"bad\", 2: \"bad\", 3: \"bad\", 4: \"bad\", 5: \"good\"})\n",
        "df"
      ],
      "metadata": {
        "colab": {
          "base_uri": "https://localhost:8080/",
          "height": 423
        },
        "id": "7D1bo1IwTb99",
        "outputId": "faed9e2f-c5ed-4427-ee25-918d553060a5"
      },
      "execution_count": 18,
      "outputs": [
        {
          "output_type": "execute_result",
          "data": {
            "text/plain": [
              "       target                                               data\n",
              "0         bad  Были на экскурсии. Я очень люблю производствен...\n",
              "1        good  Часто ходим в это кафе. Красивый интерьер, оче...\n",
              "2        good  Вкусное мороженое. С кофе и яблочным пирогом с...\n",
              "3        good  Хорошее мороженное, разнообразие выбора и вкус...\n",
              "4         bad  Ставлю одну звезду лишь за вкусное мороженое. ...\n",
              "...       ...                                                ...\n",
              "103868    bad  Зашли покурить кальян, попить чаю. Заказали ка...\n",
              "103869    bad  Мне понравилось. Быстро подошла официантка, бы...\n",
              "103870   good  Очень вкусно, турецкая атмосфера🇹🇷Все понравил...\n",
              "103871   good  Госпади, как же тут вкусно готовят из простых ...\n",
              "103872    bad  Классное каффе, мясные блюда на 5+! Алкоголь т...\n",
              "\n",
              "[103873 rows x 2 columns]"
            ],
            "text/html": [
              "\n",
              "  <div id=\"df-509c4737-1794-42b9-8590-51649112aa3c\">\n",
              "    <div class=\"colab-df-container\">\n",
              "      <div>\n",
              "<style scoped>\n",
              "    .dataframe tbody tr th:only-of-type {\n",
              "        vertical-align: middle;\n",
              "    }\n",
              "\n",
              "    .dataframe tbody tr th {\n",
              "        vertical-align: top;\n",
              "    }\n",
              "\n",
              "    .dataframe thead th {\n",
              "        text-align: right;\n",
              "    }\n",
              "</style>\n",
              "<table border=\"1\" class=\"dataframe\">\n",
              "  <thead>\n",
              "    <tr style=\"text-align: right;\">\n",
              "      <th></th>\n",
              "      <th>target</th>\n",
              "      <th>data</th>\n",
              "    </tr>\n",
              "  </thead>\n",
              "  <tbody>\n",
              "    <tr>\n",
              "      <th>0</th>\n",
              "      <td>bad</td>\n",
              "      <td>Были на экскурсии. Я очень люблю производствен...</td>\n",
              "    </tr>\n",
              "    <tr>\n",
              "      <th>1</th>\n",
              "      <td>good</td>\n",
              "      <td>Часто ходим в это кафе. Красивый интерьер, оче...</td>\n",
              "    </tr>\n",
              "    <tr>\n",
              "      <th>2</th>\n",
              "      <td>good</td>\n",
              "      <td>Вкусное мороженое. С кофе и яблочным пирогом с...</td>\n",
              "    </tr>\n",
              "    <tr>\n",
              "      <th>3</th>\n",
              "      <td>good</td>\n",
              "      <td>Хорошее мороженное, разнообразие выбора и вкус...</td>\n",
              "    </tr>\n",
              "    <tr>\n",
              "      <th>4</th>\n",
              "      <td>bad</td>\n",
              "      <td>Ставлю одну звезду лишь за вкусное мороженое. ...</td>\n",
              "    </tr>\n",
              "    <tr>\n",
              "      <th>...</th>\n",
              "      <td>...</td>\n",
              "      <td>...</td>\n",
              "    </tr>\n",
              "    <tr>\n",
              "      <th>103868</th>\n",
              "      <td>bad</td>\n",
              "      <td>Зашли покурить кальян, попить чаю. Заказали ка...</td>\n",
              "    </tr>\n",
              "    <tr>\n",
              "      <th>103869</th>\n",
              "      <td>bad</td>\n",
              "      <td>Мне понравилось. Быстро подошла официантка, бы...</td>\n",
              "    </tr>\n",
              "    <tr>\n",
              "      <th>103870</th>\n",
              "      <td>good</td>\n",
              "      <td>Очень вкусно, турецкая атмосфера🇹🇷Все понравил...</td>\n",
              "    </tr>\n",
              "    <tr>\n",
              "      <th>103871</th>\n",
              "      <td>good</td>\n",
              "      <td>Госпади, как же тут вкусно готовят из простых ...</td>\n",
              "    </tr>\n",
              "    <tr>\n",
              "      <th>103872</th>\n",
              "      <td>bad</td>\n",
              "      <td>Классное каффе, мясные блюда на 5+! Алкоголь т...</td>\n",
              "    </tr>\n",
              "  </tbody>\n",
              "</table>\n",
              "<p>103873 rows × 2 columns</p>\n",
              "</div>\n",
              "      <button class=\"colab-df-convert\" onclick=\"convertToInteractive('df-509c4737-1794-42b9-8590-51649112aa3c')\"\n",
              "              title=\"Convert this dataframe to an interactive table.\"\n",
              "              style=\"display:none;\">\n",
              "        \n",
              "  <svg xmlns=\"http://www.w3.org/2000/svg\" height=\"24px\"viewBox=\"0 0 24 24\"\n",
              "       width=\"24px\">\n",
              "    <path d=\"M0 0h24v24H0V0z\" fill=\"none\"/>\n",
              "    <path d=\"M18.56 5.44l.94 2.06.94-2.06 2.06-.94-2.06-.94-.94-2.06-.94 2.06-2.06.94zm-11 1L8.5 8.5l.94-2.06 2.06-.94-2.06-.94L8.5 2.5l-.94 2.06-2.06.94zm10 10l.94 2.06.94-2.06 2.06-.94-2.06-.94-.94-2.06-.94 2.06-2.06.94z\"/><path d=\"M17.41 7.96l-1.37-1.37c-.4-.4-.92-.59-1.43-.59-.52 0-1.04.2-1.43.59L10.3 9.45l-7.72 7.72c-.78.78-.78 2.05 0 2.83L4 21.41c.39.39.9.59 1.41.59.51 0 1.02-.2 1.41-.59l7.78-7.78 2.81-2.81c.8-.78.8-2.07 0-2.86zM5.41 20L4 18.59l7.72-7.72 1.47 1.35L5.41 20z\"/>\n",
              "  </svg>\n",
              "      </button>\n",
              "      \n",
              "  <style>\n",
              "    .colab-df-container {\n",
              "      display:flex;\n",
              "      flex-wrap:wrap;\n",
              "      gap: 12px;\n",
              "    }\n",
              "\n",
              "    .colab-df-convert {\n",
              "      background-color: #E8F0FE;\n",
              "      border: none;\n",
              "      border-radius: 50%;\n",
              "      cursor: pointer;\n",
              "      display: none;\n",
              "      fill: #1967D2;\n",
              "      height: 32px;\n",
              "      padding: 0 0 0 0;\n",
              "      width: 32px;\n",
              "    }\n",
              "\n",
              "    .colab-df-convert:hover {\n",
              "      background-color: #E2EBFA;\n",
              "      box-shadow: 0px 1px 2px rgba(60, 64, 67, 0.3), 0px 1px 3px 1px rgba(60, 64, 67, 0.15);\n",
              "      fill: #174EA6;\n",
              "    }\n",
              "\n",
              "    [theme=dark] .colab-df-convert {\n",
              "      background-color: #3B4455;\n",
              "      fill: #D2E3FC;\n",
              "    }\n",
              "\n",
              "    [theme=dark] .colab-df-convert:hover {\n",
              "      background-color: #434B5C;\n",
              "      box-shadow: 0px 1px 3px 1px rgba(0, 0, 0, 0.15);\n",
              "      filter: drop-shadow(0px 1px 2px rgba(0, 0, 0, 0.3));\n",
              "      fill: #FFFFFF;\n",
              "    }\n",
              "  </style>\n",
              "\n",
              "      <script>\n",
              "        const buttonEl =\n",
              "          document.querySelector('#df-509c4737-1794-42b9-8590-51649112aa3c button.colab-df-convert');\n",
              "        buttonEl.style.display =\n",
              "          google.colab.kernel.accessAllowed ? 'block' : 'none';\n",
              "\n",
              "        async function convertToInteractive(key) {\n",
              "          const element = document.querySelector('#df-509c4737-1794-42b9-8590-51649112aa3c');\n",
              "          const dataTable =\n",
              "            await google.colab.kernel.invokeFunction('convertToInteractive',\n",
              "                                                     [key], {});\n",
              "          if (!dataTable) return;\n",
              "\n",
              "          const docLinkHtml = 'Like what you see? Visit the ' +\n",
              "            '<a target=\"_blank\" href=https://colab.research.google.com/notebooks/data_table.ipynb>data table notebook</a>'\n",
              "            + ' to learn more about interactive tables.';\n",
              "          element.innerHTML = '';\n",
              "          dataTable['output_type'] = 'display_data';\n",
              "          await google.colab.output.renderOutput(dataTable, element);\n",
              "          const docLink = document.createElement('div');\n",
              "          docLink.innerHTML = docLinkHtml;\n",
              "          element.appendChild(docLink);\n",
              "        }\n",
              "      </script>\n",
              "    </div>\n",
              "  </div>\n",
              "  "
            ]
          },
          "metadata": {},
          "execution_count": 18
        }
      ]
    },
    {
      "cell_type": "markdown",
      "source": [
        "Так как сети не могут работать с категориальными данными, необходимо закодировать целевое поле."
      ],
      "metadata": {
        "id": "8Rf5bRCxU0PN"
      }
    },
    {
      "cell_type": "code",
      "source": [
        "label_encoder = LabelEncoder()\n",
        "df.target = label_encoder.fit_transform(df.target)\n",
        "df"
      ],
      "metadata": {
        "colab": {
          "base_uri": "https://localhost:8080/",
          "height": 423
        },
        "id": "CB1bci2nUS10",
        "outputId": "cdbb1413-1d2a-47d8-f6c5-b4028df76d80"
      },
      "execution_count": 19,
      "outputs": [
        {
          "output_type": "execute_result",
          "data": {
            "text/plain": [
              "        target                                               data\n",
              "0            0  Были на экскурсии. Я очень люблю производствен...\n",
              "1            1  Часто ходим в это кафе. Красивый интерьер, оче...\n",
              "2            1  Вкусное мороженое. С кофе и яблочным пирогом с...\n",
              "3            1  Хорошее мороженное, разнообразие выбора и вкус...\n",
              "4            0  Ставлю одну звезду лишь за вкусное мороженое. ...\n",
              "...        ...                                                ...\n",
              "103868       0  Зашли покурить кальян, попить чаю. Заказали ка...\n",
              "103869       0  Мне понравилось. Быстро подошла официантка, бы...\n",
              "103870       1  Очень вкусно, турецкая атмосфера🇹🇷Все понравил...\n",
              "103871       1  Госпади, как же тут вкусно готовят из простых ...\n",
              "103872       0  Классное каффе, мясные блюда на 5+! Алкоголь т...\n",
              "\n",
              "[103873 rows x 2 columns]"
            ],
            "text/html": [
              "\n",
              "  <div id=\"df-b3f4b8db-30d8-4409-aff8-cc9f276112a9\">\n",
              "    <div class=\"colab-df-container\">\n",
              "      <div>\n",
              "<style scoped>\n",
              "    .dataframe tbody tr th:only-of-type {\n",
              "        vertical-align: middle;\n",
              "    }\n",
              "\n",
              "    .dataframe tbody tr th {\n",
              "        vertical-align: top;\n",
              "    }\n",
              "\n",
              "    .dataframe thead th {\n",
              "        text-align: right;\n",
              "    }\n",
              "</style>\n",
              "<table border=\"1\" class=\"dataframe\">\n",
              "  <thead>\n",
              "    <tr style=\"text-align: right;\">\n",
              "      <th></th>\n",
              "      <th>target</th>\n",
              "      <th>data</th>\n",
              "    </tr>\n",
              "  </thead>\n",
              "  <tbody>\n",
              "    <tr>\n",
              "      <th>0</th>\n",
              "      <td>0</td>\n",
              "      <td>Были на экскурсии. Я очень люблю производствен...</td>\n",
              "    </tr>\n",
              "    <tr>\n",
              "      <th>1</th>\n",
              "      <td>1</td>\n",
              "      <td>Часто ходим в это кафе. Красивый интерьер, оче...</td>\n",
              "    </tr>\n",
              "    <tr>\n",
              "      <th>2</th>\n",
              "      <td>1</td>\n",
              "      <td>Вкусное мороженое. С кофе и яблочным пирогом с...</td>\n",
              "    </tr>\n",
              "    <tr>\n",
              "      <th>3</th>\n",
              "      <td>1</td>\n",
              "      <td>Хорошее мороженное, разнообразие выбора и вкус...</td>\n",
              "    </tr>\n",
              "    <tr>\n",
              "      <th>4</th>\n",
              "      <td>0</td>\n",
              "      <td>Ставлю одну звезду лишь за вкусное мороженое. ...</td>\n",
              "    </tr>\n",
              "    <tr>\n",
              "      <th>...</th>\n",
              "      <td>...</td>\n",
              "      <td>...</td>\n",
              "    </tr>\n",
              "    <tr>\n",
              "      <th>103868</th>\n",
              "      <td>0</td>\n",
              "      <td>Зашли покурить кальян, попить чаю. Заказали ка...</td>\n",
              "    </tr>\n",
              "    <tr>\n",
              "      <th>103869</th>\n",
              "      <td>0</td>\n",
              "      <td>Мне понравилось. Быстро подошла официантка, бы...</td>\n",
              "    </tr>\n",
              "    <tr>\n",
              "      <th>103870</th>\n",
              "      <td>1</td>\n",
              "      <td>Очень вкусно, турецкая атмосфера🇹🇷Все понравил...</td>\n",
              "    </tr>\n",
              "    <tr>\n",
              "      <th>103871</th>\n",
              "      <td>1</td>\n",
              "      <td>Госпади, как же тут вкусно готовят из простых ...</td>\n",
              "    </tr>\n",
              "    <tr>\n",
              "      <th>103872</th>\n",
              "      <td>0</td>\n",
              "      <td>Классное каффе, мясные блюда на 5+! Алкоголь т...</td>\n",
              "    </tr>\n",
              "  </tbody>\n",
              "</table>\n",
              "<p>103873 rows × 2 columns</p>\n",
              "</div>\n",
              "      <button class=\"colab-df-convert\" onclick=\"convertToInteractive('df-b3f4b8db-30d8-4409-aff8-cc9f276112a9')\"\n",
              "              title=\"Convert this dataframe to an interactive table.\"\n",
              "              style=\"display:none;\">\n",
              "        \n",
              "  <svg xmlns=\"http://www.w3.org/2000/svg\" height=\"24px\"viewBox=\"0 0 24 24\"\n",
              "       width=\"24px\">\n",
              "    <path d=\"M0 0h24v24H0V0z\" fill=\"none\"/>\n",
              "    <path d=\"M18.56 5.44l.94 2.06.94-2.06 2.06-.94-2.06-.94-.94-2.06-.94 2.06-2.06.94zm-11 1L8.5 8.5l.94-2.06 2.06-.94-2.06-.94L8.5 2.5l-.94 2.06-2.06.94zm10 10l.94 2.06.94-2.06 2.06-.94-2.06-.94-.94-2.06-.94 2.06-2.06.94z\"/><path d=\"M17.41 7.96l-1.37-1.37c-.4-.4-.92-.59-1.43-.59-.52 0-1.04.2-1.43.59L10.3 9.45l-7.72 7.72c-.78.78-.78 2.05 0 2.83L4 21.41c.39.39.9.59 1.41.59.51 0 1.02-.2 1.41-.59l7.78-7.78 2.81-2.81c.8-.78.8-2.07 0-2.86zM5.41 20L4 18.59l7.72-7.72 1.47 1.35L5.41 20z\"/>\n",
              "  </svg>\n",
              "      </button>\n",
              "      \n",
              "  <style>\n",
              "    .colab-df-container {\n",
              "      display:flex;\n",
              "      flex-wrap:wrap;\n",
              "      gap: 12px;\n",
              "    }\n",
              "\n",
              "    .colab-df-convert {\n",
              "      background-color: #E8F0FE;\n",
              "      border: none;\n",
              "      border-radius: 50%;\n",
              "      cursor: pointer;\n",
              "      display: none;\n",
              "      fill: #1967D2;\n",
              "      height: 32px;\n",
              "      padding: 0 0 0 0;\n",
              "      width: 32px;\n",
              "    }\n",
              "\n",
              "    .colab-df-convert:hover {\n",
              "      background-color: #E2EBFA;\n",
              "      box-shadow: 0px 1px 2px rgba(60, 64, 67, 0.3), 0px 1px 3px 1px rgba(60, 64, 67, 0.15);\n",
              "      fill: #174EA6;\n",
              "    }\n",
              "\n",
              "    [theme=dark] .colab-df-convert {\n",
              "      background-color: #3B4455;\n",
              "      fill: #D2E3FC;\n",
              "    }\n",
              "\n",
              "    [theme=dark] .colab-df-convert:hover {\n",
              "      background-color: #434B5C;\n",
              "      box-shadow: 0px 1px 3px 1px rgba(0, 0, 0, 0.15);\n",
              "      filter: drop-shadow(0px 1px 2px rgba(0, 0, 0, 0.3));\n",
              "      fill: #FFFFFF;\n",
              "    }\n",
              "  </style>\n",
              "\n",
              "      <script>\n",
              "        const buttonEl =\n",
              "          document.querySelector('#df-b3f4b8db-30d8-4409-aff8-cc9f276112a9 button.colab-df-convert');\n",
              "        buttonEl.style.display =\n",
              "          google.colab.kernel.accessAllowed ? 'block' : 'none';\n",
              "\n",
              "        async function convertToInteractive(key) {\n",
              "          const element = document.querySelector('#df-b3f4b8db-30d8-4409-aff8-cc9f276112a9');\n",
              "          const dataTable =\n",
              "            await google.colab.kernel.invokeFunction('convertToInteractive',\n",
              "                                                     [key], {});\n",
              "          if (!dataTable) return;\n",
              "\n",
              "          const docLinkHtml = 'Like what you see? Visit the ' +\n",
              "            '<a target=\"_blank\" href=https://colab.research.google.com/notebooks/data_table.ipynb>data table notebook</a>'\n",
              "            + ' to learn more about interactive tables.';\n",
              "          element.innerHTML = '';\n",
              "          dataTable['output_type'] = 'display_data';\n",
              "          await google.colab.output.renderOutput(dataTable, element);\n",
              "          const docLink = document.createElement('div');\n",
              "          docLink.innerHTML = docLinkHtml;\n",
              "          element.appendChild(docLink);\n",
              "        }\n",
              "      </script>\n",
              "    </div>\n",
              "  </div>\n",
              "  "
            ]
          },
          "metadata": {},
          "execution_count": 19
        }
      ]
    },
    {
      "cell_type": "code",
      "source": [
        "df.target.hist(bins=2)"
      ],
      "metadata": {
        "id": "KZsGbJl6l7AT",
        "colab": {
          "base_uri": "https://localhost:8080/",
          "height": 447
        },
        "outputId": "df96a84c-16dc-4e8c-a374-94299688be06"
      },
      "execution_count": 20,
      "outputs": [
        {
          "output_type": "execute_result",
          "data": {
            "text/plain": [
              "<Axes: >"
            ]
          },
          "metadata": {},
          "execution_count": 20
        },
        {
          "output_type": "display_data",
          "data": {
            "text/plain": [
              "<Figure size 640x480 with 1 Axes>"
            ],
            "image/png": "[encoded data removed]"
          },
          "metadata": {}
        }
      ]
    },
    {
      "cell_type": "markdown",
      "source": [
        "Так как дисбаланс до сих пор сохранился - хороших отзывов практически в два раза больше плохих - можно применить пересэмплирование."
      ],
      "metadata": {
        "id": "7pW_vMJ2l-MJ"
      }
    },
    {
      "cell_type": "code",
      "source": [
        "df = df.append(df[df.target == 0], ignore_index=True)"
      ],
      "metadata": {
        "colab": {
          "base_uri": "https://localhost:8080/"
        },
        "id": "WvC0S37dYkxK",
        "outputId": "cf28859b-bcf0-4323-f11b-989e3924e6ba"
      },
      "execution_count": 21,
      "outputs": [
        {
          "output_type": "stream",
          "name": "stderr",
          "text": [
            "<ipython-input-21-e85610b831ad>:1: FutureWarning: The frame.append method is deprecated and will be removed from pandas in a future version. Use pandas.concat instead.\n",
            "  df = df.append(df[df.target == 0], ignore_index=True)\n"
          ]
        }
      ]
    },
    {
      "cell_type": "code",
      "source": [
        "df.target.hist(bins=2)"
      ],
      "metadata": {
        "colab": {
          "base_uri": "https://localhost:8080/",
          "height": 447
        },
        "id": "ctNZnATmYglZ",
        "outputId": "cab0a5a4-2666-48ec-858a-ec9045c0f453"
      },
      "execution_count": 22,
      "outputs": [
        {
          "output_type": "execute_result",
          "data": {
            "text/plain": [
              "<Axes: >"
            ]
          },
          "metadata": {},
          "execution_count": 22
        },
        {
          "output_type": "display_data",
          "data": {
            "text/plain": [
              "<Figure size 640x480 with 1 Axes>"
            ],
            "image/png": "[encoded data removed]"
          },
          "metadata": {}
        }
      ]
    },
    {
      "cell_type": "markdown",
      "source": [
        "Также необходимо провести предобработку текста, а именно:\n",
        "\n",
        "1.  Убрать все знаки пунктуации как не несущие смысловой нагрузки элементы\n",
        "\n",
        "2.  Привести все символы к нижнему регистру\n",
        "\n",
        "3.  Удалить стоп-слова как не несущие смысловой нагрузки элементы\n",
        "\n",
        "4.  Удалить несловарные слова, как имеющие ошибку в написании\n",
        "\n",
        "5.  Привести все оставшиеся слова к их лемме"
      ],
      "metadata": {
        "id": "ThF8Dhu8VCr4"
      }
    },
    {
      "cell_type": "code",
      "source": [
        "df.data = df.data.str.lower().replace(r\"[^а-я]\", \" \", regex=True)\n",
        "df"
      ],
      "metadata": {
        "colab": {
          "base_uri": "https://localhost:8080/",
          "height": 423
        },
        "id": "iKqSOobZVflu",
        "outputId": "098b0a77-36a4-4f71-8263-6a9b7a413d5c"
      },
      "execution_count": 23,
      "outputs": [
        {
          "output_type": "execute_result",
          "data": {
            "text/plain": [
              "        target                                               data\n",
              "0            0  были на экскурсии  я очень люблю производствен...\n",
              "1            1  часто ходим в это кафе  красивый интерьер  оче...\n",
              "2            1  вкусное мороженое  с кофе и яблочным пирогом с...\n",
              "3            1  хорошее мороженное  разнообразие выбора и вкус...\n",
              "4            0  ставлю одну звезду лишь за вкусное мороженое  ...\n",
              "...        ...                                                ...\n",
              "141593       0  заказали кальян  хотели посидеть расслабиться ...\n",
              "141594       0  персонал не вежливый  сказали все есть из меню...\n",
              "141595       0  зашли покурить кальян  попить чаю  заказали ка...\n",
              "141596       0  мне понравилось  быстро подошла официантка  бы...\n",
              "141597       0  классное каффе  мясные блюда на     алкоголь т...\n",
              "\n",
              "[141598 rows x 2 columns]"
            ],
            "text/html": [
              "\n",
              "  <div id=\"df-1f5d40ec-80d9-421b-b573-65548439924a\">\n",
              "    <div class=\"colab-df-container\">\n",
              "      <div>\n",
              "<style scoped>\n",
              "    .dataframe tbody tr th:only-of-type {\n",
              "        vertical-align: middle;\n",
              "    }\n",
              "\n",
              "    .dataframe tbody tr th {\n",
              "        vertical-align: top;\n",
              "    }\n",
              "\n",
              "    .dataframe thead th {\n",
              "        text-align: right;\n",
              "    }\n",
              "</style>\n",
              "<table border=\"1\" class=\"dataframe\">\n",
              "  <thead>\n",
              "    <tr style=\"text-align: right;\">\n",
              "      <th></th>\n",
              "      <th>target</th>\n",
              "      <th>data</th>\n",
              "    </tr>\n",
              "  </thead>\n",
              "  <tbody>\n",
              "    <tr>\n",
              "      <th>0</th>\n",
              "      <td>0</td>\n",
              "      <td>были на экскурсии  я очень люблю производствен...</td>\n",
              "    </tr>\n",
              "    <tr>\n",
              "      <th>1</th>\n",
              "      <td>1</td>\n",
              "      <td>часто ходим в это кафе  красивый интерьер  оче...</td>\n",
              "    </tr>\n",
              "    <tr>\n",
              "      <th>2</th>\n",
              "      <td>1</td>\n",
              "      <td>вкусное мороженое  с кофе и яблочным пирогом с...</td>\n",
              "    </tr>\n",
              "    <tr>\n",
              "      <th>3</th>\n",
              "      <td>1</td>\n",
              "      <td>хорошее мороженное  разнообразие выбора и вкус...</td>\n",
              "    </tr>\n",
              "    <tr>\n",
              "      <th>4</th>\n",
              "      <td>0</td>\n",
              "      <td>ставлю одну звезду лишь за вкусное мороженое  ...</td>\n",
              "    </tr>\n",
              "    <tr>\n",
              "      <th>...</th>\n",
              "      <td>...</td>\n",
              "      <td>...</td>\n",
              "    </tr>\n",
              "    <tr>\n",
              "      <th>141593</th>\n",
              "      <td>0</td>\n",
              "      <td>заказали кальян  хотели посидеть расслабиться ...</td>\n",
              "    </tr>\n",
              "    <tr>\n",
              "      <th>141594</th>\n",
              "      <td>0</td>\n",
              "      <td>персонал не вежливый  сказали все есть из меню...</td>\n",
              "    </tr>\n",
              "    <tr>\n",
              "      <th>141595</th>\n",
              "      <td>0</td>\n",
              "      <td>зашли покурить кальян  попить чаю  заказали ка...</td>\n",
              "    </tr>\n",
              "    <tr>\n",
              "      <th>141596</th>\n",
              "      <td>0</td>\n",
              "      <td>мне понравилось  быстро подошла официантка  бы...</td>\n",
              "    </tr>\n",
              "    <tr>\n",
              "      <th>141597</th>\n",
              "      <td>0</td>\n",
              "      <td>классное каффе  мясные блюда на     алкоголь т...</td>\n",
              "    </tr>\n",
              "  </tbody>\n",
              "</table>\n",
              "<p>141598 rows × 2 columns</p>\n",
              "</div>\n",
              "      <button class=\"colab-df-convert\" onclick=\"convertToInteractive('df-1f5d40ec-80d9-421b-b573-65548439924a')\"\n",
              "              title=\"Convert this dataframe to an interactive table.\"\n",
              "              style=\"display:none;\">\n",
              "        \n",
              "  <svg xmlns=\"http://www.w3.org/2000/svg\" height=\"24px\"viewBox=\"0 0 24 24\"\n",
              "       width=\"24px\">\n",
              "    <path d=\"M0 0h24v24H0V0z\" fill=\"none\"/>\n",
              "    <path d=\"M18.56 5.44l.94 2.06.94-2.06 2.06-.94-2.06-.94-.94-2.06-.94 2.06-2.06.94zm-11 1L8.5 8.5l.94-2.06 2.06-.94-2.06-.94L8.5 2.5l-.94 2.06-2.06.94zm10 10l.94 2.06.94-2.06 2.06-.94-2.06-.94-.94-2.06-.94 2.06-2.06.94z\"/><path d=\"M17.41 7.96l-1.37-1.37c-.4-.4-.92-.59-1.43-.59-.52 0-1.04.2-1.43.59L10.3 9.45l-7.72 7.72c-.78.78-.78 2.05 0 2.83L4 21.41c.39.39.9.59 1.41.59.51 0 1.02-.2 1.41-.59l7.78-7.78 2.81-2.81c.8-.78.8-2.07 0-2.86zM5.41 20L4 18.59l7.72-7.72 1.47 1.35L5.41 20z\"/>\n",
              "  </svg>\n",
              "      </button>\n",
              "      \n",
              "  <style>\n",
              "    .colab-df-container {\n",
              "      display:flex;\n",
              "      flex-wrap:wrap;\n",
              "      gap: 12px;\n",
              "    }\n",
              "\n",
              "    .colab-df-convert {\n",
              "      background-color: #E8F0FE;\n",
              "      border: none;\n",
              "      border-radius: 50%;\n",
              "      cursor: pointer;\n",
              "      display: none;\n",
              "      fill: #1967D2;\n",
              "      height: 32px;\n",
              "      padding: 0 0 0 0;\n",
              "      width: 32px;\n",
              "    }\n",
              "\n",
              "    .colab-df-convert:hover {\n",
              "      background-color: #E2EBFA;\n",
              "      box-shadow: 0px 1px 2px rgba(60, 64, 67, 0.3), 0px 1px 3px 1px rgba(60, 64, 67, 0.15);\n",
              "      fill: #174EA6;\n",
              "    }\n",
              "\n",
              "    [theme=dark] .colab-df-convert {\n",
              "      background-color: #3B4455;\n",
              "      fill: #D2E3FC;\n",
              "    }\n",
              "\n",
              "    [theme=dark] .colab-df-convert:hover {\n",
              "      background-color: #434B5C;\n",
              "      box-shadow: 0px 1px 3px 1px rgba(0, 0, 0, 0.15);\n",
              "      filter: drop-shadow(0px 1px 2px rgba(0, 0, 0, 0.3));\n",
              "      fill: #FFFFFF;\n",
              "    }\n",
              "  </style>\n",
              "\n",
              "      <script>\n",
              "        const buttonEl =\n",
              "          document.querySelector('#df-1f5d40ec-80d9-421b-b573-65548439924a button.colab-df-convert');\n",
              "        buttonEl.style.display =\n",
              "          google.colab.kernel.accessAllowed ? 'block' : 'none';\n",
              "\n",
              "        async function convertToInteractive(key) {\n",
              "          const element = document.querySelector('#df-1f5d40ec-80d9-421b-b573-65548439924a');\n",
              "          const dataTable =\n",
              "            await google.colab.kernel.invokeFunction('convertToInteractive',\n",
              "                                                     [key], {});\n",
              "          if (!dataTable) return;\n",
              "\n",
              "          const docLinkHtml = 'Like what you see? Visit the ' +\n",
              "            '<a target=\"_blank\" href=https://colab.research.google.com/notebooks/data_table.ipynb>data table notebook</a>'\n",
              "            + ' to learn more about interactive tables.';\n",
              "          element.innerHTML = '';\n",
              "          dataTable['output_type'] = 'display_data';\n",
              "          await google.colab.output.renderOutput(dataTable, element);\n",
              "          const docLink = document.createElement('div');\n",
              "          docLink.innerHTML = docLinkHtml;\n",
              "          element.appendChild(docLink);\n",
              "        }\n",
              "      </script>\n",
              "    </div>\n",
              "  </div>\n",
              "  "
            ]
          },
          "metadata": {},
          "execution_count": 23
        }
      ]
    },
    {
      "cell_type": "code",
      "source": [
        "def lemmatize(words):\n",
        "  lemmatized_words = []\n",
        "  for word in word_tokenize(words):\n",
        "    if word not in stop_words:\n",
        "      parse = morph_analyzer.parse(word)[0]\n",
        "      if parse.is_known and parse.normal_form not in stop_words:\n",
        "        lemmatized_words.append(parse.normal_form)\n",
        "  return \" \".join(lemmatized_words)\n",
        "\n",
        "stop_words = stopwords.words('russian')\n",
        "morph_analyzer = MorphAnalyzer()\n",
        "\n",
        "df.data  = df.data.apply(lemmatize)\n",
        "lem_df = df.copy(deep=True)\n",
        "df"
      ],
      "metadata": {
        "colab": {
          "base_uri": "https://localhost:8080/",
          "height": 423
        },
        "id": "rKtMHcT0Y4SN",
        "outputId": "b0232cc0-8818-4416-8a7f-1023675d9527"
      },
      "execution_count": 24,
      "outputs": [
        {
          "output_type": "execute_result",
          "data": {
            "text/plain": [
              "        target                                               data\n",
              "0            0  экскурсия очень любить производственный экскур...\n",
              "1            1  часто ходить это кафе красивый интерьер очень ...\n",
              "2            1  вкусный мороженое кофе яблочный пирог мятый об...\n",
              "3            1  хороший мороженный разнообразие выбор вкус веж...\n",
              "4            0  ставить звезда лишь вкусный мороженое отсутств...\n",
              "...        ...                                                ...\n",
              "141593       0  заказать кальян хотеть посидеть расслабиться и...\n",
              "141594       0  персонал вежливый сказать меню весь выпечка ко...\n",
              "141595       0  заслать покурить кальян попить чай заказать ка...\n",
              "141596       0  понравиться быстро подойти официантка быстро п...\n",
              "141597       0  классный мясной блюдо алкоголь дорога морс клю...\n",
              "\n",
              "[141598 rows x 2 columns]"
            ],
            "text/html": [
              "\n",
              "  <div id=\"df-ddc32041-d8a5-434a-99b8-5a1cdf51cfba\">\n",
              "    <div class=\"colab-df-container\">\n",
              "      <div>\n",
              "<style scoped>\n",
              "    .dataframe tbody tr th:only-of-type {\n",
              "        vertical-align: middle;\n",
              "    }\n",
              "\n",
              "    .dataframe tbody tr th {\n",
              "        vertical-align: top;\n",
              "    }\n",
              "\n",
              "    .dataframe thead th {\n",
              "        text-align: right;\n",
              "    }\n",
              "</style>\n",
              "<table border=\"1\" class=\"dataframe\">\n",
              "  <thead>\n",
              "    <tr style=\"text-align: right;\">\n",
              "      <th></th>\n",
              "      <th>target</th>\n",
              "      <th>data</th>\n",
              "    </tr>\n",
              "  </thead>\n",
              "  <tbody>\n",
              "    <tr>\n",
              "      <th>0</th>\n",
              "      <td>0</td>\n",
              "      <td>экскурсия очень любить производственный экскур...</td>\n",
              "    </tr>\n",
              "    <tr>\n",
              "      <th>1</th>\n",
              "      <td>1</td>\n",
              "      <td>часто ходить это кафе красивый интерьер очень ...</td>\n",
              "    </tr>\n",
              "    <tr>\n",
              "      <th>2</th>\n",
              "      <td>1</td>\n",
              "      <td>вкусный мороженое кофе яблочный пирог мятый об...</td>\n",
              "    </tr>\n",
              "    <tr>\n",
              "      <th>3</th>\n",
              "      <td>1</td>\n",
              "      <td>хороший мороженный разнообразие выбор вкус веж...</td>\n",
              "    </tr>\n",
              "    <tr>\n",
              "      <th>4</th>\n",
              "      <td>0</td>\n",
              "      <td>ставить звезда лишь вкусный мороженое отсутств...</td>\n",
              "    </tr>\n",
              "    <tr>\n",
              "      <th>...</th>\n",
              "      <td>...</td>\n",
              "      <td>...</td>\n",
              "    </tr>\n",
              "    <tr>\n",
              "      <th>141593</th>\n",
              "      <td>0</td>\n",
              "      <td>заказать кальян хотеть посидеть расслабиться и...</td>\n",
              "    </tr>\n",
              "    <tr>\n",
              "      <th>141594</th>\n",
              "      <td>0</td>\n",
              "      <td>персонал вежливый сказать меню весь выпечка ко...</td>\n",
              "    </tr>\n",
              "    <tr>\n",
              "      <th>141595</th>\n",
              "      <td>0</td>\n",
              "      <td>заслать покурить кальян попить чай заказать ка...</td>\n",
              "    </tr>\n",
              "    <tr>\n",
              "      <th>141596</th>\n",
              "      <td>0</td>\n",
              "      <td>понравиться быстро подойти официантка быстро п...</td>\n",
              "    </tr>\n",
              "    <tr>\n",
              "      <th>141597</th>\n",
              "      <td>0</td>\n",
              "      <td>классный мясной блюдо алкоголь дорога морс клю...</td>\n",
              "    </tr>\n",
              "  </tbody>\n",
              "</table>\n",
              "<p>141598 rows × 2 columns</p>\n",
              "</div>\n",
              "      <button class=\"colab-df-convert\" onclick=\"convertToInteractive('df-ddc32041-d8a5-434a-99b8-5a1cdf51cfba')\"\n",
              "              title=\"Convert this dataframe to an interactive table.\"\n",
              "              style=\"display:none;\">\n",
              "        \n",
              "  <svg xmlns=\"http://www.w3.org/2000/svg\" height=\"24px\"viewBox=\"0 0 24 24\"\n",
              "       width=\"24px\">\n",
              "    <path d=\"M0 0h24v24H0V0z\" fill=\"none\"/>\n",
              "    <path d=\"M18.56 5.44l.94 2.06.94-2.06 2.06-.94-2.06-.94-.94-2.06-.94 2.06-2.06.94zm-11 1L8.5 8.5l.94-2.06 2.06-.94-2.06-.94L8.5 2.5l-.94 2.06-2.06.94zm10 10l.94 2.06.94-2.06 2.06-.94-2.06-.94-.94-2.06-.94 2.06-2.06.94z\"/><path d=\"M17.41 7.96l-1.37-1.37c-.4-.4-.92-.59-1.43-.59-.52 0-1.04.2-1.43.59L10.3 9.45l-7.72 7.72c-.78.78-.78 2.05 0 2.83L4 21.41c.39.39.9.59 1.41.59.51 0 1.02-.2 1.41-.59l7.78-7.78 2.81-2.81c.8-.78.8-2.07 0-2.86zM5.41 20L4 18.59l7.72-7.72 1.47 1.35L5.41 20z\"/>\n",
              "  </svg>\n",
              "      </button>\n",
              "      \n",
              "  <style>\n",
              "    .colab-df-container {\n",
              "      display:flex;\n",
              "      flex-wrap:wrap;\n",
              "      gap: 12px;\n",
              "    }\n",
              "\n",
              "    .colab-df-convert {\n",
              "      background-color: #E8F0FE;\n",
              "      border: none;\n",
              "      border-radius: 50%;\n",
              "      cursor: pointer;\n",
              "      display: none;\n",
              "      fill: #1967D2;\n",
              "      height: 32px;\n",
              "      padding: 0 0 0 0;\n",
              "      width: 32px;\n",
              "    }\n",
              "\n",
              "    .colab-df-convert:hover {\n",
              "      background-color: #E2EBFA;\n",
              "      box-shadow: 0px 1px 2px rgba(60, 64, 67, 0.3), 0px 1px 3px 1px rgba(60, 64, 67, 0.15);\n",
              "      fill: #174EA6;\n",
              "    }\n",
              "\n",
              "    [theme=dark] .colab-df-convert {\n",
              "      background-color: #3B4455;\n",
              "      fill: #D2E3FC;\n",
              "    }\n",
              "\n",
              "    [theme=dark] .colab-df-convert:hover {\n",
              "      background-color: #434B5C;\n",
              "      box-shadow: 0px 1px 3px 1px rgba(0, 0, 0, 0.15);\n",
              "      filter: drop-shadow(0px 1px 2px rgba(0, 0, 0, 0.3));\n",
              "      fill: #FFFFFF;\n",
              "    }\n",
              "  </style>\n",
              "\n",
              "      <script>\n",
              "        const buttonEl =\n",
              "          document.querySelector('#df-ddc32041-d8a5-434a-99b8-5a1cdf51cfba button.colab-df-convert');\n",
              "        buttonEl.style.display =\n",
              "          google.colab.kernel.accessAllowed ? 'block' : 'none';\n",
              "\n",
              "        async function convertToInteractive(key) {\n",
              "          const element = document.querySelector('#df-ddc32041-d8a5-434a-99b8-5a1cdf51cfba');\n",
              "          const dataTable =\n",
              "            await google.colab.kernel.invokeFunction('convertToInteractive',\n",
              "                                                     [key], {});\n",
              "          if (!dataTable) return;\n",
              "\n",
              "          const docLinkHtml = 'Like what you see? Visit the ' +\n",
              "            '<a target=\"_blank\" href=https://colab.research.google.com/notebooks/data_table.ipynb>data table notebook</a>'\n",
              "            + ' to learn more about interactive tables.';\n",
              "          element.innerHTML = '';\n",
              "          dataTable['output_type'] = 'display_data';\n",
              "          await google.colab.output.renderOutput(dataTable, element);\n",
              "          const docLink = document.createElement('div');\n",
              "          docLink.innerHTML = docLinkHtml;\n",
              "          element.appendChild(docLink);\n",
              "        }\n",
              "      </script>\n",
              "    </div>\n",
              "  </div>\n",
              "  "
            ]
          },
          "metadata": {},
          "execution_count": 24
        }
      ]
    },
    {
      "cell_type": "markdown",
      "source": [
        "Для векторизации текста необходимо:\n",
        "\n",
        "1.  Составить словарь вида токен: число, где токен - это уникальное слово или специальный тег: \\<PAD> - тег для отступа, \\<UNK> - тег для неизвестного токена\n",
        "\n",
        "2.  Вычислить длину наибольшего отзыва по количеству слов\n",
        "\n",
        "3.  Преобразовать каждое слово в отзыве в число с помощью словаря и дополнить его тегом \\<PAD> до нужной длины"
      ],
      "metadata": {
        "id": "NDM4AZdmd0bl"
      }
    },
    {
      "cell_type": "code",
      "source": [
        "words = ['<PAD>', '<UNK>'] + list(set(word for review in df.data for word in word_tokenize(review)))\n",
        "word2vec = defaultdict(lambda: 1, {word: i for i, word in enumerate(words)})\n",
        "longest_review = df.data.str.split().apply(len).max()"
      ],
      "metadata": {
        "id": "L4RMQVYWdzZb"
      },
      "execution_count": 25,
      "outputs": []
    },
    {
      "cell_type": "code",
      "source": [
        "longest_review, len(words)"
      ],
      "metadata": {
        "colab": {
          "base_uri": "https://localhost:8080/"
        },
        "id": "A6fsA5W6UZIq",
        "outputId": "9d90b1d4-0651-4f68-8cc9-e83291d00935"
      },
      "execution_count": 26,
      "outputs": [
        {
          "output_type": "execute_result",
          "data": {
            "text/plain": [
              "(742, 26343)"
            ]
          },
          "metadata": {},
          "execution_count": 26
        }
      ]
    },
    {
      "cell_type": "code",
      "source": [
        "def vectorize(review):\n",
        "  vector = [0] * longest_review\n",
        "  for i, word in enumerate(word_tokenize(review)):\n",
        "    vector[i] = word2vec[word]\n",
        "  return torch.tensor(vector, dtype=torch.long)"
      ],
      "metadata": {
        "id": "V2u6OWPdvmem"
      },
      "execution_count": 27,
      "outputs": []
    },
    {
      "cell_type": "code",
      "source": [
        "df.data = pd.Series(list(map(vectorize, df.data.to_list())))\n",
        "df"
      ],
      "metadata": {
        "colab": {
          "base_uri": "https://localhost:8080/",
          "height": 423
        },
        "id": "WOWw2EgQkiOf",
        "outputId": "3b9e9ec1-afd2-4bf3-ef67-d5b398c88678"
      },
      "execution_count": 28,
      "outputs": [
        {
          "output_type": "execute_result",
          "data": {
            "text/plain": [
              "        target                                               data\n",
              "0            0  [tensor(14413), tensor(19634), tensor(25964), ...\n",
              "1            1  [tensor(14917), tensor(504), tensor(8657), ten...\n",
              "2            1  [tensor(18594), tensor(24810), tensor(4408), t...\n",
              "3            1  [tensor(23128), tensor(2027), tensor(4771), te...\n",
              "4            0  [tensor(17080), tensor(13597), tensor(3278), t...\n",
              "...        ...                                                ...\n",
              "141593       0  [tensor(14646), tensor(20688), tensor(4714), t...\n",
              "141594       0  [tensor(9658), tensor(11816), tensor(15513), t...\n",
              "141595       0  [tensor(13372), tensor(12454), tensor(20688), ...\n",
              "141596       0  [tensor(24926), tensor(23432), tensor(7167), t...\n",
              "141597       0  [tensor(2283), tensor(3681), tensor(8114), ten...\n",
              "\n",
              "[141598 rows x 2 columns]"
            ],
            "text/html": [
              "\n",
              "  <div id=\"df-0f39f2d6-a1f3-4ace-b568-7ed527af16f2\">\n",
              "    <div class=\"colab-df-container\">\n",
              "      <div>\n",
              "<style scoped>\n",
              "    .dataframe tbody tr th:only-of-type {\n",
              "        vertical-align: middle;\n",
              "    }\n",
              "\n",
              "    .dataframe tbody tr th {\n",
              "        vertical-align: top;\n",
              "    }\n",
              "\n",
              "    .dataframe thead th {\n",
              "        text-align: right;\n",
              "    }\n",
              "</style>\n",
              "<table border=\"1\" class=\"dataframe\">\n",
              "  <thead>\n",
              "    <tr style=\"text-align: right;\">\n",
              "      <th></th>\n",
              "      <th>target</th>\n",
              "      <th>data</th>\n",
              "    </tr>\n",
              "  </thead>\n",
              "  <tbody>\n",
              "    <tr>\n",
              "      <th>0</th>\n",
              "      <td>0</td>\n",
              "      <td>[tensor(14413), tensor(19634), tensor(25964), ...</td>\n",
              "    </tr>\n",
              "    <tr>\n",
              "      <th>1</th>\n",
              "      <td>1</td>\n",
              "      <td>[tensor(14917), tensor(504), tensor(8657), ten...</td>\n",
              "    </tr>\n",
              "    <tr>\n",
              "      <th>2</th>\n",
              "      <td>1</td>\n",
              "      <td>[tensor(18594), tensor(24810), tensor(4408), t...</td>\n",
              "    </tr>\n",
              "    <tr>\n",
              "      <th>3</th>\n",
              "      <td>1</td>\n",
              "      <td>[tensor(23128), tensor(2027), tensor(4771), te...</td>\n",
              "    </tr>\n",
              "    <tr>\n",
              "      <th>4</th>\n",
              "      <td>0</td>\n",
              "      <td>[tensor(17080), tensor(13597), tensor(3278), t...</td>\n",
              "    </tr>\n",
              "    <tr>\n",
              "      <th>...</th>\n",
              "      <td>...</td>\n",
              "      <td>...</td>\n",
              "    </tr>\n",
              "    <tr>\n",
              "      <th>141593</th>\n",
              "      <td>0</td>\n",
              "      <td>[tensor(14646), tensor(20688), tensor(4714), t...</td>\n",
              "    </tr>\n",
              "    <tr>\n",
              "      <th>141594</th>\n",
              "      <td>0</td>\n",
              "      <td>[tensor(9658), tensor(11816), tensor(15513), t...</td>\n",
              "    </tr>\n",
              "    <tr>\n",
              "      <th>141595</th>\n",
              "      <td>0</td>\n",
              "      <td>[tensor(13372), tensor(12454), tensor(20688), ...</td>\n",
              "    </tr>\n",
              "    <tr>\n",
              "      <th>141596</th>\n",
              "      <td>0</td>\n",
              "      <td>[tensor(24926), tensor(23432), tensor(7167), t...</td>\n",
              "    </tr>\n",
              "    <tr>\n",
              "      <th>141597</th>\n",
              "      <td>0</td>\n",
              "      <td>[tensor(2283), tensor(3681), tensor(8114), ten...</td>\n",
              "    </tr>\n",
              "  </tbody>\n",
              "</table>\n",
              "<p>141598 rows × 2 columns</p>\n",
              "</div>\n",
              "      <button class=\"colab-df-convert\" onclick=\"convertToInteractive('df-0f39f2d6-a1f3-4ace-b568-7ed527af16f2')\"\n",
              "              title=\"Convert this dataframe to an interactive table.\"\n",
              "              style=\"display:none;\">\n",
              "        \n",
              "  <svg xmlns=\"http://www.w3.org/2000/svg\" height=\"24px\"viewBox=\"0 0 24 24\"\n",
              "       width=\"24px\">\n",
              "    <path d=\"M0 0h24v24H0V0z\" fill=\"none\"/>\n",
              "    <path d=\"M18.56 5.44l.94 2.06.94-2.06 2.06-.94-2.06-.94-.94-2.06-.94 2.06-2.06.94zm-11 1L8.5 8.5l.94-2.06 2.06-.94-2.06-.94L8.5 2.5l-.94 2.06-2.06.94zm10 10l.94 2.06.94-2.06 2.06-.94-2.06-.94-.94-2.06-.94 2.06-2.06.94z\"/><path d=\"M17.41 7.96l-1.37-1.37c-.4-.4-.92-.59-1.43-.59-.52 0-1.04.2-1.43.59L10.3 9.45l-7.72 7.72c-.78.78-.78 2.05 0 2.83L4 21.41c.39.39.9.59 1.41.59.51 0 1.02-.2 1.41-.59l7.78-7.78 2.81-2.81c.8-.78.8-2.07 0-2.86zM5.41 20L4 18.59l7.72-7.72 1.47 1.35L5.41 20z\"/>\n",
              "  </svg>\n",
              "      </button>\n",
              "      \n",
              "  <style>\n",
              "    .colab-df-container {\n",
              "      display:flex;\n",
              "      flex-wrap:wrap;\n",
              "      gap: 12px;\n",
              "    }\n",
              "\n",
              "    .colab-df-convert {\n",
              "      background-color: #E8F0FE;\n",
              "      border: none;\n",
              "      border-radius: 50%;\n",
              "      cursor: pointer;\n",
              "      display: none;\n",
              "      fill: #1967D2;\n",
              "      height: 32px;\n",
              "      padding: 0 0 0 0;\n",
              "      width: 32px;\n",
              "    }\n",
              "\n",
              "    .colab-df-convert:hover {\n",
              "      background-color: #E2EBFA;\n",
              "      box-shadow: 0px 1px 2px rgba(60, 64, 67, 0.3), 0px 1px 3px 1px rgba(60, 64, 67, 0.15);\n",
              "      fill: #174EA6;\n",
              "    }\n",
              "\n",
              "    [theme=dark] .colab-df-convert {\n",
              "      background-color: #3B4455;\n",
              "      fill: #D2E3FC;\n",
              "    }\n",
              "\n",
              "    [theme=dark] .colab-df-convert:hover {\n",
              "      background-color: #434B5C;\n",
              "      box-shadow: 0px 1px 3px 1px rgba(0, 0, 0, 0.15);\n",
              "      filter: drop-shadow(0px 1px 2px rgba(0, 0, 0, 0.3));\n",
              "      fill: #FFFFFF;\n",
              "    }\n",
              "  </style>\n",
              "\n",
              "      <script>\n",
              "        const buttonEl =\n",
              "          document.querySelector('#df-0f39f2d6-a1f3-4ace-b568-7ed527af16f2 button.colab-df-convert');\n",
              "        buttonEl.style.display =\n",
              "          google.colab.kernel.accessAllowed ? 'block' : 'none';\n",
              "\n",
              "        async function convertToInteractive(key) {\n",
              "          const element = document.querySelector('#df-0f39f2d6-a1f3-4ace-b568-7ed527af16f2');\n",
              "          const dataTable =\n",
              "            await google.colab.kernel.invokeFunction('convertToInteractive',\n",
              "                                                     [key], {});\n",
              "          if (!dataTable) return;\n",
              "\n",
              "          const docLinkHtml = 'Like what you see? Visit the ' +\n",
              "            '<a target=\"_blank\" href=https://colab.research.google.com/notebooks/data_table.ipynb>data table notebook</a>'\n",
              "            + ' to learn more about interactive tables.';\n",
              "          element.innerHTML = '';\n",
              "          dataTable['output_type'] = 'display_data';\n",
              "          await google.colab.output.renderOutput(dataTable, element);\n",
              "          const docLink = document.createElement('div');\n",
              "          docLink.innerHTML = docLinkHtml;\n",
              "          element.appendChild(docLink);\n",
              "        }\n",
              "      </script>\n",
              "    </div>\n",
              "  </div>\n",
              "  "
            ]
          },
          "metadata": {},
          "execution_count": 28
        }
      ]
    },
    {
      "cell_type": "code",
      "source": [
        "train, test = train_test_split(df, test_size=0.2)\n",
        "train.shape, test.shape"
      ],
      "metadata": {
        "colab": {
          "base_uri": "https://localhost:8080/"
        },
        "id": "2mMn1JVApg5y",
        "outputId": "51a1273c-ef8d-4124-dc6f-e596d4cffb9c"
      },
      "execution_count": 29,
      "outputs": [
        {
          "output_type": "execute_result",
          "data": {
            "text/plain": [
              "((113278, 2), (28320, 2))"
            ]
          },
          "metadata": {},
          "execution_count": 29
        }
      ]
    },
    {
      "cell_type": "code",
      "source": [
        "class CustomDataset(Dataset):\n",
        "\n",
        "  def __init__(self, X, y):\n",
        "    self.X = X\n",
        "    self.y = y\n",
        "\n",
        "  def __len__(self):\n",
        "    return len(self.X)\n",
        "\n",
        "  def __getitem__(self, index):\n",
        "     return self.X[index], self.y[index]"
      ],
      "metadata": {
        "id": "xry8BWggzsBM"
      },
      "execution_count": 30,
      "outputs": []
    },
    {
      "cell_type": "code",
      "source": [
        "trainset = CustomDataset(train.data.to_list(), train.target.to_list())\n",
        "testset = CustomDataset(test.data.to_list(), test.target.to_list())"
      ],
      "metadata": {
        "id": "gheVN6t0zYKr"
      },
      "execution_count": 31,
      "outputs": []
    },
    {
      "cell_type": "code",
      "source": [
        "trainloader = DataLoader(trainset, batch_size=ceil(len(train)/NUM_BATCHES), shuffle=True, drop_last=True)\n",
        "testloader = DataLoader(testset, batch_size=trainloader.batch_size, drop_last=True)"
      ],
      "metadata": {
        "id": "VNF7YL2Iprpk"
      },
      "execution_count": 32,
      "outputs": []
    },
    {
      "cell_type": "markdown",
      "source": [
        "# Создание и обучение моделей"
      ],
      "metadata": {
        "id": "I0n7am6Sn0gf"
      }
    },
    {
      "cell_type": "markdown",
      "source": [
        "Существуют несколько подходов к классификации текстов, в данной работе будут рассмотрены следующие:\n",
        "\n",
        "1.  Многослойный перцептрон.\n",
        "\n",
        "2.  Сверточная сеть.\n",
        "\n",
        "3.  Реккурентная сеть с долгой краткосрочной паматью."
      ],
      "metadata": {
        "id": "o_0r7DvgsjDJ"
      }
    },
    {
      "cell_type": "markdown",
      "source": [
        "## MLP"
      ],
      "metadata": {
        "id": "HtWRDwZe0WNa"
      }
    },
    {
      "cell_type": "code",
      "source": [
        "class MLP(nn.Module):\n",
        "\n",
        "    def __init__(self, num_embeddings: int, embedding_dim: int, out_features: int):\n",
        "        super(MLP, self).__init__()\n",
        "        self.embedding = nn.Embedding(num_embeddings=num_embeddings, embedding_dim=embedding_dim)\n",
        "        self.model = nn.Sequential(\n",
        "            nn.Dropout(),\n",
        "            nn.AdaptiveAvgPool1d(8),\n",
        "            nn.Flatten(1),\n",
        "            nn.Linear(embedding_dim * 8, 512),\n",
        "            nn.ReLU(),\n",
        "            nn.Dropout(),\n",
        "            nn.Linear(512, out_features),\n",
        "            nn.Sigmoid()\n",
        "        )\n",
        "\n",
        "    def forward(self, inputs):\n",
        "        inputs = self.embedding(inputs)\n",
        "        inputs = inputs.reshape(inputs.size(0), inputs.size(2), inputs.size(1))\n",
        "        return self.model(inputs).squeeze().to(torch.float)\n"
      ],
      "metadata": {
        "id": "VG-Ljcib0XJe"
      },
      "execution_count": 47,
      "outputs": []
    },
    {
      "cell_type": "code",
      "source": [
        "torch.cuda.empty_cache()\n",
        "mlp = MLP(\n",
        "        num_embeddings=len(word2vec),\n",
        "        embedding_dim=64,\n",
        "        out_features=1\n",
        ").to(DEVICE)\n",
        "loss_func = nn.BCELoss()\n",
        "optimizer = optim.Adam(mlp.parameters(), lr=0.0015)\n",
        "mlp"
      ],
      "metadata": {
        "colab": {
          "base_uri": "https://localhost:8080/"
        },
        "outputId": "c132d63f-9ed3-46a1-d55f-1119d35ea24c",
        "id": "O8f5mED90XJf"
      },
      "execution_count": 48,
      "outputs": [
        {
          "output_type": "execute_result",
          "data": {
            "text/plain": [
              "MLP(\n",
              "  (embedding): Embedding(26343, 64)\n",
              "  (model): Sequential(\n",
              "    (0): Dropout(p=0.5, inplace=False)\n",
              "    (1): AdaptiveAvgPool1d(output_size=8)\n",
              "    (2): Flatten(start_dim=1, end_dim=-1)\n",
              "    (3): Linear(in_features=512, out_features=512, bias=True)\n",
              "    (4): ReLU()\n",
              "    (5): Dropout(p=0.5, inplace=False)\n",
              "    (6): Linear(in_features=512, out_features=1, bias=True)\n",
              "    (7): Sigmoid()\n",
              "  )\n",
              ")"
            ]
          },
          "metadata": {},
          "execution_count": 48
        }
      ]
    },
    {
      "cell_type": "code",
      "source": [
        "mlp.train()\n",
        "mlp_losses = []\n",
        "mlp_time = []\n",
        "for epoch in range(EPOCHS):\n",
        "  start = time.time()\n",
        "  losses_sum = 0\n",
        "  for X, y in trainloader:\n",
        "    optimizer.zero_grad()\n",
        "    X, y = X.to(torch.long).to(DEVICE), y.to(torch.float).to(DEVICE)\n",
        "    pred = mlp(X)\n",
        "    loss_val = loss_func(pred, y)\n",
        "    loss_val.backward()\n",
        "    losses_sum += loss_val.cpu().item()\n",
        "    optimizer.step()\n",
        "  mlp_time.append(time.time() - start)\n",
        "  mlp_losses.append(losses_sum / NUM_BATCHES)\n",
        "  print(f\"{epoch = }; loss = {mlp_losses[-1]}; time = {mlp_time[-1]}\")"
      ],
      "metadata": {
        "colab": {
          "base_uri": "https://localhost:8080/"
        },
        "outputId": "69f6fdf8-0f2c-4d2e-8524-7028c11cd85f",
        "id": "cwt7hKlw0XJf"
      },
      "execution_count": 49,
      "outputs": [
        {
          "output_type": "stream",
          "name": "stdout",
          "text": [
            "epoch = 0; loss = 0.6569401115179062; time = 3.213505744934082\n",
            "epoch = 1; loss = 0.6434083819389343; time = 3.393453359603882\n",
            "epoch = 2; loss = 0.6120745569467545; time = 3.1021828651428223\n",
            "epoch = 3; loss = 0.5717232942581176; time = 3.095407485961914\n",
            "epoch = 4; loss = 0.5169844329357147; time = 3.0976758003234863\n",
            "epoch = 5; loss = 0.47039715498685836; time = 3.2740955352783203\n",
            "epoch = 6; loss = 0.4403908386826515; time = 3.44832181930542\n",
            "epoch = 7; loss = 0.4185046717524529; time = 3.1048521995544434\n",
            "epoch = 8; loss = 0.3984744310379028; time = 3.116283655166626\n",
            "epoch = 9; loss = 0.3867981851100922; time = 3.3132925033569336\n",
            "epoch = 10; loss = 0.37625858634710313; time = 3.924563407897949\n",
            "epoch = 11; loss = 0.36869294196367264; time = 3.130915641784668\n",
            "epoch = 12; loss = 0.36103605180978776; time = 3.657442569732666\n",
            "epoch = 13; loss = 0.35520204305648806; time = 3.356635332107544\n",
            "epoch = 14; loss = 0.3490286409854889; time = 3.260249376296997\n",
            "epoch = 15; loss = 0.344264543056488; time = 3.1503665447235107\n",
            "epoch = 16; loss = 0.34113117307424545; time = 3.132678508758545\n",
            "epoch = 17; loss = 0.3370801106095314; time = 3.2340633869171143\n",
            "epoch = 18; loss = 0.3324939340353012; time = 3.3442251682281494\n",
            "epoch = 19; loss = 0.3296470955014229; time = 3.1375722885131836\n",
            "epoch = 20; loss = 0.3265292584896088; time = 3.331801652908325\n",
            "epoch = 21; loss = 0.32503009885549544; time = 3.2651660442352295\n",
            "epoch = 22; loss = 0.32233658730983733; time = 3.3350892066955566\n",
            "epoch = 23; loss = 0.3180125951766968; time = 3.157506227493286\n",
            "epoch = 24; loss = 0.31725737154483796; time = 3.15995717048645\n",
            "epoch = 25; loss = 0.31461541503667834; time = 4.12981104850769\n",
            "epoch = 26; loss = 0.31219143122434617; time = 3.3941807746887207\n",
            "epoch = 27; loss = 0.31066411882638933; time = 3.1398587226867676\n",
            "epoch = 28; loss = 0.30952470004558563; time = 3.1446237564086914\n",
            "epoch = 29; loss = 0.30629549324512484; time = 3.191744327545166\n",
            "epoch = 30; loss = 0.30455265641212464; time = 3.4635446071624756\n",
            "epoch = 31; loss = 0.3031307741999626; time = 3.148505449295044\n",
            "epoch = 32; loss = 0.3008431628346443; time = 3.1484689712524414\n",
            "epoch = 33; loss = 0.2995923325419426; time = 3.1277477741241455\n",
            "epoch = 34; loss = 0.2993876650929451; time = 3.4008140563964844\n",
            "epoch = 35; loss = 0.2974216789007187; time = 3.245366096496582\n",
            "epoch = 36; loss = 0.29593886733055114; time = 3.3590078353881836\n",
            "epoch = 37; loss = 0.2952240854501724; time = 3.122640609741211\n",
            "epoch = 38; loss = 0.2929185047745705; time = 3.355018138885498\n",
            "epoch = 39; loss = 0.29172367304563523; time = 3.217442750930786\n",
            "epoch = 40; loss = 0.2903523862361908; time = 3.14357590675354\n",
            "epoch = 41; loss = 0.2890382245182991; time = 3.141749620437622\n",
            "epoch = 42; loss = 0.28842920511960984; time = 3.3222789764404297\n",
            "epoch = 43; loss = 0.2867965340614319; time = 3.26249361038208\n",
            "epoch = 44; loss = 0.2869476854801178; time = 3.144566059112549\n",
            "epoch = 45; loss = 0.28482804596424105; time = 3.127187728881836\n",
            "epoch = 46; loss = 0.2872183442115784; time = 3.2283670902252197\n",
            "epoch = 47; loss = 0.2834503561258316; time = 3.3877484798431396\n",
            "epoch = 48; loss = 0.28274095207452776; time = 3.1363420486450195\n",
            "epoch = 49; loss = 0.2817936301231384; time = 3.1365866661071777\n"
          ]
        }
      ]
    },
    {
      "cell_type": "code",
      "source": [
        "mlp.eval()\n",
        "mlp_correct_pred = 0\n",
        "mlp_preds = []\n",
        "with torch.no_grad():\n",
        "  for X, y in testloader:\n",
        "    X, y = X.to(torch.long).to(DEVICE), y.to(torch.float).to(DEVICE)\n",
        "    pred = mlp(X).round()\n",
        "    mlp_preds.append(pred.cpu())\n",
        "    mlp_correct_pred += (pred == y).type(torch.float).sum().item()"
      ],
      "metadata": {
        "id": "35hcPNRR0XJf"
      },
      "execution_count": 50,
      "outputs": []
    },
    {
      "cell_type": "markdown",
      "source": [
        "## CNN"
      ],
      "metadata": {
        "id": "caeVM83qt64O"
      }
    },
    {
      "cell_type": "code",
      "source": [
        "class CNN(nn.Module):\n",
        "\n",
        "    def __init__(self, num_embeddings: int, embedding_dim: int, out_features: int):\n",
        "        super(CNN, self).__init__()\n",
        "        self.embedding = nn.Embedding(num_embeddings=num_embeddings, embedding_dim=embedding_dim)\n",
        "        self.model = nn.Sequential(\n",
        "            nn.Dropout(),\n",
        "            nn.Conv1d(in_channels=embedding_dim, out_channels=128, kernel_size=2),\n",
        "            nn.BatchNorm1d(num_features=128),\n",
        "            nn.ReLU(),\n",
        "            nn.MaxPool1d(kernel_size=2),\n",
        "            nn.AdaptiveAvgPool1d(8),\n",
        "            nn.Flatten(1),\n",
        "            nn.Linear(128 * 8, 512),\n",
        "            nn.ReLU(),\n",
        "            nn.Dropout(),\n",
        "            nn.Linear(512, out_features),\n",
        "            nn.Sigmoid()\n",
        "        )\n",
        "\n",
        "    def forward(self, inputs):\n",
        "        inputs = self.embedding(inputs)\n",
        "        inputs = inputs.reshape(inputs.size(0), inputs.size(2), inputs.size(1))\n",
        "        return self.model(inputs).squeeze().to(torch.float)\n"
      ],
      "metadata": {
        "id": "rKoJvt6PfmP6"
      },
      "execution_count": 51,
      "outputs": []
    },
    {
      "cell_type": "code",
      "source": [
        "torch.cuda.empty_cache()\n",
        "cnn = CNN(\n",
        "        num_embeddings=len(word2vec),\n",
        "        embedding_dim=64,\n",
        "        out_features=1\n",
        ").to(DEVICE)\n",
        "loss_func = nn.BCELoss()\n",
        "optimizer = optim.Adam(cnn.parameters(), lr=0.0015)\n",
        "cnn"
      ],
      "metadata": {
        "colab": {
          "base_uri": "https://localhost:8080/"
        },
        "id": "Iuout2z2frgY",
        "outputId": "44d747b3-80cd-4dcc-810c-073cc0a5b63b"
      },
      "execution_count": 52,
      "outputs": [
        {
          "output_type": "execute_result",
          "data": {
            "text/plain": [
              "CNN(\n",
              "  (embedding): Embedding(26343, 64)\n",
              "  (model): Sequential(\n",
              "    (0): Dropout(p=0.5, inplace=False)\n",
              "    (1): Conv1d(64, 128, kernel_size=(2,), stride=(1,))\n",
              "    (2): BatchNorm1d(128, eps=1e-05, momentum=0.1, affine=True, track_running_stats=True)\n",
              "    (3): ReLU()\n",
              "    (4): MaxPool1d(kernel_size=2, stride=2, padding=0, dilation=1, ceil_mode=False)\n",
              "    (5): AdaptiveAvgPool1d(output_size=8)\n",
              "    (6): Flatten(start_dim=1, end_dim=-1)\n",
              "    (7): Linear(in_features=1024, out_features=512, bias=True)\n",
              "    (8): ReLU()\n",
              "    (9): Dropout(p=0.5, inplace=False)\n",
              "    (10): Linear(in_features=512, out_features=1, bias=True)\n",
              "    (11): Sigmoid()\n",
              "  )\n",
              ")"
            ]
          },
          "metadata": {},
          "execution_count": 52
        }
      ]
    },
    {
      "cell_type": "code",
      "source": [
        "cnn.train()\n",
        "cnn_losses = []\n",
        "cnn_time = []\n",
        "for epoch in range(EPOCHS):\n",
        "  start = time.time()\n",
        "  losses_sum = 0\n",
        "  for X, y in trainloader:\n",
        "    optimizer.zero_grad()\n",
        "    X, y = X.to(torch.long).to(DEVICE), y.to(torch.float).to(DEVICE)\n",
        "    pred = cnn(X)\n",
        "    loss_val = loss_func(pred, y)\n",
        "    loss_val.backward()\n",
        "    losses_sum += loss_val.cpu().item()\n",
        "    optimizer.step()\n",
        "  cnn_time.append(time.time() - start)\n",
        "  cnn_losses.append(losses_sum / NUM_BATCHES)\n",
        "  print(f\"{epoch = }; loss = {cnn_losses[-1]}; time = {cnn_time[-1]}\")"
      ],
      "metadata": {
        "colab": {
          "base_uri": "https://localhost:8080/"
        },
        "id": "hQl5CJO3f9L5",
        "outputId": "da9508ef-5a81-4adf-bd57-f2d7b519b762"
      },
      "execution_count": 53,
      "outputs": [
        {
          "output_type": "stream",
          "name": "stdout",
          "text": [
            "epoch = 0; loss = 0.7800625026226043; time = 10.734977960586548\n",
            "epoch = 1; loss = 0.657231405377388; time = 10.817748785018921\n",
            "epoch = 2; loss = 0.6566014260053634; time = 10.74216341972351\n",
            "epoch = 3; loss = 0.6551166325807571; time = 10.749668598175049\n",
            "epoch = 4; loss = 0.6482960939407348; time = 10.740732192993164\n",
            "epoch = 5; loss = 0.6342708826065063; time = 10.652324199676514\n",
            "epoch = 6; loss = 0.6191011220216751; time = 10.609612941741943\n",
            "epoch = 7; loss = 0.5877047181129456; time = 10.608585596084595\n",
            "epoch = 8; loss = 0.53041752576828; time = 10.759641885757446\n",
            "epoch = 9; loss = 0.4815018028020859; time = 10.668624639511108\n",
            "epoch = 10; loss = 0.4519010305404663; time = 10.719483375549316\n",
            "epoch = 11; loss = 0.42569604218006135; time = 10.954866170883179\n",
            "epoch = 12; loss = 0.40950465202331543; time = 10.656541109085083\n",
            "epoch = 13; loss = 0.3985657662153244; time = 10.697328805923462\n",
            "epoch = 14; loss = 0.3911233887076378; time = 10.728335618972778\n",
            "epoch = 15; loss = 0.3836969956755638; time = 10.740498781204224\n",
            "epoch = 16; loss = 0.3760921716690063; time = 10.615227699279785\n",
            "epoch = 17; loss = 0.369645656645298; time = 10.668325424194336\n",
            "epoch = 18; loss = 0.36621082574129105; time = 10.777097225189209\n",
            "epoch = 19; loss = 0.3630836084485054; time = 10.721294403076172\n",
            "epoch = 20; loss = 0.3591775819659233; time = 10.70389437675476\n",
            "epoch = 21; loss = 0.35744782984256745; time = 10.674758434295654\n",
            "epoch = 22; loss = 0.35240859538316727; time = 10.780233144760132\n",
            "epoch = 23; loss = 0.35122313648462294; time = 10.673904657363892\n",
            "epoch = 24; loss = 0.34691885858774185; time = 10.71594786643982\n",
            "epoch = 25; loss = 0.3430669501423836; time = 10.965744018554688\n",
            "epoch = 26; loss = 0.3435213536024094; time = 10.653636693954468\n",
            "epoch = 27; loss = 0.34173946976661684; time = 10.693350791931152\n",
            "epoch = 28; loss = 0.33739889711141585; time = 10.685450077056885\n",
            "epoch = 29; loss = 0.3373569309711456; time = 10.774467468261719\n",
            "epoch = 30; loss = 0.33511280715465547; time = 10.642369031906128\n",
            "epoch = 31; loss = 0.3302366524934769; time = 10.677512407302856\n",
            "epoch = 32; loss = 0.331236806511879; time = 10.675910949707031\n",
            "epoch = 33; loss = 0.3279772773385048; time = 10.673122882843018\n",
            "epoch = 34; loss = 0.32974992543458936; time = 10.69391131401062\n",
            "epoch = 35; loss = 0.32716322392225267; time = 10.658989429473877\n",
            "epoch = 36; loss = 0.32628300935029986; time = 10.755509614944458\n",
            "epoch = 37; loss = 0.3221853137016296; time = 10.692202091217041\n",
            "epoch = 38; loss = 0.32282311767339705; time = 10.68484377861023\n",
            "epoch = 39; loss = 0.32273747622966764; time = 10.651473999023438\n",
            "epoch = 40; loss = 0.32077973932027815; time = 10.977323532104492\n",
            "epoch = 41; loss = 0.31869171261787416; time = 10.672775268554688\n",
            "epoch = 42; loss = 0.31784814298152925; time = 10.705573797225952\n",
            "epoch = 43; loss = 0.3175193041563034; time = 10.737624168395996\n",
            "epoch = 44; loss = 0.31398966163396835; time = 10.657715320587158\n",
            "epoch = 45; loss = 0.3161067470908165; time = 10.67610239982605\n",
            "epoch = 46; loss = 0.313793908059597; time = 10.701897144317627\n",
            "epoch = 47; loss = 0.3117571011185646; time = 10.784587860107422\n",
            "epoch = 48; loss = 0.3129178658127785; time = 10.647590637207031\n",
            "epoch = 49; loss = 0.3104685053229332; time = 10.643295049667358\n"
          ]
        }
      ]
    },
    {
      "cell_type": "code",
      "source": [
        "cnn.eval()\n",
        "cnn_correct_pred = 0\n",
        "cnn_preds = []\n",
        "with torch.no_grad():\n",
        "  for X, y in testloader:\n",
        "    X, y = X.to(torch.long).to(DEVICE), y.to(torch.float).to(DEVICE)\n",
        "    pred = cnn(X).round()\n",
        "    cnn_preds.append(pred.cpu())\n",
        "    cnn_correct_pred += (pred == y).type(torch.float).sum().item()"
      ],
      "metadata": {
        "id": "3APnSyGmzU4g"
      },
      "execution_count": 54,
      "outputs": []
    },
    {
      "cell_type": "markdown",
      "source": [
        "## LSTM"
      ],
      "metadata": {
        "id": "VDijDAkk1YzF"
      }
    },
    {
      "cell_type": "code",
      "source": [
        "class LSTM(nn.Module):\n",
        "\n",
        "    def __init__(self, num_embeddings: int, embedding_dim: int, hidden_dim: int, vector_size: int, layers: int, out_features: int):\n",
        "        super(LSTM, self).__init__()\n",
        "        self.embedding = nn.Embedding(num_embeddings, hidden_dim)\n",
        "        self.lstm = nn.LSTM(hidden_dim, hidden_dim, layers, batch_first=True)\n",
        "        self.h = None\n",
        "        self.c = None\n",
        "        self.model = nn.Sequential(\n",
        "            nn.Flatten(1),\n",
        "            nn.Linear(hidden_dim * vector_size, 256),\n",
        "            nn.ReLU(),\n",
        "            nn.Dropout(),\n",
        "            nn.Linear(256, out_features),\n",
        "            nn.Sigmoid()\n",
        "        )\n",
        "\n",
        "\n",
        "    def forward(self, inputs):\n",
        "        if self.h is not None and self.c is not None:\n",
        "          hc = self.h, self.c\n",
        "        else:\n",
        "          hc = None\n",
        "        out = self.embedding(inputs)\n",
        "        out, (h, c) = self.lstm(out, (hc))\n",
        "        self.h = h.detach()\n",
        "        self.c = c.detach()\n",
        "        out = self.model(out)\n",
        "        return out.squeeze().to(torch.float)\n"
      ],
      "metadata": {
        "id": "GID7nPya2ORo"
      },
      "execution_count": 55,
      "outputs": []
    },
    {
      "cell_type": "code",
      "source": [
        "torch.cuda.empty_cache()\n",
        "lstm = LSTM(\n",
        "        num_embeddings=len(word2vec),\n",
        "        embedding_dim=64,\n",
        "        hidden_dim=8,\n",
        "        vector_size=longest_review,\n",
        "        layers=2,\n",
        "        out_features=1\n",
        ").to(DEVICE)\n",
        "loss_func = nn.BCELoss()\n",
        "optimizer = optim.Adam(lstm.parameters(), lr=0.0015)\n",
        "lstm"
      ],
      "metadata": {
        "colab": {
          "base_uri": "https://localhost:8080/"
        },
        "outputId": "595daab6-3400-4e76-9c2c-ae89d6eb9999",
        "id": "zRHDTCxJ2ORp"
      },
      "execution_count": 56,
      "outputs": [
        {
          "output_type": "execute_result",
          "data": {
            "text/plain": [
              "LSTM(\n",
              "  (embedding): Embedding(26343, 8)\n",
              "  (lstm): LSTM(8, 8, num_layers=2, batch_first=True)\n",
              "  (model): Sequential(\n",
              "    (0): Flatten(start_dim=1, end_dim=-1)\n",
              "    (1): Linear(in_features=5936, out_features=256, bias=True)\n",
              "    (2): ReLU()\n",
              "    (3): Dropout(p=0.5, inplace=False)\n",
              "    (4): Linear(in_features=256, out_features=1, bias=True)\n",
              "    (5): Sigmoid()\n",
              "  )\n",
              ")"
            ]
          },
          "metadata": {},
          "execution_count": 56
        }
      ]
    },
    {
      "cell_type": "code",
      "source": [
        "lstm.train()\n",
        "lstm_losses = []\n",
        "lstm_time = []\n",
        "for epoch in range(EPOCHS):\n",
        "  start = time.time()\n",
        "  losses_sum = 0\n",
        "  for X, y in trainloader:\n",
        "    optimizer.zero_grad()\n",
        "    X, y = X.to(torch.long).to(DEVICE), y.to(torch.float).to(DEVICE)\n",
        "    pred = lstm(X)\n",
        "    loss_val = loss_func(pred, y)\n",
        "    loss_val.backward()\n",
        "    losses_sum += loss_val.cpu().item()\n",
        "    optimizer.step()\n",
        "  lstm_time.append(time.time() - start)\n",
        "  lstm_losses.append(losses_sum / NUM_BATCHES)\n",
        "  print(f\"{epoch = }; loss = {lstm_losses[-1]}; time = {lstm_time[-1]}\")"
      ],
      "metadata": {
        "colab": {
          "base_uri": "https://localhost:8080/"
        },
        "outputId": "938633bd-bc2b-481d-8aa1-44069b8133b3",
        "id": "LKBZhxe82ORq"
      },
      "execution_count": 57,
      "outputs": [
        {
          "output_type": "stream",
          "name": "stdout",
          "text": [
            "epoch = 0; loss = 0.6776589840650559; time = 5.291997671127319\n",
            "epoch = 1; loss = 0.653451782464981; time = 4.514616966247559\n",
            "epoch = 2; loss = 0.6401079207658767; time = 4.77853536605835\n",
            "epoch = 3; loss = 0.6260251373052597; time = 4.534304141998291\n",
            "epoch = 4; loss = 0.604604908823967; time = 4.547263145446777\n",
            "epoch = 5; loss = 0.5617838621139526; time = 4.7892372608184814\n",
            "epoch = 6; loss = 0.5217081069946289; time = 4.524906873703003\n",
            "epoch = 7; loss = 0.494878089427948; time = 4.553541898727417\n",
            "epoch = 8; loss = 0.46935259699821474; time = 4.8052825927734375\n",
            "epoch = 9; loss = 0.4508408308029175; time = 4.534991025924683\n",
            "epoch = 10; loss = 0.43647841513156893; time = 4.556873321533203\n",
            "epoch = 11; loss = 0.41976089775562286; time = 4.77763557434082\n",
            "epoch = 12; loss = 0.40707998871803286; time = 4.588182210922241\n",
            "epoch = 13; loss = 0.3923823401331902; time = 4.634936332702637\n",
            "epoch = 14; loss = 0.38178731352090833; time = 4.815170764923096\n",
            "epoch = 15; loss = 0.37153235971927645; time = 4.844675540924072\n",
            "epoch = 16; loss = 0.3641956508159637; time = 4.768669843673706\n",
            "epoch = 17; loss = 0.3553903326392174; time = 4.735267162322998\n",
            "epoch = 18; loss = 0.34680766314268113; time = 4.662060022354126\n",
            "epoch = 19; loss = 0.3387662172317505; time = 4.830971717834473\n",
            "epoch = 20; loss = 0.3317734822630882; time = 4.781209468841553\n",
            "epoch = 21; loss = 0.32544550746679307; time = 4.678279399871826\n",
            "epoch = 22; loss = 0.31925130635499954; time = 4.879875421524048\n",
            "epoch = 23; loss = 0.3141978204250336; time = 4.72732400894165\n",
            "epoch = 24; loss = 0.30863542556762696; time = 4.719684600830078\n",
            "epoch = 25; loss = 0.31134026646614077; time = 4.938254117965698\n",
            "epoch = 26; loss = 0.30178311467170715; time = 4.704695224761963\n",
            "epoch = 27; loss = 0.29307671934366225; time = 4.709249496459961\n",
            "epoch = 28; loss = 0.28681926876306535; time = 4.869892120361328\n",
            "epoch = 29; loss = 0.28398763984441755; time = 4.927178382873535\n",
            "epoch = 30; loss = 0.27981256544589994; time = 4.712482452392578\n",
            "epoch = 31; loss = 0.27577358186244966; time = 4.842711925506592\n",
            "epoch = 32; loss = 0.2724498689174652; time = 4.685085773468018\n",
            "epoch = 33; loss = 0.26841330379247663; time = 4.739022970199585\n",
            "epoch = 34; loss = 0.26579544246196746; time = 4.817758083343506\n",
            "epoch = 35; loss = 0.2636644572019577; time = 4.68507194519043\n",
            "epoch = 36; loss = 0.26025436967611315; time = 4.769103288650513\n",
            "epoch = 37; loss = 0.25770341604948044; time = 4.781084060668945\n",
            "epoch = 38; loss = 0.25551372170448305; time = 4.67318320274353\n",
            "epoch = 39; loss = 0.25381064265966413; time = 4.788637638092041\n",
            "epoch = 40; loss = 0.2517513334751129; time = 4.7857666015625\n",
            "epoch = 41; loss = 0.24921609312295914; time = 4.716623067855835\n",
            "epoch = 42; loss = 0.24785843640565872; time = 4.831098556518555\n",
            "epoch = 43; loss = 0.24593154042959214; time = 4.719302654266357\n",
            "epoch = 44; loss = 0.24486231729388236; time = 4.707885503768921\n",
            "epoch = 45; loss = 0.24192251786589622; time = 5.186069488525391\n",
            "epoch = 46; loss = 0.24079032018780708; time = 4.69384241104126\n",
            "epoch = 47; loss = 0.23841095119714736; time = 4.700520753860474\n",
            "epoch = 48; loss = 0.2367098681628704; time = 4.963001489639282\n",
            "epoch = 49; loss = 0.23598436638712883; time = 4.686654329299927\n"
          ]
        }
      ]
    },
    {
      "cell_type": "code",
      "source": [
        "lstm.eval()\n",
        "lstm_correct_pred = 0\n",
        "lstm_preds = []\n",
        "with torch.no_grad():\n",
        "  for X, y in testloader:\n",
        "    X, y = X.to(torch.long).to(DEVICE), y.to(torch.float).to(DEVICE)\n",
        "    pred = lstm(X).round()\n",
        "    lstm_preds.append(pred.cpu())\n",
        "    lstm_correct_pred += (pred == y).type(torch.float).sum().item()"
      ],
      "metadata": {
        "id": "wCi6XvBP2ORq"
      },
      "execution_count": 58,
      "outputs": []
    },
    {
      "cell_type": "markdown",
      "source": [
        "# Сравнение эффективностей моделей"
      ],
      "metadata": {
        "id": "AVy2kbZKU06g"
      }
    },
    {
      "cell_type": "code",
      "source": [
        "labels = ['mlp', 'cnn', 'lstm']\n",
        "losses = [mlp_losses, cnn_losses, lstm_losses]\n",
        "preds = [torch.cat(mlp_preds), torch.cat(cnn_preds), torch.cat(lstm_preds)]\n",
        "correct_preds = [mlp_correct_pred, cnn_correct_pred, lstm_correct_pred]\n",
        "times = [mlp_time, cnn_time, lstm_time]\n",
        "colors = ['r', 'g', 'b']\n",
        "comparison_chart = pd.DataFrame([], columns=['Test accuracy', 'Precision', 'Recall', 'F1', 'Average Time'], index=labels)\n",
        "for i in range(3):\n",
        "  plt.plot(range(len(losses[i])), losses[i], c=colors[i], label=labels[i])\n",
        "  comparison_chart.iloc[i, :] = [\n",
        "      correct_preds[i] / len(testset.y),\n",
        "      precision_score(testset.y[:preds[i].size()[0]], preds[i]),\n",
        "      recall_score(testset.y[:preds[i].size()[0]], preds[i]),\n",
        "      f1_score(testset.y[:preds[i].size()[0]], preds[i]),\n",
        "      sum(times[i]) / len(times[i])\n",
        "  ]\n",
        "\n",
        "plt.legend()\n",
        "\n",
        "comparison_chart"
      ],
      "metadata": {
        "colab": {
          "base_uri": "https://localhost:8080/",
          "height": 557
        },
        "id": "YvnHLArSU-pk",
        "outputId": "f65bd5d8-eea1-4cee-90db-fdabb5889975"
      },
      "execution_count": 59,
      "outputs": [
        {
          "output_type": "execute_result",
          "data": {
            "text/plain": [
              "     Test accuracy Precision    Recall        F1 Average Time\n",
              "mlp       0.868397  0.839547  0.888637  0.863395     3.267139\n",
              "cnn       0.861441  0.813972  0.912479  0.860415    10.713896\n",
              "lstm       0.87101  0.856676  0.869926   0.86325     4.750193"
            ],
            "text/html": [
              "\n",
              "  <div id=\"df-fff5574c-7b39-43f3-9a56-def704aafabe\">\n",
              "    <div class=\"colab-df-container\">\n",
              "      <div>\n",
              "<style scoped>\n",
              "    .dataframe tbody tr th:only-of-type {\n",
              "        vertical-align: middle;\n",
              "    }\n",
              "\n",
              "    .dataframe tbody tr th {\n",
              "        vertical-align: top;\n",
              "    }\n",
              "\n",
              "    .dataframe thead th {\n",
              "        text-align: right;\n",
              "    }\n",
              "</style>\n",
              "<table border=\"1\" class=\"dataframe\">\n",
              "  <thead>\n",
              "    <tr style=\"text-align: right;\">\n",
              "      <th></th>\n",
              "      <th>Test accuracy</th>\n",
              "      <th>Precision</th>\n",
              "      <th>Recall</th>\n",
              "      <th>F1</th>\n",
              "      <th>Average Time</th>\n",
              "    </tr>\n",
              "  </thead>\n",
              "  <tbody>\n",
              "    <tr>\n",
              "      <th>mlp</th>\n",
              "      <td>0.868397</td>\n",
              "      <td>0.839547</td>\n",
              "      <td>0.888637</td>\n",
              "      <td>0.863395</td>\n",
              "      <td>3.267139</td>\n",
              "    </tr>\n",
              "    <tr>\n",
              "      <th>cnn</th>\n",
              "      <td>0.861441</td>\n",
              "      <td>0.813972</td>\n",
              "      <td>0.912479</td>\n",
              "      <td>0.860415</td>\n",
              "      <td>10.713896</td>\n",
              "    </tr>\n",
              "    <tr>\n",
              "      <th>lstm</th>\n",
              "      <td>0.87101</td>\n",
              "      <td>0.856676</td>\n",
              "      <td>0.869926</td>\n",
              "      <td>0.86325</td>\n",
              "      <td>4.750193</td>\n",
              "    </tr>\n",
              "  </tbody>\n",
              "</table>\n",
              "</div>\n",
              "      <button class=\"colab-df-convert\" onclick=\"convertToInteractive('df-fff5574c-7b39-43f3-9a56-def704aafabe')\"\n",
              "              title=\"Convert this dataframe to an interactive table.\"\n",
              "              style=\"display:none;\">\n",
              "        \n",
              "  <svg xmlns=\"http://www.w3.org/2000/svg\" height=\"24px\"viewBox=\"0 0 24 24\"\n",
              "       width=\"24px\">\n",
              "    <path d=\"M0 0h24v24H0V0z\" fill=\"none\"/>\n",
              "    <path d=\"M18.56 5.44l.94 2.06.94-2.06 2.06-.94-2.06-.94-.94-2.06-.94 2.06-2.06.94zm-11 1L8.5 8.5l.94-2.06 2.06-.94-2.06-.94L8.5 2.5l-.94 2.06-2.06.94zm10 10l.94 2.06.94-2.06 2.06-.94-2.06-.94-.94-2.06-.94 2.06-2.06.94z\"/><path d=\"M17.41 7.96l-1.37-1.37c-.4-.4-.92-.59-1.43-.59-.52 0-1.04.2-1.43.59L10.3 9.45l-7.72 7.72c-.78.78-.78 2.05 0 2.83L4 21.41c.39.39.9.59 1.41.59.51 0 1.02-.2 1.41-.59l7.78-7.78 2.81-2.81c.8-.78.8-2.07 0-2.86zM5.41 20L4 18.59l7.72-7.72 1.47 1.35L5.41 20z\"/>\n",
              "  </svg>\n",
              "      </button>\n",
              "      \n",
              "  <style>\n",
              "    .colab-df-container {\n",
              "      display:flex;\n",
              "      flex-wrap:wrap;\n",
              "      gap: 12px;\n",
              "    }\n",
              "\n",
              "    .colab-df-convert {\n",
              "      background-color: #E8F0FE;\n",
              "      border: none;\n",
              "      border-radius: 50%;\n",
              "      cursor: pointer;\n",
              "      display: none;\n",
              "      fill: #1967D2;\n",
              "      height: 32px;\n",
              "      padding: 0 0 0 0;\n",
              "      width: 32px;\n",
              "    }\n",
              "\n",
              "    .colab-df-convert:hover {\n",
              "      background-color: #E2EBFA;\n",
              "      box-shadow: 0px 1px 2px rgba(60, 64, 67, 0.3), 0px 1px 3px 1px rgba(60, 64, 67, 0.15);\n",
              "      fill: #174EA6;\n",
              "    }\n",
              "\n",
              "    [theme=dark] .colab-df-convert {\n",
              "      background-color: #3B4455;\n",
              "      fill: #D2E3FC;\n",
              "    }\n",
              "\n",
              "    [theme=dark] .colab-df-convert:hover {\n",
              "      background-color: #434B5C;\n",
              "      box-shadow: 0px 1px 3px 1px rgba(0, 0, 0, 0.15);\n",
              "      filter: drop-shadow(0px 1px 2px rgba(0, 0, 0, 0.3));\n",
              "      fill: #FFFFFF;\n",
              "    }\n",
              "  </style>\n",
              "\n",
              "      <script>\n",
              "        const buttonEl =\n",
              "          document.querySelector('#df-fff5574c-7b39-43f3-9a56-def704aafabe button.colab-df-convert');\n",
              "        buttonEl.style.display =\n",
              "          google.colab.kernel.accessAllowed ? 'block' : 'none';\n",
              "\n",
              "        async function convertToInteractive(key) {\n",
              "          const element = document.querySelector('#df-fff5574c-7b39-43f3-9a56-def704aafabe');\n",
              "          const dataTable =\n",
              "            await google.colab.kernel.invokeFunction('convertToInteractive',\n",
              "                                                     [key], {});\n",
              "          if (!dataTable) return;\n",
              "\n",
              "          const docLinkHtml = 'Like what you see? Visit the ' +\n",
              "            '<a target=\"_blank\" href=https://colab.research.google.com/notebooks/data_table.ipynb>data table notebook</a>'\n",
              "            + ' to learn more about interactive tables.';\n",
              "          element.innerHTML = '';\n",
              "          dataTable['output_type'] = 'display_data';\n",
              "          await google.colab.output.renderOutput(dataTable, element);\n",
              "          const docLink = document.createElement('div');\n",
              "          docLink.innerHTML = docLinkHtml;\n",
              "          element.appendChild(docLink);\n",
              "        }\n",
              "      </script>\n",
              "    </div>\n",
              "  </div>\n",
              "  "
            ]
          },
          "metadata": {},
          "execution_count": 59
        },
        {
          "output_type": "display_data",
          "data": {
            "text/plain": [
              "<Figure size 640x480 with 1 Axes>"
            ],
            "image/png": "[encoded data removed]"
          },
          "metadata": {}
        }
      ]
    },
    {
      "cell_type": "markdown",
      "source": [
        "Исходя из данных, полученных выше, можно сделать вывод:\n",
        "\n",
        "*   Все три модели относительно равны судя по метрикам, вычисленным выше, за исключением сверточной нейронной сети, так как среднее время прохождения одной эпохи в 2.5 раза больше аналогичного у рекурретной сети с долгой краткосрочной памятью и в 5 раз больше, чем у многослойного перцептрона.\n",
        "\n",
        "*   Если предпологать, что эпох будет, то анализируя графики обучения сетей и прогнозируя их будущее поведение, можно сделать предположение, что рекурретный вариант сети достигнет значительно большей эффективности относительно других вариантов сетей.\n",
        "\n"
      ],
      "metadata": {
        "id": "o798Nf6Ib7Fk"
      }
    }
  ]
}